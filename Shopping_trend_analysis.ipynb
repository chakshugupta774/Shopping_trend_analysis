{
 "cells": [
  {
   "cell_type": "code",
   "execution_count": 2,
   "metadata": {},
   "outputs": [],
   "source": [
    "import numpy as numpy\n",
    "import pandas as pd"
   ]
  },
  {
   "cell_type": "code",
   "execution_count": 3,
   "metadata": {},
   "outputs": [
    {
     "data": {
      "text/html": [
       "<div>\n",
       "<style scoped>\n",
       "    .dataframe tbody tr th:only-of-type {\n",
       "        vertical-align: middle;\n",
       "    }\n",
       "\n",
       "    .dataframe tbody tr th {\n",
       "        vertical-align: top;\n",
       "    }\n",
       "\n",
       "    .dataframe thead th {\n",
       "        text-align: right;\n",
       "    }\n",
       "</style>\n",
       "<table border=\"1\" class=\"dataframe\">\n",
       "  <thead>\n",
       "    <tr style=\"text-align: right;\">\n",
       "      <th></th>\n",
       "      <th>Customer ID</th>\n",
       "      <th>Age</th>\n",
       "      <th>Gender</th>\n",
       "      <th>Item Purchased</th>\n",
       "      <th>Category</th>\n",
       "      <th>Purchase Amount (USD)</th>\n",
       "      <th>Location</th>\n",
       "      <th>Size</th>\n",
       "      <th>Color</th>\n",
       "      <th>Season</th>\n",
       "      <th>Review Rating</th>\n",
       "      <th>Subscription Status</th>\n",
       "      <th>Shipping Type</th>\n",
       "      <th>Discount Applied</th>\n",
       "      <th>Promo Code Used</th>\n",
       "      <th>Previous Purchases</th>\n",
       "      <th>Payment Method</th>\n",
       "      <th>Frequency of Purchases</th>\n",
       "    </tr>\n",
       "  </thead>\n",
       "  <tbody>\n",
       "    <tr>\n",
       "      <th>0</th>\n",
       "      <td>1</td>\n",
       "      <td>55</td>\n",
       "      <td>Male</td>\n",
       "      <td>Blouse</td>\n",
       "      <td>Clothing</td>\n",
       "      <td>53</td>\n",
       "      <td>Kentucky</td>\n",
       "      <td>L</td>\n",
       "      <td>Gray</td>\n",
       "      <td>Winter</td>\n",
       "      <td>3.1</td>\n",
       "      <td>Yes</td>\n",
       "      <td>Express</td>\n",
       "      <td>Yes</td>\n",
       "      <td>Yes</td>\n",
       "      <td>14</td>\n",
       "      <td>Venmo</td>\n",
       "      <td>Fortnightly</td>\n",
       "    </tr>\n",
       "    <tr>\n",
       "      <th>1</th>\n",
       "      <td>2</td>\n",
       "      <td>19</td>\n",
       "      <td>Male</td>\n",
       "      <td>Sweater</td>\n",
       "      <td>Clothing</td>\n",
       "      <td>64</td>\n",
       "      <td>Maine</td>\n",
       "      <td>L</td>\n",
       "      <td>Maroon</td>\n",
       "      <td>Winter</td>\n",
       "      <td>3.1</td>\n",
       "      <td>Yes</td>\n",
       "      <td>Express</td>\n",
       "      <td>Yes</td>\n",
       "      <td>Yes</td>\n",
       "      <td>2</td>\n",
       "      <td>Cash</td>\n",
       "      <td>Fortnightly</td>\n",
       "    </tr>\n",
       "    <tr>\n",
       "      <th>2</th>\n",
       "      <td>3</td>\n",
       "      <td>50</td>\n",
       "      <td>Male</td>\n",
       "      <td>Jeans</td>\n",
       "      <td>Clothing</td>\n",
       "      <td>73</td>\n",
       "      <td>Massachusetts</td>\n",
       "      <td>S</td>\n",
       "      <td>Maroon</td>\n",
       "      <td>Spring</td>\n",
       "      <td>3.1</td>\n",
       "      <td>Yes</td>\n",
       "      <td>Free Shipping</td>\n",
       "      <td>Yes</td>\n",
       "      <td>Yes</td>\n",
       "      <td>23</td>\n",
       "      <td>Credit Card</td>\n",
       "      <td>Weekly</td>\n",
       "    </tr>\n",
       "    <tr>\n",
       "      <th>3</th>\n",
       "      <td>4</td>\n",
       "      <td>21</td>\n",
       "      <td>Male</td>\n",
       "      <td>Sandals</td>\n",
       "      <td>Footwear</td>\n",
       "      <td>90</td>\n",
       "      <td>Rhode Island</td>\n",
       "      <td>M</td>\n",
       "      <td>Maroon</td>\n",
       "      <td>Spring</td>\n",
       "      <td>3.5</td>\n",
       "      <td>Yes</td>\n",
       "      <td>Next Day Air</td>\n",
       "      <td>Yes</td>\n",
       "      <td>Yes</td>\n",
       "      <td>49</td>\n",
       "      <td>PayPal</td>\n",
       "      <td>Weekly</td>\n",
       "    </tr>\n",
       "    <tr>\n",
       "      <th>4</th>\n",
       "      <td>5</td>\n",
       "      <td>45</td>\n",
       "      <td>Male</td>\n",
       "      <td>Blouse</td>\n",
       "      <td>Clothing</td>\n",
       "      <td>49</td>\n",
       "      <td>Oregon</td>\n",
       "      <td>M</td>\n",
       "      <td>Turquoise</td>\n",
       "      <td>Spring</td>\n",
       "      <td>2.7</td>\n",
       "      <td>Yes</td>\n",
       "      <td>Free Shipping</td>\n",
       "      <td>Yes</td>\n",
       "      <td>Yes</td>\n",
       "      <td>31</td>\n",
       "      <td>PayPal</td>\n",
       "      <td>Annually</td>\n",
       "    </tr>\n",
       "  </tbody>\n",
       "</table>\n",
       "</div>"
      ],
      "text/plain": [
       "   Customer ID  Age Gender Item Purchased  Category  Purchase Amount (USD)  \\\n",
       "0            1   55   Male         Blouse  Clothing                     53   \n",
       "1            2   19   Male        Sweater  Clothing                     64   \n",
       "2            3   50   Male          Jeans  Clothing                     73   \n",
       "3            4   21   Male        Sandals  Footwear                     90   \n",
       "4            5   45   Male         Blouse  Clothing                     49   \n",
       "\n",
       "        Location Size      Color  Season  Review Rating Subscription Status  \\\n",
       "0       Kentucky    L       Gray  Winter            3.1                 Yes   \n",
       "1          Maine    L     Maroon  Winter            3.1                 Yes   \n",
       "2  Massachusetts    S     Maroon  Spring            3.1                 Yes   \n",
       "3   Rhode Island    M     Maroon  Spring            3.5                 Yes   \n",
       "4         Oregon    M  Turquoise  Spring            2.7                 Yes   \n",
       "\n",
       "   Shipping Type Discount Applied Promo Code Used  Previous Purchases  \\\n",
       "0        Express              Yes             Yes                  14   \n",
       "1        Express              Yes             Yes                   2   \n",
       "2  Free Shipping              Yes             Yes                  23   \n",
       "3   Next Day Air              Yes             Yes                  49   \n",
       "4  Free Shipping              Yes             Yes                  31   \n",
       "\n",
       "  Payment Method Frequency of Purchases  \n",
       "0          Venmo            Fortnightly  \n",
       "1           Cash            Fortnightly  \n",
       "2    Credit Card                 Weekly  \n",
       "3         PayPal                 Weekly  \n",
       "4         PayPal               Annually  "
      ]
     },
     "execution_count": 3,
     "metadata": {},
     "output_type": "execute_result"
    }
   ],
   "source": [
    "shop = pd.read_csv('shopping_trends_updated.csv')\n",
    "shop.head()"
   ]
  },
  {
   "cell_type": "code",
   "execution_count": 4,
   "metadata": {},
   "outputs": [
    {
     "data": {
      "text/plain": [
       "(3900, 18)"
      ]
     },
     "execution_count": 4,
     "metadata": {},
     "output_type": "execute_result"
    }
   ],
   "source": [
    "shop.shape"
   ]
  },
  {
   "cell_type": "code",
   "execution_count": 5,
   "metadata": {},
   "outputs": [
    {
     "name": "stdout",
     "output_type": "stream",
     "text": [
      "<class 'pandas.core.frame.DataFrame'>\n",
      "RangeIndex: 3900 entries, 0 to 3899\n",
      "Data columns (total 18 columns):\n",
      " #   Column                  Non-Null Count  Dtype  \n",
      "---  ------                  --------------  -----  \n",
      " 0   Customer ID             3900 non-null   int64  \n",
      " 1   Age                     3900 non-null   int64  \n",
      " 2   Gender                  3900 non-null   object \n",
      " 3   Item Purchased          3900 non-null   object \n",
      " 4   Category                3900 non-null   object \n",
      " 5   Purchase Amount (USD)   3900 non-null   int64  \n",
      " 6   Location                3900 non-null   object \n",
      " 7   Size                    3900 non-null   object \n",
      " 8   Color                   3900 non-null   object \n",
      " 9   Season                  3900 non-null   object \n",
      " 10  Review Rating           3900 non-null   float64\n",
      " 11  Subscription Status     3900 non-null   object \n",
      " 12  Shipping Type           3900 non-null   object \n",
      " 13  Discount Applied        3900 non-null   object \n",
      " 14  Promo Code Used         3900 non-null   object \n",
      " 15  Previous Purchases      3900 non-null   int64  \n",
      " 16  Payment Method          3900 non-null   object \n",
      " 17  Frequency of Purchases  3900 non-null   object \n",
      "dtypes: float64(1), int64(4), object(13)\n",
      "memory usage: 548.6+ KB\n"
     ]
    }
   ],
   "source": [
    "shop.info()"
   ]
  },
  {
   "cell_type": "code",
   "execution_count": 6,
   "metadata": {},
   "outputs": [
    {
     "data": {
      "text/plain": [
       "Index(['Customer ID', 'Age', 'Gender', 'Item Purchased', 'Category',\n",
       "       'Purchase Amount (USD)', 'Location', 'Size', 'Color', 'Season',\n",
       "       'Review Rating', 'Subscription Status', 'Shipping Type',\n",
       "       'Discount Applied', 'Promo Code Used', 'Previous Purchases',\n",
       "       'Payment Method', 'Frequency of Purchases'],\n",
       "      dtype='object')"
      ]
     },
     "execution_count": 6,
     "metadata": {},
     "output_type": "execute_result"
    }
   ],
   "source": [
    "shop.columns"
   ]
  },
  {
   "cell_type": "code",
   "execution_count": 7,
   "metadata": {},
   "outputs": [
    {
     "data": {
      "text/plain": [
       "Customer ID               0\n",
       "Age                       0\n",
       "Gender                    0\n",
       "Item Purchased            0\n",
       "Category                  0\n",
       "Purchase Amount (USD)     0\n",
       "Location                  0\n",
       "Size                      0\n",
       "Color                     0\n",
       "Season                    0\n",
       "Review Rating             0\n",
       "Subscription Status       0\n",
       "Shipping Type             0\n",
       "Discount Applied          0\n",
       "Promo Code Used           0\n",
       "Previous Purchases        0\n",
       "Payment Method            0\n",
       "Frequency of Purchases    0\n",
       "dtype: int64"
      ]
     },
     "execution_count": 7,
     "metadata": {},
     "output_type": "execute_result"
    }
   ],
   "source": [
    "shop.isnull().sum()"
   ]
  },
  {
   "cell_type": "code",
   "execution_count": 8,
   "metadata": {},
   "outputs": [
    {
     "data": {
      "text/html": [
       "<div>\n",
       "<style scoped>\n",
       "    .dataframe tbody tr th:only-of-type {\n",
       "        vertical-align: middle;\n",
       "    }\n",
       "\n",
       "    .dataframe tbody tr th {\n",
       "        vertical-align: top;\n",
       "    }\n",
       "\n",
       "    .dataframe thead th {\n",
       "        text-align: right;\n",
       "    }\n",
       "</style>\n",
       "<table border=\"1\" class=\"dataframe\">\n",
       "  <thead>\n",
       "    <tr style=\"text-align: right;\">\n",
       "      <th></th>\n",
       "      <th>Customer ID</th>\n",
       "      <th>Age</th>\n",
       "      <th>Gender</th>\n",
       "      <th>Item Purchased</th>\n",
       "      <th>Category</th>\n",
       "      <th>Purchase Amount (USD)</th>\n",
       "      <th>Location</th>\n",
       "      <th>Size</th>\n",
       "      <th>Color</th>\n",
       "      <th>Season</th>\n",
       "      <th>Review Rating</th>\n",
       "      <th>Subscription Status</th>\n",
       "      <th>Shipping Type</th>\n",
       "      <th>Discount Applied</th>\n",
       "      <th>Promo Code Used</th>\n",
       "      <th>Previous Purchases</th>\n",
       "      <th>Payment Method</th>\n",
       "      <th>Frequency of Purchases</th>\n",
       "    </tr>\n",
       "  </thead>\n",
       "  <tbody>\n",
       "  </tbody>\n",
       "</table>\n",
       "</div>"
      ],
      "text/plain": [
       "Empty DataFrame\n",
       "Columns: [Customer ID, Age, Gender, Item Purchased, Category, Purchase Amount (USD), Location, Size, Color, Season, Review Rating, Subscription Status, Shipping Type, Discount Applied, Promo Code Used, Previous Purchases, Payment Method, Frequency of Purchases]\n",
       "Index: []"
      ]
     },
     "execution_count": 8,
     "metadata": {},
     "output_type": "execute_result"
    }
   ],
   "source": [
    "shop_dup = shop[shop.duplicated()]\n",
    "shop_dup"
   ]
  },
  {
   "cell_type": "code",
   "execution_count": 9,
   "metadata": {},
   "outputs": [
    {
     "data": {
      "text/html": [
       "<div>\n",
       "<style scoped>\n",
       "    .dataframe tbody tr th:only-of-type {\n",
       "        vertical-align: middle;\n",
       "    }\n",
       "\n",
       "    .dataframe tbody tr th {\n",
       "        vertical-align: top;\n",
       "    }\n",
       "\n",
       "    .dataframe thead th {\n",
       "        text-align: right;\n",
       "    }\n",
       "</style>\n",
       "<table border=\"1\" class=\"dataframe\">\n",
       "  <thead>\n",
       "    <tr style=\"text-align: right;\">\n",
       "      <th></th>\n",
       "      <th>Customer ID</th>\n",
       "      <th>Age</th>\n",
       "      <th>Purchase Amount (USD)</th>\n",
       "      <th>Review Rating</th>\n",
       "      <th>Previous Purchases</th>\n",
       "    </tr>\n",
       "  </thead>\n",
       "  <tbody>\n",
       "    <tr>\n",
       "      <th>count</th>\n",
       "      <td>3900.000000</td>\n",
       "      <td>3900.000000</td>\n",
       "      <td>3900.000000</td>\n",
       "      <td>3900.000000</td>\n",
       "      <td>3900.000000</td>\n",
       "    </tr>\n",
       "    <tr>\n",
       "      <th>mean</th>\n",
       "      <td>1950.500000</td>\n",
       "      <td>44.068462</td>\n",
       "      <td>59.764359</td>\n",
       "      <td>3.749949</td>\n",
       "      <td>25.351538</td>\n",
       "    </tr>\n",
       "    <tr>\n",
       "      <th>std</th>\n",
       "      <td>1125.977353</td>\n",
       "      <td>15.207589</td>\n",
       "      <td>23.685392</td>\n",
       "      <td>0.716223</td>\n",
       "      <td>14.447125</td>\n",
       "    </tr>\n",
       "    <tr>\n",
       "      <th>min</th>\n",
       "      <td>1.000000</td>\n",
       "      <td>18.000000</td>\n",
       "      <td>20.000000</td>\n",
       "      <td>2.500000</td>\n",
       "      <td>1.000000</td>\n",
       "    </tr>\n",
       "    <tr>\n",
       "      <th>25%</th>\n",
       "      <td>975.750000</td>\n",
       "      <td>31.000000</td>\n",
       "      <td>39.000000</td>\n",
       "      <td>3.100000</td>\n",
       "      <td>13.000000</td>\n",
       "    </tr>\n",
       "    <tr>\n",
       "      <th>50%</th>\n",
       "      <td>1950.500000</td>\n",
       "      <td>44.000000</td>\n",
       "      <td>60.000000</td>\n",
       "      <td>3.700000</td>\n",
       "      <td>25.000000</td>\n",
       "    </tr>\n",
       "    <tr>\n",
       "      <th>75%</th>\n",
       "      <td>2925.250000</td>\n",
       "      <td>57.000000</td>\n",
       "      <td>81.000000</td>\n",
       "      <td>4.400000</td>\n",
       "      <td>38.000000</td>\n",
       "    </tr>\n",
       "    <tr>\n",
       "      <th>max</th>\n",
       "      <td>3900.000000</td>\n",
       "      <td>70.000000</td>\n",
       "      <td>100.000000</td>\n",
       "      <td>5.000000</td>\n",
       "      <td>50.000000</td>\n",
       "    </tr>\n",
       "  </tbody>\n",
       "</table>\n",
       "</div>"
      ],
      "text/plain": [
       "       Customer ID          Age  Purchase Amount (USD)  Review Rating  \\\n",
       "count  3900.000000  3900.000000            3900.000000    3900.000000   \n",
       "mean   1950.500000    44.068462              59.764359       3.749949   \n",
       "std    1125.977353    15.207589              23.685392       0.716223   \n",
       "min       1.000000    18.000000              20.000000       2.500000   \n",
       "25%     975.750000    31.000000              39.000000       3.100000   \n",
       "50%    1950.500000    44.000000              60.000000       3.700000   \n",
       "75%    2925.250000    57.000000              81.000000       4.400000   \n",
       "max    3900.000000    70.000000             100.000000       5.000000   \n",
       "\n",
       "       Previous Purchases  \n",
       "count         3900.000000  \n",
       "mean            25.351538  \n",
       "std             14.447125  \n",
       "min              1.000000  \n",
       "25%             13.000000  \n",
       "50%             25.000000  \n",
       "75%             38.000000  \n",
       "max             50.000000  "
      ]
     },
     "execution_count": 9,
     "metadata": {},
     "output_type": "execute_result"
    }
   ],
   "source": [
    "shop.describe()"
   ]
  },
  {
   "cell_type": "markdown",
   "metadata": {},
   "source": [
    "#### Describe the Above Output\n",
    "- **Age** : In my data set, minimum age is 18 and maximum age is 70 . also Average age is 44"
   ]
  },
  {
   "cell_type": "code",
   "execution_count": 10,
   "metadata": {},
   "outputs": [
    {
     "data": {
      "text/html": [
       "<div>\n",
       "<style scoped>\n",
       "    .dataframe tbody tr th:only-of-type {\n",
       "        vertical-align: middle;\n",
       "    }\n",
       "\n",
       "    .dataframe tbody tr th {\n",
       "        vertical-align: top;\n",
       "    }\n",
       "\n",
       "    .dataframe thead th {\n",
       "        text-align: right;\n",
       "    }\n",
       "</style>\n",
       "<table border=\"1\" class=\"dataframe\">\n",
       "  <thead>\n",
       "    <tr style=\"text-align: right;\">\n",
       "      <th></th>\n",
       "      <th>Gender</th>\n",
       "      <th>Item Purchased</th>\n",
       "      <th>Category</th>\n",
       "      <th>Location</th>\n",
       "      <th>Size</th>\n",
       "      <th>Color</th>\n",
       "      <th>Season</th>\n",
       "      <th>Subscription Status</th>\n",
       "      <th>Shipping Type</th>\n",
       "      <th>Discount Applied</th>\n",
       "      <th>Promo Code Used</th>\n",
       "      <th>Payment Method</th>\n",
       "      <th>Frequency of Purchases</th>\n",
       "    </tr>\n",
       "  </thead>\n",
       "  <tbody>\n",
       "    <tr>\n",
       "      <th>count</th>\n",
       "      <td>3900</td>\n",
       "      <td>3900</td>\n",
       "      <td>3900</td>\n",
       "      <td>3900</td>\n",
       "      <td>3900</td>\n",
       "      <td>3900</td>\n",
       "      <td>3900</td>\n",
       "      <td>3900</td>\n",
       "      <td>3900</td>\n",
       "      <td>3900</td>\n",
       "      <td>3900</td>\n",
       "      <td>3900</td>\n",
       "      <td>3900</td>\n",
       "    </tr>\n",
       "    <tr>\n",
       "      <th>unique</th>\n",
       "      <td>2</td>\n",
       "      <td>25</td>\n",
       "      <td>4</td>\n",
       "      <td>50</td>\n",
       "      <td>4</td>\n",
       "      <td>25</td>\n",
       "      <td>4</td>\n",
       "      <td>2</td>\n",
       "      <td>6</td>\n",
       "      <td>2</td>\n",
       "      <td>2</td>\n",
       "      <td>6</td>\n",
       "      <td>7</td>\n",
       "    </tr>\n",
       "    <tr>\n",
       "      <th>top</th>\n",
       "      <td>Male</td>\n",
       "      <td>Blouse</td>\n",
       "      <td>Clothing</td>\n",
       "      <td>Montana</td>\n",
       "      <td>M</td>\n",
       "      <td>Olive</td>\n",
       "      <td>Spring</td>\n",
       "      <td>No</td>\n",
       "      <td>Free Shipping</td>\n",
       "      <td>No</td>\n",
       "      <td>No</td>\n",
       "      <td>PayPal</td>\n",
       "      <td>Every 3 Months</td>\n",
       "    </tr>\n",
       "    <tr>\n",
       "      <th>freq</th>\n",
       "      <td>2652</td>\n",
       "      <td>171</td>\n",
       "      <td>1737</td>\n",
       "      <td>96</td>\n",
       "      <td>1755</td>\n",
       "      <td>177</td>\n",
       "      <td>999</td>\n",
       "      <td>2847</td>\n",
       "      <td>675</td>\n",
       "      <td>2223</td>\n",
       "      <td>2223</td>\n",
       "      <td>677</td>\n",
       "      <td>584</td>\n",
       "    </tr>\n",
       "  </tbody>\n",
       "</table>\n",
       "</div>"
      ],
      "text/plain": [
       "       Gender Item Purchased  Category Location  Size  Color  Season  \\\n",
       "count    3900           3900      3900     3900  3900   3900    3900   \n",
       "unique      2             25         4       50     4     25       4   \n",
       "top      Male         Blouse  Clothing  Montana     M  Olive  Spring   \n",
       "freq     2652            171      1737       96  1755    177     999   \n",
       "\n",
       "       Subscription Status  Shipping Type Discount Applied Promo Code Used  \\\n",
       "count                 3900           3900             3900            3900   \n",
       "unique                   2              6                2               2   \n",
       "top                     No  Free Shipping               No              No   \n",
       "freq                  2847            675             2223            2223   \n",
       "\n",
       "       Payment Method Frequency of Purchases  \n",
       "count            3900                   3900  \n",
       "unique              6                      7  \n",
       "top            PayPal         Every 3 Months  \n",
       "freq              677                    584  "
      ]
     },
     "execution_count": 10,
     "metadata": {},
     "output_type": "execute_result"
    }
   ],
   "source": [
    "shop.describe(include='object')"
   ]
  },
  {
   "cell_type": "code",
   "execution_count": 11,
   "metadata": {},
   "outputs": [
    {
     "name": "stdout",
     "output_type": "stream",
     "text": [
      "['Male' 'Female']\n",
      "['Blouse' 'Sweater' 'Jeans' 'Sandals' 'Sneakers' 'Shirt' 'Shorts' 'Coat'\n",
      " 'Handbag' 'Shoes' 'Dress' 'Skirt' 'Sunglasses' 'Pants' 'Jacket' 'Hoodie'\n",
      " 'Jewelry' 'T-shirt' 'Scarf' 'Hat' 'Socks' 'Backpack' 'Belt' 'Boots'\n",
      " 'Gloves']\n",
      "['Clothing' 'Footwear' 'Outerwear' 'Accessories']\n",
      "['Kentucky' 'Maine' 'Massachusetts' 'Rhode Island' 'Oregon' 'Wyoming'\n",
      " 'Montana' 'Louisiana' 'West Virginia' 'Missouri' 'Arkansas' 'Hawaii'\n",
      " 'Delaware' 'New Hampshire' 'New York' 'Alabama' 'Mississippi'\n",
      " 'North Carolina' 'California' 'Oklahoma' 'Florida' 'Texas' 'Nevada'\n",
      " 'Kansas' 'Colorado' 'North Dakota' 'Illinois' 'Indiana' 'Arizona'\n",
      " 'Alaska' 'Tennessee' 'Ohio' 'New Jersey' 'Maryland' 'Vermont'\n",
      " 'New Mexico' 'South Carolina' 'Idaho' 'Pennsylvania' 'Connecticut' 'Utah'\n",
      " 'Virginia' 'Georgia' 'Nebraska' 'Iowa' 'South Dakota' 'Minnesota'\n",
      " 'Washington' 'Wisconsin' 'Michigan']\n",
      "['L' 'S' 'M' 'XL']\n",
      "['Gray' 'Maroon' 'Turquoise' 'White' 'Charcoal' 'Silver' 'Pink' 'Purple'\n",
      " 'Olive' 'Gold' 'Violet' 'Teal' 'Lavender' 'Black' 'Green' 'Peach' 'Red'\n",
      " 'Cyan' 'Brown' 'Beige' 'Orange' 'Indigo' 'Yellow' 'Magenta' 'Blue']\n",
      "['Winter' 'Spring' 'Summer' 'Fall']\n",
      "['Yes' 'No']\n",
      "['Express' 'Free Shipping' 'Next Day Air' 'Standard' '2-Day Shipping'\n",
      " 'Store Pickup']\n",
      "['Yes' 'No']\n",
      "['Yes' 'No']\n",
      "['Venmo' 'Cash' 'Credit Card' 'PayPal' 'Bank Transfer' 'Debit Card']\n",
      "['Fortnightly' 'Weekly' 'Annually' 'Quarterly' 'Bi-Weekly' 'Monthly'\n",
      " 'Every 3 Months']\n"
     ]
    }
   ],
   "source": [
    "#unique values of each of category columns : \n",
    " \n",
    "print(shop['Gender'].unique())\n",
    "print(shop['Item Purchased'].unique())\n",
    "print(shop['Category'].unique())\n",
    "print(shop['Location'].unique())\n",
    "print(shop['Size'].unique())\n",
    "print(shop['Color'].unique())\n",
    "print(shop['Season'].unique())\n",
    "print(shop['Subscription Status'].unique())\n",
    "print(shop['Shipping Type'].unique())\n",
    "print(shop['Discount Applied'].unique())\n",
    "print(shop['Promo Code Used'].unique())\n",
    "print(shop['Payment Method'].unique())\n",
    "print(shop['Frequency of Purchases'].unique())"
   ]
  },
  {
   "cell_type": "markdown",
   "metadata": {},
   "source": [
    "## 1.\tWhat is the overall distribution of customer ages in the dataset?"
   ]
  },
  {
   "cell_type": "code",
   "execution_count": 12,
   "metadata": {},
   "outputs": [
    {
     "data": {
      "text/plain": [
       "Age\n",
       "69    88\n",
       "57    87\n",
       "41    86\n",
       "25    85\n",
       "49    84\n",
       "50    83\n",
       "54    83\n",
       "27    83\n",
       "62    83\n",
       "32    82\n",
       "19    81\n",
       "58    81\n",
       "42    80\n",
       "43    79\n",
       "28    79\n",
       "31    79\n",
       "37    77\n",
       "46    76\n",
       "29    76\n",
       "68    75\n",
       "59    75\n",
       "63    75\n",
       "56    74\n",
       "36    74\n",
       "55    73\n",
       "52    73\n",
       "64    73\n",
       "35    72\n",
       "51    72\n",
       "65    72\n",
       "40    72\n",
       "45    72\n",
       "47    71\n",
       "66    71\n",
       "30    71\n",
       "23    71\n",
       "38    70\n",
       "53    70\n",
       "18    69\n",
       "21    69\n",
       "26    69\n",
       "34    68\n",
       "48    68\n",
       "24    68\n",
       "39    68\n",
       "70    67\n",
       "22    66\n",
       "61    65\n",
       "60    65\n",
       "33    63\n",
       "20    62\n",
       "67    54\n",
       "44    51\n",
       "Name: count, dtype: int64"
      ]
     },
     "execution_count": 12,
     "metadata": {},
     "output_type": "execute_result"
    }
   ],
   "source": [
    "shop['Age'].value_counts()"
   ]
  },
  {
   "cell_type": "code",
   "execution_count": 13,
   "metadata": {},
   "outputs": [],
   "source": [
    "import matplotlib.pyplot as plt\n",
    "import seaborn as sns\n",
    "import plotly.express as px\n",
    "%matplotlib inline"
   ]
  },
  {
   "cell_type": "code",
   "execution_count": 14,
   "metadata": {},
   "outputs": [
    {
     "data": {
      "text/html": [
       "<div>\n",
       "<style scoped>\n",
       "    .dataframe tbody tr th:only-of-type {\n",
       "        vertical-align: middle;\n",
       "    }\n",
       "\n",
       "    .dataframe tbody tr th {\n",
       "        vertical-align: top;\n",
       "    }\n",
       "\n",
       "    .dataframe thead th {\n",
       "        text-align: right;\n",
       "    }\n",
       "</style>\n",
       "<table border=\"1\" class=\"dataframe\">\n",
       "  <thead>\n",
       "    <tr style=\"text-align: right;\">\n",
       "      <th></th>\n",
       "      <th>Customer ID</th>\n",
       "      <th>Age</th>\n",
       "      <th>Gender</th>\n",
       "      <th>Item Purchased</th>\n",
       "      <th>Category</th>\n",
       "      <th>Purchase Amount (USD)</th>\n",
       "      <th>Location</th>\n",
       "      <th>Size</th>\n",
       "      <th>Color</th>\n",
       "      <th>Season</th>\n",
       "      <th>Review Rating</th>\n",
       "      <th>Subscription Status</th>\n",
       "      <th>Shipping Type</th>\n",
       "      <th>Discount Applied</th>\n",
       "      <th>Promo Code Used</th>\n",
       "      <th>Previous Purchases</th>\n",
       "      <th>Payment Method</th>\n",
       "      <th>Frequency of Purchases</th>\n",
       "      <th>Age_category</th>\n",
       "    </tr>\n",
       "  </thead>\n",
       "  <tbody>\n",
       "    <tr>\n",
       "      <th>0</th>\n",
       "      <td>1</td>\n",
       "      <td>55</td>\n",
       "      <td>Male</td>\n",
       "      <td>Blouse</td>\n",
       "      <td>Clothing</td>\n",
       "      <td>53</td>\n",
       "      <td>Kentucky</td>\n",
       "      <td>L</td>\n",
       "      <td>Gray</td>\n",
       "      <td>Winter</td>\n",
       "      <td>3.1</td>\n",
       "      <td>Yes</td>\n",
       "      <td>Express</td>\n",
       "      <td>Yes</td>\n",
       "      <td>Yes</td>\n",
       "      <td>14</td>\n",
       "      <td>Venmo</td>\n",
       "      <td>Fortnightly</td>\n",
       "      <td>old</td>\n",
       "    </tr>\n",
       "    <tr>\n",
       "      <th>1</th>\n",
       "      <td>2</td>\n",
       "      <td>19</td>\n",
       "      <td>Male</td>\n",
       "      <td>Sweater</td>\n",
       "      <td>Clothing</td>\n",
       "      <td>64</td>\n",
       "      <td>Maine</td>\n",
       "      <td>L</td>\n",
       "      <td>Maroon</td>\n",
       "      <td>Winter</td>\n",
       "      <td>3.1</td>\n",
       "      <td>Yes</td>\n",
       "      <td>Express</td>\n",
       "      <td>Yes</td>\n",
       "      <td>Yes</td>\n",
       "      <td>2</td>\n",
       "      <td>Cash</td>\n",
       "      <td>Fortnightly</td>\n",
       "      <td>Yound Adults</td>\n",
       "    </tr>\n",
       "    <tr>\n",
       "      <th>2</th>\n",
       "      <td>3</td>\n",
       "      <td>50</td>\n",
       "      <td>Male</td>\n",
       "      <td>Jeans</td>\n",
       "      <td>Clothing</td>\n",
       "      <td>73</td>\n",
       "      <td>Massachusetts</td>\n",
       "      <td>S</td>\n",
       "      <td>Maroon</td>\n",
       "      <td>Spring</td>\n",
       "      <td>3.1</td>\n",
       "      <td>Yes</td>\n",
       "      <td>Free Shipping</td>\n",
       "      <td>Yes</td>\n",
       "      <td>Yes</td>\n",
       "      <td>23</td>\n",
       "      <td>Credit Card</td>\n",
       "      <td>Weekly</td>\n",
       "      <td>Middle-Aged Adult</td>\n",
       "    </tr>\n",
       "    <tr>\n",
       "      <th>3</th>\n",
       "      <td>4</td>\n",
       "      <td>21</td>\n",
       "      <td>Male</td>\n",
       "      <td>Sandals</td>\n",
       "      <td>Footwear</td>\n",
       "      <td>90</td>\n",
       "      <td>Rhode Island</td>\n",
       "      <td>M</td>\n",
       "      <td>Maroon</td>\n",
       "      <td>Spring</td>\n",
       "      <td>3.5</td>\n",
       "      <td>Yes</td>\n",
       "      <td>Next Day Air</td>\n",
       "      <td>Yes</td>\n",
       "      <td>Yes</td>\n",
       "      <td>49</td>\n",
       "      <td>PayPal</td>\n",
       "      <td>Weekly</td>\n",
       "      <td>Yound Adults</td>\n",
       "    </tr>\n",
       "    <tr>\n",
       "      <th>4</th>\n",
       "      <td>5</td>\n",
       "      <td>45</td>\n",
       "      <td>Male</td>\n",
       "      <td>Blouse</td>\n",
       "      <td>Clothing</td>\n",
       "      <td>49</td>\n",
       "      <td>Oregon</td>\n",
       "      <td>M</td>\n",
       "      <td>Turquoise</td>\n",
       "      <td>Spring</td>\n",
       "      <td>2.7</td>\n",
       "      <td>Yes</td>\n",
       "      <td>Free Shipping</td>\n",
       "      <td>Yes</td>\n",
       "      <td>Yes</td>\n",
       "      <td>31</td>\n",
       "      <td>PayPal</td>\n",
       "      <td>Annually</td>\n",
       "      <td>Middle-Aged Adult</td>\n",
       "    </tr>\n",
       "  </tbody>\n",
       "</table>\n",
       "</div>"
      ],
      "text/plain": [
       "   Customer ID  Age Gender Item Purchased  Category  Purchase Amount (USD)  \\\n",
       "0            1   55   Male         Blouse  Clothing                     53   \n",
       "1            2   19   Male        Sweater  Clothing                     64   \n",
       "2            3   50   Male          Jeans  Clothing                     73   \n",
       "3            4   21   Male        Sandals  Footwear                     90   \n",
       "4            5   45   Male         Blouse  Clothing                     49   \n",
       "\n",
       "        Location Size      Color  Season  Review Rating Subscription Status  \\\n",
       "0       Kentucky    L       Gray  Winter            3.1                 Yes   \n",
       "1          Maine    L     Maroon  Winter            3.1                 Yes   \n",
       "2  Massachusetts    S     Maroon  Spring            3.1                 Yes   \n",
       "3   Rhode Island    M     Maroon  Spring            3.5                 Yes   \n",
       "4         Oregon    M  Turquoise  Spring            2.7                 Yes   \n",
       "\n",
       "   Shipping Type Discount Applied Promo Code Used  Previous Purchases  \\\n",
       "0        Express              Yes             Yes                  14   \n",
       "1        Express              Yes             Yes                   2   \n",
       "2  Free Shipping              Yes             Yes                  23   \n",
       "3   Next Day Air              Yes             Yes                  49   \n",
       "4  Free Shipping              Yes             Yes                  31   \n",
       "\n",
       "  Payment Method Frequency of Purchases       Age_category  \n",
       "0          Venmo            Fortnightly                old  \n",
       "1           Cash            Fortnightly       Yound Adults  \n",
       "2    Credit Card                 Weekly  Middle-Aged Adult  \n",
       "3         PayPal                 Weekly       Yound Adults  \n",
       "4         PayPal               Annually  Middle-Aged Adult  "
      ]
     },
     "execution_count": 14,
     "metadata": {},
     "output_type": "execute_result"
    }
   ],
   "source": [
    "shop['Age_category'] = pd.cut(shop['Age'],bins=[0,15,18,30,50,70], labels=['child','teen','Yound Adults','Middle-Aged Adult','old'])\n",
    "shop.head()"
   ]
  },
  {
   "cell_type": "code",
   "execution_count": 15,
   "metadata": {},
   "outputs": [
    {
     "data": {
      "application/vnd.plotly.v1+json": {
       "config": {
        "plotlyServerURL": "https://plot.ly"
       },
       "data": [
        {
         "alignmentgroup": "True",
         "bingroup": "x",
         "histfunc": "sum",
         "hovertemplate": "Age_category=%{x}<br>sum of Age=%{y}<extra></extra>",
         "legendgroup": "",
         "marker": {
          "color": "#636efa",
          "pattern": {
           "shape": ""
          }
         },
         "name": "",
         "offsetgroup": "",
         "orientation": "v",
         "showlegend": false,
         "type": "histogram",
         "x": [
          "old",
          "Yound Adults",
          "Middle-Aged Adult",
          "Yound Adults",
          "Middle-Aged Adult",
          "Middle-Aged Adult",
          "old",
          "Yound Adults",
          "Yound Adults",
          "old",
          "old",
          "Yound Adults",
          "old",
          "old",
          "old",
          "old",
          "Yound Adults",
          "old",
          "old",
          "old",
          "Yound Adults",
          "Middle-Aged Adult",
          "old",
          "Middle-Aged Adult",
          "teen",
          "teen",
          "Middle-Aged Adult",
          "old",
          "old",
          "Middle-Aged Adult",
          "old",
          "Middle-Aged Adult",
          "Middle-Aged Adult",
          "old",
          "Middle-Aged Adult",
          "old",
          "Middle-Aged Adult",
          "Middle-Aged Adult",
          "Yound Adults",
          "old",
          "old",
          "old",
          "Yound Adults",
          "Yound Adults",
          "Middle-Aged Adult",
          "Middle-Aged Adult",
          "old",
          "old",
          "Middle-Aged Adult",
          "old",
          "Middle-Aged Adult",
          "old",
          "Middle-Aged Adult",
          "Yound Adults",
          "Middle-Aged Adult",
          "Middle-Aged Adult",
          "Middle-Aged Adult",
          "Yound Adults",
          "old",
          "old",
          "Middle-Aged Adult",
          "old",
          "Yound Adults",
          "Middle-Aged Adult",
          "old",
          "old",
          "Middle-Aged Adult",
          "Middle-Aged Adult",
          "old",
          "Middle-Aged Adult",
          "Yound Adults",
          "Middle-Aged Adult",
          "teen",
          "Middle-Aged Adult",
          "Middle-Aged Adult",
          "old",
          "Middle-Aged Adult",
          "Yound Adults",
          "Middle-Aged Adult",
          "Middle-Aged Adult",
          "Yound Adults",
          "old",
          "Yound Adults",
          "Middle-Aged Adult",
          "old",
          "old",
          "Yound Adults",
          "old",
          "Middle-Aged Adult",
          "Middle-Aged Adult",
          "Yound Adults",
          "Middle-Aged Adult",
          "old",
          "Middle-Aged Adult",
          "old",
          "Middle-Aged Adult",
          "Middle-Aged Adult",
          "Yound Adults",
          "Yound Adults",
          "Yound Adults",
          "old",
          "Yound Adults",
          "old",
          "old",
          "old",
          "old",
          "old",
          "Yound Adults",
          "old",
          "old",
          "old",
          "Yound Adults",
          "Middle-Aged Adult",
          "Middle-Aged Adult",
          "old",
          "old",
          "old",
          "Middle-Aged Adult",
          "Middle-Aged Adult",
          "Middle-Aged Adult",
          "old",
          "Yound Adults",
          "Middle-Aged Adult",
          "old",
          "Middle-Aged Adult",
          "Middle-Aged Adult",
          "Middle-Aged Adult",
          "Yound Adults",
          "Yound Adults",
          "Yound Adults",
          "Middle-Aged Adult",
          "Yound Adults",
          "Yound Adults",
          "old",
          "Middle-Aged Adult",
          "Middle-Aged Adult",
          "Middle-Aged Adult",
          "old",
          "old",
          "Middle-Aged Adult",
          "old",
          "old",
          "Middle-Aged Adult",
          "Yound Adults",
          "Yound Adults",
          "Yound Adults",
          "old",
          "old",
          "Middle-Aged Adult",
          "Middle-Aged Adult",
          "Middle-Aged Adult",
          "Yound Adults",
          "Yound Adults",
          "old",
          "Middle-Aged Adult",
          "old",
          "Middle-Aged Adult",
          "Middle-Aged Adult",
          "Yound Adults",
          "old",
          "Yound Adults",
          "old",
          "old",
          "old",
          "old",
          "Middle-Aged Adult",
          "Middle-Aged Adult",
          "Middle-Aged Adult",
          "Middle-Aged Adult",
          "Yound Adults",
          "old",
          "Yound Adults",
          "old",
          "Yound Adults",
          "Middle-Aged Adult",
          "old",
          "old",
          "Yound Adults",
          "old",
          "old",
          "old",
          "Middle-Aged Adult",
          "Middle-Aged Adult",
          "old",
          "Middle-Aged Adult",
          "Middle-Aged Adult",
          "Middle-Aged Adult",
          "Yound Adults",
          "Middle-Aged Adult",
          "Middle-Aged Adult",
          "old",
          "old",
          "Middle-Aged Adult",
          "Middle-Aged Adult",
          "old",
          "old",
          "Middle-Aged Adult",
          "old",
          "old",
          "old",
          "Yound Adults",
          "old",
          "old",
          "old",
          "Yound Adults",
          "old",
          "Yound Adults",
          "old",
          "old",
          "old",
          "Middle-Aged Adult",
          "old",
          "old",
          "Yound Adults",
          "Yound Adults",
          "old",
          "Middle-Aged Adult",
          "Middle-Aged Adult",
          "Yound Adults",
          "Middle-Aged Adult",
          "Middle-Aged Adult",
          "Yound Adults",
          "Middle-Aged Adult",
          "Yound Adults",
          "old",
          "Yound Adults",
          "Yound Adults",
          "Middle-Aged Adult",
          "teen",
          "old",
          "old",
          "Yound Adults",
          "old",
          "Yound Adults",
          "Yound Adults",
          "Middle-Aged Adult",
          "Middle-Aged Adult",
          "Middle-Aged Adult",
          "old",
          "Middle-Aged Adult",
          "Middle-Aged Adult",
          "Middle-Aged Adult",
          "old",
          "Yound Adults",
          "old",
          "Middle-Aged Adult",
          "Middle-Aged Adult",
          "Yound Adults",
          "Middle-Aged Adult",
          "old",
          "Middle-Aged Adult",
          "Yound Adults",
          "Middle-Aged Adult",
          "old",
          "old",
          "Middle-Aged Adult",
          "old",
          "Yound Adults",
          "old",
          "Middle-Aged Adult",
          "Middle-Aged Adult",
          "Yound Adults",
          "Middle-Aged Adult",
          "Yound Adults",
          "Middle-Aged Adult",
          "Middle-Aged Adult",
          "old",
          "old",
          "old",
          "old",
          "Middle-Aged Adult",
          "old",
          "Middle-Aged Adult",
          "old",
          "old",
          "Middle-Aged Adult",
          "Yound Adults",
          "Yound Adults",
          "old",
          "Yound Adults",
          "Middle-Aged Adult",
          "Middle-Aged Adult",
          "Yound Adults",
          "Middle-Aged Adult",
          "old",
          "Yound Adults",
          "Yound Adults",
          "old",
          "Yound Adults",
          "Middle-Aged Adult",
          "old",
          "old",
          "old",
          "old",
          "old",
          "old",
          "Yound Adults",
          "Middle-Aged Adult",
          "old",
          "Yound Adults",
          "Yound Adults",
          "Middle-Aged Adult",
          "Middle-Aged Adult",
          "Yound Adults",
          "Middle-Aged Adult",
          "old",
          "Yound Adults",
          "Yound Adults",
          "old",
          "old",
          "old",
          "old",
          "Middle-Aged Adult",
          "Middle-Aged Adult",
          "Yound Adults",
          "old",
          "Middle-Aged Adult",
          "old",
          "Middle-Aged Adult",
          "Middle-Aged Adult",
          "old",
          "Middle-Aged Adult",
          "Middle-Aged Adult",
          "old",
          "Middle-Aged Adult",
          "old",
          "old",
          "old",
          "Middle-Aged Adult",
          "old",
          "Middle-Aged Adult",
          "Middle-Aged Adult",
          "Yound Adults",
          "Middle-Aged Adult",
          "Middle-Aged Adult",
          "Yound Adults",
          "Middle-Aged Adult",
          "Middle-Aged Adult",
          "old",
          "Middle-Aged Adult",
          "Middle-Aged Adult",
          "Yound Adults",
          "old",
          "Yound Adults",
          "Yound Adults",
          "Middle-Aged Adult",
          "Middle-Aged Adult",
          "Middle-Aged Adult",
          "old",
          "Middle-Aged Adult",
          "Middle-Aged Adult",
          "Yound Adults",
          "Yound Adults",
          "old",
          "old",
          "Middle-Aged Adult",
          "old",
          "teen",
          "Middle-Aged Adult",
          "Middle-Aged Adult",
          "old",
          "old",
          "old",
          "old",
          "old",
          "old",
          "old",
          "old",
          "Yound Adults",
          "Middle-Aged Adult",
          "old",
          "Yound Adults",
          "Yound Adults",
          "Yound Adults",
          "old",
          "old",
          "old",
          "old",
          "old",
          "Middle-Aged Adult",
          "Middle-Aged Adult",
          "old",
          "Yound Adults",
          "Middle-Aged Adult",
          "old",
          "old",
          "old",
          "Middle-Aged Adult",
          "Yound Adults",
          "Yound Adults",
          "Yound Adults",
          "Middle-Aged Adult",
          "Yound Adults",
          "Middle-Aged Adult",
          "Middle-Aged Adult",
          "Middle-Aged Adult",
          "Middle-Aged Adult",
          "Yound Adults",
          "Yound Adults",
          "old",
          "Middle-Aged Adult",
          "Middle-Aged Adult",
          "Middle-Aged Adult",
          "Yound Adults",
          "Middle-Aged Adult",
          "Middle-Aged Adult",
          "old",
          "Middle-Aged Adult",
          "Middle-Aged Adult",
          "Middle-Aged Adult",
          "Yound Adults",
          "old",
          "Yound Adults",
          "old",
          "Yound Adults",
          "old",
          "Middle-Aged Adult",
          "Yound Adults",
          "teen",
          "old",
          "Middle-Aged Adult",
          "Middle-Aged Adult",
          "Middle-Aged Adult",
          "Middle-Aged Adult",
          "old",
          "Middle-Aged Adult",
          "Middle-Aged Adult",
          "old",
          "Yound Adults",
          "Middle-Aged Adult",
          "Yound Adults",
          "Middle-Aged Adult",
          "Middle-Aged Adult",
          "Middle-Aged Adult",
          "Middle-Aged Adult",
          "old",
          "Middle-Aged Adult",
          "Middle-Aged Adult",
          "old",
          "old",
          "Yound Adults",
          "Middle-Aged Adult",
          "Yound Adults",
          "Yound Adults",
          "Middle-Aged Adult",
          "Middle-Aged Adult",
          "Yound Adults",
          "old",
          "Middle-Aged Adult",
          "Yound Adults",
          "Yound Adults",
          "old",
          "Middle-Aged Adult",
          "old",
          "Middle-Aged Adult",
          "old",
          "Middle-Aged Adult",
          "Yound Adults",
          "Middle-Aged Adult",
          "old",
          "old",
          "teen",
          "old",
          "Middle-Aged Adult",
          "Yound Adults",
          "old",
          "Middle-Aged Adult",
          "Yound Adults",
          "Middle-Aged Adult",
          "Yound Adults",
          "Middle-Aged Adult",
          "old",
          "Yound Adults",
          "Middle-Aged Adult",
          "old",
          "Yound Adults",
          "Yound Adults",
          "Middle-Aged Adult",
          "Middle-Aged Adult",
          "Middle-Aged Adult",
          "old",
          "Middle-Aged Adult",
          "Middle-Aged Adult",
          "Yound Adults",
          "old",
          "Middle-Aged Adult",
          "Middle-Aged Adult",
          "Middle-Aged Adult",
          "old",
          "Middle-Aged Adult",
          "old",
          "Middle-Aged Adult",
          "Middle-Aged Adult",
          "Yound Adults",
          "Middle-Aged Adult",
          "Middle-Aged Adult",
          "Yound Adults",
          "Middle-Aged Adult",
          "Middle-Aged Adult",
          "Middle-Aged Adult",
          "Middle-Aged Adult",
          "old",
          "old",
          "old",
          "Middle-Aged Adult",
          "old",
          "Yound Adults",
          "old",
          "Yound Adults",
          "Middle-Aged Adult",
          "Yound Adults",
          "old",
          "Yound Adults",
          "Yound Adults",
          "old",
          "Yound Adults",
          "Middle-Aged Adult",
          "old",
          "Yound Adults",
          "Yound Adults",
          "old",
          "Middle-Aged Adult",
          "old",
          "Middle-Aged Adult",
          "old",
          "old",
          "old",
          "Yound Adults",
          "Middle-Aged Adult",
          "Middle-Aged Adult",
          "Middle-Aged Adult",
          "Middle-Aged Adult",
          "Yound Adults",
          "old",
          "old",
          "old",
          "Middle-Aged Adult",
          "Middle-Aged Adult",
          "Yound Adults",
          "Middle-Aged Adult",
          "Middle-Aged Adult",
          "old",
          "Yound Adults",
          "old",
          "Middle-Aged Adult",
          "Middle-Aged Adult",
          "old",
          "Middle-Aged Adult",
          "Middle-Aged Adult",
          "Middle-Aged Adult",
          "old",
          "Yound Adults",
          "Yound Adults",
          "old",
          "old",
          "old",
          "Middle-Aged Adult",
          "teen",
          "Middle-Aged Adult",
          "old",
          "Yound Adults",
          "old",
          "old",
          "old",
          "old",
          "old",
          "old",
          "Yound Adults",
          "Middle-Aged Adult",
          "old",
          "old",
          "old",
          "old",
          "old",
          "old",
          "old",
          "Middle-Aged Adult",
          "Yound Adults",
          "old",
          "old",
          "Middle-Aged Adult",
          "Middle-Aged Adult",
          "Middle-Aged Adult",
          "Yound Adults",
          "old",
          "old",
          "Middle-Aged Adult",
          "Yound Adults",
          "Middle-Aged Adult",
          "Yound Adults",
          "old",
          "Middle-Aged Adult",
          "old",
          "old",
          "Middle-Aged Adult",
          "Yound Adults",
          "Yound Adults",
          "old",
          "Yound Adults",
          "old",
          "Yound Adults",
          "Middle-Aged Adult",
          "Middle-Aged Adult",
          "Middle-Aged Adult",
          "Middle-Aged Adult",
          "Middle-Aged Adult",
          "Yound Adults",
          "Middle-Aged Adult",
          "Middle-Aged Adult",
          "old",
          "old",
          "Middle-Aged Adult",
          "old",
          "old",
          "old",
          "old",
          "Yound Adults",
          "Middle-Aged Adult",
          "old",
          "Yound Adults",
          "Middle-Aged Adult",
          "old",
          "old",
          "Yound Adults",
          "old",
          "Middle-Aged Adult",
          "Middle-Aged Adult",
          "Middle-Aged Adult",
          "old",
          "Yound Adults",
          "Middle-Aged Adult",
          "old",
          "Middle-Aged Adult",
          "old",
          "Middle-Aged Adult",
          "Yound Adults",
          "Middle-Aged Adult",
          "Yound Adults",
          "old",
          "old",
          "old",
          "Middle-Aged Adult",
          "old",
          "teen",
          "old",
          "old",
          "old",
          "old",
          "Yound Adults",
          "old",
          "Middle-Aged Adult",
          "Middle-Aged Adult",
          "old",
          "Yound Adults",
          "Yound Adults",
          "Yound Adults",
          "Middle-Aged Adult",
          "Middle-Aged Adult",
          "old",
          "old",
          "Middle-Aged Adult",
          "old",
          "Yound Adults",
          "old",
          "old",
          "Middle-Aged Adult",
          "Middle-Aged Adult",
          "Middle-Aged Adult",
          "Middle-Aged Adult",
          "Middle-Aged Adult",
          "old",
          "Middle-Aged Adult",
          "old",
          "Middle-Aged Adult",
          "Middle-Aged Adult",
          "old",
          "Yound Adults",
          "old",
          "Yound Adults",
          "old",
          "old",
          "Yound Adults",
          "Yound Adults",
          "Middle-Aged Adult",
          "old",
          "old",
          "old",
          "Yound Adults",
          "Yound Adults",
          "Yound Adults",
          "Yound Adults",
          "old",
          "Middle-Aged Adult",
          "Middle-Aged Adult",
          "Middle-Aged Adult",
          "Yound Adults",
          "Middle-Aged Adult",
          "old",
          "old",
          "Middle-Aged Adult",
          "old",
          "old",
          "teen",
          "old",
          "Middle-Aged Adult",
          "Yound Adults",
          "Middle-Aged Adult",
          "old",
          "Middle-Aged Adult",
          "Middle-Aged Adult",
          "Yound Adults",
          "old",
          "Middle-Aged Adult",
          "Middle-Aged Adult",
          "Yound Adults",
          "Middle-Aged Adult",
          "Yound Adults",
          "Yound Adults",
          "Yound Adults",
          "old",
          "Middle-Aged Adult",
          "Middle-Aged Adult",
          "Yound Adults",
          "Middle-Aged Adult",
          "Middle-Aged Adult",
          "old",
          "Middle-Aged Adult",
          "old",
          "Yound Adults",
          "Middle-Aged Adult",
          "Middle-Aged Adult",
          "Middle-Aged Adult",
          "Middle-Aged Adult",
          "Middle-Aged Adult",
          "old",
          "old",
          "teen",
          "Middle-Aged Adult",
          "old",
          "old",
          "Yound Adults",
          "Yound Adults",
          "old",
          "Yound Adults",
          "old",
          "Middle-Aged Adult",
          "Middle-Aged Adult",
          "old",
          "Middle-Aged Adult",
          "old",
          "Yound Adults",
          "old",
          "Middle-Aged Adult",
          "Middle-Aged Adult",
          "Middle-Aged Adult",
          "old",
          "old",
          "Middle-Aged Adult",
          "old",
          "old",
          "Middle-Aged Adult",
          "old",
          "Middle-Aged Adult",
          "old",
          "old",
          "old",
          "old",
          "Yound Adults",
          "old",
          "old",
          "Yound Adults",
          "Yound Adults",
          "teen",
          "Yound Adults",
          "Middle-Aged Adult",
          "Middle-Aged Adult",
          "Middle-Aged Adult",
          "old",
          "Yound Adults",
          "old",
          "Middle-Aged Adult",
          "Yound Adults",
          "Yound Adults",
          "old",
          "Middle-Aged Adult",
          "Middle-Aged Adult",
          "old",
          "old",
          "Middle-Aged Adult",
          "Middle-Aged Adult",
          "Yound Adults",
          "Middle-Aged Adult",
          "Middle-Aged Adult",
          "Yound Adults",
          "old",
          "Middle-Aged Adult",
          "Middle-Aged Adult",
          "Middle-Aged Adult",
          "Yound Adults",
          "old",
          "Middle-Aged Adult",
          "Yound Adults",
          "Middle-Aged Adult",
          "Middle-Aged Adult",
          "Middle-Aged Adult",
          "Middle-Aged Adult",
          "old",
          "Yound Adults",
          "Middle-Aged Adult",
          "Middle-Aged Adult",
          "old",
          "teen",
          "old",
          "old",
          "Middle-Aged Adult",
          "Yound Adults",
          "Yound Adults",
          "Yound Adults",
          "old",
          "old",
          "old",
          "old",
          "Middle-Aged Adult",
          "old",
          "old",
          "Yound Adults",
          "old",
          "Middle-Aged Adult",
          "Yound Adults",
          "Middle-Aged Adult",
          "Middle-Aged Adult",
          "old",
          "old",
          "Middle-Aged Adult",
          "old",
          "Middle-Aged Adult",
          "Yound Adults",
          "Yound Adults",
          "Middle-Aged Adult",
          "Middle-Aged Adult",
          "Middle-Aged Adult",
          "old",
          "old",
          "old",
          "old",
          "Middle-Aged Adult",
          "Middle-Aged Adult",
          "old",
          "Middle-Aged Adult",
          "Yound Adults",
          "old",
          "Middle-Aged Adult",
          "Middle-Aged Adult",
          "old",
          "Yound Adults",
          "old",
          "old",
          "Middle-Aged Adult",
          "Yound Adults",
          "Middle-Aged Adult",
          "Yound Adults",
          "Middle-Aged Adult",
          "Yound Adults",
          "Middle-Aged Adult",
          "old",
          "old",
          "old",
          "Middle-Aged Adult",
          "Middle-Aged Adult",
          "Middle-Aged Adult",
          "old",
          "Middle-Aged Adult",
          "old",
          "old",
          "Yound Adults",
          "Middle-Aged Adult",
          "Middle-Aged Adult",
          "old",
          "Yound Adults",
          "old",
          "Middle-Aged Adult",
          "old",
          "Middle-Aged Adult",
          "Yound Adults",
          "old",
          "Middle-Aged Adult",
          "Yound Adults",
          "old",
          "Middle-Aged Adult",
          "old",
          "old",
          "Yound Adults",
          "Middle-Aged Adult",
          "Middle-Aged Adult",
          "Middle-Aged Adult",
          "Middle-Aged Adult",
          "old",
          "Yound Adults",
          "old",
          "old",
          "old",
          "old",
          "Middle-Aged Adult",
          "Middle-Aged Adult",
          "old",
          "Middle-Aged Adult",
          "Middle-Aged Adult",
          "Middle-Aged Adult",
          "Yound Adults",
          "old",
          "Middle-Aged Adult",
          "old",
          "Yound Adults",
          "Middle-Aged Adult",
          "Middle-Aged Adult",
          "Middle-Aged Adult",
          "Middle-Aged Adult",
          "old",
          "old",
          "Middle-Aged Adult",
          "Middle-Aged Adult",
          "old",
          "old",
          "old",
          "old",
          "Yound Adults",
          "old",
          "Yound Adults",
          "old",
          "old",
          "Yound Adults",
          "Yound Adults",
          "old",
          "old",
          "Middle-Aged Adult",
          "old",
          "Middle-Aged Adult",
          "Middle-Aged Adult",
          "Middle-Aged Adult",
          "Yound Adults",
          "Middle-Aged Adult",
          "Middle-Aged Adult",
          "Yound Adults",
          "Middle-Aged Adult",
          "old",
          "Middle-Aged Adult",
          "Middle-Aged Adult",
          "old",
          "Middle-Aged Adult",
          "Middle-Aged Adult",
          "old",
          "Middle-Aged Adult",
          "Middle-Aged Adult",
          "old",
          "old",
          "old",
          "Yound Adults",
          "Middle-Aged Adult",
          "old",
          "Middle-Aged Adult",
          "teen",
          "old",
          "Yound Adults",
          "Yound Adults",
          "Middle-Aged Adult",
          "Middle-Aged Adult",
          "old",
          "Yound Adults",
          "old",
          "Middle-Aged Adult",
          "Middle-Aged Adult",
          "Middle-Aged Adult",
          "old",
          "old",
          "old",
          "old",
          "Middle-Aged Adult",
          "Yound Adults",
          "old",
          "old",
          "old",
          "Yound Adults",
          "Middle-Aged Adult",
          "Yound Adults",
          "Yound Adults",
          "Middle-Aged Adult",
          "old",
          "old",
          "Middle-Aged Adult",
          "old",
          "Middle-Aged Adult",
          "Yound Adults",
          "Middle-Aged Adult",
          "old",
          "old",
          "Middle-Aged Adult",
          "Yound Adults",
          "old",
          "old",
          "Middle-Aged Adult",
          "Middle-Aged Adult",
          "old",
          "old",
          "old",
          "Middle-Aged Adult",
          "Middle-Aged Adult",
          "Yound Adults",
          "old",
          "Middle-Aged Adult",
          "Middle-Aged Adult",
          "old",
          "Middle-Aged Adult",
          "Yound Adults",
          "old",
          "Yound Adults",
          "old",
          "Yound Adults",
          "Yound Adults",
          "Middle-Aged Adult",
          "Middle-Aged Adult",
          "Yound Adults",
          "old",
          "old",
          "old",
          "Yound Adults",
          "old",
          "Middle-Aged Adult",
          "Middle-Aged Adult",
          "Middle-Aged Adult",
          "Yound Adults",
          "old",
          "Yound Adults",
          "old",
          "Yound Adults",
          "old",
          "old",
          "old",
          "old",
          "Middle-Aged Adult",
          "Yound Adults",
          "old",
          "Middle-Aged Adult",
          "old",
          "Yound Adults",
          "Middle-Aged Adult",
          "old",
          "Middle-Aged Adult",
          "Middle-Aged Adult",
          "Yound Adults",
          "Middle-Aged Adult",
          "Middle-Aged Adult",
          "Middle-Aged Adult",
          "old",
          "old",
          "teen",
          "old",
          "Yound Adults",
          "old",
          "Yound Adults",
          "Yound Adults",
          "Yound Adults",
          "Middle-Aged Adult",
          "old",
          "old",
          "Middle-Aged Adult",
          "old",
          "Middle-Aged Adult",
          "teen",
          "old",
          "Middle-Aged Adult",
          "Middle-Aged Adult",
          "old",
          "Middle-Aged Adult",
          "Yound Adults",
          "Middle-Aged Adult",
          "old",
          "Middle-Aged Adult",
          "old",
          "Middle-Aged Adult",
          "teen",
          "old",
          "old",
          "old",
          "Middle-Aged Adult",
          "Middle-Aged Adult",
          "Yound Adults",
          "old",
          "Middle-Aged Adult",
          "Middle-Aged Adult",
          "Middle-Aged Adult",
          "Middle-Aged Adult",
          "Middle-Aged Adult",
          "old",
          "old",
          "Yound Adults",
          "Yound Adults",
          "old",
          "old",
          "Middle-Aged Adult",
          "Yound Adults",
          "Middle-Aged Adult",
          "Yound Adults",
          "old",
          "Middle-Aged Adult",
          "Middle-Aged Adult",
          "Middle-Aged Adult",
          "old",
          "old",
          "Yound Adults",
          "old",
          "Yound Adults",
          "Yound Adults",
          "old",
          "Yound Adults",
          "old",
          "Yound Adults",
          "old",
          "Yound Adults",
          "Middle-Aged Adult",
          "Middle-Aged Adult",
          "Yound Adults",
          "old",
          "old",
          "Middle-Aged Adult",
          "Middle-Aged Adult",
          "Yound Adults",
          "Yound Adults",
          "Middle-Aged Adult",
          "old",
          "Middle-Aged Adult",
          "old",
          "old",
          "Middle-Aged Adult",
          "Middle-Aged Adult",
          "old",
          "old",
          "Yound Adults",
          "Middle-Aged Adult",
          "teen",
          "old",
          "Middle-Aged Adult",
          "Middle-Aged Adult",
          "old",
          "old",
          "Middle-Aged Adult",
          "Middle-Aged Adult",
          "Middle-Aged Adult",
          "old",
          "Middle-Aged Adult",
          "Yound Adults",
          "Yound Adults",
          "Middle-Aged Adult",
          "old",
          "Yound Adults",
          "Middle-Aged Adult",
          "old",
          "Yound Adults",
          "Middle-Aged Adult",
          "old",
          "old",
          "Middle-Aged Adult",
          "old",
          "Middle-Aged Adult",
          "Yound Adults",
          "old",
          "old",
          "Middle-Aged Adult",
          "old",
          "old",
          "Yound Adults",
          "old",
          "Middle-Aged Adult",
          "old",
          "Middle-Aged Adult",
          "Middle-Aged Adult",
          "Middle-Aged Adult",
          "Middle-Aged Adult",
          "old",
          "Middle-Aged Adult",
          "Yound Adults",
          "Yound Adults",
          "old",
          "Middle-Aged Adult",
          "Yound Adults",
          "old",
          "Middle-Aged Adult",
          "old",
          "old",
          "old",
          "old",
          "old",
          "Middle-Aged Adult",
          "Middle-Aged Adult",
          "Middle-Aged Adult",
          "Middle-Aged Adult",
          "Yound Adults",
          "Yound Adults",
          "old",
          "Middle-Aged Adult",
          "Middle-Aged Adult",
          "Yound Adults",
          "Yound Adults",
          "Middle-Aged Adult",
          "Middle-Aged Adult",
          "old",
          "old",
          "Yound Adults",
          "old",
          "Yound Adults",
          "Middle-Aged Adult",
          "Middle-Aged Adult",
          "Yound Adults",
          "Middle-Aged Adult",
          "old",
          "Yound Adults",
          "old",
          "old",
          "Middle-Aged Adult",
          "old",
          "Yound Adults",
          "old",
          "teen",
          "old",
          "old",
          "old",
          "Yound Adults",
          "old",
          "Yound Adults",
          "old",
          "Middle-Aged Adult",
          "Yound Adults",
          "old",
          "old",
          "Middle-Aged Adult",
          "Middle-Aged Adult",
          "Yound Adults",
          "Middle-Aged Adult",
          "Yound Adults",
          "old",
          "old",
          "Middle-Aged Adult",
          "old",
          "old",
          "Yound Adults",
          "old",
          "Middle-Aged Adult",
          "Yound Adults",
          "old",
          "old",
          "old",
          "old",
          "old",
          "Yound Adults",
          "Middle-Aged Adult",
          "old",
          "Yound Adults",
          "Middle-Aged Adult",
          "old",
          "Middle-Aged Adult",
          "old",
          "old",
          "Yound Adults",
          "Yound Adults",
          "Middle-Aged Adult",
          "old",
          "Middle-Aged Adult",
          "Yound Adults",
          "Middle-Aged Adult",
          "Yound Adults",
          "Middle-Aged Adult",
          "old",
          "old",
          "Middle-Aged Adult",
          "Middle-Aged Adult",
          "old",
          "old",
          "old",
          "Yound Adults",
          "Yound Adults",
          "old",
          "Yound Adults",
          "Yound Adults",
          "Yound Adults",
          "old",
          "old",
          "old",
          "Middle-Aged Adult",
          "Yound Adults",
          "old",
          "Middle-Aged Adult",
          "old",
          "old",
          "Yound Adults",
          "Yound Adults",
          "Yound Adults",
          "Yound Adults",
          "Middle-Aged Adult",
          "Middle-Aged Adult",
          "Yound Adults",
          "Yound Adults",
          "old",
          "Middle-Aged Adult",
          "Yound Adults",
          "Middle-Aged Adult",
          "old",
          "Middle-Aged Adult",
          "old",
          "Yound Adults",
          "old",
          "Middle-Aged Adult",
          "Middle-Aged Adult",
          "Middle-Aged Adult",
          "old",
          "old",
          "Middle-Aged Adult",
          "old",
          "Yound Adults",
          "Yound Adults",
          "old",
          "old",
          "old",
          "old",
          "Yound Adults",
          "old",
          "Middle-Aged Adult",
          "Yound Adults",
          "Middle-Aged Adult",
          "old",
          "Middle-Aged Adult",
          "old",
          "Yound Adults",
          "Middle-Aged Adult",
          "old",
          "Yound Adults",
          "Middle-Aged Adult",
          "old",
          "Yound Adults",
          "Middle-Aged Adult",
          "old",
          "Middle-Aged Adult",
          "Middle-Aged Adult",
          "Yound Adults",
          "old",
          "old",
          "old",
          "Middle-Aged Adult",
          "Middle-Aged Adult",
          "Middle-Aged Adult",
          "Yound Adults",
          "Yound Adults",
          "Middle-Aged Adult",
          "Yound Adults",
          "old",
          "Middle-Aged Adult",
          "old",
          "old",
          "Middle-Aged Adult",
          "Yound Adults",
          "Yound Adults",
          "Yound Adults",
          "old",
          "Middle-Aged Adult",
          "Middle-Aged Adult",
          "Middle-Aged Adult",
          "old",
          "Yound Adults",
          "Middle-Aged Adult",
          "old",
          "Yound Adults",
          "Middle-Aged Adult",
          "Yound Adults",
          "Middle-Aged Adult",
          "old",
          "teen",
          "Yound Adults",
          "Middle-Aged Adult",
          "old",
          "Middle-Aged Adult",
          "Middle-Aged Adult",
          "Yound Adults",
          "old",
          "Yound Adults",
          "old",
          "Middle-Aged Adult",
          "Middle-Aged Adult",
          "Middle-Aged Adult",
          "old",
          "Yound Adults",
          "old",
          "old",
          "Yound Adults",
          "old",
          "Middle-Aged Adult",
          "Middle-Aged Adult",
          "Yound Adults",
          "Middle-Aged Adult",
          "Middle-Aged Adult",
          "old",
          "Yound Adults",
          "Yound Adults",
          "Middle-Aged Adult",
          "Yound Adults",
          "old",
          "Yound Adults",
          "Middle-Aged Adult",
          "Middle-Aged Adult",
          "Middle-Aged Adult",
          "old",
          "old",
          "Middle-Aged Adult",
          "old",
          "Middle-Aged Adult",
          "Yound Adults",
          "old",
          "Yound Adults",
          "old",
          "Middle-Aged Adult",
          "old",
          "teen",
          "Middle-Aged Adult",
          "Yound Adults",
          "old",
          "Middle-Aged Adult",
          "old",
          "old",
          "old",
          "old",
          "Middle-Aged Adult",
          "Yound Adults",
          "Yound Adults",
          "Middle-Aged Adult",
          "Middle-Aged Adult",
          "Middle-Aged Adult",
          "old",
          "old",
          "Middle-Aged Adult",
          "Middle-Aged Adult",
          "old",
          "old",
          "Yound Adults",
          "Yound Adults",
          "Middle-Aged Adult",
          "old",
          "old",
          "Middle-Aged Adult",
          "old",
          "old",
          "Yound Adults",
          "old",
          "teen",
          "Yound Adults",
          "old",
          "old",
          "Middle-Aged Adult",
          "old",
          "old",
          "old",
          "old",
          "Middle-Aged Adult",
          "Yound Adults",
          "old",
          "old",
          "Middle-Aged Adult",
          "old",
          "Middle-Aged Adult",
          "Middle-Aged Adult",
          "old",
          "Yound Adults",
          "Middle-Aged Adult",
          "Yound Adults",
          "Middle-Aged Adult",
          "Middle-Aged Adult",
          "Middle-Aged Adult",
          "old",
          "Middle-Aged Adult",
          "Middle-Aged Adult",
          "Middle-Aged Adult",
          "Yound Adults",
          "Yound Adults",
          "Middle-Aged Adult",
          "Middle-Aged Adult",
          "old",
          "Yound Adults",
          "Middle-Aged Adult",
          "Middle-Aged Adult",
          "Yound Adults",
          "Yound Adults",
          "Middle-Aged Adult",
          "Yound Adults",
          "Yound Adults",
          "old",
          "Yound Adults",
          "old",
          "old",
          "Middle-Aged Adult",
          "Middle-Aged Adult",
          "old",
          "old",
          "old",
          "Yound Adults",
          "old",
          "Middle-Aged Adult",
          "Middle-Aged Adult",
          "Middle-Aged Adult",
          "old",
          "Middle-Aged Adult",
          "Middle-Aged Adult",
          "old",
          "Middle-Aged Adult",
          "Yound Adults",
          "old",
          "Middle-Aged Adult",
          "old",
          "Yound Adults",
          "Yound Adults",
          "Middle-Aged Adult",
          "Yound Adults",
          "old",
          "old",
          "Middle-Aged Adult",
          "Yound Adults",
          "Yound Adults",
          "Middle-Aged Adult",
          "old",
          "Yound Adults",
          "Yound Adults",
          "Middle-Aged Adult",
          "Yound Adults",
          "old",
          "Yound Adults",
          "old",
          "old",
          "old",
          "Middle-Aged Adult",
          "old",
          "Middle-Aged Adult",
          "teen",
          "old",
          "old",
          "Middle-Aged Adult",
          "Yound Adults",
          "Yound Adults",
          "old",
          "old",
          "Yound Adults",
          "Middle-Aged Adult",
          "old",
          "Middle-Aged Adult",
          "old",
          "Yound Adults",
          "old",
          "old",
          "old",
          "Yound Adults",
          "old",
          "Middle-Aged Adult",
          "Middle-Aged Adult",
          "Yound Adults",
          "Middle-Aged Adult",
          "Middle-Aged Adult",
          "old",
          "Middle-Aged Adult",
          "Middle-Aged Adult",
          "old",
          "Yound Adults",
          "old",
          "Middle-Aged Adult",
          "Yound Adults",
          "old",
          "Yound Adults",
          "Yound Adults",
          "Yound Adults",
          "Middle-Aged Adult",
          "Middle-Aged Adult",
          "teen",
          "old",
          "old",
          "old",
          "old",
          "Middle-Aged Adult",
          "old",
          "old",
          "Yound Adults",
          "Middle-Aged Adult",
          "Middle-Aged Adult",
          "Middle-Aged Adult",
          "Yound Adults",
          "Middle-Aged Adult",
          "Middle-Aged Adult",
          "Middle-Aged Adult",
          "old",
          "teen",
          "old",
          "old",
          "Middle-Aged Adult",
          "Middle-Aged Adult",
          "Middle-Aged Adult",
          "Middle-Aged Adult",
          "Middle-Aged Adult",
          "Middle-Aged Adult",
          "Yound Adults",
          "old",
          "old",
          "Yound Adults",
          "teen",
          "old",
          "old",
          "Middle-Aged Adult",
          "Yound Adults",
          "Middle-Aged Adult",
          "Yound Adults",
          "Middle-Aged Adult",
          "teen",
          "Yound Adults",
          "Yound Adults",
          "old",
          "Yound Adults",
          "Middle-Aged Adult",
          "old",
          "old",
          "Yound Adults",
          "old",
          "Middle-Aged Adult",
          "old",
          "Middle-Aged Adult",
          "Middle-Aged Adult",
          "Middle-Aged Adult",
          "old",
          "Middle-Aged Adult",
          "Middle-Aged Adult",
          "old",
          "old",
          "Middle-Aged Adult",
          "old",
          "Yound Adults",
          "old",
          "old",
          "Middle-Aged Adult",
          "old",
          "Middle-Aged Adult",
          "old",
          "Middle-Aged Adult",
          "teen",
          "Middle-Aged Adult",
          "old",
          "old",
          "old",
          "Middle-Aged Adult",
          "Middle-Aged Adult",
          "old",
          "old",
          "old",
          "old",
          "Middle-Aged Adult",
          "Middle-Aged Adult",
          "Middle-Aged Adult",
          "Yound Adults",
          "old",
          "Middle-Aged Adult",
          "old",
          "old",
          "old",
          "old",
          "Middle-Aged Adult",
          "Yound Adults",
          "Middle-Aged Adult",
          "old",
          "old",
          "old",
          "Middle-Aged Adult",
          "Yound Adults",
          "Middle-Aged Adult",
          "teen",
          "Yound Adults",
          "Middle-Aged Adult",
          "Middle-Aged Adult",
          "Yound Adults",
          "old",
          "Middle-Aged Adult",
          "old",
          "old",
          "Yound Adults",
          "old",
          "Yound Adults",
          "Yound Adults",
          "Middle-Aged Adult",
          "Yound Adults",
          "old",
          "Yound Adults",
          "Middle-Aged Adult",
          "Middle-Aged Adult",
          "old",
          "old",
          "old",
          "Yound Adults",
          "old",
          "Middle-Aged Adult",
          "Middle-Aged Adult",
          "Yound Adults",
          "Yound Adults",
          "old",
          "old",
          "old",
          "Middle-Aged Adult",
          "old",
          "Middle-Aged Adult",
          "Middle-Aged Adult",
          "Yound Adults",
          "Middle-Aged Adult",
          "Middle-Aged Adult",
          "Yound Adults",
          "Yound Adults",
          "old",
          "Middle-Aged Adult",
          "Yound Adults",
          "Yound Adults",
          "old",
          "Yound Adults",
          "old",
          "Middle-Aged Adult",
          "Yound Adults",
          "Middle-Aged Adult",
          "Middle-Aged Adult",
          "old",
          "Middle-Aged Adult",
          "Middle-Aged Adult",
          "old",
          "Middle-Aged Adult",
          "Yound Adults",
          "Middle-Aged Adult",
          "Yound Adults",
          "Yound Adults",
          "Middle-Aged Adult",
          "old",
          "Middle-Aged Adult",
          "old",
          "old",
          "Middle-Aged Adult",
          "old",
          "Yound Adults",
          "old",
          "Middle-Aged Adult",
          "old",
          "Yound Adults",
          "old",
          "Middle-Aged Adult",
          "old",
          "old",
          "Middle-Aged Adult",
          "Middle-Aged Adult",
          "Middle-Aged Adult",
          "old",
          "Middle-Aged Adult",
          "Yound Adults",
          "old",
          "old",
          "Middle-Aged Adult",
          "Yound Adults",
          "Yound Adults",
          "old",
          "Yound Adults",
          "Yound Adults",
          "Middle-Aged Adult",
          "Middle-Aged Adult",
          "old",
          "old",
          "old",
          "old",
          "Yound Adults",
          "Middle-Aged Adult",
          "old",
          "Middle-Aged Adult",
          "old",
          "Yound Adults",
          "Middle-Aged Adult",
          "teen",
          "old",
          "teen",
          "Middle-Aged Adult",
          "Yound Adults",
          "old",
          "Middle-Aged Adult",
          "old",
          "Middle-Aged Adult",
          "Middle-Aged Adult",
          "Middle-Aged Adult",
          "Middle-Aged Adult",
          "Yound Adults",
          "old",
          "old",
          "Middle-Aged Adult",
          "old",
          "Middle-Aged Adult",
          "old",
          "old",
          "old",
          "old",
          "old",
          "Middle-Aged Adult",
          "Middle-Aged Adult",
          "Yound Adults",
          "Middle-Aged Adult",
          "old",
          "old",
          "Yound Adults",
          "Middle-Aged Adult",
          "old",
          "Middle-Aged Adult",
          "old",
          "old",
          "Middle-Aged Adult",
          "Middle-Aged Adult",
          "Middle-Aged Adult",
          "Middle-Aged Adult",
          "Middle-Aged Adult",
          "old",
          "Yound Adults",
          "Middle-Aged Adult",
          "old",
          "old",
          "Yound Adults",
          "old",
          "old",
          "old",
          "old",
          "Yound Adults",
          "Middle-Aged Adult",
          "Yound Adults",
          "Middle-Aged Adult",
          "Yound Adults",
          "Middle-Aged Adult",
          "old",
          "old",
          "Middle-Aged Adult",
          "Middle-Aged Adult",
          "old",
          "old",
          "Middle-Aged Adult",
          "Middle-Aged Adult",
          "Middle-Aged Adult",
          "Middle-Aged Adult",
          "Middle-Aged Adult",
          "old",
          "Middle-Aged Adult",
          "old",
          "old",
          "old",
          "Middle-Aged Adult",
          "Yound Adults",
          "Yound Adults",
          "old",
          "Yound Adults",
          "Middle-Aged Adult",
          "Yound Adults",
          "Yound Adults",
          "old",
          "old",
          "old",
          "Yound Adults",
          "old",
          "teen",
          "Yound Adults",
          "old",
          "Yound Adults",
          "Yound Adults",
          "old",
          "Middle-Aged Adult",
          "Middle-Aged Adult",
          "Yound Adults",
          "teen",
          "Middle-Aged Adult",
          "old",
          "Middle-Aged Adult",
          "old",
          "old",
          "old",
          "old",
          "old",
          "Middle-Aged Adult",
          "old",
          "Middle-Aged Adult",
          "old",
          "Middle-Aged Adult",
          "Yound Adults",
          "Yound Adults",
          "Yound Adults",
          "teen",
          "old",
          "old",
          "old",
          "Middle-Aged Adult",
          "old",
          "Middle-Aged Adult",
          "Yound Adults",
          "Middle-Aged Adult",
          "Middle-Aged Adult",
          "old",
          "old",
          "old",
          "Middle-Aged Adult",
          "old",
          "old",
          "Middle-Aged Adult",
          "old",
          "Yound Adults",
          "Middle-Aged Adult",
          "Yound Adults",
          "old",
          "teen",
          "Middle-Aged Adult",
          "Yound Adults",
          "old",
          "Yound Adults",
          "Middle-Aged Adult",
          "Yound Adults",
          "old",
          "Yound Adults",
          "Middle-Aged Adult",
          "Middle-Aged Adult",
          "Middle-Aged Adult",
          "old",
          "Middle-Aged Adult",
          "teen",
          "old",
          "Yound Adults",
          "old",
          "old",
          "Middle-Aged Adult",
          "Yound Adults",
          "old",
          "old",
          "old",
          "Middle-Aged Adult",
          "Middle-Aged Adult",
          "Middle-Aged Adult",
          "Yound Adults",
          "old",
          "Middle-Aged Adult",
          "Middle-Aged Adult",
          "old",
          "Middle-Aged Adult",
          "old",
          "old",
          "Middle-Aged Adult",
          "Yound Adults",
          "Middle-Aged Adult",
          "old",
          "old",
          "old",
          "old",
          "Middle-Aged Adult",
          "Middle-Aged Adult",
          "old",
          "Yound Adults",
          "Yound Adults",
          "Middle-Aged Adult",
          "old",
          "old",
          "Middle-Aged Adult",
          "Middle-Aged Adult",
          "old",
          "Middle-Aged Adult",
          "Middle-Aged Adult",
          "old",
          "Middle-Aged Adult",
          "old",
          "old",
          "Middle-Aged Adult",
          "old",
          "old",
          "Yound Adults",
          "old",
          "old",
          "Yound Adults",
          "Yound Adults",
          "old",
          "Middle-Aged Adult",
          "Yound Adults",
          "Middle-Aged Adult",
          "Middle-Aged Adult",
          "old",
          "old",
          "Middle-Aged Adult",
          "old",
          "Yound Adults",
          "Yound Adults",
          "old",
          "old",
          "Middle-Aged Adult",
          "Middle-Aged Adult",
          "Middle-Aged Adult",
          "Middle-Aged Adult",
          "Middle-Aged Adult",
          "Middle-Aged Adult",
          "Middle-Aged Adult",
          "old",
          "old",
          "Middle-Aged Adult",
          "Yound Adults",
          "Middle-Aged Adult",
          "Yound Adults",
          "old",
          "Middle-Aged Adult",
          "old",
          "Middle-Aged Adult",
          "teen",
          "old",
          "Yound Adults",
          "old",
          "Middle-Aged Adult",
          "Yound Adults",
          "old",
          "Middle-Aged Adult",
          "Middle-Aged Adult",
          "old",
          "old",
          "old",
          "old",
          "old",
          "Middle-Aged Adult",
          "Middle-Aged Adult",
          "old",
          "old",
          "Middle-Aged Adult",
          "old",
          "Middle-Aged Adult",
          "Middle-Aged Adult",
          "Middle-Aged Adult",
          "Yound Adults",
          "Yound Adults",
          "old",
          "Yound Adults",
          "Middle-Aged Adult",
          "old",
          "old",
          "old",
          "Middle-Aged Adult",
          "Middle-Aged Adult",
          "old",
          "Middle-Aged Adult",
          "old",
          "old",
          "Yound Adults",
          "Middle-Aged Adult",
          "Middle-Aged Adult",
          "Middle-Aged Adult",
          "Middle-Aged Adult",
          "old",
          "Middle-Aged Adult",
          "old",
          "Middle-Aged Adult",
          "old",
          "Middle-Aged Adult",
          "Yound Adults",
          "old",
          "Yound Adults",
          "old",
          "old",
          "Yound Adults",
          "old",
          "Yound Adults",
          "Middle-Aged Adult",
          "old",
          "old",
          "Middle-Aged Adult",
          "Yound Adults",
          "old",
          "old",
          "old",
          "Middle-Aged Adult",
          "old",
          "old",
          "Middle-Aged Adult",
          "Middle-Aged Adult",
          "Middle-Aged Adult",
          "Middle-Aged Adult",
          "old",
          "old",
          "Middle-Aged Adult",
          "Middle-Aged Adult",
          "Yound Adults",
          "Yound Adults",
          "Middle-Aged Adult",
          "Middle-Aged Adult",
          "Middle-Aged Adult",
          "old",
          "old",
          "old",
          "Middle-Aged Adult",
          "Middle-Aged Adult",
          "old",
          "Yound Adults",
          "Middle-Aged Adult",
          "Yound Adults",
          "old",
          "Middle-Aged Adult",
          "Yound Adults",
          "Middle-Aged Adult",
          "Middle-Aged Adult",
          "Middle-Aged Adult",
          "old",
          "Middle-Aged Adult",
          "Yound Adults",
          "Yound Adults",
          "old",
          "old",
          "old",
          "Middle-Aged Adult",
          "old",
          "old",
          "old",
          "Middle-Aged Adult",
          "Middle-Aged Adult",
          "old",
          "Middle-Aged Adult",
          "Middle-Aged Adult",
          "old",
          "Yound Adults",
          "old",
          "old",
          "old",
          "Middle-Aged Adult",
          "Middle-Aged Adult",
          "old",
          "Middle-Aged Adult",
          "old",
          "old",
          "old",
          "old",
          "Middle-Aged Adult",
          "Yound Adults",
          "Yound Adults",
          "Yound Adults",
          "Yound Adults",
          "old",
          "Middle-Aged Adult",
          "Middle-Aged Adult",
          "Yound Adults",
          "old",
          "Middle-Aged Adult",
          "old",
          "Yound Adults",
          "Middle-Aged Adult",
          "old",
          "Middle-Aged Adult",
          "Middle-Aged Adult",
          "Middle-Aged Adult",
          "Middle-Aged Adult",
          "Yound Adults",
          "Middle-Aged Adult",
          "old",
          "old",
          "Middle-Aged Adult",
          "Middle-Aged Adult",
          "Middle-Aged Adult",
          "Middle-Aged Adult",
          "Middle-Aged Adult",
          "Middle-Aged Adult",
          "Yound Adults",
          "teen",
          "Middle-Aged Adult",
          "Yound Adults",
          "old",
          "old",
          "Middle-Aged Adult",
          "Yound Adults",
          "Middle-Aged Adult",
          "Yound Adults",
          "Yound Adults",
          "Middle-Aged Adult",
          "Middle-Aged Adult",
          "Middle-Aged Adult",
          "Yound Adults",
          "Yound Adults",
          "Middle-Aged Adult",
          "old",
          "Yound Adults",
          "Yound Adults",
          "Yound Adults",
          "Middle-Aged Adult",
          "Middle-Aged Adult",
          "Yound Adults",
          "Middle-Aged Adult",
          "Yound Adults",
          "Middle-Aged Adult",
          "Middle-Aged Adult",
          "old",
          "Middle-Aged Adult",
          "Middle-Aged Adult",
          "Middle-Aged Adult",
          "Middle-Aged Adult",
          "Yound Adults",
          "Middle-Aged Adult",
          "Yound Adults",
          "old",
          "old",
          "Yound Adults",
          "Middle-Aged Adult",
          "old",
          "Middle-Aged Adult",
          "old",
          "Middle-Aged Adult",
          "Middle-Aged Adult",
          "old",
          "Yound Adults",
          "Middle-Aged Adult",
          "Middle-Aged Adult",
          "old",
          "Yound Adults",
          "Middle-Aged Adult",
          "Yound Adults",
          "Middle-Aged Adult",
          "old",
          "old",
          "Middle-Aged Adult",
          "Yound Adults",
          "Middle-Aged Adult",
          "Middle-Aged Adult",
          "old",
          "Middle-Aged Adult",
          "Yound Adults",
          "Yound Adults",
          "Middle-Aged Adult",
          "Yound Adults",
          "teen",
          "Middle-Aged Adult",
          "Yound Adults",
          "Middle-Aged Adult",
          "old",
          "old",
          "old",
          "Middle-Aged Adult",
          "old",
          "Middle-Aged Adult",
          "Middle-Aged Adult",
          "Middle-Aged Adult",
          "Yound Adults",
          "Middle-Aged Adult",
          "Middle-Aged Adult",
          "Middle-Aged Adult",
          "old",
          "teen",
          "teen",
          "old",
          "Middle-Aged Adult",
          "Middle-Aged Adult",
          "Middle-Aged Adult",
          "Middle-Aged Adult",
          "old",
          "Middle-Aged Adult",
          "Middle-Aged Adult",
          "Yound Adults",
          "Middle-Aged Adult",
          "old",
          "Yound Adults",
          "Middle-Aged Adult",
          "Middle-Aged Adult",
          "Middle-Aged Adult",
          "Yound Adults",
          "old",
          "Middle-Aged Adult",
          "old",
          "old",
          "Middle-Aged Adult",
          "old",
          "Middle-Aged Adult",
          "Yound Adults",
          "Middle-Aged Adult",
          "old",
          "Middle-Aged Adult",
          "Yound Adults",
          "Yound Adults",
          "Yound Adults",
          "old",
          "old",
          "Yound Adults",
          "Middle-Aged Adult",
          "Yound Adults",
          "old",
          "old",
          "Yound Adults",
          "Yound Adults",
          "teen",
          "Middle-Aged Adult",
          "Middle-Aged Adult",
          "Middle-Aged Adult",
          "old",
          "old",
          "Yound Adults",
          "old",
          "Middle-Aged Adult",
          "Yound Adults",
          "Middle-Aged Adult",
          "Middle-Aged Adult",
          "old",
          "Middle-Aged Adult",
          "Middle-Aged Adult",
          "old",
          "Middle-Aged Adult",
          "old",
          "teen",
          "Middle-Aged Adult",
          "Middle-Aged Adult",
          "old",
          "Yound Adults",
          "old",
          "Yound Adults",
          "Yound Adults",
          "Middle-Aged Adult",
          "old",
          "Yound Adults",
          "Yound Adults",
          "Yound Adults",
          "old",
          "Middle-Aged Adult",
          "old",
          "Yound Adults",
          "Middle-Aged Adult",
          "old",
          "old",
          "Yound Adults",
          "Middle-Aged Adult",
          "Middle-Aged Adult",
          "Middle-Aged Adult",
          "old",
          "Middle-Aged Adult",
          "old",
          "Yound Adults",
          "Middle-Aged Adult",
          "Middle-Aged Adult",
          "old",
          "old",
          "Middle-Aged Adult",
          "Middle-Aged Adult",
          "Middle-Aged Adult",
          "Middle-Aged Adult",
          "Yound Adults",
          "Middle-Aged Adult",
          "old",
          "Yound Adults",
          "old",
          "old",
          "Yound Adults",
          "old",
          "Middle-Aged Adult",
          "Yound Adults",
          "Yound Adults",
          "Middle-Aged Adult",
          "old",
          "old",
          "old",
          "Middle-Aged Adult",
          "old",
          "old",
          "old",
          "Yound Adults",
          "old",
          "old",
          "old",
          "Yound Adults",
          "Middle-Aged Adult",
          "Middle-Aged Adult",
          "Yound Adults",
          "old",
          "old",
          "old",
          "Yound Adults",
          "old",
          "Yound Adults",
          "Yound Adults",
          "old",
          "old",
          "Middle-Aged Adult",
          "Middle-Aged Adult",
          "old",
          "old",
          "Yound Adults",
          "Middle-Aged Adult",
          "Yound Adults",
          "Middle-Aged Adult",
          "Middle-Aged Adult",
          "old",
          "Middle-Aged Adult",
          "old",
          "Yound Adults",
          "Middle-Aged Adult",
          "Yound Adults",
          "Middle-Aged Adult",
          "Yound Adults",
          "Yound Adults",
          "old",
          "Middle-Aged Adult",
          "Middle-Aged Adult",
          "old",
          "Middle-Aged Adult",
          "old",
          "Middle-Aged Adult",
          "Middle-Aged Adult",
          "old",
          "old",
          "Middle-Aged Adult",
          "Middle-Aged Adult",
          "Middle-Aged Adult",
          "old",
          "Yound Adults",
          "old",
          "old",
          "old",
          "Yound Adults",
          "Yound Adults",
          "Middle-Aged Adult",
          "Middle-Aged Adult",
          "old",
          "old",
          "Yound Adults",
          "Yound Adults",
          "old",
          "Yound Adults",
          "Yound Adults",
          "Yound Adults",
          "Middle-Aged Adult",
          "Middle-Aged Adult",
          "Yound Adults",
          "Middle-Aged Adult",
          "Middle-Aged Adult",
          "old",
          "old",
          "Yound Adults",
          "old",
          "old",
          "Yound Adults",
          "Middle-Aged Adult",
          "old",
          "old",
          "Middle-Aged Adult",
          "Yound Adults",
          "old",
          "Middle-Aged Adult",
          "Middle-Aged Adult",
          "old",
          "Middle-Aged Adult",
          "Middle-Aged Adult",
          "old",
          "Yound Adults",
          "Middle-Aged Adult",
          "old",
          "Middle-Aged Adult",
          "old",
          "old",
          "Yound Adults",
          "old",
          "Middle-Aged Adult",
          "old",
          "Yound Adults",
          "Middle-Aged Adult",
          "Yound Adults",
          "old",
          "old",
          "old",
          "Middle-Aged Adult",
          "old",
          "Yound Adults",
          "old",
          "old",
          "Middle-Aged Adult",
          "teen",
          "Middle-Aged Adult",
          "Yound Adults",
          "old",
          "old",
          "old",
          "Yound Adults",
          "Yound Adults",
          "old",
          "Yound Adults",
          "old",
          "old",
          "Yound Adults",
          "teen",
          "Middle-Aged Adult",
          "old",
          "Middle-Aged Adult",
          "old",
          "Middle-Aged Adult",
          "old",
          "Middle-Aged Adult",
          "old",
          "old",
          "old",
          "old",
          "old",
          "old",
          "Middle-Aged Adult",
          "Yound Adults",
          "Middle-Aged Adult",
          "Middle-Aged Adult",
          "old",
          "Middle-Aged Adult",
          "teen",
          "old",
          "old",
          "Middle-Aged Adult",
          "Middle-Aged Adult",
          "old",
          "old",
          "Yound Adults",
          "old",
          "old",
          "Yound Adults",
          "Yound Adults",
          "Middle-Aged Adult",
          "old",
          "Middle-Aged Adult",
          "old",
          "Middle-Aged Adult",
          "Middle-Aged Adult",
          "Middle-Aged Adult",
          "old",
          "Yound Adults",
          "Middle-Aged Adult",
          "old",
          "Yound Adults",
          "Yound Adults",
          "Middle-Aged Adult",
          "old",
          "Middle-Aged Adult",
          "Middle-Aged Adult",
          "Yound Adults",
          "old",
          "Middle-Aged Adult",
          "Yound Adults",
          "Middle-Aged Adult",
          "old",
          "old",
          "Middle-Aged Adult",
          "Middle-Aged Adult",
          "old",
          "Middle-Aged Adult",
          "teen",
          "Middle-Aged Adult",
          "Yound Adults",
          "Middle-Aged Adult",
          "old",
          "Yound Adults",
          "Middle-Aged Adult",
          "Middle-Aged Adult",
          "old",
          "Middle-Aged Adult",
          "Middle-Aged Adult",
          "Middle-Aged Adult",
          "old",
          "Yound Adults",
          "old",
          "old",
          "old",
          "Yound Adults",
          "Yound Adults",
          "old",
          "Middle-Aged Adult",
          "Middle-Aged Adult",
          "old",
          "Middle-Aged Adult",
          "old",
          "old",
          "Middle-Aged Adult",
          "Yound Adults",
          "Middle-Aged Adult",
          "Yound Adults",
          "old",
          "Middle-Aged Adult",
          "Middle-Aged Adult",
          "Middle-Aged Adult",
          "old",
          "old",
          "Yound Adults",
          "old",
          "Yound Adults",
          "old",
          "old",
          "old",
          "Middle-Aged Adult",
          "old",
          "Yound Adults",
          "old",
          "Yound Adults",
          "old",
          "Yound Adults",
          "old",
          "Middle-Aged Adult",
          "old",
          "old",
          "Middle-Aged Adult",
          "Yound Adults",
          "Middle-Aged Adult",
          "old",
          "Yound Adults",
          "old",
          "old",
          "old",
          "old",
          "Yound Adults",
          "old",
          "old",
          "old",
          "Middle-Aged Adult",
          "Middle-Aged Adult",
          "old",
          "Middle-Aged Adult",
          "Middle-Aged Adult",
          "old",
          "old",
          "Middle-Aged Adult",
          "old",
          "old",
          "teen",
          "Middle-Aged Adult",
          "old",
          "Middle-Aged Adult",
          "old",
          "old",
          "Yound Adults",
          "Middle-Aged Adult",
          "old",
          "Middle-Aged Adult",
          "Yound Adults",
          "Yound Adults",
          "Middle-Aged Adult",
          "old",
          "Yound Adults",
          "old",
          "Yound Adults",
          "old",
          "Yound Adults",
          "old",
          "Yound Adults",
          "old",
          "Middle-Aged Adult",
          "Yound Adults",
          "Yound Adults",
          "teen",
          "Yound Adults",
          "Yound Adults",
          "Middle-Aged Adult",
          "Middle-Aged Adult",
          "Yound Adults",
          "Yound Adults",
          "Middle-Aged Adult",
          "old",
          "old",
          "Yound Adults",
          "Yound Adults",
          "old",
          "Yound Adults",
          "old",
          "Yound Adults",
          "Yound Adults",
          "old",
          "old",
          "old",
          "Middle-Aged Adult",
          "Yound Adults",
          "Middle-Aged Adult",
          "Yound Adults",
          "Middle-Aged Adult",
          "Yound Adults",
          "old",
          "Middle-Aged Adult",
          "Middle-Aged Adult",
          "old",
          "Middle-Aged Adult",
          "Yound Adults",
          "Middle-Aged Adult",
          "old",
          "old",
          "Middle-Aged Adult",
          "Yound Adults",
          "Middle-Aged Adult",
          "Middle-Aged Adult",
          "Middle-Aged Adult",
          "old",
          "Middle-Aged Adult",
          "Yound Adults",
          "old",
          "old",
          "Middle-Aged Adult",
          "old",
          "Middle-Aged Adult",
          "old",
          "old",
          "Yound Adults",
          "Middle-Aged Adult",
          "Middle-Aged Adult",
          "Middle-Aged Adult",
          "old",
          "old",
          "Middle-Aged Adult",
          "old",
          "Middle-Aged Adult",
          "old",
          "Yound Adults",
          "Yound Adults",
          "Middle-Aged Adult",
          "old",
          "old",
          "old",
          "old",
          "Yound Adults",
          "Middle-Aged Adult",
          "old",
          "Middle-Aged Adult",
          "old",
          "Yound Adults",
          "Middle-Aged Adult",
          "Yound Adults",
          "old",
          "Yound Adults",
          "Middle-Aged Adult",
          "teen",
          "Yound Adults",
          "old",
          "old",
          "Yound Adults",
          "Yound Adults",
          "old",
          "old",
          "old",
          "Middle-Aged Adult",
          "Middle-Aged Adult",
          "Yound Adults",
          "Middle-Aged Adult",
          "Yound Adults",
          "old",
          "Yound Adults",
          "Middle-Aged Adult",
          "old",
          "Middle-Aged Adult",
          "Middle-Aged Adult",
          "old",
          "Middle-Aged Adult",
          "Middle-Aged Adult",
          "Yound Adults",
          "old",
          "Yound Adults",
          "old",
          "Middle-Aged Adult",
          "Yound Adults",
          "Middle-Aged Adult",
          "teen",
          "Yound Adults",
          "old",
          "old",
          "Yound Adults",
          "Middle-Aged Adult",
          "old",
          "old",
          "old",
          "Middle-Aged Adult",
          "Middle-Aged Adult",
          "Middle-Aged Adult",
          "old",
          "Middle-Aged Adult",
          "Middle-Aged Adult",
          "old",
          "Yound Adults",
          "old",
          "old",
          "old",
          "Middle-Aged Adult",
          "old",
          "Middle-Aged Adult",
          "Middle-Aged Adult",
          "old",
          "teen",
          "Middle-Aged Adult",
          "old",
          "Middle-Aged Adult",
          "Middle-Aged Adult",
          "old",
          "old",
          "old",
          "Middle-Aged Adult",
          "old",
          "Middle-Aged Adult",
          "Yound Adults",
          "Middle-Aged Adult",
          "old",
          "old",
          "Middle-Aged Adult",
          "old",
          "Yound Adults",
          "Middle-Aged Adult",
          "Middle-Aged Adult",
          "old",
          "Middle-Aged Adult",
          "Middle-Aged Adult",
          "Middle-Aged Adult",
          "old",
          "old",
          "old",
          "Yound Adults",
          "old",
          "old",
          "Yound Adults",
          "Middle-Aged Adult",
          "old",
          "teen",
          "Middle-Aged Adult",
          "old",
          "Middle-Aged Adult",
          "old",
          "Yound Adults",
          "old",
          "old",
          "Middle-Aged Adult",
          "Middle-Aged Adult",
          "Middle-Aged Adult",
          "Middle-Aged Adult",
          "Yound Adults",
          "Middle-Aged Adult",
          "old",
          "Yound Adults",
          "Middle-Aged Adult",
          "old",
          "Yound Adults",
          "Middle-Aged Adult",
          "old",
          "Middle-Aged Adult",
          "Yound Adults",
          "Yound Adults",
          "old",
          "old",
          "Middle-Aged Adult",
          "Yound Adults",
          "Middle-Aged Adult",
          "Middle-Aged Adult",
          "Middle-Aged Adult",
          "old",
          "old",
          "old",
          "old",
          "Middle-Aged Adult",
          "Yound Adults",
          "Yound Adults",
          "old",
          "Middle-Aged Adult",
          "Yound Adults",
          "Middle-Aged Adult",
          "old",
          "Middle-Aged Adult",
          "old",
          "old",
          "old",
          "Middle-Aged Adult",
          "Middle-Aged Adult",
          "Middle-Aged Adult",
          "Yound Adults",
          "old",
          "Middle-Aged Adult",
          "Middle-Aged Adult",
          "Middle-Aged Adult",
          "Yound Adults",
          "old",
          "old",
          "Middle-Aged Adult",
          "old",
          "Yound Adults",
          "old",
          "Yound Adults",
          "Middle-Aged Adult",
          "old",
          "Middle-Aged Adult",
          "Middle-Aged Adult",
          "old",
          "Middle-Aged Adult",
          "Middle-Aged Adult",
          "Yound Adults",
          "old",
          "Middle-Aged Adult",
          "old",
          "old",
          "Yound Adults",
          "Middle-Aged Adult",
          "old",
          "Yound Adults",
          "old",
          "Yound Adults",
          "Middle-Aged Adult",
          "Yound Adults",
          "old",
          "old",
          "Middle-Aged Adult",
          "Middle-Aged Adult",
          "Yound Adults",
          "old",
          "Middle-Aged Adult",
          "old",
          "Yound Adults",
          "Middle-Aged Adult",
          "Yound Adults",
          "Middle-Aged Adult",
          "Middle-Aged Adult",
          "Middle-Aged Adult",
          "Yound Adults",
          "Middle-Aged Adult",
          "Middle-Aged Adult",
          "old",
          "old",
          "Yound Adults",
          "Middle-Aged Adult",
          "Yound Adults",
          "Middle-Aged Adult",
          "Yound Adults",
          "Middle-Aged Adult",
          "Middle-Aged Adult",
          "Middle-Aged Adult",
          "Yound Adults",
          "old",
          "old",
          "Yound Adults",
          "old",
          "Middle-Aged Adult",
          "Yound Adults",
          "Middle-Aged Adult",
          "Yound Adults",
          "Middle-Aged Adult",
          "old",
          "old",
          "Middle-Aged Adult",
          "Middle-Aged Adult",
          "Middle-Aged Adult",
          "Middle-Aged Adult",
          "Middle-Aged Adult",
          "old",
          "Yound Adults",
          "Middle-Aged Adult",
          "old",
          "Middle-Aged Adult",
          "Yound Adults",
          "Yound Adults",
          "Middle-Aged Adult",
          "old",
          "Middle-Aged Adult",
          "old",
          "Yound Adults",
          "Middle-Aged Adult",
          "Middle-Aged Adult",
          "Middle-Aged Adult",
          "old",
          "old",
          "Yound Adults",
          "Yound Adults",
          "Middle-Aged Adult",
          "Middle-Aged Adult",
          "Middle-Aged Adult",
          "Middle-Aged Adult",
          "Middle-Aged Adult",
          "old",
          "old",
          "old",
          "Middle-Aged Adult",
          "old",
          "Middle-Aged Adult",
          "old",
          "old",
          "Middle-Aged Adult",
          "Middle-Aged Adult",
          "old",
          "Middle-Aged Adult",
          "Yound Adults",
          "Middle-Aged Adult",
          "Yound Adults",
          "Yound Adults",
          "Middle-Aged Adult",
          "Yound Adults",
          "old",
          "old",
          "Yound Adults",
          "Middle-Aged Adult",
          "old",
          "Middle-Aged Adult",
          "old",
          "Yound Adults",
          "Middle-Aged Adult",
          "old",
          "Middle-Aged Adult",
          "Middle-Aged Adult",
          "old",
          "old",
          "old",
          "Middle-Aged Adult",
          "old",
          "old",
          "Middle-Aged Adult",
          "Middle-Aged Adult",
          "old",
          "Yound Adults",
          "old",
          "Middle-Aged Adult",
          "Middle-Aged Adult",
          "Middle-Aged Adult",
          "old",
          "Yound Adults",
          "old",
          "old",
          "Middle-Aged Adult",
          "teen",
          "Middle-Aged Adult",
          "Yound Adults",
          "Middle-Aged Adult",
          "old",
          "old",
          "Yound Adults",
          "Middle-Aged Adult",
          "Middle-Aged Adult",
          "Yound Adults",
          "Middle-Aged Adult",
          "Yound Adults",
          "old",
          "Middle-Aged Adult",
          "Yound Adults",
          "Yound Adults",
          "old",
          "old",
          "Middle-Aged Adult",
          "old",
          "Middle-Aged Adult",
          "old",
          "old",
          "old",
          "old",
          "Middle-Aged Adult",
          "old",
          "Yound Adults",
          "Yound Adults",
          "old",
          "old",
          "Middle-Aged Adult",
          "old",
          "old",
          "old",
          "teen",
          "Middle-Aged Adult",
          "old",
          "Middle-Aged Adult",
          "Yound Adults",
          "Middle-Aged Adult",
          "old",
          "Yound Adults",
          "old",
          "Middle-Aged Adult",
          "Middle-Aged Adult",
          "Middle-Aged Adult",
          "Middle-Aged Adult",
          "Middle-Aged Adult",
          "Middle-Aged Adult",
          "Yound Adults",
          "old",
          "old",
          "Middle-Aged Adult",
          "Middle-Aged Adult",
          "Middle-Aged Adult",
          "Middle-Aged Adult",
          "old",
          "Yound Adults",
          "Yound Adults",
          "Middle-Aged Adult",
          "old",
          "old",
          "Middle-Aged Adult",
          "old",
          "old",
          "Yound Adults",
          "Yound Adults",
          "old",
          "Yound Adults",
          "old",
          "old",
          "old",
          "Middle-Aged Adult",
          "Middle-Aged Adult",
          "old",
          "old",
          "old",
          "Yound Adults",
          "Middle-Aged Adult",
          "Yound Adults",
          "Middle-Aged Adult",
          "old",
          "Middle-Aged Adult",
          "Middle-Aged Adult",
          "Yound Adults",
          "old",
          "old",
          "Yound Adults",
          "Yound Adults",
          "old",
          "old",
          "Middle-Aged Adult",
          "old",
          "Middle-Aged Adult",
          "Middle-Aged Adult",
          "Middle-Aged Adult",
          "old",
          "Yound Adults",
          "Middle-Aged Adult",
          "Middle-Aged Adult",
          "old",
          "old",
          "Middle-Aged Adult",
          "old",
          "Yound Adults",
          "Yound Adults",
          "Yound Adults",
          "Middle-Aged Adult",
          "Yound Adults",
          "Yound Adults",
          "Middle-Aged Adult",
          "Middle-Aged Adult",
          "old",
          "old",
          "Middle-Aged Adult",
          "old",
          "Yound Adults",
          "old",
          "old",
          "Middle-Aged Adult",
          "old",
          "old",
          "old",
          "old",
          "old",
          "Middle-Aged Adult",
          "Middle-Aged Adult",
          "old",
          "Middle-Aged Adult",
          "old",
          "old",
          "Middle-Aged Adult",
          "Middle-Aged Adult",
          "Middle-Aged Adult",
          "Middle-Aged Adult",
          "Middle-Aged Adult",
          "Yound Adults",
          "old",
          "Yound Adults",
          "old",
          "Yound Adults",
          "Middle-Aged Adult",
          "Middle-Aged Adult",
          "teen",
          "old",
          "old",
          "Middle-Aged Adult",
          "old",
          "Yound Adults",
          "Yound Adults",
          "teen",
          "Yound Adults",
          "Yound Adults",
          "old",
          "Yound Adults",
          "old",
          "old",
          "Middle-Aged Adult",
          "Middle-Aged Adult",
          "Middle-Aged Adult",
          "Yound Adults",
          "Yound Adults",
          "Middle-Aged Adult",
          "Middle-Aged Adult",
          "old",
          "old",
          "old",
          "old",
          "Middle-Aged Adult",
          "Middle-Aged Adult",
          "Middle-Aged Adult",
          "old",
          "old",
          "old",
          "teen",
          "Middle-Aged Adult",
          "Middle-Aged Adult",
          "Middle-Aged Adult",
          "old",
          "old",
          "Middle-Aged Adult",
          "old",
          "Middle-Aged Adult",
          "Yound Adults",
          "Middle-Aged Adult",
          "old",
          "Yound Adults",
          "old",
          "Middle-Aged Adult",
          "old",
          "Yound Adults",
          "Yound Adults",
          "old",
          "old",
          "old",
          "Middle-Aged Adult",
          "old",
          "old",
          "old",
          "Middle-Aged Adult",
          "Middle-Aged Adult",
          "old",
          "old",
          "old",
          "Yound Adults",
          "old",
          "Yound Adults",
          "Yound Adults",
          "old",
          "Middle-Aged Adult",
          "Middle-Aged Adult",
          "Middle-Aged Adult",
          "Middle-Aged Adult",
          "old",
          "Middle-Aged Adult",
          "Yound Adults",
          "Middle-Aged Adult",
          "old",
          "Middle-Aged Adult",
          "old",
          "old",
          "Yound Adults",
          "Middle-Aged Adult",
          "old",
          "Middle-Aged Adult",
          "old",
          "Middle-Aged Adult",
          "Middle-Aged Adult",
          "Middle-Aged Adult",
          "Yound Adults",
          "old",
          "old",
          "Yound Adults",
          "Middle-Aged Adult",
          "old",
          "Middle-Aged Adult",
          "Middle-Aged Adult",
          "Middle-Aged Adult",
          "old",
          "old",
          "old",
          "old",
          "Yound Adults",
          "Yound Adults",
          "Yound Adults",
          "Yound Adults",
          "old",
          "Middle-Aged Adult",
          "Yound Adults",
          "old",
          "old",
          "Middle-Aged Adult",
          "Middle-Aged Adult",
          "old",
          "Middle-Aged Adult",
          "Middle-Aged Adult",
          "Middle-Aged Adult",
          "old",
          "Yound Adults",
          "Middle-Aged Adult",
          "Middle-Aged Adult",
          "Middle-Aged Adult",
          "Yound Adults",
          "Yound Adults",
          "old",
          "Middle-Aged Adult",
          "old",
          "old",
          "Middle-Aged Adult",
          "Middle-Aged Adult",
          "Middle-Aged Adult",
          "old",
          "old",
          "old",
          "Middle-Aged Adult",
          "Yound Adults",
          "Yound Adults",
          "Middle-Aged Adult",
          "old",
          "old",
          "Middle-Aged Adult",
          "Yound Adults",
          "old",
          "Middle-Aged Adult",
          "old",
          "Yound Adults",
          "old",
          "Yound Adults",
          "old",
          "old",
          "Yound Adults",
          "old",
          "old",
          "Middle-Aged Adult",
          "Yound Adults",
          "Middle-Aged Adult",
          "Middle-Aged Adult",
          "Yound Adults",
          "Yound Adults",
          "Middle-Aged Adult",
          "old",
          "teen",
          "old",
          "Middle-Aged Adult",
          "Middle-Aged Adult",
          "Yound Adults",
          "old",
          "old",
          "old",
          "Middle-Aged Adult",
          "Middle-Aged Adult",
          "Yound Adults",
          "Middle-Aged Adult",
          "Yound Adults",
          "old",
          "Middle-Aged Adult",
          "old",
          "old",
          "Middle-Aged Adult",
          "Yound Adults",
          "Middle-Aged Adult",
          "Middle-Aged Adult",
          "Middle-Aged Adult",
          "Middle-Aged Adult",
          "Middle-Aged Adult",
          "old",
          "Yound Adults",
          "old",
          "old",
          "Middle-Aged Adult",
          "Middle-Aged Adult",
          "Yound Adults",
          "Yound Adults",
          "Yound Adults",
          "Middle-Aged Adult",
          "old",
          "old",
          "Yound Adults",
          "old",
          "Yound Adults",
          "Yound Adults",
          "Yound Adults",
          "Yound Adults",
          "Middle-Aged Adult",
          "Middle-Aged Adult",
          "Middle-Aged Adult",
          "old",
          "Middle-Aged Adult",
          "Middle-Aged Adult",
          "Middle-Aged Adult",
          "Middle-Aged Adult",
          "Middle-Aged Adult",
          "old",
          "Middle-Aged Adult",
          "Yound Adults",
          "Middle-Aged Adult",
          "Middle-Aged Adult",
          "old",
          "Middle-Aged Adult",
          "Middle-Aged Adult",
          "Middle-Aged Adult",
          "Middle-Aged Adult",
          "Yound Adults",
          "Middle-Aged Adult",
          "Yound Adults",
          "Middle-Aged Adult",
          "old",
          "old",
          "Yound Adults",
          "old",
          "Yound Adults",
          "Middle-Aged Adult",
          "Middle-Aged Adult",
          "old",
          "Middle-Aged Adult",
          "old",
          "Middle-Aged Adult",
          "Yound Adults",
          "Middle-Aged Adult",
          "old",
          "Middle-Aged Adult",
          "old",
          "Middle-Aged Adult",
          "Middle-Aged Adult",
          "Middle-Aged Adult",
          "Middle-Aged Adult",
          "old",
          "old",
          "Middle-Aged Adult",
          "Middle-Aged Adult",
          "Yound Adults",
          "Yound Adults",
          "old",
          "Middle-Aged Adult",
          "Middle-Aged Adult",
          "Middle-Aged Adult",
          "Yound Adults",
          "Yound Adults",
          "old",
          "Yound Adults",
          "old",
          "Middle-Aged Adult",
          "Middle-Aged Adult",
          "Yound Adults",
          "Middle-Aged Adult",
          "Yound Adults",
          "old",
          "Middle-Aged Adult",
          "Yound Adults",
          "Middle-Aged Adult",
          "Yound Adults",
          "old",
          "old",
          "Yound Adults",
          "Yound Adults",
          "old",
          "Yound Adults",
          "Middle-Aged Adult",
          "Middle-Aged Adult",
          "Middle-Aged Adult",
          "Middle-Aged Adult",
          "Middle-Aged Adult",
          "Middle-Aged Adult",
          "Yound Adults",
          "old",
          "Middle-Aged Adult",
          "Middle-Aged Adult",
          "old",
          "Middle-Aged Adult",
          "old",
          "old",
          "Yound Adults",
          "Yound Adults",
          "Middle-Aged Adult",
          "Middle-Aged Adult",
          "old",
          "Yound Adults",
          "Middle-Aged Adult",
          "old",
          "Middle-Aged Adult",
          "old",
          "old",
          "teen",
          "Middle-Aged Adult",
          "Yound Adults",
          "Middle-Aged Adult",
          "Yound Adults",
          "Middle-Aged Adult",
          "old",
          "Middle-Aged Adult",
          "Middle-Aged Adult",
          "old",
          "old",
          "old",
          "Middle-Aged Adult",
          "old",
          "Middle-Aged Adult",
          "Yound Adults",
          "Middle-Aged Adult",
          "Yound Adults",
          "Middle-Aged Adult",
          "teen",
          "Middle-Aged Adult",
          "Middle-Aged Adult",
          "Yound Adults",
          "Middle-Aged Adult",
          "Middle-Aged Adult",
          "old",
          "Middle-Aged Adult",
          "Middle-Aged Adult",
          "old",
          "old",
          "Middle-Aged Adult",
          "Middle-Aged Adult",
          "Yound Adults",
          "old",
          "old",
          "Yound Adults",
          "Middle-Aged Adult",
          "Middle-Aged Adult",
          "old",
          "Yound Adults",
          "old",
          "Middle-Aged Adult",
          "old",
          "Yound Adults",
          "Middle-Aged Adult",
          "Middle-Aged Adult",
          "old",
          "Yound Adults",
          "Middle-Aged Adult",
          "Middle-Aged Adult",
          "Middle-Aged Adult",
          "Yound Adults",
          "Middle-Aged Adult",
          "old",
          "Middle-Aged Adult",
          "Middle-Aged Adult",
          "old",
          "Middle-Aged Adult",
          "teen",
          "Middle-Aged Adult",
          "old",
          "Middle-Aged Adult",
          "Middle-Aged Adult",
          "old",
          "Middle-Aged Adult",
          "Yound Adults",
          "Yound Adults",
          "Yound Adults",
          "Middle-Aged Adult",
          "Yound Adults",
          "Middle-Aged Adult",
          "Middle-Aged Adult",
          "Middle-Aged Adult",
          "old",
          "Yound Adults",
          "Middle-Aged Adult",
          "old",
          "Middle-Aged Adult",
          "Yound Adults",
          "Yound Adults",
          "Middle-Aged Adult",
          "old",
          "old",
          "old",
          "old",
          "Middle-Aged Adult",
          "old",
          "old",
          "old",
          "old",
          "old",
          "Yound Adults",
          "Yound Adults",
          "old",
          "old",
          "old",
          "old",
          "Middle-Aged Adult",
          "old",
          "old",
          "old",
          "Middle-Aged Adult",
          "old",
          "old",
          "Yound Adults",
          "old",
          "Middle-Aged Adult",
          "Yound Adults",
          "old",
          "old",
          "old",
          "teen",
          "teen",
          "old",
          "Middle-Aged Adult",
          "Middle-Aged Adult",
          "old",
          "Middle-Aged Adult",
          "Yound Adults",
          "Middle-Aged Adult",
          "Yound Adults",
          "Middle-Aged Adult",
          "Yound Adults",
          "old",
          "Yound Adults",
          "Middle-Aged Adult",
          "Yound Adults",
          "old",
          "Yound Adults",
          "old",
          "Middle-Aged Adult",
          "Middle-Aged Adult",
          "old",
          "Yound Adults",
          "Yound Adults",
          "old",
          "Middle-Aged Adult",
          "Middle-Aged Adult",
          "Middle-Aged Adult",
          "Middle-Aged Adult",
          "Yound Adults",
          "Middle-Aged Adult",
          "Yound Adults",
          "Middle-Aged Adult",
          "old",
          "old",
          "Yound Adults",
          "Yound Adults",
          "Yound Adults",
          "Yound Adults",
          "Yound Adults",
          "Middle-Aged Adult",
          "old",
          "Middle-Aged Adult",
          "old",
          "Middle-Aged Adult",
          "old",
          "old",
          "Middle-Aged Adult",
          "Middle-Aged Adult",
          "Yound Adults",
          "Yound Adults",
          "teen",
          "old",
          "Middle-Aged Adult",
          "old",
          "Middle-Aged Adult",
          "Middle-Aged Adult",
          "Middle-Aged Adult",
          "Middle-Aged Adult",
          "Yound Adults",
          "Middle-Aged Adult",
          "old",
          "Middle-Aged Adult",
          "Middle-Aged Adult",
          "Middle-Aged Adult",
          "Yound Adults",
          "Middle-Aged Adult",
          "old",
          "Middle-Aged Adult",
          "old",
          "old",
          "old",
          "Middle-Aged Adult",
          "Yound Adults",
          "Middle-Aged Adult",
          "old",
          "old",
          "Middle-Aged Adult",
          "Middle-Aged Adult",
          "Middle-Aged Adult",
          "Yound Adults",
          "Middle-Aged Adult",
          "old",
          "Middle-Aged Adult",
          "old",
          "Middle-Aged Adult",
          "Middle-Aged Adult",
          "old",
          "Middle-Aged Adult",
          "Middle-Aged Adult",
          "old",
          "old",
          "Yound Adults",
          "Yound Adults",
          "old",
          "Yound Adults",
          "Yound Adults",
          "Middle-Aged Adult",
          "old",
          "Yound Adults",
          "Yound Adults",
          "Yound Adults",
          "old",
          "old",
          "old",
          "old",
          "Yound Adults",
          "old",
          "old",
          "old",
          "Yound Adults",
          "Middle-Aged Adult",
          "old",
          "old",
          "Middle-Aged Adult",
          "Middle-Aged Adult",
          "old",
          "Yound Adults",
          "Middle-Aged Adult",
          "old",
          "old",
          "Yound Adults",
          "Yound Adults",
          "Middle-Aged Adult",
          "Yound Adults",
          "Yound Adults",
          "Middle-Aged Adult",
          "old",
          "Middle-Aged Adult",
          "old",
          "Middle-Aged Adult",
          "Yound Adults",
          "old",
          "old",
          "old",
          "Middle-Aged Adult",
          "Middle-Aged Adult",
          "old",
          "old",
          "Yound Adults",
          "old",
          "Yound Adults",
          "Middle-Aged Adult",
          "old",
          "Yound Adults",
          "old",
          "Yound Adults",
          "Yound Adults",
          "Middle-Aged Adult",
          "Middle-Aged Adult",
          "Middle-Aged Adult",
          "old",
          "old",
          "old",
          "Middle-Aged Adult",
          "teen",
          "old",
          "old",
          "Middle-Aged Adult",
          "Middle-Aged Adult",
          "Yound Adults",
          "Yound Adults",
          "old",
          "Yound Adults",
          "Yound Adults",
          "Yound Adults",
          "teen",
          "Middle-Aged Adult",
          "Middle-Aged Adult",
          "old",
          "Yound Adults",
          "Middle-Aged Adult",
          "old",
          "Middle-Aged Adult",
          "Yound Adults",
          "Middle-Aged Adult",
          "Middle-Aged Adult",
          "Middle-Aged Adult",
          "Yound Adults",
          "Middle-Aged Adult",
          "Middle-Aged Adult",
          "Middle-Aged Adult",
          "old",
          "old",
          "old",
          "Yound Adults",
          "old",
          "old",
          "Yound Adults",
          "Middle-Aged Adult",
          "Yound Adults",
          "Middle-Aged Adult",
          "Middle-Aged Adult",
          "Yound Adults",
          "Middle-Aged Adult",
          "Middle-Aged Adult",
          "old",
          "old",
          "old",
          "old",
          "Middle-Aged Adult",
          "old",
          "old",
          "old",
          "Yound Adults",
          "Middle-Aged Adult",
          "Yound Adults",
          "old",
          "old",
          "Middle-Aged Adult",
          "old",
          "Yound Adults",
          "Yound Adults",
          "Middle-Aged Adult",
          "Yound Adults",
          "old",
          "Middle-Aged Adult",
          "Yound Adults",
          "Middle-Aged Adult",
          "Yound Adults",
          "old",
          "old",
          "old",
          "Middle-Aged Adult",
          "Middle-Aged Adult",
          "old",
          "old",
          "Middle-Aged Adult",
          "Middle-Aged Adult",
          "Middle-Aged Adult",
          "old",
          "Yound Adults",
          "Middle-Aged Adult",
          "Middle-Aged Adult",
          "old",
          "Middle-Aged Adult",
          "Middle-Aged Adult",
          "Middle-Aged Adult",
          "old",
          "old",
          "old",
          "Yound Adults",
          "Yound Adults",
          "old",
          "Middle-Aged Adult",
          "Middle-Aged Adult",
          "Middle-Aged Adult",
          "teen",
          "Middle-Aged Adult",
          "Middle-Aged Adult",
          "old",
          "Middle-Aged Adult",
          "Middle-Aged Adult",
          "Middle-Aged Adult",
          "old",
          "Middle-Aged Adult",
          "Middle-Aged Adult",
          "Yound Adults",
          "old",
          "old",
          "Middle-Aged Adult",
          "Middle-Aged Adult",
          "Yound Adults",
          "old",
          "Middle-Aged Adult",
          "old",
          "Middle-Aged Adult",
          "Middle-Aged Adult",
          "old",
          "Middle-Aged Adult",
          "old",
          "Yound Adults",
          "Middle-Aged Adult",
          "old",
          "Middle-Aged Adult",
          "Middle-Aged Adult",
          "old",
          "old",
          "Middle-Aged Adult",
          "Middle-Aged Adult",
          "old",
          "Yound Adults",
          "old",
          "Middle-Aged Adult",
          "old",
          "Yound Adults",
          "old",
          "old",
          "old",
          "Yound Adults",
          "Middle-Aged Adult",
          "Yound Adults",
          "Middle-Aged Adult",
          "old",
          "old",
          "old",
          "Middle-Aged Adult",
          "Middle-Aged Adult",
          "Middle-Aged Adult",
          "Yound Adults",
          "old",
          "old",
          "old",
          "old",
          "Middle-Aged Adult",
          "old",
          "Yound Adults",
          "old",
          "Middle-Aged Adult",
          "teen",
          "Yound Adults",
          "old",
          "old",
          "Middle-Aged Adult",
          "Middle-Aged Adult",
          "old",
          "old",
          "old",
          "Yound Adults",
          "old",
          "Yound Adults",
          "Middle-Aged Adult",
          "old",
          "Middle-Aged Adult",
          "Middle-Aged Adult",
          "Middle-Aged Adult",
          "Middle-Aged Adult",
          "Middle-Aged Adult",
          "Middle-Aged Adult",
          "Middle-Aged Adult",
          "old",
          "Middle-Aged Adult",
          "Middle-Aged Adult",
          "Middle-Aged Adult",
          "Yound Adults",
          "old",
          "Middle-Aged Adult",
          "old",
          "Middle-Aged Adult",
          "Middle-Aged Adult",
          "old"
         ],
         "xaxis": "x",
         "y": [
          55,
          19,
          50,
          21,
          45,
          46,
          63,
          27,
          26,
          57,
          53,
          30,
          61,
          65,
          64,
          64,
          25,
          53,
          52,
          66,
          21,
          31,
          56,
          31,
          18,
          18,
          38,
          56,
          54,
          31,
          57,
          33,
          36,
          54,
          36,
          54,
          35,
          35,
          29,
          70,
          69,
          67,
          20,
          25,
          39,
          50,
          57,
          55,
          42,
          68,
          49,
          59,
          42,
          29,
          47,
          40,
          41,
          21,
          69,
          63,
          50,
          55,
          30,
          33,
          65,
          65,
          31,
          45,
          57,
          48,
          22,
          36,
          18,
          48,
          49,
          64,
          50,
          22,
          50,
          38,
          19,
          67,
          19,
          36,
          52,
          53,
          24,
          52,
          33,
          47,
          25,
          44,
          61,
          37,
          58,
          37,
          32,
          21,
          20,
          26,
          62,
          27,
          51,
          54,
          55,
          69,
          64,
          28,
          70,
          58,
          56,
          26,
          37,
          44,
          70,
          53,
          55,
          50,
          50,
          38,
          64,
          19,
          40,
          57,
          44,
          49,
          43,
          24,
          20,
          24,
          44,
          28,
          30,
          52,
          43,
          43,
          39,
          68,
          68,
          49,
          63,
          56,
          37,
          30,
          19,
          24,
          52,
          63,
          37,
          38,
          35,
          28,
          30,
          69,
          41,
          63,
          35,
          36,
          25,
          58,
          27,
          65,
          54,
          54,
          59,
          42,
          46,
          33,
          34,
          27,
          52,
          29,
          54,
          25,
          41,
          53,
          53,
          21,
          61,
          64,
          51,
          32,
          38,
          58,
          32,
          46,
          39,
          19,
          50,
          36,
          65,
          64,
          46,
          36,
          51,
          51,
          38,
          59,
          57,
          54,
          25,
          69,
          57,
          70,
          24,
          67,
          24,
          62,
          57,
          55,
          45,
          69,
          67,
          30,
          24,
          62,
          43,
          35,
          28,
          32,
          39,
          28,
          47,
          20,
          63,
          25,
          29,
          50,
          18,
          70,
          66,
          28,
          54,
          19,
          20,
          43,
          38,
          50,
          64,
          49,
          47,
          36,
          55,
          25,
          53,
          49,
          35,
          29,
          47,
          53,
          33,
          21,
          32,
          52,
          67,
          43,
          58,
          20,
          61,
          32,
          38,
          21,
          37,
          27,
          36,
          32,
          51,
          64,
          68,
          68,
          33,
          65,
          48,
          69,
          59,
          48,
          25,
          29,
          57,
          23,
          45,
          38,
          21,
          32,
          63,
          29,
          27,
          56,
          30,
          49,
          58,
          57,
          60,
          69,
          70,
          53,
          25,
          48,
          69,
          25,
          29,
          46,
          37,
          20,
          40,
          60,
          26,
          29,
          66,
          66,
          56,
          69,
          38,
          42,
          30,
          66,
          36,
          58,
          45,
          47,
          66,
          41,
          41,
          66,
          37,
          70,
          62,
          61,
          48,
          70,
          46,
          31,
          19,
          39,
          41,
          20,
          36,
          32,
          69,
          40,
          40,
          20,
          64,
          27,
          24,
          48,
          49,
          36,
          56,
          37,
          42,
          28,
          27,
          63,
          58,
          37,
          56,
          18,
          48,
          31,
          51,
          65,
          53,
          55,
          62,
          55,
          64,
          52,
          24,
          38,
          59,
          27,
          24,
          23,
          69,
          59,
          51,
          63,
          54,
          32,
          39,
          66,
          28,
          50,
          70,
          67,
          64,
          45,
          22,
          27,
          25,
          37,
          26,
          33,
          43,
          37,
          46,
          22,
          20,
          60,
          39,
          43,
          31,
          19,
          35,
          41,
          52,
          45,
          34,
          35,
          29,
          59,
          24,
          70,
          29,
          67,
          36,
          23,
          18,
          53,
          32,
          38,
          47,
          46,
          66,
          40,
          43,
          58,
          21,
          42,
          24,
          43,
          47,
          49,
          50,
          51,
          40,
          45,
          52,
          62,
          20,
          43,
          29,
          22,
          48,
          42,
          19,
          60,
          32,
          26,
          25,
          66,
          45,
          54,
          37,
          54,
          50,
          25,
          47,
          63,
          64,
          18,
          59,
          37,
          23,
          54,
          38,
          19,
          34,
          21,
          50,
          55,
          20,
          34,
          62,
          21,
          21,
          42,
          35,
          39,
          68,
          46,
          41,
          23,
          68,
          48,
          38,
          41,
          58,
          49,
          57,
          49,
          50,
          28,
          38,
          33,
          30,
          43,
          43,
          36,
          36,
          64,
          59,
          55,
          42,
          61,
          28,
          65,
          27,
          41,
          21,
          61,
          19,
          22,
          64,
          28,
          34,
          61,
          24,
          19,
          51,
          36,
          65,
          46,
          59,
          51,
          51,
          21,
          34,
          32,
          48,
          50,
          26,
          57,
          65,
          56,
          44,
          50,
          27,
          49,
          49,
          52,
          27,
          53,
          34,
          33,
          62,
          38,
          36,
          31,
          62,
          29,
          24,
          63,
          56,
          63,
          40,
          18,
          50,
          66,
          25,
          65,
          53,
          61,
          67,
          59,
          55,
          21,
          44,
          65,
          65,
          54,
          56,
          58,
          54,
          58,
          48,
          19,
          69,
          58,
          49,
          32,
          40,
          25,
          70,
          69,
          45,
          29,
          47,
          28,
          64,
          47,
          60,
          67,
          35,
          30,
          23,
          70,
          21,
          51,
          22,
          32,
          37,
          31,
          44,
          40,
          27,
          47,
          41,
          51,
          53,
          43,
          67,
          61,
          68,
          67,
          29,
          50,
          61,
          19,
          33,
          51,
          69,
          19,
          55,
          49,
          31,
          42,
          69,
          26,
          41,
          55,
          35,
          66,
          36,
          27,
          41,
          21,
          53,
          54,
          53,
          47,
          64,
          18,
          68,
          62,
          51,
          54,
          22,
          53,
          34,
          32,
          64,
          20,
          24,
          20,
          42,
          48,
          62,
          62,
          50,
          57,
          24,
          59,
          63,
          41,
          35,
          34,
          49,
          43,
          63,
          38,
          59,
          35,
          48,
          64,
          28,
          60,
          27,
          56,
          58,
          30,
          23,
          33,
          63,
          70,
          70,
          19,
          25,
          19,
          25,
          60,
          35,
          46,
          41,
          30,
          44,
          61,
          55,
          50,
          57,
          51,
          18,
          63,
          34,
          25,
          46,
          59,
          37,
          49,
          22,
          64,
          42,
          37,
          26,
          33,
          30,
          21,
          22,
          63,
          33,
          43,
          27,
          35,
          37,
          61,
          32,
          62,
          29,
          41,
          48,
          43,
          34,
          45,
          65,
          61,
          18,
          47,
          56,
          64,
          26,
          22,
          64,
          21,
          67,
          46,
          40,
          51,
          35,
          56,
          25,
          65,
          39,
          47,
          36,
          66,
          62,
          41,
          66,
          51,
          33,
          57,
          45,
          61,
          55,
          54,
          57,
          27,
          64,
          52,
          19,
          22,
          18,
          29,
          42,
          49,
          49,
          55,
          29,
          60,
          34,
          30,
          28,
          63,
          31,
          46,
          70,
          53,
          50,
          33,
          22,
          50,
          34,
          24,
          69,
          39,
          42,
          42,
          29,
          55,
          32,
          25,
          38,
          32,
          43,
          41,
          56,
          27,
          46,
          48,
          52,
          18,
          64,
          54,
          31,
          30,
          26,
          25,
          59,
          55,
          56,
          62,
          35,
          51,
          61,
          27,
          54,
          31,
          24,
          42,
          41,
          66,
          58,
          43,
          52,
          35,
          23,
          25,
          33,
          48,
          42,
          55,
          59,
          65,
          59,
          31,
          49,
          53,
          48,
          23,
          68,
          35,
          34,
          62,
          21,
          70,
          55,
          43,
          19,
          47,
          26,
          46,
          19,
          49,
          51,
          64,
          67,
          37,
          40,
          38,
          66,
          47,
          56,
          51,
          25,
          37,
          41,
          64,
          23,
          62,
          39,
          52,
          50,
          28,
          67,
          41,
          19,
          70,
          49,
          59,
          52,
          20,
          31,
          33,
          44,
          40,
          69,
          29,
          54,
          65,
          54,
          60,
          43,
          44,
          69,
          46,
          41,
          32,
          26,
          61,
          49,
          53,
          24,
          37,
          43,
          31,
          49,
          69,
          65,
          41,
          37,
          70,
          63,
          55,
          52,
          22,
          54,
          28,
          67,
          59,
          26,
          24,
          62,
          70,
          45,
          58,
          31,
          32,
          36,
          25,
          48,
          39,
          26,
          32,
          54,
          38,
          46,
          57,
          49,
          33,
          54,
          47,
          36,
          68,
          60,
          55,
          29,
          38,
          70,
          36,
          18,
          62,
          29,
          21,
          42,
          43,
          58,
          27,
          57,
          40,
          45,
          47,
          61,
          60,
          69,
          58,
          34,
          20,
          56,
          64,
          56,
          27,
          35,
          24,
          26,
          32,
          54,
          62,
          50,
          70,
          48,
          20,
          46,
          51,
          53,
          44,
          29,
          64,
          51,
          50,
          43,
          61,
          55,
          56,
          33,
          43,
          21,
          58,
          41,
          39,
          54,
          43,
          28,
          59,
          28,
          68,
          20,
          21,
          50,
          32,
          24,
          55,
          61,
          61,
          28,
          60,
          49,
          33,
          45,
          29,
          58,
          22,
          55,
          19,
          68,
          61,
          68,
          52,
          41,
          29,
          68,
          36,
          55,
          28,
          39,
          54,
          40,
          31,
          30,
          45,
          48,
          45,
          60,
          59,
          18,
          70,
          20,
          65,
          29,
          22,
          27,
          36,
          59,
          62,
          34,
          59,
          49,
          18,
          55,
          38,
          50,
          61,
          48,
          22,
          48,
          57,
          33,
          58,
          37,
          18,
          65,
          62,
          54,
          35,
          34,
          25,
          53,
          45,
          49,
          40,
          38,
          44,
          68,
          60,
          25,
          19,
          57,
          58,
          49,
          19,
          50,
          30,
          52,
          35,
          35,
          33,
          52,
          69,
          27,
          66,
          28,
          22,
          69,
          28,
          55,
          30,
          67,
          25,
          49,
          34,
          22,
          63,
          70,
          36,
          42,
          27,
          23,
          50,
          56,
          37,
          67,
          67,
          50,
          36,
          62,
          65,
          23,
          46,
          18,
          58,
          31,
          39,
          69,
          68,
          41,
          31,
          48,
          59,
          34,
          21,
          29,
          41,
          62,
          27,
          49,
          67,
          20,
          37,
          69,
          66,
          37,
          63,
          47,
          26,
          68,
          51,
          48,
          60,
          68,
          25,
          57,
          41,
          59,
          44,
          42,
          35,
          36,
          54,
          37,
          20,
          23,
          61,
          37,
          23,
          63,
          47,
          63,
          56,
          68,
          64,
          62,
          34,
          49,
          40,
          50,
          25,
          30,
          54,
          40,
          49,
          27,
          27,
          48,
          40,
          67,
          52,
          22,
          62,
          20,
          41,
          34,
          23,
          32,
          68,
          30,
          66,
          62,
          50,
          55,
          19,
          67,
          18,
          58,
          69,
          62,
          28,
          53,
          27,
          55,
          34,
          25,
          66,
          57,
          46,
          38,
          23,
          42,
          25,
          55,
          62,
          41,
          58,
          56,
          25,
          70,
          42,
          27,
          65,
          62,
          62,
          52,
          56,
          28,
          39,
          54,
          30,
          45,
          68,
          47,
          68,
          63,
          20,
          29,
          41,
          52,
          32,
          20,
          47,
          23,
          43,
          67,
          70,
          35,
          41,
          54,
          55,
          51,
          19,
          28,
          63,
          30,
          29,
          24,
          69,
          65,
          64,
          40,
          24,
          66,
          35,
          67,
          69,
          26,
          23,
          27,
          30,
          48,
          44,
          29,
          29,
          67,
          42,
          23,
          34,
          64,
          31,
          54,
          23,
          59,
          32,
          43,
          32,
          66,
          70,
          42,
          56,
          28,
          28,
          52,
          65,
          56,
          59,
          23,
          58,
          39,
          28,
          40,
          52,
          37,
          70,
          30,
          38,
          66,
          29,
          46,
          56,
          23,
          37,
          56,
          36,
          40,
          26,
          57,
          68,
          56,
          40,
          44,
          44,
          19,
          21,
          31,
          30,
          65,
          39,
          64,
          59,
          49,
          24,
          19,
          27,
          56,
          49,
          41,
          36,
          68,
          28,
          45,
          60,
          21,
          32,
          27,
          40,
          64,
          18,
          22,
          42,
          57,
          33,
          37,
          21,
          51,
          30,
          68,
          36,
          46,
          41,
          68,
          21,
          62,
          59,
          25,
          53,
          31,
          46,
          26,
          47,
          37,
          55,
          30,
          19,
          36,
          23,
          62,
          26,
          36,
          33,
          32,
          56,
          58,
          34,
          61,
          48,
          25,
          51,
          29,
          54,
          48,
          62,
          18,
          43,
          22,
          68,
          44,
          51,
          66,
          59,
          60,
          31,
          20,
          24,
          48,
          39,
          34,
          70,
          59,
          45,
          35,
          69,
          58,
          25,
          27,
          34,
          53,
          58,
          32,
          64,
          63,
          23,
          64,
          18,
          25,
          54,
          60,
          36,
          66,
          60,
          59,
          58,
          35,
          20,
          70,
          54,
          38,
          54,
          33,
          46,
          58,
          30,
          42,
          28,
          43,
          31,
          39,
          69,
          31,
          44,
          39,
          24,
          28,
          48,
          39,
          64,
          28,
          39,
          49,
          22,
          25,
          40,
          23,
          24,
          66,
          27,
          62,
          70,
          43,
          45,
          63,
          69,
          59,
          19,
          63,
          37,
          37,
          50,
          60,
          46,
          35,
          66,
          35,
          20,
          55,
          34,
          60,
          22,
          26,
          39,
          20,
          57,
          68,
          50,
          21,
          29,
          38,
          54,
          22,
          29,
          41,
          26,
          69,
          20,
          59,
          63,
          68,
          50,
          55,
          36,
          18,
          68,
          56,
          32,
          28,
          24,
          59,
          56,
          30,
          48,
          60,
          46,
          69,
          19,
          66,
          64,
          54,
          27,
          64,
          43,
          43,
          27,
          35,
          43,
          57,
          50,
          37,
          68,
          22,
          58,
          48,
          30,
          51,
          20,
          30,
          28,
          37,
          36,
          18,
          52,
          56,
          68,
          62,
          35,
          65,
          69,
          28,
          37,
          41,
          37,
          25,
          41,
          48,
          42,
          54,
          18,
          56,
          61,
          40,
          34,
          42,
          43,
          47,
          48,
          20,
          65,
          54,
          23,
          18,
          70,
          55,
          49,
          26,
          33,
          20,
          41,
          18,
          26,
          30,
          64,
          26,
          43,
          63,
          57,
          25,
          68,
          31,
          64,
          38,
          34,
          32,
          69,
          45,
          35,
          63,
          65,
          35,
          54,
          28,
          68,
          58,
          35,
          68,
          41,
          65,
          50,
          18,
          38,
          68,
          53,
          58,
          34,
          36,
          58,
          60,
          59,
          65,
          31,
          43,
          37,
          21,
          69,
          32,
          53,
          59,
          64,
          63,
          43,
          19,
          40,
          51,
          51,
          66,
          42,
          22,
          31,
          18,
          21,
          35,
          35,
          27,
          65,
          41,
          60,
          61,
          24,
          65,
          23,
          30,
          33,
          22,
          67,
          28,
          32,
          40,
          64,
          56,
          63,
          20,
          54,
          31,
          36,
          25,
          20,
          62,
          69,
          54,
          39,
          56,
          39,
          37,
          25,
          35,
          45,
          19,
          21,
          65,
          49,
          30,
          23,
          69,
          29,
          54,
          45,
          25,
          34,
          46,
          70,
          42,
          45,
          57,
          49,
          23,
          47,
          23,
          21,
          45,
          67,
          31,
          58,
          57,
          42,
          60,
          21,
          69,
          41,
          51,
          23,
          57,
          40,
          65,
          61,
          34,
          43,
          31,
          57,
          34,
          25,
          66,
          56,
          49,
          19,
          27,
          68,
          20,
          21,
          36,
          37,
          61,
          68,
          60,
          69,
          25,
          32,
          53,
          46,
          58,
          21,
          46,
          18,
          56,
          18,
          49,
          29,
          67,
          31,
          52,
          42,
          32,
          47,
          45,
          20,
          66,
          52,
          50,
          62,
          38,
          65,
          60,
          68,
          62,
          62,
          40,
          32,
          22,
          33,
          57,
          60,
          30,
          41,
          58,
          34,
          67,
          58,
          41,
          42,
          50,
          40,
          32,
          51,
          26,
          32,
          58,
          51,
          19,
          57,
          66,
          62,
          58,
          23,
          45,
          20,
          33,
          30,
          50,
          62,
          69,
          34,
          49,
          65,
          66,
          41,
          37,
          32,
          42,
          31,
          61,
          36,
          60,
          51,
          68,
          46,
          19,
          30,
          51,
          28,
          41,
          29,
          25,
          60,
          63,
          51,
          22,
          54,
          18,
          29,
          59,
          25,
          19,
          56,
          31,
          45,
          23,
          18,
          43,
          56,
          43,
          64,
          67,
          63,
          54,
          69,
          34,
          56,
          34,
          58,
          44,
          25,
          27,
          26,
          18,
          64,
          62,
          59,
          36,
          69,
          39,
          28,
          42,
          31,
          57,
          53,
          59,
          32,
          65,
          56,
          31,
          59,
          22,
          47,
          23,
          69,
          18,
          50,
          29,
          65,
          29,
          49,
          28,
          51,
          26,
          38,
          35,
          34,
          51,
          47,
          18,
          64,
          30,
          59,
          66,
          40,
          25,
          59,
          66,
          54,
          42,
          48,
          34,
          19,
          70,
          43,
          46,
          66,
          50,
          55,
          63,
          32,
          30,
          35,
          59,
          59,
          54,
          63,
          43,
          33,
          57,
          25,
          26,
          50,
          70,
          68,
          39,
          46,
          57,
          47,
          40,
          52,
          40,
          67,
          67,
          37,
          67,
          64,
          28,
          54,
          54,
          24,
          27,
          53,
          32,
          24,
          45,
          49,
          51,
          69,
          41,
          59,
          26,
          23,
          62,
          69,
          46,
          35,
          32,
          46,
          33,
          32,
          33,
          67,
          67,
          42,
          20,
          39,
          26,
          51,
          31,
          68,
          44,
          18,
          58,
          26,
          57,
          37,
          24,
          57,
          48,
          39,
          51,
          57,
          53,
          70,
          60,
          31,
          41,
          62,
          59,
          46,
          62,
          42,
          37,
          50,
          29,
          25,
          66,
          21,
          46,
          57,
          61,
          53,
          37,
          39,
          53,
          35,
          69,
          66,
          19,
          47,
          49,
          31,
          39,
          58,
          45,
          68,
          35,
          65,
          45,
          19,
          65,
          28,
          55,
          66,
          29,
          56,
          21,
          32,
          54,
          61,
          31,
          27,
          64,
          60,
          70,
          36,
          56,
          69,
          39,
          38,
          36,
          46,
          59,
          64,
          49,
          32,
          29,
          24,
          41,
          41,
          32,
          69,
          65,
          54,
          39,
          37,
          51,
          26,
          42,
          21,
          53,
          36,
          21,
          33,
          49,
          31,
          68,
          49,
          23,
          30,
          53,
          65,
          60,
          46,
          54,
          59,
          52,
          41,
          43,
          63,
          37,
          44,
          67,
          27,
          60,
          58,
          53,
          43,
          32,
          54,
          47,
          57,
          63,
          70,
          62,
          40,
          25,
          19,
          25,
          21,
          55,
          34,
          47,
          27,
          67,
          40,
          53,
          24,
          47,
          53,
          47,
          38,
          48,
          47,
          19,
          38,
          57,
          70,
          38,
          35,
          46,
          32,
          38,
          41,
          19,
          18,
          45,
          23,
          60,
          52,
          42,
          29,
          31,
          30,
          23,
          31,
          40,
          39,
          28,
          23,
          42,
          68,
          24,
          24,
          21,
          49,
          41,
          22,
          42,
          30,
          38,
          40,
          55,
          37,
          41,
          38,
          42,
          26,
          41,
          27,
          61,
          58,
          25,
          33,
          57,
          39,
          60,
          39,
          42,
          53,
          20,
          46,
          46,
          69,
          28,
          42,
          30,
          50,
          59,
          54,
          50,
          25,
          41,
          35,
          67,
          33,
          19,
          25,
          32,
          30,
          18,
          38,
          22,
          40,
          54,
          70,
          52,
          34,
          65,
          38,
          35,
          40,
          23,
          45,
          40,
          42,
          57,
          18,
          18,
          56,
          35,
          49,
          49,
          34,
          63,
          42,
          41,
          26,
          48,
          62,
          24,
          48,
          31,
          41,
          24,
          60,
          38,
          58,
          53,
          44,
          51,
          36,
          20,
          32,
          66,
          49,
          27,
          29,
          29,
          55,
          57,
          29,
          31,
          25,
          61,
          53,
          22,
          28,
          18,
          44,
          32,
          34,
          67,
          66,
          28,
          70,
          37,
          28,
          43,
          37,
          54,
          50,
          46,
          60,
          40,
          64,
          18,
          37,
          36,
          51,
          26,
          68,
          27,
          28,
          49,
          70,
          30,
          27,
          19,
          64,
          42,
          69,
          28,
          47,
          69,
          56,
          28,
          50,
          39,
          35,
          59,
          44,
          66,
          20,
          45,
          49,
          60,
          61,
          36,
          33,
          49,
          31,
          19,
          39,
          66,
          25,
          63,
          56,
          20,
          58,
          34,
          28,
          22,
          37,
          54,
          65,
          57,
          38,
          70,
          56,
          56,
          22,
          57,
          53,
          53,
          19,
          49,
          44,
          27,
          60,
          62,
          52,
          30,
          66,
          29,
          24,
          51,
          67,
          50,
          37,
          69,
          60,
          21,
          44,
          26,
          40,
          41,
          62,
          39,
          53,
          24,
          41,
          19,
          36,
          21,
          25,
          65,
          42,
          40,
          58,
          40,
          62,
          38,
          37,
          65,
          55,
          43,
          43,
          45,
          64,
          28,
          69,
          54,
          52,
          23,
          26,
          48,
          49,
          53,
          69,
          26,
          21,
          59,
          21,
          22,
          26,
          41,
          37,
          30,
          49,
          49,
          58,
          70,
          27,
          65,
          57,
          20,
          34,
          59,
          54,
          36,
          21,
          52,
          43,
          32,
          55,
          31,
          45,
          53,
          24,
          47,
          63,
          38,
          59,
          54,
          26,
          68,
          41,
          68,
          21,
          32,
          20,
          59,
          53,
          66,
          47,
          58,
          28,
          68,
          60,
          47,
          18,
          32,
          27,
          65,
          68,
          55,
          30,
          24,
          57,
          23,
          69,
          60,
          25,
          18,
          37,
          61,
          41,
          69,
          32,
          60,
          43,
          61,
          57,
          56,
          66,
          52,
          63,
          50,
          21,
          42,
          40,
          67,
          35,
          18,
          52,
          59,
          49,
          46,
          69,
          56,
          27,
          57,
          58,
          23,
          19,
          40,
          54,
          50,
          69,
          42,
          37,
          46,
          64,
          20,
          40,
          64,
          29,
          20,
          43,
          60,
          39,
          47,
          19,
          52,
          34,
          25,
          43,
          55,
          66,
          41,
          47,
          51,
          44,
          18,
          33,
          24,
          33,
          61,
          27,
          46,
          38,
          63,
          47,
          42,
          41,
          53,
          29,
          61,
          69,
          51,
          24,
          24,
          70,
          49,
          48,
          58,
          32,
          57,
          69,
          42,
          30,
          35,
          19,
          52,
          42,
          36,
          45,
          54,
          54,
          27,
          53,
          20,
          52,
          54,
          65,
          43,
          57,
          19,
          69,
          26,
          57,
          20,
          55,
          44,
          52,
          57,
          40,
          23,
          36,
          59,
          29,
          63,
          60,
          64,
          63,
          21,
          61,
          65,
          69,
          47,
          41,
          68,
          41,
          42,
          66,
          66,
          33,
          55,
          58,
          18,
          49,
          61,
          31,
          70,
          68,
          27,
          48,
          63,
          49,
          19,
          30,
          50,
          66,
          25,
          61,
          29,
          53,
          24,
          51,
          26,
          59,
          41,
          20,
          22,
          18,
          30,
          25,
          39,
          49,
          25,
          23,
          33,
          60,
          51,
          23,
          20,
          51,
          23,
          67,
          23,
          26,
          52,
          52,
          52,
          35,
          24,
          43,
          25,
          46,
          22,
          70,
          49,
          48,
          59,
          39,
          30,
          37,
          56,
          67,
          40,
          24,
          43,
          45,
          33,
          53,
          44,
          23,
          59,
          68,
          46,
          56,
          40,
          61,
          53,
          29,
          44,
          43,
          40,
          55,
          66,
          50,
          57,
          42,
          55,
          25,
          22,
          49,
          70,
          56,
          52,
          65,
          24,
          32,
          57,
          35,
          69,
          30,
          37,
          19,
          53,
          25,
          47,
          18,
          22,
          69,
          55,
          19,
          23,
          54,
          52,
          64,
          33,
          40,
          26,
          31,
          23,
          52,
          21,
          31,
          63,
          46,
          44,
          57,
          50,
          33,
          19,
          68,
          27,
          61,
          38,
          28,
          39,
          18,
          24,
          64,
          51,
          27,
          48,
          69,
          59,
          59,
          42,
          39,
          32,
          68,
          41,
          31,
          58,
          28,
          63,
          64,
          66,
          31,
          55,
          32,
          50,
          58,
          18,
          39,
          56,
          37,
          46,
          52,
          70,
          61,
          33,
          65,
          41,
          19,
          33,
          53,
          54,
          36,
          56,
          28,
          34,
          43,
          54,
          37,
          33,
          33,
          55,
          63,
          52,
          23,
          70,
          64,
          22,
          46,
          65,
          18,
          45,
          56,
          49,
          66,
          27,
          69,
          66,
          45,
          31,
          33,
          43,
          25,
          46,
          67,
          26,
          35,
          61,
          26,
          39,
          69,
          32,
          20,
          25,
          56,
          63,
          34,
          29,
          43,
          39,
          33,
          51,
          65,
          51,
          70,
          40,
          19,
          28,
          51,
          32,
          26,
          50,
          68,
          33,
          56,
          57,
          58,
          40,
          37,
          36,
          29,
          65,
          44,
          34,
          31,
          28,
          66,
          68,
          37,
          58,
          28,
          54,
          21,
          45,
          57,
          47,
          46,
          63,
          44,
          36,
          24,
          65,
          32,
          63,
          62,
          19,
          38,
          59,
          22,
          55,
          29,
          42,
          23,
          70,
          64,
          39,
          47,
          22,
          69,
          35,
          56,
          30,
          43,
          23,
          50,
          41,
          41,
          27,
          38,
          41,
          58,
          58,
          19,
          43,
          27,
          32,
          28,
          48,
          43,
          45,
          26,
          62,
          58,
          19,
          64,
          33,
          20,
          45,
          28,
          47,
          54,
          64,
          45,
          40,
          31,
          38,
          36,
          65,
          27,
          38,
          58,
          31,
          28,
          28,
          32,
          61,
          38,
          54,
          29,
          50,
          32,
          38,
          52,
          61,
          25,
          22,
          47,
          50,
          45,
          33,
          42,
          52,
          69,
          55,
          38,
          57,
          33,
          57,
          52,
          44,
          48,
          52,
          34,
          26,
          36,
          24,
          30,
          31,
          25,
          57,
          61,
          30,
          38,
          53,
          31,
          70,
          21,
          33,
          60,
          45,
          46,
          62,
          63,
          69,
          46,
          69,
          66,
          41,
          32,
          69,
          29,
          70,
          41,
          31,
          31,
          57,
          29,
          70,
          51,
          45,
          18,
          37,
          23,
          39,
          62,
          70,
          20,
          42,
          41,
          24,
          37,
          30,
          58,
          43,
          19,
          23,
          65,
          58,
          50,
          67,
          40,
          55,
          52,
          62,
          64,
          43,
          61,
          26,
          22,
          51,
          69,
          50,
          51,
          56,
          59,
          18,
          48,
          53,
          45,
          21,
          42,
          60,
          21,
          69,
          40,
          31,
          44,
          48,
          32,
          42,
          27,
          69,
          67,
          41,
          46,
          47,
          33,
          51,
          26,
          22,
          49,
          58,
          70,
          32,
          62,
          52,
          23,
          26,
          58,
          26,
          54,
          66,
          60,
          32,
          48,
          69,
          64,
          56,
          22,
          46,
          24,
          47,
          62,
          34,
          50,
          29,
          68,
          52,
          29,
          22,
          62,
          69,
          48,
          66,
          42,
          50,
          32,
          51,
          27,
          43,
          48,
          62,
          65,
          50,
          60,
          19,
          21,
          19,
          46,
          21,
          26,
          50,
          43,
          61,
          63,
          46,
          63,
          23,
          57,
          57,
          33,
          57,
          55,
          65,
          60,
          52,
          34,
          33,
          58,
          35,
          68,
          58,
          34,
          47,
          35,
          34,
          36,
          23,
          68,
          23,
          57,
          21,
          45,
          37,
          18,
          55,
          52,
          49,
          56,
          27,
          22,
          18,
          21,
          30,
          62,
          28,
          66,
          66,
          49,
          40,
          49,
          19,
          24,
          31,
          35,
          65,
          68,
          57,
          69,
          45,
          35,
          36,
          55,
          66,
          57,
          18,
          31,
          50,
          50,
          61,
          52,
          38,
          67,
          42,
          25,
          41,
          62,
          19,
          63,
          43,
          68,
          24,
          27,
          61,
          59,
          67,
          46,
          65,
          63,
          57,
          40,
          36,
          67,
          61,
          64,
          30,
          53,
          27,
          27,
          53,
          34,
          39,
          44,
          37,
          57,
          38,
          21,
          45,
          68,
          37,
          53,
          57,
          28,
          37,
          54,
          49,
          62,
          45,
          45,
          49,
          27,
          63,
          61,
          25,
          33,
          56,
          50,
          45,
          45,
          65,
          63,
          70,
          53,
          22,
          26,
          23,
          25,
          69,
          36,
          21,
          57,
          60,
          44,
          31,
          57,
          39,
          48,
          42,
          56,
          28,
          40,
          49,
          37,
          22,
          27,
          59,
          35,
          58,
          58,
          46,
          43,
          39,
          59,
          59,
          59,
          45,
          27,
          24,
          47,
          70,
          58,
          45,
          24,
          67,
          31,
          52,
          29,
          62,
          19,
          62,
          70,
          20,
          67,
          65,
          45,
          26,
          36,
          36,
          20,
          30,
          34,
          63,
          18,
          55,
          48,
          45,
          29,
          55,
          55,
          55,
          48,
          42,
          21,
          45,
          23,
          66,
          32,
          52,
          54,
          37,
          29,
          47,
          47,
          42,
          34,
          38,
          55,
          27,
          55,
          66,
          44,
          39,
          23,
          29,
          20,
          42,
          55,
          66,
          24,
          62,
          28,
          30,
          22,
          28,
          35,
          45,
          43,
          55,
          31,
          42,
          40,
          39,
          41,
          56,
          43,
          22,
          47,
          50,
          58,
          50,
          43,
          38,
          44,
          30,
          47,
          30,
          49,
          56,
          70,
          22,
          51,
          22,
          37,
          49,
          61,
          41,
          57,
          34,
          27,
          39,
          62,
          34,
          53,
          35,
          38,
          32,
          47,
          53,
          60,
          31,
          44,
          29,
          19,
          54,
          40,
          39,
          44,
          22,
          30,
          69,
          28,
          57,
          46,
          48,
          24,
          50,
          29,
          61,
          34,
          27,
          38,
          25,
          54,
          53,
          23,
          19,
          57,
          19,
          33,
          33,
          38,
          47,
          39,
          32,
          27,
          67,
          46,
          36,
          62,
          31,
          68,
          57,
          22,
          26,
          43,
          45,
          64,
          28,
          47,
          53,
          42,
          51,
          62,
          18,
          48,
          20,
          32,
          26,
          31,
          55,
          49,
          42,
          64,
          68,
          68,
          41,
          51,
          44,
          27,
          36,
          19,
          49,
          18,
          36,
          36,
          19,
          43,
          31,
          63,
          41,
          48,
          68,
          53,
          36,
          46,
          21,
          52,
          66,
          19,
          44,
          50,
          51,
          25,
          62,
          48,
          62,
          22,
          48,
          48,
          62,
          24,
          39,
          35,
          47,
          22,
          38,
          53,
          31,
          31,
          65,
          48,
          18,
          46,
          52,
          50,
          49,
          69,
          36,
          30,
          25,
          19,
          34,
          29,
          50,
          31,
          41,
          52,
          27,
          49,
          69,
          45,
          20,
          25,
          38,
          55,
          62,
          54,
          61,
          50,
          65,
          68,
          55,
          57,
          56,
          29,
          24,
          59,
          62,
          58,
          64,
          48,
          60,
          52,
          63,
          44,
          63,
          66,
          22,
          62,
          39,
          25,
          70,
          52,
          68,
          18,
          18,
          63,
          47,
          43,
          60,
          49,
          28,
          32,
          29,
          35,
          23,
          70,
          23,
          43,
          29,
          61,
          29,
          66,
          46,
          34,
          51,
          26,
          23,
          52,
          39,
          39,
          33,
          33,
          23,
          31,
          27,
          48,
          61,
          63,
          19,
          21,
          28,
          29,
          23,
          37,
          67,
          34,
          58,
          45,
          63,
          68,
          41,
          50,
          24,
          21,
          18,
          63,
          47,
          58,
          46,
          35,
          42,
          48,
          28,
          44,
          60,
          38,
          46,
          39,
          22,
          44,
          69,
          39,
          53,
          52,
          65,
          48,
          27,
          39,
          59,
          52,
          50,
          32,
          40,
          26,
          47,
          51,
          47,
          53,
          35,
          38,
          69,
          47,
          31,
          68,
          51,
          20,
          27,
          67,
          21,
          20,
          35,
          58,
          28,
          27,
          19,
          63,
          69,
          65,
          63,
          28,
          67,
          51,
          59,
          25,
          31,
          62,
          51,
          32,
          35,
          70,
          19,
          32,
          56,
          53,
          22,
          26,
          42,
          30,
          29,
          47,
          59,
          34,
          52,
          47,
          24,
          63,
          59,
          66,
          45,
          38,
          63,
          55,
          25,
          51,
          28,
          46,
          58,
          30,
          68,
          28,
          26,
          35,
          40,
          31,
          60,
          69,
          51,
          49,
          18,
          63,
          57,
          45,
          36,
          20,
          21,
          62,
          23,
          26,
          30,
          18,
          47,
          41,
          62,
          28,
          46,
          54,
          36,
          25,
          38,
          38,
          42,
          19,
          34,
          38,
          42,
          58,
          56,
          62,
          24,
          60,
          53,
          26,
          34,
          24,
          42,
          36,
          24,
          39,
          46,
          64,
          64,
          61,
          61,
          44,
          65,
          60,
          65,
          27,
          36,
          22,
          62,
          59,
          50,
          51,
          23,
          21,
          44,
          25,
          57,
          41,
          19,
          43,
          25,
          60,
          54,
          52,
          40,
          39,
          54,
          64,
          31,
          37,
          43,
          56,
          27,
          40,
          43,
          62,
          44,
          45,
          40,
          68,
          63,
          60,
          19,
          26,
          70,
          48,
          37,
          48,
          18,
          38,
          33,
          57,
          46,
          46,
          50,
          61,
          45,
          32,
          29,
          66,
          70,
          36,
          34,
          20,
          70,
          50,
          54,
          49,
          50,
          62,
          42,
          69,
          22,
          36,
          64,
          44,
          43,
          58,
          62,
          45,
          47,
          66,
          30,
          68,
          35,
          64,
          30,
          58,
          57,
          60,
          22,
          46,
          27,
          50,
          65,
          61,
          57,
          40,
          39,
          42,
          30,
          65,
          57,
          64,
          56,
          40,
          55,
          25,
          58,
          46,
          18,
          26,
          61,
          55,
          41,
          42,
          70,
          63,
          60,
          28,
          60,
          26,
          42,
          56,
          35,
          34,
          47,
          49,
          37,
          40,
          45,
          57,
          35,
          36,
          35,
          21,
          66,
          40,
          52,
          46,
          44,
          52
         ],
         "yaxis": "y"
        }
       ],
       "layout": {
        "barmode": "relative",
        "legend": {
         "tracegroupgap": 0
        },
        "margin": {
         "t": 60
        },
        "template": {
         "data": {
          "bar": [
           {
            "error_x": {
             "color": "#2a3f5f"
            },
            "error_y": {
             "color": "#2a3f5f"
            },
            "marker": {
             "line": {
              "color": "#E5ECF6",
              "width": 0.5
             },
             "pattern": {
              "fillmode": "overlay",
              "size": 10,
              "solidity": 0.2
             }
            },
            "type": "bar"
           }
          ],
          "barpolar": [
           {
            "marker": {
             "line": {
              "color": "#E5ECF6",
              "width": 0.5
             },
             "pattern": {
              "fillmode": "overlay",
              "size": 10,
              "solidity": 0.2
             }
            },
            "type": "barpolar"
           }
          ],
          "carpet": [
           {
            "aaxis": {
             "endlinecolor": "#2a3f5f",
             "gridcolor": "white",
             "linecolor": "white",
             "minorgridcolor": "white",
             "startlinecolor": "#2a3f5f"
            },
            "baxis": {
             "endlinecolor": "#2a3f5f",
             "gridcolor": "white",
             "linecolor": "white",
             "minorgridcolor": "white",
             "startlinecolor": "#2a3f5f"
            },
            "type": "carpet"
           }
          ],
          "choropleth": [
           {
            "colorbar": {
             "outlinewidth": 0,
             "ticks": ""
            },
            "type": "choropleth"
           }
          ],
          "contour": [
           {
            "colorbar": {
             "outlinewidth": 0,
             "ticks": ""
            },
            "colorscale": [
             [
              0,
              "#0d0887"
             ],
             [
              0.1111111111111111,
              "#46039f"
             ],
             [
              0.2222222222222222,
              "#7201a8"
             ],
             [
              0.3333333333333333,
              "#9c179e"
             ],
             [
              0.4444444444444444,
              "#bd3786"
             ],
             [
              0.5555555555555556,
              "#d8576b"
             ],
             [
              0.6666666666666666,
              "#ed7953"
             ],
             [
              0.7777777777777778,
              "#fb9f3a"
             ],
             [
              0.8888888888888888,
              "#fdca26"
             ],
             [
              1,
              "#f0f921"
             ]
            ],
            "type": "contour"
           }
          ],
          "contourcarpet": [
           {
            "colorbar": {
             "outlinewidth": 0,
             "ticks": ""
            },
            "type": "contourcarpet"
           }
          ],
          "heatmap": [
           {
            "colorbar": {
             "outlinewidth": 0,
             "ticks": ""
            },
            "colorscale": [
             [
              0,
              "#0d0887"
             ],
             [
              0.1111111111111111,
              "#46039f"
             ],
             [
              0.2222222222222222,
              "#7201a8"
             ],
             [
              0.3333333333333333,
              "#9c179e"
             ],
             [
              0.4444444444444444,
              "#bd3786"
             ],
             [
              0.5555555555555556,
              "#d8576b"
             ],
             [
              0.6666666666666666,
              "#ed7953"
             ],
             [
              0.7777777777777778,
              "#fb9f3a"
             ],
             [
              0.8888888888888888,
              "#fdca26"
             ],
             [
              1,
              "#f0f921"
             ]
            ],
            "type": "heatmap"
           }
          ],
          "heatmapgl": [
           {
            "colorbar": {
             "outlinewidth": 0,
             "ticks": ""
            },
            "colorscale": [
             [
              0,
              "#0d0887"
             ],
             [
              0.1111111111111111,
              "#46039f"
             ],
             [
              0.2222222222222222,
              "#7201a8"
             ],
             [
              0.3333333333333333,
              "#9c179e"
             ],
             [
              0.4444444444444444,
              "#bd3786"
             ],
             [
              0.5555555555555556,
              "#d8576b"
             ],
             [
              0.6666666666666666,
              "#ed7953"
             ],
             [
              0.7777777777777778,
              "#fb9f3a"
             ],
             [
              0.8888888888888888,
              "#fdca26"
             ],
             [
              1,
              "#f0f921"
             ]
            ],
            "type": "heatmapgl"
           }
          ],
          "histogram": [
           {
            "marker": {
             "pattern": {
              "fillmode": "overlay",
              "size": 10,
              "solidity": 0.2
             }
            },
            "type": "histogram"
           }
          ],
          "histogram2d": [
           {
            "colorbar": {
             "outlinewidth": 0,
             "ticks": ""
            },
            "colorscale": [
             [
              0,
              "#0d0887"
             ],
             [
              0.1111111111111111,
              "#46039f"
             ],
             [
              0.2222222222222222,
              "#7201a8"
             ],
             [
              0.3333333333333333,
              "#9c179e"
             ],
             [
              0.4444444444444444,
              "#bd3786"
             ],
             [
              0.5555555555555556,
              "#d8576b"
             ],
             [
              0.6666666666666666,
              "#ed7953"
             ],
             [
              0.7777777777777778,
              "#fb9f3a"
             ],
             [
              0.8888888888888888,
              "#fdca26"
             ],
             [
              1,
              "#f0f921"
             ]
            ],
            "type": "histogram2d"
           }
          ],
          "histogram2dcontour": [
           {
            "colorbar": {
             "outlinewidth": 0,
             "ticks": ""
            },
            "colorscale": [
             [
              0,
              "#0d0887"
             ],
             [
              0.1111111111111111,
              "#46039f"
             ],
             [
              0.2222222222222222,
              "#7201a8"
             ],
             [
              0.3333333333333333,
              "#9c179e"
             ],
             [
              0.4444444444444444,
              "#bd3786"
             ],
             [
              0.5555555555555556,
              "#d8576b"
             ],
             [
              0.6666666666666666,
              "#ed7953"
             ],
             [
              0.7777777777777778,
              "#fb9f3a"
             ],
             [
              0.8888888888888888,
              "#fdca26"
             ],
             [
              1,
              "#f0f921"
             ]
            ],
            "type": "histogram2dcontour"
           }
          ],
          "mesh3d": [
           {
            "colorbar": {
             "outlinewidth": 0,
             "ticks": ""
            },
            "type": "mesh3d"
           }
          ],
          "parcoords": [
           {
            "line": {
             "colorbar": {
              "outlinewidth": 0,
              "ticks": ""
             }
            },
            "type": "parcoords"
           }
          ],
          "pie": [
           {
            "automargin": true,
            "type": "pie"
           }
          ],
          "scatter": [
           {
            "fillpattern": {
             "fillmode": "overlay",
             "size": 10,
             "solidity": 0.2
            },
            "type": "scatter"
           }
          ],
          "scatter3d": [
           {
            "line": {
             "colorbar": {
              "outlinewidth": 0,
              "ticks": ""
             }
            },
            "marker": {
             "colorbar": {
              "outlinewidth": 0,
              "ticks": ""
             }
            },
            "type": "scatter3d"
           }
          ],
          "scattercarpet": [
           {
            "marker": {
             "colorbar": {
              "outlinewidth": 0,
              "ticks": ""
             }
            },
            "type": "scattercarpet"
           }
          ],
          "scattergeo": [
           {
            "marker": {
             "colorbar": {
              "outlinewidth": 0,
              "ticks": ""
             }
            },
            "type": "scattergeo"
           }
          ],
          "scattergl": [
           {
            "marker": {
             "colorbar": {
              "outlinewidth": 0,
              "ticks": ""
             }
            },
            "type": "scattergl"
           }
          ],
          "scattermapbox": [
           {
            "marker": {
             "colorbar": {
              "outlinewidth": 0,
              "ticks": ""
             }
            },
            "type": "scattermapbox"
           }
          ],
          "scatterpolar": [
           {
            "marker": {
             "colorbar": {
              "outlinewidth": 0,
              "ticks": ""
             }
            },
            "type": "scatterpolar"
           }
          ],
          "scatterpolargl": [
           {
            "marker": {
             "colorbar": {
              "outlinewidth": 0,
              "ticks": ""
             }
            },
            "type": "scatterpolargl"
           }
          ],
          "scatterternary": [
           {
            "marker": {
             "colorbar": {
              "outlinewidth": 0,
              "ticks": ""
             }
            },
            "type": "scatterternary"
           }
          ],
          "surface": [
           {
            "colorbar": {
             "outlinewidth": 0,
             "ticks": ""
            },
            "colorscale": [
             [
              0,
              "#0d0887"
             ],
             [
              0.1111111111111111,
              "#46039f"
             ],
             [
              0.2222222222222222,
              "#7201a8"
             ],
             [
              0.3333333333333333,
              "#9c179e"
             ],
             [
              0.4444444444444444,
              "#bd3786"
             ],
             [
              0.5555555555555556,
              "#d8576b"
             ],
             [
              0.6666666666666666,
              "#ed7953"
             ],
             [
              0.7777777777777778,
              "#fb9f3a"
             ],
             [
              0.8888888888888888,
              "#fdca26"
             ],
             [
              1,
              "#f0f921"
             ]
            ],
            "type": "surface"
           }
          ],
          "table": [
           {
            "cells": {
             "fill": {
              "color": "#EBF0F8"
             },
             "line": {
              "color": "white"
             }
            },
            "header": {
             "fill": {
              "color": "#C8D4E3"
             },
             "line": {
              "color": "white"
             }
            },
            "type": "table"
           }
          ]
         },
         "layout": {
          "annotationdefaults": {
           "arrowcolor": "#2a3f5f",
           "arrowhead": 0,
           "arrowwidth": 1
          },
          "autotypenumbers": "strict",
          "coloraxis": {
           "colorbar": {
            "outlinewidth": 0,
            "ticks": ""
           }
          },
          "colorscale": {
           "diverging": [
            [
             0,
             "#8e0152"
            ],
            [
             0.1,
             "#c51b7d"
            ],
            [
             0.2,
             "#de77ae"
            ],
            [
             0.3,
             "#f1b6da"
            ],
            [
             0.4,
             "#fde0ef"
            ],
            [
             0.5,
             "#f7f7f7"
            ],
            [
             0.6,
             "#e6f5d0"
            ],
            [
             0.7,
             "#b8e186"
            ],
            [
             0.8,
             "#7fbc41"
            ],
            [
             0.9,
             "#4d9221"
            ],
            [
             1,
             "#276419"
            ]
           ],
           "sequential": [
            [
             0,
             "#0d0887"
            ],
            [
             0.1111111111111111,
             "#46039f"
            ],
            [
             0.2222222222222222,
             "#7201a8"
            ],
            [
             0.3333333333333333,
             "#9c179e"
            ],
            [
             0.4444444444444444,
             "#bd3786"
            ],
            [
             0.5555555555555556,
             "#d8576b"
            ],
            [
             0.6666666666666666,
             "#ed7953"
            ],
            [
             0.7777777777777778,
             "#fb9f3a"
            ],
            [
             0.8888888888888888,
             "#fdca26"
            ],
            [
             1,
             "#f0f921"
            ]
           ],
           "sequentialminus": [
            [
             0,
             "#0d0887"
            ],
            [
             0.1111111111111111,
             "#46039f"
            ],
            [
             0.2222222222222222,
             "#7201a8"
            ],
            [
             0.3333333333333333,
             "#9c179e"
            ],
            [
             0.4444444444444444,
             "#bd3786"
            ],
            [
             0.5555555555555556,
             "#d8576b"
            ],
            [
             0.6666666666666666,
             "#ed7953"
            ],
            [
             0.7777777777777778,
             "#fb9f3a"
            ],
            [
             0.8888888888888888,
             "#fdca26"
            ],
            [
             1,
             "#f0f921"
            ]
           ]
          },
          "colorway": [
           "#636efa",
           "#EF553B",
           "#00cc96",
           "#ab63fa",
           "#FFA15A",
           "#19d3f3",
           "#FF6692",
           "#B6E880",
           "#FF97FF",
           "#FECB52"
          ],
          "font": {
           "color": "#2a3f5f"
          },
          "geo": {
           "bgcolor": "white",
           "lakecolor": "white",
           "landcolor": "#E5ECF6",
           "showlakes": true,
           "showland": true,
           "subunitcolor": "white"
          },
          "hoverlabel": {
           "align": "left"
          },
          "hovermode": "closest",
          "mapbox": {
           "style": "light"
          },
          "paper_bgcolor": "white",
          "plot_bgcolor": "#E5ECF6",
          "polar": {
           "angularaxis": {
            "gridcolor": "white",
            "linecolor": "white",
            "ticks": ""
           },
           "bgcolor": "#E5ECF6",
           "radialaxis": {
            "gridcolor": "white",
            "linecolor": "white",
            "ticks": ""
           }
          },
          "scene": {
           "xaxis": {
            "backgroundcolor": "#E5ECF6",
            "gridcolor": "white",
            "gridwidth": 2,
            "linecolor": "white",
            "showbackground": true,
            "ticks": "",
            "zerolinecolor": "white"
           },
           "yaxis": {
            "backgroundcolor": "#E5ECF6",
            "gridcolor": "white",
            "gridwidth": 2,
            "linecolor": "white",
            "showbackground": true,
            "ticks": "",
            "zerolinecolor": "white"
           },
           "zaxis": {
            "backgroundcolor": "#E5ECF6",
            "gridcolor": "white",
            "gridwidth": 2,
            "linecolor": "white",
            "showbackground": true,
            "ticks": "",
            "zerolinecolor": "white"
           }
          },
          "shapedefaults": {
           "line": {
            "color": "#2a3f5f"
           }
          },
          "ternary": {
           "aaxis": {
            "gridcolor": "white",
            "linecolor": "white",
            "ticks": ""
           },
           "baxis": {
            "gridcolor": "white",
            "linecolor": "white",
            "ticks": ""
           },
           "bgcolor": "#E5ECF6",
           "caxis": {
            "gridcolor": "white",
            "linecolor": "white",
            "ticks": ""
           }
          },
          "title": {
           "x": 0.05
          },
          "xaxis": {
           "automargin": true,
           "gridcolor": "white",
           "linecolor": "white",
           "ticks": "",
           "title": {
            "standoff": 15
           },
           "zerolinecolor": "white",
           "zerolinewidth": 2
          },
          "yaxis": {
           "automargin": true,
           "gridcolor": "white",
           "linecolor": "white",
           "ticks": "",
           "title": {
            "standoff": 15
           },
           "zerolinecolor": "white",
           "zerolinewidth": 2
          }
         }
        },
        "xaxis": {
         "anchor": "y",
         "domain": [
          0,
          1
         ],
         "title": {
          "text": "Age_category"
         }
        },
        "yaxis": {
         "anchor": "x",
         "domain": [
          0,
          1
         ],
         "title": {
          "text": "sum of Age"
         }
        }
       }
      }
     },
     "metadata": {},
     "output_type": "display_data"
    }
   ],
   "source": [
    "fig = px.histogram(shop, y='Age', x='Age_category')\n",
    "fig.show()"
   ]
  },
  {
   "cell_type": "markdown",
   "metadata": {},
   "source": [
    "The above bar chart shows Overall Distribution of Age "
   ]
  },
  {
   "cell_type": "markdown",
   "metadata": {},
   "source": [
    "## 2.\tHow does the average purchase amount vary across different product categories?"
   ]
  },
  {
   "cell_type": "code",
   "execution_count": 16,
   "metadata": {},
   "outputs": [
    {
     "data": {
      "text/plain": [
       "Index(['Customer ID', 'Age', 'Gender', 'Item Purchased', 'Category',\n",
       "       'Purchase Amount (USD)', 'Location', 'Size', 'Color', 'Season',\n",
       "       'Review Rating', 'Subscription Status', 'Shipping Type',\n",
       "       'Discount Applied', 'Promo Code Used', 'Previous Purchases',\n",
       "       'Payment Method', 'Frequency of Purchases', 'Age_category'],\n",
       "      dtype='object')"
      ]
     },
     "execution_count": 16,
     "metadata": {},
     "output_type": "execute_result"
    }
   ],
   "source": [
    "shop.columns"
   ]
  },
  {
   "cell_type": "code",
   "execution_count": 17,
   "metadata": {},
   "outputs": [
    {
     "data": {
      "text/plain": [
       "array(['Clothing', 'Footwear', 'Outerwear', 'Accessories'], dtype=object)"
      ]
     },
     "execution_count": 17,
     "metadata": {},
     "output_type": "execute_result"
    }
   ],
   "source": [
    "shop['Category'].unique()"
   ]
  },
  {
   "cell_type": "code",
   "execution_count": 18,
   "metadata": {},
   "outputs": [
    {
     "data": {
      "text/plain": [
       "dtype('int64')"
      ]
     },
     "execution_count": 18,
     "metadata": {},
     "output_type": "execute_result"
    }
   ],
   "source": [
    "shop['Purchase Amount (USD)'].dtype"
   ]
  },
  {
   "cell_type": "code",
   "execution_count": 19,
   "metadata": {},
   "outputs": [
    {
     "data": {
      "text/plain": [
       "Category\n",
       "Accessories    59.838710\n",
       "Clothing       60.025331\n",
       "Footwear       60.255426\n",
       "Outerwear      57.172840\n",
       "Name: Purchase Amount (USD), dtype: float64"
      ]
     },
     "execution_count": 19,
     "metadata": {},
     "output_type": "execute_result"
    }
   ],
   "source": [
    "shop.groupby('Category')['Purchase Amount (USD)'].mean()"
   ]
  },
  {
   "cell_type": "markdown",
   "metadata": {},
   "source": [
    "The above result shows the average purchase amount across different categories. "
   ]
  },
  {
   "cell_type": "markdown",
   "metadata": {},
   "source": [
    "## 3.\tWhich gender has the highest number of purchases?"
   ]
  },
  {
   "cell_type": "code",
   "execution_count": 20,
   "metadata": {},
   "outputs": [
    {
     "data": {
      "text/plain": [
       "Gender\n",
       "Female     75191\n",
       "Male      157890\n",
       "Name: Purchase Amount (USD), dtype: int64"
      ]
     },
     "execution_count": 20,
     "metadata": {},
     "output_type": "execute_result"
    }
   ],
   "source": [
    "shop.groupby('Gender')['Purchase Amount (USD)'].sum()"
   ]
  },
  {
   "cell_type": "code",
   "execution_count": 21,
   "metadata": {},
   "outputs": [
    {
     "data": {
      "text/plain": [
       "<Axes: xlabel='Gender'>"
      ]
     },
     "execution_count": 21,
     "metadata": {},
     "output_type": "execute_result"
    },
    {
     "data": {
      "image/png": "[encoded data removed]",
      "text/plain": [
       "<Figure size 640x480 with 1 Axes>"
      ]
     },
     "metadata": {},
     "output_type": "display_data"
    }
   ],
   "source": [
    "shop['Gender'].value_counts().plot(kind='bar')"
   ]
  },
  {
   "cell_type": "code",
   "execution_count": 22,
   "metadata": {},
   "outputs": [
    {
     "data": {
      "text/plain": [
       "Text(0.5, 0, 'Gender')"
      ]
     },
     "execution_count": 22,
     "metadata": {},
     "output_type": "execute_result"
    },
    {
     "data": {
      "image/png": "[encoded data removed]",
      "text/plain": [
       "<Figure size 640x480 with 1 Axes>"
      ]
     },
     "metadata": {},
     "output_type": "display_data"
    }
   ],
   "source": [
    "data = shop['Gender'].value_counts()\n",
    "data.plot(kind='pie',explode=(0,0.1),autopct='%1.1f%%')\n",
    "plt.xlabel(\"Gender\")"
   ]
  },
  {
   "cell_type": "markdown",
   "metadata": {},
   "source": [
    "The above  bar graph and pie chart shows that the Male has the highest number of purchases"
   ]
  },
  {
   "cell_type": "markdown",
   "metadata": {},
   "source": [
    "## 4.\tWhat are the most commonly purchased items in each category?"
   ]
  },
  {
   "cell_type": "code",
   "execution_count": 23,
   "metadata": {},
   "outputs": [
    {
     "data": {
      "text/plain": [
       "Index(['Customer ID', 'Age', 'Gender', 'Item Purchased', 'Category',\n",
       "       'Purchase Amount (USD)', 'Location', 'Size', 'Color', 'Season',\n",
       "       'Review Rating', 'Subscription Status', 'Shipping Type',\n",
       "       'Discount Applied', 'Promo Code Used', 'Previous Purchases',\n",
       "       'Payment Method', 'Frequency of Purchases', 'Age_category'],\n",
       "      dtype='object')"
      ]
     },
     "execution_count": 23,
     "metadata": {},
     "output_type": "execute_result"
    }
   ],
   "source": [
    "shop.columns"
   ]
  },
  {
   "cell_type": "code",
   "execution_count": 24,
   "metadata": {},
   "outputs": [
    {
     "data": {
      "text/plain": [
       "Category     Item Purchased\n",
       "Accessories  Jewelry           171\n",
       "             Belt              161\n",
       "             Sunglasses        161\n",
       "             Scarf             157\n",
       "             Hat               154\n",
       "             Handbag           153\n",
       "             Backpack          143\n",
       "             Gloves            140\n",
       "Clothing     Blouse            171\n",
       "             Pants             171\n",
       "             Shirt             169\n",
       "             Dress             166\n",
       "             Sweater           164\n",
       "             Socks             159\n",
       "             Skirt             158\n",
       "             Shorts            157\n",
       "             Hoodie            151\n",
       "             T-shirt           147\n",
       "             Jeans             124\n",
       "Footwear     Sandals           160\n",
       "             Shoes             150\n",
       "             Sneakers          145\n",
       "             Boots             144\n",
       "Outerwear    Jacket            163\n",
       "             Coat              161\n",
       "Name: count, dtype: int64"
      ]
     },
     "execution_count": 24,
     "metadata": {},
     "output_type": "execute_result"
    }
   ],
   "source": [
    "shop.groupby('Category')['Item Purchased'].value_counts() \n"
   ]
  },
  {
   "cell_type": "markdown",
   "metadata": {},
   "source": [
    "The above result shows that in Accessories seection jewelry, belt , in clothing category Blouse and pants , in Footwear section Sandals and shoes and in outerwear , jacket and Coat are the most commonly purchased"
   ]
  },
  {
   "cell_type": "code",
   "execution_count": 25,
   "metadata": {},
   "outputs": [
    {
     "data": {
      "application/vnd.plotly.v1+json": {
       "config": {
        "plotlyServerURL": "https://plot.ly"
       },
       "data": [
        {
         "alignmentgroup": "True",
         "bingroup": "x",
         "hovertemplate": "Category=Clothing<br>Item Purchased=%{x}<br>count=%{y}<extra></extra>",
         "legendgroup": "Clothing",
         "marker": {
          "color": "#636efa",
          "pattern": {
           "shape": ""
          }
         },
         "name": "Clothing",
         "offsetgroup": "Clothing",
         "orientation": "v",
         "showlegend": true,
         "type": "histogram",
         "x": [
          "Blouse",
          "Sweater",
          "Jeans",
          "Blouse",
          "Shirt",
          "Shorts",
          "Shorts",
          "Dress",
          "Skirt",
          "Dress",
          "Sweater",
          "Pants",
          "Pants",
          "Pants",
          "Pants",
          "Pants",
          "Hoodie",
          "Shorts",
          "Dress",
          "Dress",
          "Pants",
          "T-shirt",
          "Blouse",
          "T-shirt",
          "Jeans",
          "Dress",
          "Pants",
          "Socks",
          "Shirt",
          "Shirt",
          "Hoodie",
          "Blouse",
          "Skirt",
          "T-shirt",
          "Skirt",
          "Hoodie",
          "Sweater",
          "Blouse",
          "Dress",
          "Dress",
          "Pants",
          "Dress",
          "Skirt",
          "Pants",
          "Dress",
          "Hoodie",
          "T-shirt",
          "Sweater",
          "Skirt",
          "Jeans",
          "Hoodie",
          "Socks",
          "Socks",
          "T-shirt",
          "Skirt",
          "Sweater",
          "Shorts",
          "Sweater",
          "Sweater",
          "Shorts",
          "Shorts",
          "Sweater",
          "Dress",
          "Skirt",
          "Sweater",
          "Blouse",
          "Skirt",
          "Shirt",
          "Skirt",
          "Pants",
          "Shirt",
          "Hoodie",
          "Dress",
          "Socks",
          "Shorts",
          "Shirt",
          "Skirt",
          "Shirt",
          "Shorts",
          "Hoodie",
          "Skirt",
          "Pants",
          "Skirt",
          "T-shirt",
          "Hoodie",
          "Blouse",
          "Dress",
          "Blouse",
          "Shirt",
          "T-shirt",
          "Skirt",
          "Skirt",
          "Shorts",
          "T-shirt",
          "Pants",
          "Socks",
          "Jeans",
          "Socks",
          "Blouse",
          "Sweater",
          "Dress",
          "Skirt",
          "Pants",
          "Sweater",
          "Hoodie",
          "Sweater",
          "Skirt",
          "Shorts",
          "Jeans",
          "Jeans",
          "Pants",
          "Shorts",
          "Pants",
          "Sweater",
          "Blouse",
          "Jeans",
          "Skirt",
          "Shirt",
          "Sweater",
          "Skirt",
          "Sweater",
          "Skirt",
          "T-shirt",
          "T-shirt",
          "Dress",
          "Skirt",
          "T-shirt",
          "Skirt",
          "Sweater",
          "Dress",
          "Sweater",
          "Dress",
          "Pants",
          "Jeans",
          "Pants",
          "Dress",
          "Pants",
          "Sweater",
          "Shorts",
          "Hoodie",
          "Shirt",
          "Pants",
          "Socks",
          "Sweater",
          "Shirt",
          "Shirt",
          "Sweater",
          "Blouse",
          "Sweater",
          "Sweater",
          "Hoodie",
          "Shorts",
          "Shorts",
          "Skirt",
          "Jeans",
          "Blouse",
          "Sweater",
          "Skirt",
          "Jeans",
          "Pants",
          "Pants",
          "T-shirt",
          "Shorts",
          "Socks",
          "Dress",
          "Sweater",
          "Dress",
          "T-shirt",
          "Jeans",
          "Sweater",
          "Shorts",
          "Sweater",
          "T-shirt",
          "Dress",
          "T-shirt",
          "T-shirt",
          "Jeans",
          "Hoodie",
          "Shorts",
          "Sweater",
          "Jeans",
          "Sweater",
          "Shorts",
          "Socks",
          "Shirt",
          "Pants",
          "Sweater",
          "Jeans",
          "Pants",
          "Shirt",
          "Shirt",
          "Skirt",
          "Pants",
          "Shirt",
          "Hoodie",
          "Dress",
          "Shirt",
          "Shorts",
          "Pants",
          "Blouse",
          "Blouse",
          "Shorts",
          "Skirt",
          "Jeans",
          "Shorts",
          "Dress",
          "Jeans",
          "Sweater",
          "Sweater",
          "Hoodie",
          "Hoodie",
          "Sweater",
          "Socks",
          "Shirt",
          "Dress",
          "T-shirt",
          "Pants",
          "T-shirt",
          "Shorts",
          "T-shirt",
          "Shirt",
          "Shirt",
          "Skirt",
          "Hoodie",
          "Blouse",
          "Shorts",
          "Shirt",
          "Pants",
          "T-shirt",
          "Shorts",
          "Pants",
          "T-shirt",
          "Blouse",
          "Socks",
          "Dress",
          "Skirt",
          "Hoodie",
          "T-shirt",
          "Shirt",
          "Jeans",
          "Hoodie",
          "Blouse",
          "Pants",
          "Skirt",
          "T-shirt",
          "Pants",
          "Jeans",
          "Skirt",
          "Sweater",
          "Sweater",
          "Shorts",
          "Socks",
          "Socks",
          "Hoodie",
          "Socks",
          "Shirt",
          "Hoodie",
          "Dress",
          "Hoodie",
          "Sweater",
          "Shorts",
          "Socks",
          "Pants",
          "Sweater",
          "Hoodie",
          "Sweater",
          "Dress",
          "Skirt",
          "Blouse",
          "Skirt",
          "Sweater",
          "Hoodie",
          "Blouse",
          "Hoodie",
          "Pants",
          "Jeans",
          "Shorts",
          "Shirt",
          "Dress",
          "Pants",
          "Pants",
          "Hoodie",
          "T-shirt",
          "Sweater",
          "Socks",
          "Shirt",
          "Pants",
          "Socks",
          "Blouse",
          "Shirt",
          "Blouse",
          "Sweater",
          "Hoodie",
          "Shorts",
          "Shorts",
          "Dress",
          "Shorts",
          "Pants",
          "Shirt",
          "Dress",
          "Hoodie",
          "Pants",
          "Jeans",
          "Shirt",
          "Blouse",
          "Hoodie",
          "Jeans",
          "Socks",
          "Shirt",
          "Shorts",
          "Blouse",
          "Sweater",
          "T-shirt",
          "Shorts",
          "Sweater",
          "Jeans",
          "Shirt",
          "Dress",
          "Shirt",
          "Dress",
          "Shorts",
          "Jeans",
          "T-shirt",
          "Pants",
          "T-shirt",
          "Shorts",
          "T-shirt",
          "Hoodie",
          "Dress",
          "Sweater",
          "Skirt",
          "Socks",
          "Sweater",
          "Jeans",
          "Shirt",
          "Socks",
          "Socks",
          "Dress",
          "Hoodie",
          "T-shirt",
          "Jeans",
          "Shorts",
          "Pants",
          "Sweater",
          "Pants",
          "Socks",
          "Socks",
          "Socks",
          "Pants",
          "Shorts",
          "Dress",
          "Jeans",
          "T-shirt",
          "Shirt",
          "Sweater",
          "Shirt",
          "Hoodie",
          "Shirt",
          "Blouse",
          "Dress",
          "Socks",
          "Socks",
          "Shorts",
          "Hoodie",
          "Shirt",
          "Shirt",
          "Sweater",
          "Shirt",
          "Hoodie",
          "Hoodie",
          "Jeans",
          "Dress",
          "Pants",
          "Socks",
          "Shirt",
          "Shorts",
          "Hoodie",
          "Skirt",
          "Jeans",
          "Blouse",
          "Dress",
          "Hoodie",
          "Jeans",
          "Skirt",
          "Skirt",
          "Dress",
          "Shorts",
          "Skirt",
          "Shorts",
          "Hoodie",
          "Shirt",
          "Sweater",
          "T-shirt",
          "Dress",
          "Pants",
          "Sweater",
          "Hoodie",
          "Pants",
          "Hoodie",
          "Dress",
          "Dress",
          "Jeans",
          "Sweater",
          "Shorts",
          "Shirt",
          "Shirt",
          "Socks",
          "Jeans",
          "Jeans",
          "Dress",
          "T-shirt",
          "Skirt",
          "Jeans",
          "Hoodie",
          "Shorts",
          "Blouse",
          "T-shirt",
          "Dress",
          "Blouse",
          "Jeans",
          "Dress",
          "Dress",
          "Shirt",
          "Skirt",
          "Dress",
          "Hoodie",
          "Shorts",
          "Jeans",
          "Skirt",
          "Sweater",
          "T-shirt",
          "Pants",
          "Shorts",
          "Pants",
          "Socks",
          "Socks",
          "Dress",
          "Pants",
          "Hoodie",
          "Jeans",
          "Dress",
          "Shirt",
          "T-shirt",
          "Shirt",
          "Hoodie",
          "Pants",
          "Socks",
          "Blouse",
          "Pants",
          "Jeans",
          "Shirt",
          "Jeans",
          "Jeans",
          "Sweater",
          "Socks",
          "Socks",
          "Socks",
          "Blouse",
          "Shorts",
          "Sweater",
          "Sweater",
          "Hoodie",
          "T-shirt",
          "Dress",
          "Shirt",
          "Skirt",
          "Shorts",
          "Sweater",
          "T-shirt",
          "Jeans",
          "Pants",
          "Sweater",
          "Sweater",
          "Pants",
          "Sweater",
          "Hoodie",
          "T-shirt",
          "Skirt",
          "Shorts",
          "Hoodie",
          "Hoodie",
          "Hoodie",
          "Skirt",
          "T-shirt",
          "Sweater",
          "Shirt",
          "Hoodie",
          "Shirt",
          "Hoodie",
          "T-shirt",
          "Skirt",
          "Shirt",
          "Pants",
          "Jeans",
          "T-shirt",
          "Jeans",
          "Pants",
          "Blouse",
          "Shirt",
          "Dress",
          "T-shirt",
          "Shorts",
          "Pants",
          "Dress",
          "T-shirt",
          "Dress",
          "Socks",
          "Skirt",
          "Socks",
          "Dress",
          "Skirt",
          "Dress",
          "T-shirt",
          "Skirt",
          "Shorts",
          "Pants",
          "Jeans",
          "Jeans",
          "Blouse",
          "Shirt",
          "Shirt",
          "T-shirt",
          "Hoodie",
          "Socks",
          "Pants",
          "Hoodie",
          "Blouse",
          "Pants",
          "Sweater",
          "Socks",
          "Jeans",
          "Pants",
          "Shorts",
          "Blouse",
          "Socks",
          "Pants",
          "Sweater",
          "Dress",
          "Pants",
          "Hoodie",
          "Socks",
          "Blouse",
          "Socks",
          "Dress",
          "Hoodie",
          "T-shirt",
          "Jeans",
          "Shorts",
          "Dress",
          "Skirt",
          "Shirt",
          "Shirt",
          "Hoodie",
          "Sweater",
          "Shirt",
          "Blouse",
          "T-shirt",
          "Hoodie",
          "Jeans",
          "Sweater",
          "Blouse",
          "Shorts",
          "Hoodie",
          "Pants",
          "Shirt",
          "Shirt",
          "Dress",
          "Jeans",
          "Skirt",
          "Sweater",
          "Shirt",
          "Jeans",
          "Pants",
          "T-shirt",
          "Shirt",
          "Blouse",
          "Pants",
          "Sweater",
          "Dress",
          "Blouse",
          "Hoodie",
          "T-shirt",
          "Shorts",
          "Pants",
          "Shorts",
          "T-shirt",
          "Pants",
          "Shorts",
          "Sweater",
          "Socks",
          "Hoodie",
          "Pants",
          "Sweater",
          "Hoodie",
          "T-shirt",
          "Dress",
          "Hoodie",
          "Sweater",
          "Socks",
          "Pants",
          "Shorts",
          "Hoodie",
          "Skirt",
          "Dress",
          "Blouse",
          "Shirt",
          "Pants",
          "Blouse",
          "T-shirt",
          "Blouse",
          "Dress",
          "Blouse",
          "Pants",
          "Dress",
          "Socks",
          "Shirt",
          "Blouse",
          "Skirt",
          "Shorts",
          "Blouse",
          "Socks",
          "Shorts",
          "Shirt",
          "Jeans",
          "Dress",
          "Dress",
          "Pants",
          "Blouse",
          "Skirt",
          "Pants",
          "Hoodie",
          "Sweater",
          "Pants",
          "Hoodie",
          "Sweater",
          "Jeans",
          "Hoodie",
          "Socks",
          "Dress",
          "Pants",
          "Shirt",
          "Sweater",
          "Shorts",
          "Shorts",
          "Sweater",
          "Blouse",
          "Skirt",
          "Shorts",
          "Skirt",
          "Shirt",
          "T-shirt",
          "T-shirt",
          "Sweater",
          "Jeans",
          "Jeans",
          "Pants",
          "Shirt",
          "Dress",
          "Blouse",
          "Dress",
          "Blouse",
          "Dress",
          "Socks",
          "Jeans",
          "Jeans",
          "Shorts",
          "Socks",
          "Socks",
          "T-shirt",
          "Blouse",
          "Dress",
          "Shorts",
          "Blouse",
          "Jeans",
          "Dress",
          "Blouse",
          "Blouse",
          "Shorts",
          "Shorts",
          "Hoodie",
          "Pants",
          "Skirt",
          "Pants",
          "Skirt",
          "T-shirt",
          "Skirt",
          "Shirt",
          "Dress",
          "Pants",
          "Blouse",
          "Sweater",
          "Socks",
          "Jeans",
          "Skirt",
          "Dress",
          "Shirt",
          "Shirt",
          "Shorts",
          "Sweater",
          "T-shirt",
          "Shorts",
          "Shirt",
          "Socks",
          "Pants",
          "Skirt",
          "T-shirt",
          "Blouse",
          "Shorts",
          "Sweater",
          "Skirt",
          "Dress",
          "Blouse",
          "Sweater",
          "Socks",
          "Dress",
          "Hoodie",
          "Pants",
          "T-shirt",
          "Sweater",
          "Sweater",
          "Blouse",
          "Skirt",
          "T-shirt",
          "Shirt",
          "Skirt",
          "Blouse",
          "T-shirt",
          "Pants",
          "Hoodie",
          "Blouse",
          "Pants",
          "Jeans",
          "Pants",
          "Dress",
          "Socks",
          "Shirt",
          "Blouse",
          "Skirt",
          "Shirt",
          "Shirt",
          "Shirt",
          "Sweater",
          "Hoodie",
          "Jeans",
          "Shorts",
          "Skirt",
          "Pants",
          "T-shirt",
          "T-shirt",
          "Jeans",
          "Dress",
          "Blouse",
          "Hoodie",
          "T-shirt",
          "Sweater",
          "Shorts",
          "T-shirt",
          "Blouse",
          "Jeans",
          "Shorts",
          "Shirt",
          "Blouse",
          "Jeans",
          "Dress",
          "Shorts",
          "Pants",
          "Pants",
          "Skirt",
          "Skirt",
          "Skirt",
          "Hoodie",
          "Sweater",
          "Skirt",
          "Dress",
          "Dress",
          "Sweater",
          "Skirt",
          "Hoodie",
          "Dress",
          "Hoodie",
          "Sweater",
          "Socks",
          "Shirt",
          "Sweater",
          "T-shirt",
          "Pants",
          "Sweater",
          "Blouse",
          "Blouse",
          "Jeans",
          "Jeans",
          "Skirt",
          "Dress",
          "Hoodie",
          "Sweater",
          "Shorts",
          "Sweater",
          "T-shirt",
          "Jeans",
          "Shorts",
          "Jeans",
          "T-shirt",
          "Socks",
          "Shirt",
          "Shorts",
          "Shirt",
          "Socks",
          "Pants",
          "T-shirt",
          "T-shirt",
          "Blouse",
          "Skirt",
          "Pants",
          "Shirt",
          "Socks",
          "Shorts",
          "Jeans",
          "Skirt",
          "Skirt",
          "Sweater",
          "Blouse",
          "Sweater",
          "Shirt",
          "T-shirt",
          "T-shirt",
          "Pants",
          "T-shirt",
          "Skirt",
          "Blouse",
          "Blouse",
          "Jeans",
          "T-shirt",
          "Sweater",
          "Pants",
          "Skirt",
          "Socks",
          "T-shirt",
          "Blouse",
          "Blouse",
          "Shorts",
          "Hoodie",
          "Hoodie",
          "Skirt",
          "Dress",
          "Hoodie",
          "Jeans",
          "Pants",
          "Shorts",
          "Socks",
          "Pants",
          "T-shirt",
          "Skirt",
          "Sweater",
          "Sweater",
          "Skirt",
          "Shorts",
          "Hoodie",
          "Skirt",
          "Skirt",
          "Blouse",
          "Shirt",
          "Pants",
          "Jeans",
          "Pants",
          "Hoodie",
          "Blouse",
          "Socks",
          "Jeans",
          "Pants",
          "Socks",
          "Hoodie",
          "Hoodie",
          "Pants",
          "Shirt",
          "T-shirt",
          "Dress",
          "Skirt",
          "Hoodie",
          "Socks",
          "Shorts",
          "Jeans",
          "Shorts",
          "Pants",
          "Sweater",
          "Dress",
          "Shirt",
          "Dress",
          "Skirt",
          "Jeans",
          "Skirt",
          "Pants",
          "Hoodie",
          "Blouse",
          "Pants",
          "Socks",
          "Shirt",
          "Shirt",
          "Skirt",
          "Sweater",
          "Jeans",
          "Skirt",
          "Socks",
          "Shirt",
          "Sweater",
          "Socks",
          "Socks",
          "Shirt",
          "Socks",
          "Blouse",
          "Jeans",
          "Shorts",
          "T-shirt",
          "Blouse",
          "Blouse",
          "T-shirt",
          "Jeans",
          "Pants",
          "T-shirt",
          "Sweater",
          "Socks",
          "Shirt",
          "Shorts",
          "Sweater",
          "Shorts",
          "Pants",
          "T-shirt",
          "Sweater",
          "Dress",
          "Jeans",
          "Jeans",
          "Blouse",
          "Jeans",
          "Dress",
          "Socks",
          "Jeans",
          "Dress",
          "Socks",
          "Hoodie",
          "Dress",
          "T-shirt",
          "T-shirt",
          "Sweater",
          "Shirt",
          "Pants",
          "Pants",
          "Hoodie",
          "Socks",
          "Dress",
          "Shirt",
          "Dress",
          "Socks",
          "Skirt",
          "Skirt",
          "Shorts",
          "Skirt",
          "Socks",
          "Sweater",
          "Dress",
          "Skirt",
          "Skirt",
          "T-shirt",
          "Shirt",
          "Jeans",
          "Shorts",
          "Shirt",
          "Skirt",
          "Shirt",
          "Blouse",
          "Dress",
          "Shorts",
          "Pants",
          "Skirt",
          "Sweater",
          "Shorts",
          "Skirt",
          "Dress",
          "Socks",
          "Blouse",
          "Shorts",
          "Shorts",
          "Blouse",
          "Blouse",
          "Blouse",
          "Shirt",
          "Socks",
          "Jeans",
          "Dress",
          "Pants",
          "Dress",
          "Dress",
          "Jeans",
          "Sweater",
          "Sweater",
          "Pants",
          "Pants",
          "Blouse",
          "Shorts",
          "Pants",
          "Shirt",
          "Pants",
          "Blouse",
          "Socks",
          "T-shirt",
          "Skirt",
          "Shirt",
          "Shorts",
          "Socks",
          "T-shirt",
          "Hoodie",
          "Blouse",
          "Skirt",
          "T-shirt",
          "Jeans",
          "Dress",
          "Sweater",
          "Skirt",
          "Blouse",
          "Dress",
          "Dress",
          "Shorts",
          "Jeans",
          "Hoodie",
          "Blouse",
          "Socks",
          "Blouse",
          "Shorts",
          "T-shirt",
          "Sweater",
          "Socks",
          "Pants",
          "Hoodie",
          "Skirt",
          "Dress",
          "T-shirt",
          "Dress",
          "Socks",
          "Hoodie",
          "Skirt",
          "Skirt",
          "Pants",
          "Shirt",
          "Shirt",
          "Blouse",
          "Skirt",
          "Socks",
          "T-shirt",
          "Blouse",
          "Sweater",
          "Blouse",
          "Skirt",
          "Shirt",
          "Sweater",
          "Jeans",
          "Socks",
          "Socks",
          "Sweater",
          "Socks",
          "Hoodie",
          "Blouse",
          "Sweater",
          "Blouse",
          "Socks",
          "Dress",
          "Shirt",
          "Shirt",
          "Jeans",
          "Socks",
          "Blouse",
          "Shirt",
          "Dress",
          "Shorts",
          "Shorts",
          "Jeans",
          "Shorts",
          "Hoodie",
          "Shorts",
          "Socks",
          "Pants",
          "Sweater",
          "T-shirt",
          "Hoodie",
          "T-shirt",
          "T-shirt",
          "Jeans",
          "Socks",
          "Blouse",
          "Shirt",
          "Pants",
          "T-shirt",
          "Socks",
          "Shirt",
          "Sweater",
          "Jeans",
          "T-shirt",
          "Socks",
          "Jeans",
          "Pants",
          "Blouse",
          "Shorts",
          "Shorts",
          "Skirt",
          "Blouse",
          "Shirt",
          "Socks",
          "T-shirt",
          "Dress",
          "Socks",
          "Dress",
          "Socks",
          "Skirt",
          "Hoodie",
          "Blouse",
          "Jeans",
          "Blouse",
          "Socks",
          "Hoodie",
          "Shorts",
          "Skirt",
          "Shorts",
          "Dress",
          "Socks",
          "Socks",
          "Blouse",
          "Shorts",
          "Shirt",
          "Sweater",
          "Shorts",
          "Pants",
          "Skirt",
          "Socks",
          "Pants",
          "Pants",
          "T-shirt",
          "Shorts",
          "Hoodie",
          "Hoodie",
          "Shorts",
          "Socks",
          "T-shirt",
          "Dress",
          "Blouse",
          "T-shirt",
          "Shorts",
          "Hoodie",
          "Socks",
          "Blouse",
          "Jeans",
          "Dress",
          "Dress",
          "Jeans",
          "Socks",
          "Pants",
          "Shorts",
          "Pants",
          "Skirt",
          "Blouse",
          "Shirt",
          "Dress",
          "Dress",
          "Sweater",
          "Hoodie",
          "Jeans",
          "T-shirt",
          "Shorts",
          "Pants",
          "Blouse",
          "Dress",
          "Skirt",
          "Shirt",
          "Hoodie",
          "Skirt",
          "Skirt",
          "Hoodie",
          "Pants",
          "Shirt",
          "Blouse",
          "Skirt",
          "Pants",
          "T-shirt",
          "Pants",
          "Socks",
          "Shorts",
          "Blouse",
          "Shorts",
          "Dress",
          "Pants",
          "Skirt",
          "T-shirt",
          "Hoodie",
          "Shorts",
          "Shorts",
          "Shorts",
          "Socks",
          "Dress",
          "Socks",
          "Dress",
          "Blouse",
          "Pants",
          "Hoodie",
          "T-shirt",
          "Sweater",
          "Dress",
          "Dress",
          "Shirt",
          "Sweater",
          "Shorts",
          "Hoodie",
          "Shirt",
          "Skirt",
          "Socks",
          "Jeans",
          "Skirt",
          "Hoodie",
          "Shirt",
          "Dress",
          "Shirt",
          "Hoodie",
          "Jeans",
          "Dress",
          "Sweater",
          "Blouse",
          "Skirt",
          "T-shirt",
          "Sweater",
          "Dress",
          "Dress",
          "Blouse",
          "Shirt",
          "Pants",
          "Socks",
          "Blouse",
          "Skirt",
          "Skirt",
          "Blouse",
          "Sweater",
          "Socks",
          "Shorts",
          "Hoodie",
          "T-shirt",
          "Shirt",
          "Shirt",
          "T-shirt",
          "Hoodie",
          "Blouse",
          "Hoodie",
          "Skirt",
          "Shorts",
          "Jeans",
          "Hoodie",
          "Shirt",
          "T-shirt",
          "Blouse",
          "Skirt",
          "Shorts",
          "Shirt",
          "Skirt",
          "Dress",
          "Blouse",
          "Skirt",
          "Hoodie",
          "Jeans",
          "T-shirt",
          "Pants",
          "T-shirt",
          "Dress",
          "Sweater",
          "Socks",
          "Sweater",
          "Blouse",
          "Dress",
          "Jeans",
          "Shorts",
          "Shirt",
          "T-shirt",
          "Sweater",
          "Skirt",
          "Blouse",
          "Socks",
          "Shorts",
          "Sweater",
          "Shirt",
          "Pants",
          "Hoodie",
          "Socks",
          "Dress",
          "Blouse",
          "Skirt",
          "Blouse",
          "Socks",
          "Hoodie",
          "Jeans",
          "T-shirt",
          "Dress",
          "Hoodie",
          "Blouse",
          "Blouse",
          "Blouse",
          "Blouse",
          "Socks",
          "Sweater",
          "Shirt",
          "Shorts",
          "Shirt",
          "Shirt",
          "Shirt",
          "Sweater",
          "Shirt",
          "Socks",
          "T-shirt",
          "Skirt",
          "Sweater",
          "Skirt",
          "Socks",
          "Shirt",
          "Pants",
          "Pants",
          "Jeans",
          "Dress",
          "T-shirt",
          "Dress",
          "Skirt",
          "Hoodie",
          "Pants",
          "Sweater",
          "Shorts",
          "Shorts",
          "Jeans",
          "Pants",
          "Dress",
          "Pants",
          "Skirt",
          "Socks",
          "Shirt",
          "Dress",
          "Socks",
          "Sweater",
          "Jeans",
          "Sweater",
          "Hoodie",
          "Blouse",
          "Skirt",
          "Shorts",
          "Dress",
          "Skirt",
          "T-shirt",
          "Blouse",
          "Jeans",
          "Blouse",
          "Shirt",
          "Hoodie",
          "Dress",
          "Dress",
          "Blouse",
          "Sweater",
          "Hoodie",
          "Blouse",
          "Socks",
          "Sweater",
          "T-shirt",
          "Skirt",
          "Jeans",
          "Sweater",
          "Shirt",
          "Shorts",
          "Sweater",
          "Hoodie",
          "T-shirt",
          "Pants",
          "Sweater",
          "Shirt",
          "Dress",
          "Shirt",
          "Dress",
          "Socks",
          "Shirt",
          "Pants",
          "Shirt",
          "Shirt",
          "Pants",
          "Skirt",
          "Blouse",
          "Socks",
          "Blouse",
          "Shirt",
          "Hoodie",
          "Shorts",
          "Shirt",
          "Hoodie",
          "Socks",
          "Pants",
          "Sweater",
          "T-shirt",
          "Skirt",
          "Blouse",
          "Hoodie",
          "Shirt",
          "Sweater",
          "Shorts",
          "Blouse",
          "T-shirt",
          "Socks",
          "Shirt",
          "Dress",
          "Pants",
          "Dress",
          "Shirt",
          "Dress",
          "Jeans",
          "T-shirt",
          "Socks",
          "Skirt",
          "Pants",
          "Socks",
          "Shorts",
          "Sweater",
          "Skirt",
          "Blouse",
          "Blouse",
          "Jeans",
          "Hoodie",
          "Sweater",
          "Sweater",
          "Socks",
          "Pants",
          "Hoodie",
          "Socks",
          "Socks",
          "Pants",
          "Skirt",
          "Hoodie",
          "Skirt",
          "T-shirt",
          "Shirt",
          "Hoodie",
          "Blouse",
          "Pants",
          "T-shirt",
          "T-shirt",
          "Socks",
          "Hoodie",
          "Sweater",
          "Pants",
          "T-shirt",
          "Sweater",
          "Shorts",
          "Shirt",
          "T-shirt",
          "Shorts",
          "Pants",
          "Hoodie",
          "Dress",
          "Blouse",
          "Socks",
          "Socks",
          "Sweater",
          "Pants",
          "Skirt",
          "Dress",
          "Pants",
          "T-shirt",
          "Skirt",
          "Sweater",
          "Blouse",
          "Blouse",
          "Shorts",
          "Pants",
          "Blouse",
          "Hoodie",
          "Jeans",
          "Socks",
          "Socks",
          "Shorts",
          "Blouse",
          "Sweater",
          "T-shirt",
          "Shorts",
          "T-shirt",
          "Jeans",
          "Shirt",
          "Blouse",
          "Skirt",
          "T-shirt",
          "Shorts",
          "Jeans",
          "T-shirt",
          "Shirt",
          "Dress",
          "Skirt",
          "Blouse",
          "Jeans",
          "Hoodie",
          "T-shirt",
          "Sweater",
          "Skirt",
          "T-shirt",
          "Sweater",
          "Hoodie",
          "Socks",
          "Blouse",
          "Shirt",
          "Shorts",
          "Dress",
          "Sweater",
          "Hoodie",
          "T-shirt",
          "Pants",
          "Sweater",
          "Pants",
          "Socks",
          "Hoodie",
          "Dress",
          "Dress",
          "Pants",
          "Blouse",
          "Jeans",
          "Pants",
          "Hoodie",
          "Blouse",
          "Sweater",
          "Dress",
          "Socks",
          "Shirt",
          "Blouse",
          "Socks",
          "T-shirt",
          "Skirt",
          "Socks",
          "Socks",
          "Pants",
          "Socks",
          "Shirt",
          "Sweater",
          "Skirt",
          "Dress",
          "Pants",
          "Blouse",
          "Shorts",
          "Blouse",
          "Shirt",
          "T-shirt",
          "Hoodie",
          "Hoodie",
          "Jeans",
          "Socks",
          "Socks",
          "Blouse",
          "Dress",
          "Pants",
          "Sweater",
          "Socks",
          "Hoodie",
          "Dress",
          "Shirt",
          "Shorts",
          "Sweater",
          "Dress",
          "Pants",
          "Pants",
          "Shorts",
          "Socks",
          "Shirt",
          "Shirt",
          "Shirt",
          "Pants",
          "T-shirt",
          "Shirt",
          "Blouse",
          "Dress",
          "Skirt",
          "Shirt",
          "Shorts",
          "Pants",
          "Pants",
          "Sweater",
          "Blouse",
          "T-shirt",
          "Pants",
          "Shorts",
          "Shorts",
          "Blouse",
          "Socks",
          "Blouse",
          "T-shirt",
          "Dress",
          "Blouse",
          "Sweater",
          "Shorts",
          "Socks",
          "Blouse",
          "Jeans",
          "Dress",
          "Skirt",
          "Shorts",
          "Jeans",
          "Socks",
          "Blouse",
          "Dress",
          "Shorts",
          "Blouse",
          "Hoodie",
          "Sweater",
          "Dress",
          "Blouse",
          "Hoodie",
          "Hoodie",
          "Dress",
          "T-shirt",
          "Skirt",
          "Jeans",
          "Hoodie",
          "Jeans",
          "Socks",
          "T-shirt",
          "Dress",
          "Hoodie",
          "Dress",
          "Blouse",
          "Blouse",
          "T-shirt",
          "Socks",
          "Dress",
          "Blouse",
          "Shorts",
          "Skirt",
          "Skirt",
          "Jeans",
          "Sweater",
          "T-shirt",
          "Shorts",
          "Socks",
          "Pants",
          "Blouse",
          "Socks",
          "Socks",
          "Shirt",
          "Shirt",
          "Socks",
          "Skirt",
          "Shorts",
          "Shirt",
          "Blouse",
          "Blouse",
          "Sweater",
          "Skirt",
          "Blouse",
          "Hoodie",
          "Skirt",
          "Skirt",
          "Hoodie",
          "Socks",
          "Blouse",
          "Shirt",
          "T-shirt",
          "Pants",
          "Pants",
          "Dress",
          "Socks",
          "Shirt",
          "Socks",
          "Hoodie",
          "Jeans",
          "Shorts",
          "Pants",
          "Shirt",
          "Shirt",
          "Pants",
          "Hoodie",
          "Socks",
          "Sweater",
          "Blouse",
          "Hoodie",
          "Skirt",
          "Skirt",
          "Skirt",
          "Socks",
          "Shorts",
          "Shirt",
          "Socks",
          "Shorts",
          "Sweater",
          "Pants",
          "T-shirt",
          "Pants",
          "Sweater",
          "Shorts",
          "Jeans",
          "Socks",
          "Jeans",
          "Blouse",
          "Shirt",
          "Shorts",
          "Sweater",
          "Blouse",
          "Blouse",
          "Socks",
          "Skirt",
          "Skirt",
          "Pants",
          "Dress",
          "Pants",
          "Shirt",
          "Shorts",
          "Shorts",
          "Blouse",
          "Pants",
          "Hoodie",
          "Skirt",
          "Hoodie",
          "Dress",
          "Jeans",
          "Jeans",
          "Shorts",
          "Sweater",
          "Blouse",
          "Sweater",
          "Hoodie",
          "T-shirt",
          "Shirt",
          "T-shirt",
          "Shorts",
          "Shirt",
          "T-shirt",
          "Shorts",
          "Dress",
          "T-shirt",
          "Sweater",
          "Hoodie",
          "Skirt",
          "Shirt",
          "Pants",
          "Socks",
          "Shirt",
          "Dress",
          "Shirt",
          "Dress",
          "Skirt",
          "Hoodie"
         ],
         "xaxis": "x",
         "yaxis": "y"
        },
        {
         "alignmentgroup": "True",
         "bingroup": "x",
         "hovertemplate": "Category=Footwear<br>Item Purchased=%{x}<br>count=%{y}<extra></extra>",
         "legendgroup": "Footwear",
         "marker": {
          "color": "#EF553B",
          "pattern": {
           "shape": ""
          }
         },
         "name": "Footwear",
         "offsetgroup": "Footwear",
         "orientation": "v",
         "showlegend": true,
         "type": "histogram",
         "x": [
          "Sandals",
          "Sneakers",
          "Shoes",
          "Sneakers",
          "Boots",
          "Sandals",
          "Shoes",
          "Shoes",
          "Sneakers",
          "Shoes",
          "Boots",
          "Sneakers",
          "Shoes",
          "Sandals",
          "Sandals",
          "Sneakers",
          "Shoes",
          "Shoes",
          "Boots",
          "Sneakers",
          "Shoes",
          "Shoes",
          "Boots",
          "Sandals",
          "Sneakers",
          "Shoes",
          "Shoes",
          "Boots",
          "Sneakers",
          "Sandals",
          "Sneakers",
          "Shoes",
          "Sandals",
          "Sandals",
          "Boots",
          "Shoes",
          "Sneakers",
          "Sandals",
          "Shoes",
          "Sandals",
          "Shoes",
          "Sneakers",
          "Sandals",
          "Sneakers",
          "Sandals",
          "Shoes",
          "Sandals",
          "Sneakers",
          "Sneakers",
          "Sneakers",
          "Shoes",
          "Sneakers",
          "Shoes",
          "Boots",
          "Shoes",
          "Sneakers",
          "Boots",
          "Boots",
          "Sneakers",
          "Sneakers",
          "Sandals",
          "Sandals",
          "Shoes",
          "Boots",
          "Boots",
          "Shoes",
          "Boots",
          "Sneakers",
          "Shoes",
          "Sandals",
          "Sneakers",
          "Boots",
          "Sneakers",
          "Boots",
          "Shoes",
          "Boots",
          "Shoes",
          "Shoes",
          "Boots",
          "Sandals",
          "Sneakers",
          "Sandals",
          "Sandals",
          "Boots",
          "Sandals",
          "Sneakers",
          "Sneakers",
          "Shoes",
          "Sneakers",
          "Sneakers",
          "Sandals",
          "Sandals",
          "Boots",
          "Boots",
          "Shoes",
          "Shoes",
          "Boots",
          "Shoes",
          "Sandals",
          "Shoes",
          "Sandals",
          "Shoes",
          "Boots",
          "Sandals",
          "Sneakers",
          "Sandals",
          "Boots",
          "Sandals",
          "Sneakers",
          "Sandals",
          "Boots",
          "Boots",
          "Boots",
          "Boots",
          "Boots",
          "Sandals",
          "Boots",
          "Shoes",
          "Sneakers",
          "Sneakers",
          "Shoes",
          "Sneakers",
          "Sandals",
          "Boots",
          "Shoes",
          "Boots",
          "Sneakers",
          "Boots",
          "Sneakers",
          "Shoes",
          "Boots",
          "Sandals",
          "Boots",
          "Sandals",
          "Shoes",
          "Sandals",
          "Shoes",
          "Sneakers",
          "Boots",
          "Sandals",
          "Sandals",
          "Boots",
          "Sneakers",
          "Sneakers",
          "Sneakers",
          "Sneakers",
          "Boots",
          "Sneakers",
          "Shoes",
          "Boots",
          "Sneakers",
          "Boots",
          "Boots",
          "Sandals",
          "Boots",
          "Sneakers",
          "Boots",
          "Shoes",
          "Shoes",
          "Sandals",
          "Shoes",
          "Sandals",
          "Shoes",
          "Shoes",
          "Sandals",
          "Shoes",
          "Sandals",
          "Boots",
          "Sneakers",
          "Sneakers",
          "Shoes",
          "Boots",
          "Sneakers",
          "Sneakers",
          "Shoes",
          "Sneakers",
          "Sandals",
          "Shoes",
          "Boots",
          "Sneakers",
          "Sneakers",
          "Shoes",
          "Sandals",
          "Sneakers",
          "Sandals",
          "Shoes",
          "Sneakers",
          "Boots",
          "Boots",
          "Shoes",
          "Boots",
          "Boots",
          "Sandals",
          "Boots",
          "Sandals",
          "Sandals",
          "Sneakers",
          "Boots",
          "Boots",
          "Sandals",
          "Boots",
          "Sandals",
          "Sneakers",
          "Sandals",
          "Sneakers",
          "Shoes",
          "Shoes",
          "Boots",
          "Shoes",
          "Boots",
          "Sneakers",
          "Sneakers",
          "Shoes",
          "Sneakers",
          "Sandals",
          "Sneakers",
          "Shoes",
          "Sneakers",
          "Sandals",
          "Boots",
          "Sandals",
          "Sandals",
          "Sneakers",
          "Boots",
          "Boots",
          "Sandals",
          "Sandals",
          "Boots",
          "Boots",
          "Sneakers",
          "Shoes",
          "Boots",
          "Sneakers",
          "Sandals",
          "Sneakers",
          "Sneakers",
          "Boots",
          "Sneakers",
          "Shoes",
          "Shoes",
          "Sandals",
          "Shoes",
          "Sneakers",
          "Sneakers",
          "Sneakers",
          "Sneakers",
          "Boots",
          "Sneakers",
          "Boots",
          "Sneakers",
          "Shoes",
          "Boots",
          "Sandals",
          "Sandals",
          "Sneakers",
          "Shoes",
          "Boots",
          "Boots",
          "Boots",
          "Shoes",
          "Sneakers",
          "Shoes",
          "Sneakers",
          "Boots",
          "Shoes",
          "Sandals",
          "Boots",
          "Sandals",
          "Sandals",
          "Shoes",
          "Sneakers",
          "Sneakers",
          "Sneakers",
          "Sneakers",
          "Boots",
          "Shoes",
          "Boots",
          "Sandals",
          "Sandals",
          "Sandals",
          "Sneakers",
          "Sandals",
          "Boots",
          "Sandals",
          "Sandals",
          "Boots",
          "Sandals",
          "Sandals",
          "Sneakers",
          "Sandals",
          "Shoes",
          "Shoes",
          "Shoes",
          "Boots",
          "Sandals",
          "Sandals",
          "Shoes",
          "Sneakers",
          "Boots",
          "Sneakers",
          "Sneakers",
          "Shoes",
          "Sandals",
          "Boots",
          "Sandals",
          "Shoes",
          "Shoes",
          "Shoes",
          "Shoes",
          "Sneakers",
          "Boots",
          "Shoes",
          "Sneakers",
          "Sneakers",
          "Sandals",
          "Sandals",
          "Sneakers",
          "Shoes",
          "Shoes",
          "Boots",
          "Sandals",
          "Boots",
          "Sandals",
          "Shoes",
          "Sandals",
          "Shoes",
          "Sandals",
          "Shoes",
          "Sandals",
          "Boots",
          "Sandals",
          "Sandals",
          "Sandals",
          "Sandals",
          "Sneakers",
          "Shoes",
          "Boots",
          "Sandals",
          "Sneakers",
          "Sandals",
          "Shoes",
          "Shoes",
          "Shoes",
          "Sneakers",
          "Shoes",
          "Sneakers",
          "Boots",
          "Sneakers",
          "Sneakers",
          "Sandals",
          "Shoes",
          "Sandals",
          "Boots",
          "Boots",
          "Boots",
          "Sneakers",
          "Sandals",
          "Shoes",
          "Shoes",
          "Boots",
          "Sneakers",
          "Shoes",
          "Shoes",
          "Boots",
          "Sandals",
          "Sandals",
          "Boots",
          "Sneakers",
          "Shoes",
          "Sandals",
          "Sneakers",
          "Shoes",
          "Sneakers",
          "Sneakers",
          "Sneakers",
          "Sandals",
          "Sandals",
          "Sandals",
          "Boots",
          "Shoes",
          "Boots",
          "Shoes",
          "Sneakers",
          "Boots",
          "Sandals",
          "Sandals",
          "Shoes",
          "Boots",
          "Boots",
          "Shoes",
          "Boots",
          "Sneakers",
          "Shoes",
          "Shoes",
          "Sandals",
          "Shoes",
          "Shoes",
          "Sandals",
          "Shoes",
          "Sneakers",
          "Boots",
          "Boots",
          "Sneakers",
          "Sandals",
          "Boots",
          "Sandals",
          "Boots",
          "Shoes",
          "Sneakers",
          "Boots",
          "Sneakers",
          "Boots",
          "Boots",
          "Shoes",
          "Shoes",
          "Sneakers",
          "Shoes",
          "Sandals",
          "Shoes",
          "Sneakers",
          "Sneakers",
          "Shoes",
          "Boots",
          "Sandals",
          "Shoes",
          "Sneakers",
          "Boots",
          "Boots",
          "Boots",
          "Sandals",
          "Boots",
          "Boots",
          "Boots",
          "Shoes",
          "Shoes",
          "Boots",
          "Sandals",
          "Boots",
          "Sneakers",
          "Boots",
          "Sandals",
          "Sneakers",
          "Boots",
          "Boots",
          "Sandals",
          "Shoes",
          "Shoes",
          "Sneakers",
          "Sneakers",
          "Boots",
          "Boots",
          "Boots",
          "Sneakers",
          "Boots",
          "Sneakers",
          "Sandals",
          "Shoes",
          "Boots",
          "Sandals",
          "Shoes",
          "Sneakers",
          "Boots",
          "Boots",
          "Shoes",
          "Sneakers",
          "Shoes",
          "Shoes",
          "Boots",
          "Sandals",
          "Boots",
          "Shoes",
          "Boots",
          "Sneakers",
          "Sandals",
          "Sandals",
          "Shoes",
          "Sandals",
          "Sandals",
          "Sandals",
          "Boots",
          "Shoes",
          "Sneakers",
          "Boots",
          "Shoes",
          "Sandals",
          "Sandals",
          "Sneakers",
          "Boots",
          "Sneakers",
          "Boots",
          "Shoes",
          "Sneakers",
          "Sneakers",
          "Sneakers",
          "Shoes",
          "Sneakers",
          "Sandals",
          "Sneakers",
          "Sandals",
          "Shoes",
          "Shoes",
          "Sneakers",
          "Sandals",
          "Sandals",
          "Sneakers",
          "Shoes",
          "Shoes",
          "Sandals",
          "Sandals",
          "Boots",
          "Sandals",
          "Boots",
          "Sandals",
          "Shoes",
          "Sandals",
          "Boots",
          "Sandals",
          "Shoes",
          "Boots",
          "Boots",
          "Boots",
          "Sandals",
          "Shoes",
          "Sandals",
          "Sneakers",
          "Boots",
          "Sandals",
          "Sandals",
          "Boots",
          "Shoes",
          "Sandals",
          "Shoes",
          "Sneakers",
          "Sneakers",
          "Boots",
          "Shoes",
          "Shoes",
          "Sneakers",
          "Shoes",
          "Shoes",
          "Sandals",
          "Shoes",
          "Shoes",
          "Sneakers",
          "Sneakers",
          "Sandals",
          "Sandals",
          "Boots",
          "Shoes",
          "Sneakers",
          "Boots",
          "Sandals",
          "Sandals",
          "Sandals",
          "Sandals",
          "Sneakers",
          "Sneakers",
          "Sandals",
          "Sandals",
          "Boots",
          "Shoes",
          "Sandals",
          "Shoes",
          "Sandals",
          "Shoes",
          "Sandals",
          "Sandals",
          "Sandals",
          "Sandals",
          "Shoes",
          "Sandals",
          "Sandals",
          "Shoes",
          "Sandals",
          "Boots",
          "Shoes",
          "Sandals",
          "Shoes",
          "Sandals",
          "Sneakers",
          "Sneakers",
          "Sneakers",
          "Sneakers",
          "Boots",
          "Boots",
          "Boots",
          "Shoes",
          "Sneakers",
          "Sneakers",
          "Boots",
          "Sandals",
          "Sandals",
          "Sandals",
          "Sandals",
          "Sandals",
          "Shoes",
          "Sandals",
          "Sneakers",
          "Shoes"
         ],
         "xaxis": "x",
         "yaxis": "y"
        },
        {
         "alignmentgroup": "True",
         "bingroup": "x",
         "hovertemplate": "Category=Outerwear<br>Item Purchased=%{x}<br>count=%{y}<extra></extra>",
         "legendgroup": "Outerwear",
         "marker": {
          "color": "#00cc96",
          "pattern": {
           "shape": ""
          }
         },
         "name": "Outerwear",
         "offsetgroup": "Outerwear",
         "orientation": "v",
         "showlegend": true,
         "type": "histogram",
         "x": [
          "Coat",
          "Coat",
          "Coat",
          "Jacket",
          "Jacket",
          "Coat",
          "Coat",
          "Jacket",
          "Coat",
          "Coat",
          "Jacket",
          "Coat",
          "Jacket",
          "Jacket",
          "Coat",
          "Jacket",
          "Coat",
          "Coat",
          "Coat",
          "Jacket",
          "Coat",
          "Jacket",
          "Coat",
          "Coat",
          "Jacket",
          "Jacket",
          "Jacket",
          "Jacket",
          "Coat",
          "Coat",
          "Coat",
          "Coat",
          "Jacket",
          "Coat",
          "Coat",
          "Coat",
          "Coat",
          "Coat",
          "Jacket",
          "Coat",
          "Coat",
          "Coat",
          "Jacket",
          "Jacket",
          "Jacket",
          "Coat",
          "Jacket",
          "Coat",
          "Coat",
          "Coat",
          "Jacket",
          "Coat",
          "Jacket",
          "Coat",
          "Jacket",
          "Coat",
          "Coat",
          "Jacket",
          "Jacket",
          "Jacket",
          "Coat",
          "Coat",
          "Jacket",
          "Jacket",
          "Coat",
          "Jacket",
          "Jacket",
          "Jacket",
          "Jacket",
          "Jacket",
          "Coat",
          "Coat",
          "Coat",
          "Coat",
          "Jacket",
          "Coat",
          "Jacket",
          "Coat",
          "Jacket",
          "Jacket",
          "Jacket",
          "Coat",
          "Coat",
          "Coat",
          "Coat",
          "Jacket",
          "Coat",
          "Jacket",
          "Jacket",
          "Coat",
          "Coat",
          "Jacket",
          "Jacket",
          "Jacket",
          "Coat",
          "Coat",
          "Coat",
          "Jacket",
          "Coat",
          "Coat",
          "Coat",
          "Coat",
          "Coat",
          "Coat",
          "Jacket",
          "Coat",
          "Jacket",
          "Jacket",
          "Coat",
          "Coat",
          "Jacket",
          "Jacket",
          "Coat",
          "Coat",
          "Coat",
          "Coat",
          "Jacket",
          "Coat",
          "Jacket",
          "Jacket",
          "Jacket",
          "Coat",
          "Jacket",
          "Coat",
          "Coat",
          "Jacket",
          "Jacket",
          "Coat",
          "Coat",
          "Jacket",
          "Jacket",
          "Jacket",
          "Jacket",
          "Jacket",
          "Coat",
          "Jacket",
          "Jacket",
          "Coat",
          "Jacket",
          "Coat",
          "Coat",
          "Coat",
          "Jacket",
          "Coat",
          "Coat",
          "Coat",
          "Jacket",
          "Jacket",
          "Coat",
          "Coat",
          "Coat",
          "Jacket",
          "Jacket",
          "Jacket",
          "Coat",
          "Jacket",
          "Coat",
          "Jacket",
          "Jacket",
          "Jacket",
          "Jacket",
          "Jacket",
          "Jacket",
          "Coat",
          "Jacket",
          "Coat",
          "Jacket",
          "Coat",
          "Jacket",
          "Jacket",
          "Jacket",
          "Coat",
          "Coat",
          "Coat",
          "Jacket",
          "Coat",
          "Coat",
          "Coat",
          "Jacket",
          "Jacket",
          "Jacket",
          "Coat",
          "Coat",
          "Jacket",
          "Coat",
          "Coat",
          "Coat",
          "Coat",
          "Jacket",
          "Coat",
          "Coat",
          "Coat",
          "Jacket",
          "Jacket",
          "Coat",
          "Jacket",
          "Jacket",
          "Coat",
          "Jacket",
          "Jacket",
          "Jacket",
          "Jacket",
          "Jacket",
          "Coat",
          "Jacket",
          "Coat",
          "Coat",
          "Jacket",
          "Jacket",
          "Jacket",
          "Coat",
          "Coat",
          "Coat",
          "Jacket",
          "Jacket",
          "Coat",
          "Jacket",
          "Coat",
          "Jacket",
          "Jacket",
          "Jacket",
          "Jacket",
          "Jacket",
          "Coat",
          "Coat",
          "Coat",
          "Jacket",
          "Jacket",
          "Jacket",
          "Jacket",
          "Coat",
          "Jacket",
          "Jacket",
          "Jacket",
          "Jacket",
          "Jacket",
          "Coat",
          "Jacket",
          "Jacket",
          "Jacket",
          "Coat",
          "Coat",
          "Jacket",
          "Coat",
          "Coat",
          "Jacket",
          "Coat",
          "Coat",
          "Coat",
          "Coat",
          "Jacket",
          "Coat",
          "Jacket",
          "Coat",
          "Jacket",
          "Coat",
          "Coat",
          "Coat",
          "Jacket",
          "Jacket",
          "Jacket",
          "Coat",
          "Coat",
          "Jacket",
          "Jacket",
          "Coat",
          "Jacket",
          "Jacket",
          "Coat",
          "Jacket",
          "Coat",
          "Coat",
          "Coat",
          "Coat",
          "Coat",
          "Jacket",
          "Jacket",
          "Coat",
          "Coat",
          "Jacket",
          "Jacket",
          "Jacket",
          "Jacket",
          "Coat",
          "Jacket",
          "Jacket",
          "Jacket",
          "Jacket",
          "Coat",
          "Coat",
          "Jacket",
          "Coat",
          "Jacket",
          "Coat",
          "Jacket",
          "Coat",
          "Coat",
          "Coat",
          "Jacket",
          "Coat",
          "Jacket",
          "Jacket",
          "Coat",
          "Jacket",
          "Coat",
          "Jacket",
          "Jacket",
          "Coat",
          "Coat",
          "Coat",
          "Jacket",
          "Jacket",
          "Coat",
          "Coat",
          "Jacket",
          "Jacket",
          "Coat",
          "Jacket",
          "Jacket",
          "Jacket",
          "Jacket",
          "Jacket",
          "Coat",
          "Jacket"
         ],
         "xaxis": "x",
         "yaxis": "y"
        },
        {
         "alignmentgroup": "True",
         "bingroup": "x",
         "hovertemplate": "Category=Accessories<br>Item Purchased=%{x}<br>count=%{y}<extra></extra>",
         "legendgroup": "Accessories",
         "marker": {
          "color": "#ab63fa",
          "pattern": {
           "shape": ""
          }
         },
         "name": "Accessories",
         "offsetgroup": "Accessories",
         "orientation": "v",
         "showlegend": true,
         "type": "histogram",
         "x": [
          "Handbag",
          "Sunglasses",
          "Jewelry",
          "Handbag",
          "Jewelry",
          "Handbag",
          "Scarf",
          "Scarf",
          "Hat",
          "Jewelry",
          "Backpack",
          "Belt",
          "Scarf",
          "Sunglasses",
          "Backpack",
          "Handbag",
          "Belt",
          "Belt",
          "Gloves",
          "Scarf",
          "Hat",
          "Sunglasses",
          "Hat",
          "Scarf",
          "Gloves",
          "Sunglasses",
          "Sunglasses",
          "Backpack",
          "Backpack",
          "Belt",
          "Gloves",
          "Hat",
          "Hat",
          "Backpack",
          "Scarf",
          "Scarf",
          "Backpack",
          "Hat",
          "Gloves",
          "Jewelry",
          "Gloves",
          "Sunglasses",
          "Hat",
          "Gloves",
          "Gloves",
          "Backpack",
          "Sunglasses",
          "Handbag",
          "Handbag",
          "Gloves",
          "Jewelry",
          "Hat",
          "Backpack",
          "Gloves",
          "Backpack",
          "Hat",
          "Belt",
          "Backpack",
          "Scarf",
          "Jewelry",
          "Hat",
          "Hat",
          "Scarf",
          "Gloves",
          "Handbag",
          "Handbag",
          "Scarf",
          "Sunglasses",
          "Belt",
          "Hat",
          "Gloves",
          "Scarf",
          "Jewelry",
          "Gloves",
          "Sunglasses",
          "Jewelry",
          "Belt",
          "Sunglasses",
          "Belt",
          "Handbag",
          "Handbag",
          "Sunglasses",
          "Scarf",
          "Jewelry",
          "Handbag",
          "Gloves",
          "Hat",
          "Backpack",
          "Jewelry",
          "Sunglasses",
          "Jewelry",
          "Jewelry",
          "Backpack",
          "Belt",
          "Handbag",
          "Jewelry",
          "Scarf",
          "Handbag",
          "Sunglasses",
          "Hat",
          "Gloves",
          "Handbag",
          "Jewelry",
          "Handbag",
          "Backpack",
          "Jewelry",
          "Belt",
          "Scarf",
          "Hat",
          "Hat",
          "Hat",
          "Jewelry",
          "Jewelry",
          "Belt",
          "Hat",
          "Gloves",
          "Handbag",
          "Belt",
          "Scarf",
          "Jewelry",
          "Sunglasses",
          "Scarf",
          "Backpack",
          "Jewelry",
          "Sunglasses",
          "Jewelry",
          "Handbag",
          "Gloves",
          "Scarf",
          "Belt",
          "Scarf",
          "Backpack",
          "Gloves",
          "Jewelry",
          "Backpack",
          "Belt",
          "Scarf",
          "Backpack",
          "Hat",
          "Jewelry",
          "Belt",
          "Sunglasses",
          "Sunglasses",
          "Gloves",
          "Jewelry",
          "Jewelry",
          "Jewelry",
          "Gloves",
          "Hat",
          "Jewelry",
          "Sunglasses",
          "Backpack",
          "Backpack",
          "Scarf",
          "Scarf",
          "Jewelry",
          "Handbag",
          "Hat",
          "Belt",
          "Hat",
          "Backpack",
          "Handbag",
          "Scarf",
          "Jewelry",
          "Gloves",
          "Scarf",
          "Hat",
          "Belt",
          "Sunglasses",
          "Gloves",
          "Gloves",
          "Backpack",
          "Backpack",
          "Belt",
          "Sunglasses",
          "Gloves",
          "Scarf",
          "Jewelry",
          "Backpack",
          "Scarf",
          "Hat",
          "Belt",
          "Backpack",
          "Jewelry",
          "Hat",
          "Backpack",
          "Handbag",
          "Sunglasses",
          "Hat",
          "Scarf",
          "Backpack",
          "Scarf",
          "Hat",
          "Jewelry",
          "Gloves",
          "Backpack",
          "Backpack",
          "Backpack",
          "Sunglasses",
          "Jewelry",
          "Sunglasses",
          "Jewelry",
          "Backpack",
          "Handbag",
          "Backpack",
          "Gloves",
          "Hat",
          "Sunglasses",
          "Scarf",
          "Handbag",
          "Handbag",
          "Backpack",
          "Gloves",
          "Sunglasses",
          "Jewelry",
          "Sunglasses",
          "Hat",
          "Gloves",
          "Scarf",
          "Backpack",
          "Sunglasses",
          "Belt",
          "Scarf",
          "Handbag",
          "Backpack",
          "Scarf",
          "Jewelry",
          "Jewelry",
          "Jewelry",
          "Hat",
          "Sunglasses",
          "Sunglasses",
          "Sunglasses",
          "Sunglasses",
          "Sunglasses",
          "Hat",
          "Scarf",
          "Gloves",
          "Scarf",
          "Gloves",
          "Belt",
          "Gloves",
          "Jewelry",
          "Belt",
          "Gloves",
          "Backpack",
          "Hat",
          "Hat",
          "Handbag",
          "Scarf",
          "Hat",
          "Handbag",
          "Handbag",
          "Scarf",
          "Backpack",
          "Belt",
          "Belt",
          "Scarf",
          "Handbag",
          "Hat",
          "Handbag",
          "Sunglasses",
          "Sunglasses",
          "Belt",
          "Gloves",
          "Handbag",
          "Backpack",
          "Gloves",
          "Belt",
          "Hat",
          "Sunglasses",
          "Hat",
          "Handbag",
          "Belt",
          "Handbag",
          "Sunglasses",
          "Backpack",
          "Handbag",
          "Scarf",
          "Belt",
          "Gloves",
          "Backpack",
          "Hat",
          "Jewelry",
          "Belt",
          "Hat",
          "Scarf",
          "Hat",
          "Sunglasses",
          "Belt",
          "Belt",
          "Belt",
          "Handbag",
          "Hat",
          "Belt",
          "Hat",
          "Backpack",
          "Hat",
          "Sunglasses",
          "Hat",
          "Scarf",
          "Jewelry",
          "Sunglasses",
          "Sunglasses",
          "Belt",
          "Gloves",
          "Hat",
          "Belt",
          "Hat",
          "Handbag",
          "Scarf",
          "Handbag",
          "Sunglasses",
          "Jewelry",
          "Hat",
          "Backpack",
          "Backpack",
          "Gloves",
          "Scarf",
          "Backpack",
          "Belt",
          "Gloves",
          "Belt",
          "Scarf",
          "Handbag",
          "Sunglasses",
          "Handbag",
          "Jewelry",
          "Gloves",
          "Handbag",
          "Jewelry",
          "Belt",
          "Belt",
          "Sunglasses",
          "Scarf",
          "Hat",
          "Jewelry",
          "Hat",
          "Scarf",
          "Jewelry",
          "Sunglasses",
          "Scarf",
          "Belt",
          "Hat",
          "Backpack",
          "Jewelry",
          "Sunglasses",
          "Backpack",
          "Scarf",
          "Jewelry",
          "Jewelry",
          "Sunglasses",
          "Handbag",
          "Gloves",
          "Hat",
          "Sunglasses",
          "Hat",
          "Backpack",
          "Sunglasses",
          "Belt",
          "Jewelry",
          "Handbag",
          "Hat",
          "Scarf",
          "Gloves",
          "Jewelry",
          "Handbag",
          "Gloves",
          "Hat",
          "Jewelry",
          "Jewelry",
          "Handbag",
          "Belt",
          "Belt",
          "Handbag",
          "Scarf",
          "Scarf",
          "Backpack",
          "Jewelry",
          "Backpack",
          "Belt",
          "Jewelry",
          "Belt",
          "Hat",
          "Scarf",
          "Belt",
          "Scarf",
          "Belt",
          "Handbag",
          "Handbag",
          "Sunglasses",
          "Handbag",
          "Gloves",
          "Gloves",
          "Jewelry",
          "Hat",
          "Handbag",
          "Gloves",
          "Hat",
          "Scarf",
          "Hat",
          "Hat",
          "Jewelry",
          "Jewelry",
          "Hat",
          "Belt",
          "Gloves",
          "Gloves",
          "Belt",
          "Belt",
          "Belt",
          "Backpack",
          "Belt",
          "Sunglasses",
          "Hat",
          "Jewelry",
          "Backpack",
          "Gloves",
          "Handbag",
          "Handbag",
          "Belt",
          "Belt",
          "Sunglasses",
          "Belt",
          "Sunglasses",
          "Hat",
          "Backpack",
          "Backpack",
          "Scarf",
          "Hat",
          "Handbag",
          "Belt",
          "Belt",
          "Scarf",
          "Gloves",
          "Handbag",
          "Sunglasses",
          "Scarf",
          "Jewelry",
          "Scarf",
          "Hat",
          "Gloves",
          "Gloves",
          "Scarf",
          "Sunglasses",
          "Hat",
          "Backpack",
          "Sunglasses",
          "Backpack",
          "Jewelry",
          "Handbag",
          "Backpack",
          "Hat",
          "Belt",
          "Handbag",
          "Backpack",
          "Hat",
          "Scarf",
          "Belt",
          "Sunglasses",
          "Jewelry",
          "Belt",
          "Gloves",
          "Jewelry",
          "Gloves",
          "Jewelry",
          "Jewelry",
          "Hat",
          "Hat",
          "Belt",
          "Gloves",
          "Jewelry",
          "Gloves",
          "Jewelry",
          "Gloves",
          "Hat",
          "Jewelry",
          "Belt",
          "Jewelry",
          "Belt",
          "Gloves",
          "Belt",
          "Sunglasses",
          "Hat",
          "Backpack",
          "Belt",
          "Hat",
          "Backpack",
          "Backpack",
          "Sunglasses",
          "Belt",
          "Handbag",
          "Jewelry",
          "Belt",
          "Hat",
          "Sunglasses",
          "Handbag",
          "Backpack",
          "Sunglasses",
          "Scarf",
          "Hat",
          "Scarf",
          "Scarf",
          "Backpack",
          "Sunglasses",
          "Backpack",
          "Jewelry",
          "Jewelry",
          "Belt",
          "Scarf",
          "Belt",
          "Handbag",
          "Backpack",
          "Jewelry",
          "Hat",
          "Jewelry",
          "Sunglasses",
          "Belt",
          "Jewelry",
          "Jewelry",
          "Hat",
          "Handbag",
          "Hat",
          "Scarf",
          "Backpack",
          "Sunglasses",
          "Gloves",
          "Sunglasses",
          "Gloves",
          "Scarf",
          "Scarf",
          "Scarf",
          "Handbag",
          "Scarf",
          "Belt",
          "Belt",
          "Jewelry",
          "Gloves",
          "Gloves",
          "Sunglasses",
          "Handbag",
          "Handbag",
          "Sunglasses",
          "Gloves",
          "Handbag",
          "Handbag",
          "Hat",
          "Sunglasses",
          "Belt",
          "Handbag",
          "Backpack",
          "Jewelry",
          "Sunglasses",
          "Jewelry",
          "Scarf",
          "Sunglasses",
          "Backpack",
          "Belt",
          "Jewelry",
          "Handbag",
          "Jewelry",
          "Sunglasses",
          "Handbag",
          "Sunglasses",
          "Belt",
          "Jewelry",
          "Hat",
          "Jewelry",
          "Jewelry",
          "Backpack",
          "Belt",
          "Scarf",
          "Jewelry",
          "Handbag",
          "Backpack",
          "Gloves",
          "Gloves",
          "Hat",
          "Backpack",
          "Belt",
          "Handbag",
          "Backpack",
          "Belt",
          "Hat",
          "Sunglasses",
          "Hat",
          "Sunglasses",
          "Jewelry",
          "Jewelry",
          "Scarf",
          "Hat",
          "Gloves",
          "Handbag",
          "Scarf",
          "Gloves",
          "Jewelry",
          "Scarf",
          "Belt",
          "Gloves",
          "Backpack",
          "Gloves",
          "Gloves",
          "Scarf",
          "Backpack",
          "Jewelry",
          "Gloves",
          "Sunglasses",
          "Jewelry",
          "Sunglasses",
          "Jewelry",
          "Backpack",
          "Scarf",
          "Jewelry",
          "Backpack",
          "Backpack",
          "Gloves",
          "Backpack",
          "Sunglasses",
          "Jewelry",
          "Jewelry",
          "Gloves",
          "Hat",
          "Backpack",
          "Gloves",
          "Gloves",
          "Gloves",
          "Hat",
          "Belt",
          "Hat",
          "Backpack",
          "Gloves",
          "Handbag",
          "Sunglasses",
          "Sunglasses",
          "Scarf",
          "Gloves",
          "Belt",
          "Jewelry",
          "Backpack",
          "Sunglasses",
          "Backpack",
          "Belt",
          "Sunglasses",
          "Scarf",
          "Backpack",
          "Belt",
          "Backpack",
          "Handbag",
          "Jewelry",
          "Scarf",
          "Scarf",
          "Sunglasses",
          "Belt",
          "Jewelry",
          "Gloves",
          "Jewelry",
          "Jewelry",
          "Hat",
          "Backpack",
          "Sunglasses",
          "Handbag",
          "Backpack",
          "Belt",
          "Jewelry",
          "Jewelry",
          "Backpack",
          "Belt",
          "Scarf",
          "Gloves",
          "Scarf",
          "Sunglasses",
          "Scarf",
          "Hat",
          "Hat",
          "Gloves",
          "Jewelry",
          "Jewelry",
          "Sunglasses",
          "Belt",
          "Scarf",
          "Jewelry",
          "Scarf",
          "Backpack",
          "Backpack",
          "Hat",
          "Sunglasses",
          "Sunglasses",
          "Handbag",
          "Hat",
          "Sunglasses",
          "Scarf",
          "Handbag",
          "Handbag",
          "Gloves",
          "Handbag",
          "Gloves",
          "Backpack",
          "Belt",
          "Gloves",
          "Jewelry",
          "Handbag",
          "Belt",
          "Scarf",
          "Scarf",
          "Scarf",
          "Gloves",
          "Handbag",
          "Scarf",
          "Sunglasses",
          "Hat",
          "Belt",
          "Jewelry",
          "Sunglasses",
          "Belt",
          "Gloves",
          "Belt",
          "Scarf",
          "Gloves",
          "Jewelry",
          "Jewelry",
          "Gloves",
          "Belt",
          "Scarf",
          "Backpack",
          "Backpack",
          "Scarf",
          "Hat",
          "Gloves",
          "Hat",
          "Gloves",
          "Handbag",
          "Belt",
          "Jewelry",
          "Sunglasses",
          "Hat",
          "Gloves",
          "Handbag",
          "Belt",
          "Sunglasses",
          "Handbag",
          "Gloves",
          "Sunglasses",
          "Gloves",
          "Handbag",
          "Gloves",
          "Hat",
          "Backpack",
          "Scarf",
          "Scarf",
          "Belt",
          "Belt",
          "Handbag",
          "Backpack",
          "Scarf",
          "Handbag",
          "Scarf",
          "Sunglasses",
          "Sunglasses",
          "Gloves",
          "Backpack",
          "Gloves",
          "Scarf",
          "Hat",
          "Scarf",
          "Backpack",
          "Scarf",
          "Hat",
          "Sunglasses",
          "Sunglasses",
          "Scarf",
          "Scarf",
          "Jewelry",
          "Backpack",
          "Jewelry",
          "Backpack",
          "Jewelry",
          "Gloves",
          "Handbag",
          "Jewelry",
          "Backpack",
          "Scarf",
          "Scarf",
          "Hat",
          "Gloves",
          "Belt",
          "Handbag",
          "Scarf",
          "Hat",
          "Gloves",
          "Belt",
          "Handbag",
          "Handbag",
          "Handbag",
          "Sunglasses",
          "Backpack",
          "Scarf",
          "Backpack",
          "Gloves",
          "Handbag",
          "Backpack",
          "Handbag",
          "Hat",
          "Handbag",
          "Belt",
          "Handbag",
          "Jewelry",
          "Gloves",
          "Jewelry",
          "Sunglasses",
          "Belt",
          "Scarf",
          "Belt",
          "Scarf",
          "Jewelry",
          "Scarf",
          "Backpack",
          "Belt",
          "Jewelry",
          "Jewelry",
          "Belt",
          "Backpack",
          "Scarf",
          "Handbag",
          "Sunglasses",
          "Sunglasses",
          "Hat",
          "Sunglasses",
          "Sunglasses",
          "Scarf",
          "Backpack",
          "Gloves",
          "Jewelry",
          "Backpack",
          "Jewelry",
          "Belt",
          "Backpack",
          "Sunglasses",
          "Gloves",
          "Handbag",
          "Backpack",
          "Scarf",
          "Scarf",
          "Sunglasses",
          "Sunglasses",
          "Belt",
          "Gloves",
          "Scarf",
          "Gloves",
          "Sunglasses",
          "Handbag",
          "Jewelry",
          "Belt",
          "Sunglasses",
          "Hat",
          "Backpack",
          "Belt",
          "Backpack",
          "Handbag",
          "Belt",
          "Sunglasses",
          "Hat",
          "Scarf",
          "Backpack",
          "Sunglasses",
          "Sunglasses",
          "Scarf",
          "Hat",
          "Backpack",
          "Belt",
          "Gloves",
          "Gloves",
          "Handbag",
          "Backpack",
          "Jewelry",
          "Sunglasses",
          "Belt",
          "Gloves",
          "Sunglasses",
          "Belt",
          "Hat",
          "Hat",
          "Handbag",
          "Gloves",
          "Backpack",
          "Scarf",
          "Belt",
          "Sunglasses",
          "Gloves",
          "Handbag",
          "Gloves",
          "Scarf",
          "Jewelry",
          "Sunglasses",
          "Backpack",
          "Backpack",
          "Hat",
          "Handbag",
          "Handbag",
          "Scarf",
          "Jewelry",
          "Scarf",
          "Scarf",
          "Hat",
          "Backpack",
          "Jewelry",
          "Belt",
          "Hat",
          "Backpack",
          "Jewelry",
          "Jewelry",
          "Backpack",
          "Backpack",
          "Hat",
          "Sunglasses",
          "Belt",
          "Jewelry",
          "Scarf",
          "Sunglasses",
          "Sunglasses",
          "Backpack",
          "Belt",
          "Sunglasses",
          "Sunglasses",
          "Handbag",
          "Sunglasses",
          "Handbag",
          "Jewelry",
          "Jewelry",
          "Backpack",
          "Hat",
          "Gloves",
          "Handbag",
          "Sunglasses",
          "Handbag",
          "Belt",
          "Jewelry",
          "Jewelry",
          "Scarf",
          "Belt",
          "Jewelry",
          "Handbag",
          "Scarf",
          "Belt",
          "Jewelry",
          "Handbag",
          "Scarf",
          "Gloves",
          "Gloves",
          "Belt",
          "Belt",
          "Belt",
          "Jewelry",
          "Sunglasses",
          "Belt",
          "Sunglasses",
          "Belt",
          "Belt",
          "Belt",
          "Belt",
          "Scarf",
          "Sunglasses",
          "Sunglasses",
          "Backpack",
          "Backpack",
          "Handbag",
          "Belt",
          "Jewelry",
          "Handbag",
          "Handbag",
          "Belt",
          "Jewelry",
          "Handbag",
          "Sunglasses",
          "Gloves",
          "Backpack",
          "Handbag",
          "Backpack",
          "Sunglasses",
          "Belt",
          "Belt",
          "Jewelry",
          "Handbag",
          "Belt",
          "Belt",
          "Scarf",
          "Handbag",
          "Sunglasses",
          "Hat",
          "Hat",
          "Jewelry",
          "Handbag",
          "Belt",
          "Handbag",
          "Scarf",
          "Handbag",
          "Jewelry",
          "Sunglasses",
          "Gloves",
          "Sunglasses",
          "Gloves",
          "Sunglasses",
          "Handbag",
          "Belt",
          "Belt",
          "Belt",
          "Handbag",
          "Belt",
          "Jewelry",
          "Hat",
          "Backpack",
          "Sunglasses",
          "Jewelry",
          "Belt",
          "Handbag",
          "Sunglasses",
          "Jewelry",
          "Gloves",
          "Sunglasses",
          "Belt",
          "Gloves",
          "Handbag",
          "Scarf",
          "Jewelry",
          "Sunglasses",
          "Sunglasses",
          "Handbag",
          "Sunglasses",
          "Scarf",
          "Jewelry",
          "Belt",
          "Jewelry",
          "Belt",
          "Belt",
          "Sunglasses",
          "Handbag",
          "Gloves",
          "Backpack",
          "Backpack",
          "Sunglasses",
          "Hat",
          "Scarf",
          "Belt",
          "Sunglasses",
          "Belt",
          "Scarf",
          "Hat",
          "Handbag",
          "Scarf",
          "Hat",
          "Handbag",
          "Backpack",
          "Belt",
          "Handbag",
          "Belt",
          "Hat",
          "Belt",
          "Handbag",
          "Scarf",
          "Handbag",
          "Hat",
          "Hat",
          "Scarf",
          "Hat",
          "Handbag",
          "Gloves",
          "Backpack",
          "Sunglasses",
          "Hat",
          "Gloves",
          "Hat",
          "Handbag",
          "Jewelry",
          "Handbag",
          "Belt",
          "Sunglasses",
          "Handbag",
          "Scarf",
          "Gloves",
          "Belt",
          "Hat",
          "Handbag",
          "Hat",
          "Jewelry",
          "Scarf",
          "Sunglasses",
          "Backpack",
          "Gloves",
          "Gloves",
          "Jewelry",
          "Hat",
          "Scarf",
          "Hat",
          "Jewelry",
          "Belt",
          "Belt",
          "Gloves",
          "Handbag",
          "Hat",
          "Handbag",
          "Jewelry",
          "Jewelry",
          "Scarf",
          "Jewelry",
          "Backpack",
          "Scarf",
          "Sunglasses",
          "Handbag",
          "Handbag",
          "Gloves",
          "Gloves",
          "Scarf",
          "Handbag",
          "Backpack",
          "Handbag",
          "Jewelry",
          "Handbag",
          "Jewelry",
          "Hat",
          "Backpack",
          "Sunglasses",
          "Scarf",
          "Sunglasses",
          "Handbag",
          "Handbag",
          "Jewelry",
          "Hat",
          "Scarf",
          "Scarf",
          "Gloves",
          "Sunglasses",
          "Backpack",
          "Gloves",
          "Handbag",
          "Scarf",
          "Belt",
          "Scarf",
          "Gloves",
          "Sunglasses",
          "Belt",
          "Scarf",
          "Sunglasses",
          "Scarf",
          "Hat",
          "Gloves",
          "Hat",
          "Gloves",
          "Belt",
          "Gloves",
          "Scarf",
          "Jewelry",
          "Hat",
          "Scarf",
          "Belt",
          "Hat",
          "Hat",
          "Gloves",
          "Backpack",
          "Sunglasses",
          "Scarf",
          "Backpack",
          "Jewelry",
          "Handbag",
          "Handbag",
          "Jewelry",
          "Backpack",
          "Jewelry",
          "Handbag",
          "Handbag",
          "Hat",
          "Jewelry",
          "Backpack",
          "Sunglasses",
          "Gloves",
          "Sunglasses",
          "Jewelry",
          "Backpack",
          "Handbag",
          "Sunglasses",
          "Gloves",
          "Jewelry",
          "Hat",
          "Hat",
          "Sunglasses",
          "Hat",
          "Gloves",
          "Belt",
          "Hat",
          "Jewelry",
          "Sunglasses",
          "Backpack",
          "Jewelry",
          "Sunglasses",
          "Backpack",
          "Jewelry",
          "Handbag",
          "Gloves",
          "Gloves",
          "Belt",
          "Gloves",
          "Hat",
          "Handbag",
          "Sunglasses",
          "Scarf",
          "Sunglasses",
          "Scarf",
          "Gloves",
          "Sunglasses",
          "Jewelry",
          "Scarf",
          "Handbag",
          "Hat",
          "Scarf",
          "Belt",
          "Hat",
          "Scarf",
          "Belt",
          "Hat",
          "Jewelry",
          "Hat",
          "Backpack",
          "Hat",
          "Jewelry",
          "Jewelry",
          "Scarf",
          "Hat",
          "Sunglasses",
          "Hat",
          "Sunglasses",
          "Scarf",
          "Hat",
          "Hat",
          "Hat",
          "Scarf",
          "Hat",
          "Jewelry",
          "Jewelry",
          "Hat",
          "Backpack",
          "Belt",
          "Handbag"
         ],
         "xaxis": "x",
         "yaxis": "y"
        }
       ],
       "layout": {
        "barmode": "relative",
        "legend": {
         "title": {
          "text": "Category"
         },
         "tracegroupgap": 0
        },
        "margin": {
         "t": 60
        },
        "template": {
         "data": {
          "bar": [
           {
            "error_x": {
             "color": "#2a3f5f"
            },
            "error_y": {
             "color": "#2a3f5f"
            },
            "marker": {
             "line": {
              "color": "#E5ECF6",
              "width": 0.5
             },
             "pattern": {
              "fillmode": "overlay",
              "size": 10,
              "solidity": 0.2
             }
            },
            "type": "bar"
           }
          ],
          "barpolar": [
           {
            "marker": {
             "line": {
              "color": "#E5ECF6",
              "width": 0.5
             },
             "pattern": {
              "fillmode": "overlay",
              "size": 10,
              "solidity": 0.2
             }
            },
            "type": "barpolar"
           }
          ],
          "carpet": [
           {
            "aaxis": {
             "endlinecolor": "#2a3f5f",
             "gridcolor": "white",
             "linecolor": "white",
             "minorgridcolor": "white",
             "startlinecolor": "#2a3f5f"
            },
            "baxis": {
             "endlinecolor": "#2a3f5f",
             "gridcolor": "white",
             "linecolor": "white",
             "minorgridcolor": "white",
             "startlinecolor": "#2a3f5f"
            },
            "type": "carpet"
           }
          ],
          "choropleth": [
           {
            "colorbar": {
             "outlinewidth": 0,
             "ticks": ""
            },
            "type": "choropleth"
           }
          ],
          "contour": [
           {
            "colorbar": {
             "outlinewidth": 0,
             "ticks": ""
            },
            "colorscale": [
             [
              0,
              "#0d0887"
             ],
             [
              0.1111111111111111,
              "#46039f"
             ],
             [
              0.2222222222222222,
              "#7201a8"
             ],
             [
              0.3333333333333333,
              "#9c179e"
             ],
             [
              0.4444444444444444,
              "#bd3786"
             ],
             [
              0.5555555555555556,
              "#d8576b"
             ],
             [
              0.6666666666666666,
              "#ed7953"
             ],
             [
              0.7777777777777778,
              "#fb9f3a"
             ],
             [
              0.8888888888888888,
              "#fdca26"
             ],
             [
              1,
              "#f0f921"
             ]
            ],
            "type": "contour"
           }
          ],
          "contourcarpet": [
           {
            "colorbar": {
             "outlinewidth": 0,
             "ticks": ""
            },
            "type": "contourcarpet"
           }
          ],
          "heatmap": [
           {
            "colorbar": {
             "outlinewidth": 0,
             "ticks": ""
            },
            "colorscale": [
             [
              0,
              "#0d0887"
             ],
             [
              0.1111111111111111,
              "#46039f"
             ],
             [
              0.2222222222222222,
              "#7201a8"
             ],
             [
              0.3333333333333333,
              "#9c179e"
             ],
             [
              0.4444444444444444,
              "#bd3786"
             ],
             [
              0.5555555555555556,
              "#d8576b"
             ],
             [
              0.6666666666666666,
              "#ed7953"
             ],
             [
              0.7777777777777778,
              "#fb9f3a"
             ],
             [
              0.8888888888888888,
              "#fdca26"
             ],
             [
              1,
              "#f0f921"
             ]
            ],
            "type": "heatmap"
           }
          ],
          "heatmapgl": [
           {
            "colorbar": {
             "outlinewidth": 0,
             "ticks": ""
            },
            "colorscale": [
             [
              0,
              "#0d0887"
             ],
             [
              0.1111111111111111,
              "#46039f"
             ],
             [
              0.2222222222222222,
              "#7201a8"
             ],
             [
              0.3333333333333333,
              "#9c179e"
             ],
             [
              0.4444444444444444,
              "#bd3786"
             ],
             [
              0.5555555555555556,
              "#d8576b"
             ],
             [
              0.6666666666666666,
              "#ed7953"
             ],
             [
              0.7777777777777778,
              "#fb9f3a"
             ],
             [
              0.8888888888888888,
              "#fdca26"
             ],
             [
              1,
              "#f0f921"
             ]
            ],
            "type": "heatmapgl"
           }
          ],
          "histogram": [
           {
            "marker": {
             "pattern": {
              "fillmode": "overlay",
              "size": 10,
              "solidity": 0.2
             }
            },
            "type": "histogram"
           }
          ],
          "histogram2d": [
           {
            "colorbar": {
             "outlinewidth": 0,
             "ticks": ""
            },
            "colorscale": [
             [
              0,
              "#0d0887"
             ],
             [
              0.1111111111111111,
              "#46039f"
             ],
             [
              0.2222222222222222,
              "#7201a8"
             ],
             [
              0.3333333333333333,
              "#9c179e"
             ],
             [
              0.4444444444444444,
              "#bd3786"
             ],
             [
              0.5555555555555556,
              "#d8576b"
             ],
             [
              0.6666666666666666,
              "#ed7953"
             ],
             [
              0.7777777777777778,
              "#fb9f3a"
             ],
             [
              0.8888888888888888,
              "#fdca26"
             ],
             [
              1,
              "#f0f921"
             ]
            ],
            "type": "histogram2d"
           }
          ],
          "histogram2dcontour": [
           {
            "colorbar": {
             "outlinewidth": 0,
             "ticks": ""
            },
            "colorscale": [
             [
              0,
              "#0d0887"
             ],
             [
              0.1111111111111111,
              "#46039f"
             ],
             [
              0.2222222222222222,
              "#7201a8"
             ],
             [
              0.3333333333333333,
              "#9c179e"
             ],
             [
              0.4444444444444444,
              "#bd3786"
             ],
             [
              0.5555555555555556,
              "#d8576b"
             ],
             [
              0.6666666666666666,
              "#ed7953"
             ],
             [
              0.7777777777777778,
              "#fb9f3a"
             ],
             [
              0.8888888888888888,
              "#fdca26"
             ],
             [
              1,
              "#f0f921"
             ]
            ],
            "type": "histogram2dcontour"
           }
          ],
          "mesh3d": [
           {
            "colorbar": {
             "outlinewidth": 0,
             "ticks": ""
            },
            "type": "mesh3d"
           }
          ],
          "parcoords": [
           {
            "line": {
             "colorbar": {
              "outlinewidth": 0,
              "ticks": ""
             }
            },
            "type": "parcoords"
           }
          ],
          "pie": [
           {
            "automargin": true,
            "type": "pie"
           }
          ],
          "scatter": [
           {
            "fillpattern": {
             "fillmode": "overlay",
             "size": 10,
             "solidity": 0.2
            },
            "type": "scatter"
           }
          ],
          "scatter3d": [
           {
            "line": {
             "colorbar": {
              "outlinewidth": 0,
              "ticks": ""
             }
            },
            "marker": {
             "colorbar": {
              "outlinewidth": 0,
              "ticks": ""
             }
            },
            "type": "scatter3d"
           }
          ],
          "scattercarpet": [
           {
            "marker": {
             "colorbar": {
              "outlinewidth": 0,
              "ticks": ""
             }
            },
            "type": "scattercarpet"
           }
          ],
          "scattergeo": [
           {
            "marker": {
             "colorbar": {
              "outlinewidth": 0,
              "ticks": ""
             }
            },
            "type": "scattergeo"
           }
          ],
          "scattergl": [
           {
            "marker": {
             "colorbar": {
              "outlinewidth": 0,
              "ticks": ""
             }
            },
            "type": "scattergl"
           }
          ],
          "scattermapbox": [
           {
            "marker": {
             "colorbar": {
              "outlinewidth": 0,
              "ticks": ""
             }
            },
            "type": "scattermapbox"
           }
          ],
          "scatterpolar": [
           {
            "marker": {
             "colorbar": {
              "outlinewidth": 0,
              "ticks": ""
             }
            },
            "type": "scatterpolar"
           }
          ],
          "scatterpolargl": [
           {
            "marker": {
             "colorbar": {
              "outlinewidth": 0,
              "ticks": ""
             }
            },
            "type": "scatterpolargl"
           }
          ],
          "scatterternary": [
           {
            "marker": {
             "colorbar": {
              "outlinewidth": 0,
              "ticks": ""
             }
            },
            "type": "scatterternary"
           }
          ],
          "surface": [
           {
            "colorbar": {
             "outlinewidth": 0,
             "ticks": ""
            },
            "colorscale": [
             [
              0,
              "#0d0887"
             ],
             [
              0.1111111111111111,
              "#46039f"
             ],
             [
              0.2222222222222222,
              "#7201a8"
             ],
             [
              0.3333333333333333,
              "#9c179e"
             ],
             [
              0.4444444444444444,
              "#bd3786"
             ],
             [
              0.5555555555555556,
              "#d8576b"
             ],
             [
              0.6666666666666666,
              "#ed7953"
             ],
             [
              0.7777777777777778,
              "#fb9f3a"
             ],
             [
              0.8888888888888888,
              "#fdca26"
             ],
             [
              1,
              "#f0f921"
             ]
            ],
            "type": "surface"
           }
          ],
          "table": [
           {
            "cells": {
             "fill": {
              "color": "#EBF0F8"
             },
             "line": {
              "color": "white"
             }
            },
            "header": {
             "fill": {
              "color": "#C8D4E3"
             },
             "line": {
              "color": "white"
             }
            },
            "type": "table"
           }
          ]
         },
         "layout": {
          "annotationdefaults": {
           "arrowcolor": "#2a3f5f",
           "arrowhead": 0,
           "arrowwidth": 1
          },
          "autotypenumbers": "strict",
          "coloraxis": {
           "colorbar": {
            "outlinewidth": 0,
            "ticks": ""
           }
          },
          "colorscale": {
           "diverging": [
            [
             0,
             "#8e0152"
            ],
            [
             0.1,
             "#c51b7d"
            ],
            [
             0.2,
             "#de77ae"
            ],
            [
             0.3,
             "#f1b6da"
            ],
            [
             0.4,
             "#fde0ef"
            ],
            [
             0.5,
             "#f7f7f7"
            ],
            [
             0.6,
             "#e6f5d0"
            ],
            [
             0.7,
             "#b8e186"
            ],
            [
             0.8,
             "#7fbc41"
            ],
            [
             0.9,
             "#4d9221"
            ],
            [
             1,
             "#276419"
            ]
           ],
           "sequential": [
            [
             0,
             "#0d0887"
            ],
            [
             0.1111111111111111,
             "#46039f"
            ],
            [
             0.2222222222222222,
             "#7201a8"
            ],
            [
             0.3333333333333333,
             "#9c179e"
            ],
            [
             0.4444444444444444,
             "#bd3786"
            ],
            [
             0.5555555555555556,
             "#d8576b"
            ],
            [
             0.6666666666666666,
             "#ed7953"
            ],
            [
             0.7777777777777778,
             "#fb9f3a"
            ],
            [
             0.8888888888888888,
             "#fdca26"
            ],
            [
             1,
             "#f0f921"
            ]
           ],
           "sequentialminus": [
            [
             0,
             "#0d0887"
            ],
            [
             0.1111111111111111,
             "#46039f"
            ],
            [
             0.2222222222222222,
             "#7201a8"
            ],
            [
             0.3333333333333333,
             "#9c179e"
            ],
            [
             0.4444444444444444,
             "#bd3786"
            ],
            [
             0.5555555555555556,
             "#d8576b"
            ],
            [
             0.6666666666666666,
             "#ed7953"
            ],
            [
             0.7777777777777778,
             "#fb9f3a"
            ],
            [
             0.8888888888888888,
             "#fdca26"
            ],
            [
             1,
             "#f0f921"
            ]
           ]
          },
          "colorway": [
           "#636efa",
           "#EF553B",
           "#00cc96",
           "#ab63fa",
           "#FFA15A",
           "#19d3f3",
           "#FF6692",
           "#B6E880",
           "#FF97FF",
           "#FECB52"
          ],
          "font": {
           "color": "#2a3f5f"
          },
          "geo": {
           "bgcolor": "white",
           "lakecolor": "white",
           "landcolor": "#E5ECF6",
           "showlakes": true,
           "showland": true,
           "subunitcolor": "white"
          },
          "hoverlabel": {
           "align": "left"
          },
          "hovermode": "closest",
          "mapbox": {
           "style": "light"
          },
          "paper_bgcolor": "white",
          "plot_bgcolor": "#E5ECF6",
          "polar": {
           "angularaxis": {
            "gridcolor": "white",
            "linecolor": "white",
            "ticks": ""
           },
           "bgcolor": "#E5ECF6",
           "radialaxis": {
            "gridcolor": "white",
            "linecolor": "white",
            "ticks": ""
           }
          },
          "scene": {
           "xaxis": {
            "backgroundcolor": "#E5ECF6",
            "gridcolor": "white",
            "gridwidth": 2,
            "linecolor": "white",
            "showbackground": true,
            "ticks": "",
            "zerolinecolor": "white"
           },
           "yaxis": {
            "backgroundcolor": "#E5ECF6",
            "gridcolor": "white",
            "gridwidth": 2,
            "linecolor": "white",
            "showbackground": true,
            "ticks": "",
            "zerolinecolor": "white"
           },
           "zaxis": {
            "backgroundcolor": "#E5ECF6",
            "gridcolor": "white",
            "gridwidth": 2,
            "linecolor": "white",
            "showbackground": true,
            "ticks": "",
            "zerolinecolor": "white"
           }
          },
          "shapedefaults": {
           "line": {
            "color": "#2a3f5f"
           }
          },
          "ternary": {
           "aaxis": {
            "gridcolor": "white",
            "linecolor": "white",
            "ticks": ""
           },
           "baxis": {
            "gridcolor": "white",
            "linecolor": "white",
            "ticks": ""
           },
           "bgcolor": "#E5ECF6",
           "caxis": {
            "gridcolor": "white",
            "linecolor": "white",
            "ticks": ""
           }
          },
          "title": {
           "x": 0.05
          },
          "xaxis": {
           "automargin": true,
           "gridcolor": "white",
           "linecolor": "white",
           "ticks": "",
           "title": {
            "standoff": 15
           },
           "zerolinecolor": "white",
           "zerolinewidth": 2
          },
          "yaxis": {
           "automargin": true,
           "gridcolor": "white",
           "linecolor": "white",
           "ticks": "",
           "title": {
            "standoff": 15
           },
           "zerolinecolor": "white",
           "zerolinewidth": 2
          }
         }
        },
        "xaxis": {
         "anchor": "y",
         "domain": [
          0,
          1
         ],
         "title": {
          "text": "Item Purchased"
         }
        },
        "yaxis": {
         "anchor": "x",
         "domain": [
          0,
          1
         ],
         "title": {
          "text": "count"
         }
        }
       }
      }
     },
     "metadata": {},
     "output_type": "display_data"
    }
   ],
   "source": [
    "px.histogram(shop,x='Item Purchased',color='Category')"
   ]
  },
  {
   "cell_type": "markdown",
   "metadata": {},
   "source": [
    "## 5.\tAre there any specific seasons or months where customer spending is significantly higher?"
   ]
  },
  {
   "cell_type": "code",
   "execution_count": 26,
   "metadata": {},
   "outputs": [
    {
     "data": {
      "text/plain": [
       "Season\n",
       "Spring    999\n",
       "Fall      975\n",
       "Winter    971\n",
       "Summer    955\n",
       "Name: count, dtype: int64"
      ]
     },
     "execution_count": 26,
     "metadata": {},
     "output_type": "execute_result"
    }
   ],
   "source": [
    "shop['Season'].value_counts()"
   ]
  },
  {
   "cell_type": "code",
   "execution_count": 27,
   "metadata": {},
   "outputs": [
    {
     "data": {
      "image/png": "[encoded data removed]",
      "text/plain": [
       "<Figure size 2000x600 with 1 Axes>"
      ]
     },
     "metadata": {},
     "output_type": "display_data"
    }
   ],
   "source": [
    "plt.figure(figsize=(20,6))\n",
    "data = shop['Season'].value_counts()\n",
    "explode = [0.1]*len(data)\n",
    "data.plot(kind='pie',explode=explode,autopct='%1.1f%%')\n",
    "plt.xlabel('Category')\n",
    "plt.legend()\n",
    "plt.show()"
   ]
  },
  {
   "cell_type": "markdown",
   "metadata": {},
   "source": [
    "As a result there is not as much difference between the spending of customers in different seasons but in in spring ,customers spending is higher. "
   ]
  },
  {
   "cell_type": "markdown",
   "metadata": {},
   "source": [
    "## 6.\tWhat is the average rating given by customers for each product category?"
   ]
  },
  {
   "cell_type": "code",
   "execution_count": 28,
   "metadata": {},
   "outputs": [
    {
     "data": {
      "text/plain": [
       "Index(['Customer ID', 'Age', 'Gender', 'Item Purchased', 'Category',\n",
       "       'Purchase Amount (USD)', 'Location', 'Size', 'Color', 'Season',\n",
       "       'Review Rating', 'Subscription Status', 'Shipping Type',\n",
       "       'Discount Applied', 'Promo Code Used', 'Previous Purchases',\n",
       "       'Payment Method', 'Frequency of Purchases', 'Age_category'],\n",
       "      dtype='object')"
      ]
     },
     "execution_count": 28,
     "metadata": {},
     "output_type": "execute_result"
    }
   ],
   "source": [
    "shop.columns"
   ]
  },
  {
   "cell_type": "code",
   "execution_count": 29,
   "metadata": {},
   "outputs": [
    {
     "data": {
      "text/plain": [
       "Category\n",
       "Accessories    3.768629\n",
       "Clothing       3.723143\n",
       "Footwear       3.790651\n",
       "Outerwear      3.746914\n",
       "Name: Review Rating, dtype: float64"
      ]
     },
     "execution_count": 29,
     "metadata": {},
     "output_type": "execute_result"
    }
   ],
   "source": [
    "shop.groupby('Category')['Review Rating'].mean()"
   ]
  },
  {
   "cell_type": "markdown",
   "metadata": {},
   "source": [
    "As a  result in each category the average rating given by customers for each product is 3.7 approximately"
   ]
  },
  {
   "cell_type": "code",
   "execution_count": 30,
   "metadata": {},
   "outputs": [
    {
     "data": {
      "text/html": [
       "<div>\n",
       "<style scoped>\n",
       "    .dataframe tbody tr th:only-of-type {\n",
       "        vertical-align: middle;\n",
       "    }\n",
       "\n",
       "    .dataframe tbody tr th {\n",
       "        vertical-align: top;\n",
       "    }\n",
       "\n",
       "    .dataframe thead th {\n",
       "        text-align: right;\n",
       "    }\n",
       "</style>\n",
       "<table border=\"1\" class=\"dataframe\">\n",
       "  <thead>\n",
       "    <tr style=\"text-align: right;\">\n",
       "      <th></th>\n",
       "      <th>Category</th>\n",
       "      <th>Review Rating</th>\n",
       "    </tr>\n",
       "  </thead>\n",
       "  <tbody>\n",
       "    <tr>\n",
       "      <th>0</th>\n",
       "      <td>Accessories</td>\n",
       "      <td>3.768629</td>\n",
       "    </tr>\n",
       "    <tr>\n",
       "      <th>1</th>\n",
       "      <td>Clothing</td>\n",
       "      <td>3.723143</td>\n",
       "    </tr>\n",
       "    <tr>\n",
       "      <th>2</th>\n",
       "      <td>Footwear</td>\n",
       "      <td>3.790651</td>\n",
       "    </tr>\n",
       "    <tr>\n",
       "      <th>3</th>\n",
       "      <td>Outerwear</td>\n",
       "      <td>3.746914</td>\n",
       "    </tr>\n",
       "  </tbody>\n",
       "</table>\n",
       "</div>"
      ],
      "text/plain": [
       "      Category  Review Rating\n",
       "0  Accessories       3.768629\n",
       "1     Clothing       3.723143\n",
       "2     Footwear       3.790651\n",
       "3    Outerwear       3.746914"
      ]
     },
     "execution_count": 30,
     "metadata": {},
     "output_type": "execute_result"
    }
   ],
   "source": [
    "shop_groupby = shop.groupby('Category')['Review Rating'].mean().reset_index()\n",
    "shop_groupby"
   ]
  },
  {
   "cell_type": "code",
   "execution_count": 31,
   "metadata": {},
   "outputs": [
    {
     "data": {
      "application/vnd.plotly.v1+json": {
       "config": {
        "plotlyServerURL": "https://plot.ly"
       },
       "data": [
        {
         "alignmentgroup": "True",
         "hovertemplate": "Category=%{x}<br>Review Rating=%{y}<extra></extra>",
         "legendgroup": "",
         "marker": {
          "color": "#636efa",
          "pattern": {
           "shape": ""
          }
         },
         "name": "",
         "offsetgroup": "",
         "orientation": "v",
         "showlegend": false,
         "textposition": "auto",
         "type": "bar",
         "x": [
          "Accessories",
          "Clothing",
          "Footwear",
          "Outerwear"
         ],
         "xaxis": "x",
         "y": [
          3.768629032258065,
          3.7231433506044906,
          3.790651085141903,
          3.746913580246914
         ],
         "yaxis": "y"
        }
       ],
       "layout": {
        "barmode": "relative",
        "legend": {
         "tracegroupgap": 0
        },
        "margin": {
         "t": 60
        },
        "template": {
         "data": {
          "bar": [
           {
            "error_x": {
             "color": "#2a3f5f"
            },
            "error_y": {
             "color": "#2a3f5f"
            },
            "marker": {
             "line": {
              "color": "#E5ECF6",
              "width": 0.5
             },
             "pattern": {
              "fillmode": "overlay",
              "size": 10,
              "solidity": 0.2
             }
            },
            "type": "bar"
           }
          ],
          "barpolar": [
           {
            "marker": {
             "line": {
              "color": "#E5ECF6",
              "width": 0.5
             },
             "pattern": {
              "fillmode": "overlay",
              "size": 10,
              "solidity": 0.2
             }
            },
            "type": "barpolar"
           }
          ],
          "carpet": [
           {
            "aaxis": {
             "endlinecolor": "#2a3f5f",
             "gridcolor": "white",
             "linecolor": "white",
             "minorgridcolor": "white",
             "startlinecolor": "#2a3f5f"
            },
            "baxis": {
             "endlinecolor": "#2a3f5f",
             "gridcolor": "white",
             "linecolor": "white",
             "minorgridcolor": "white",
             "startlinecolor": "#2a3f5f"
            },
            "type": "carpet"
           }
          ],
          "choropleth": [
           {
            "colorbar": {
             "outlinewidth": 0,
             "ticks": ""
            },
            "type": "choropleth"
           }
          ],
          "contour": [
           {
            "colorbar": {
             "outlinewidth": 0,
             "ticks": ""
            },
            "colorscale": [
             [
              0,
              "#0d0887"
             ],
             [
              0.1111111111111111,
              "#46039f"
             ],
             [
              0.2222222222222222,
              "#7201a8"
             ],
             [
              0.3333333333333333,
              "#9c179e"
             ],
             [
              0.4444444444444444,
              "#bd3786"
             ],
             [
              0.5555555555555556,
              "#d8576b"
             ],
             [
              0.6666666666666666,
              "#ed7953"
             ],
             [
              0.7777777777777778,
              "#fb9f3a"
             ],
             [
              0.8888888888888888,
              "#fdca26"
             ],
             [
              1,
              "#f0f921"
             ]
            ],
            "type": "contour"
           }
          ],
          "contourcarpet": [
           {
            "colorbar": {
             "outlinewidth": 0,
             "ticks": ""
            },
            "type": "contourcarpet"
           }
          ],
          "heatmap": [
           {
            "colorbar": {
             "outlinewidth": 0,
             "ticks": ""
            },
            "colorscale": [
             [
              0,
              "#0d0887"
             ],
             [
              0.1111111111111111,
              "#46039f"
             ],
             [
              0.2222222222222222,
              "#7201a8"
             ],
             [
              0.3333333333333333,
              "#9c179e"
             ],
             [
              0.4444444444444444,
              "#bd3786"
             ],
             [
              0.5555555555555556,
              "#d8576b"
             ],
             [
              0.6666666666666666,
              "#ed7953"
             ],
             [
              0.7777777777777778,
              "#fb9f3a"
             ],
             [
              0.8888888888888888,
              "#fdca26"
             ],
             [
              1,
              "#f0f921"
             ]
            ],
            "type": "heatmap"
           }
          ],
          "heatmapgl": [
           {
            "colorbar": {
             "outlinewidth": 0,
             "ticks": ""
            },
            "colorscale": [
             [
              0,
              "#0d0887"
             ],
             [
              0.1111111111111111,
              "#46039f"
             ],
             [
              0.2222222222222222,
              "#7201a8"
             ],
             [
              0.3333333333333333,
              "#9c179e"
             ],
             [
              0.4444444444444444,
              "#bd3786"
             ],
             [
              0.5555555555555556,
              "#d8576b"
             ],
             [
              0.6666666666666666,
              "#ed7953"
             ],
             [
              0.7777777777777778,
              "#fb9f3a"
             ],
             [
              0.8888888888888888,
              "#fdca26"
             ],
             [
              1,
              "#f0f921"
             ]
            ],
            "type": "heatmapgl"
           }
          ],
          "histogram": [
           {
            "marker": {
             "pattern": {
              "fillmode": "overlay",
              "size": 10,
              "solidity": 0.2
             }
            },
            "type": "histogram"
           }
          ],
          "histogram2d": [
           {
            "colorbar": {
             "outlinewidth": 0,
             "ticks": ""
            },
            "colorscale": [
             [
              0,
              "#0d0887"
             ],
             [
              0.1111111111111111,
              "#46039f"
             ],
             [
              0.2222222222222222,
              "#7201a8"
             ],
             [
              0.3333333333333333,
              "#9c179e"
             ],
             [
              0.4444444444444444,
              "#bd3786"
             ],
             [
              0.5555555555555556,
              "#d8576b"
             ],
             [
              0.6666666666666666,
              "#ed7953"
             ],
             [
              0.7777777777777778,
              "#fb9f3a"
             ],
             [
              0.8888888888888888,
              "#fdca26"
             ],
             [
              1,
              "#f0f921"
             ]
            ],
            "type": "histogram2d"
           }
          ],
          "histogram2dcontour": [
           {
            "colorbar": {
             "outlinewidth": 0,
             "ticks": ""
            },
            "colorscale": [
             [
              0,
              "#0d0887"
             ],
             [
              0.1111111111111111,
              "#46039f"
             ],
             [
              0.2222222222222222,
              "#7201a8"
             ],
             [
              0.3333333333333333,
              "#9c179e"
             ],
             [
              0.4444444444444444,
              "#bd3786"
             ],
             [
              0.5555555555555556,
              "#d8576b"
             ],
             [
              0.6666666666666666,
              "#ed7953"
             ],
             [
              0.7777777777777778,
              "#fb9f3a"
             ],
             [
              0.8888888888888888,
              "#fdca26"
             ],
             [
              1,
              "#f0f921"
             ]
            ],
            "type": "histogram2dcontour"
           }
          ],
          "mesh3d": [
           {
            "colorbar": {
             "outlinewidth": 0,
             "ticks": ""
            },
            "type": "mesh3d"
           }
          ],
          "parcoords": [
           {
            "line": {
             "colorbar": {
              "outlinewidth": 0,
              "ticks": ""
             }
            },
            "type": "parcoords"
           }
          ],
          "pie": [
           {
            "automargin": true,
            "type": "pie"
           }
          ],
          "scatter": [
           {
            "fillpattern": {
             "fillmode": "overlay",
             "size": 10,
             "solidity": 0.2
            },
            "type": "scatter"
           }
          ],
          "scatter3d": [
           {
            "line": {
             "colorbar": {
              "outlinewidth": 0,
              "ticks": ""
             }
            },
            "marker": {
             "colorbar": {
              "outlinewidth": 0,
              "ticks": ""
             }
            },
            "type": "scatter3d"
           }
          ],
          "scattercarpet": [
           {
            "marker": {
             "colorbar": {
              "outlinewidth": 0,
              "ticks": ""
             }
            },
            "type": "scattercarpet"
           }
          ],
          "scattergeo": [
           {
            "marker": {
             "colorbar": {
              "outlinewidth": 0,
              "ticks": ""
             }
            },
            "type": "scattergeo"
           }
          ],
          "scattergl": [
           {
            "marker": {
             "colorbar": {
              "outlinewidth": 0,
              "ticks": ""
             }
            },
            "type": "scattergl"
           }
          ],
          "scattermapbox": [
           {
            "marker": {
             "colorbar": {
              "outlinewidth": 0,
              "ticks": ""
             }
            },
            "type": "scattermapbox"
           }
          ],
          "scatterpolar": [
           {
            "marker": {
             "colorbar": {
              "outlinewidth": 0,
              "ticks": ""
             }
            },
            "type": "scatterpolar"
           }
          ],
          "scatterpolargl": [
           {
            "marker": {
             "colorbar": {
              "outlinewidth": 0,
              "ticks": ""
             }
            },
            "type": "scatterpolargl"
           }
          ],
          "scatterternary": [
           {
            "marker": {
             "colorbar": {
              "outlinewidth": 0,
              "ticks": ""
             }
            },
            "type": "scatterternary"
           }
          ],
          "surface": [
           {
            "colorbar": {
             "outlinewidth": 0,
             "ticks": ""
            },
            "colorscale": [
             [
              0,
              "#0d0887"
             ],
             [
              0.1111111111111111,
              "#46039f"
             ],
             [
              0.2222222222222222,
              "#7201a8"
             ],
             [
              0.3333333333333333,
              "#9c179e"
             ],
             [
              0.4444444444444444,
              "#bd3786"
             ],
             [
              0.5555555555555556,
              "#d8576b"
             ],
             [
              0.6666666666666666,
              "#ed7953"
             ],
             [
              0.7777777777777778,
              "#fb9f3a"
             ],
             [
              0.8888888888888888,
              "#fdca26"
             ],
             [
              1,
              "#f0f921"
             ]
            ],
            "type": "surface"
           }
          ],
          "table": [
           {
            "cells": {
             "fill": {
              "color": "#EBF0F8"
             },
             "line": {
              "color": "white"
             }
            },
            "header": {
             "fill": {
              "color": "#C8D4E3"
             },
             "line": {
              "color": "white"
             }
            },
            "type": "table"
           }
          ]
         },
         "layout": {
          "annotationdefaults": {
           "arrowcolor": "#2a3f5f",
           "arrowhead": 0,
           "arrowwidth": 1
          },
          "autotypenumbers": "strict",
          "coloraxis": {
           "colorbar": {
            "outlinewidth": 0,
            "ticks": ""
           }
          },
          "colorscale": {
           "diverging": [
            [
             0,
             "#8e0152"
            ],
            [
             0.1,
             "#c51b7d"
            ],
            [
             0.2,
             "#de77ae"
            ],
            [
             0.3,
             "#f1b6da"
            ],
            [
             0.4,
             "#fde0ef"
            ],
            [
             0.5,
             "#f7f7f7"
            ],
            [
             0.6,
             "#e6f5d0"
            ],
            [
             0.7,
             "#b8e186"
            ],
            [
             0.8,
             "#7fbc41"
            ],
            [
             0.9,
             "#4d9221"
            ],
            [
             1,
             "#276419"
            ]
           ],
           "sequential": [
            [
             0,
             "#0d0887"
            ],
            [
             0.1111111111111111,
             "#46039f"
            ],
            [
             0.2222222222222222,
             "#7201a8"
            ],
            [
             0.3333333333333333,
             "#9c179e"
            ],
            [
             0.4444444444444444,
             "#bd3786"
            ],
            [
             0.5555555555555556,
             "#d8576b"
            ],
            [
             0.6666666666666666,
             "#ed7953"
            ],
            [
             0.7777777777777778,
             "#fb9f3a"
            ],
            [
             0.8888888888888888,
             "#fdca26"
            ],
            [
             1,
             "#f0f921"
            ]
           ],
           "sequentialminus": [
            [
             0,
             "#0d0887"
            ],
            [
             0.1111111111111111,
             "#46039f"
            ],
            [
             0.2222222222222222,
             "#7201a8"
            ],
            [
             0.3333333333333333,
             "#9c179e"
            ],
            [
             0.4444444444444444,
             "#bd3786"
            ],
            [
             0.5555555555555556,
             "#d8576b"
            ],
            [
             0.6666666666666666,
             "#ed7953"
            ],
            [
             0.7777777777777778,
             "#fb9f3a"
            ],
            [
             0.8888888888888888,
             "#fdca26"
            ],
            [
             1,
             "#f0f921"
            ]
           ]
          },
          "colorway": [
           "#636efa",
           "#EF553B",
           "#00cc96",
           "#ab63fa",
           "#FFA15A",
           "#19d3f3",
           "#FF6692",
           "#B6E880",
           "#FF97FF",
           "#FECB52"
          ],
          "font": {
           "color": "#2a3f5f"
          },
          "geo": {
           "bgcolor": "white",
           "lakecolor": "white",
           "landcolor": "#E5ECF6",
           "showlakes": true,
           "showland": true,
           "subunitcolor": "white"
          },
          "hoverlabel": {
           "align": "left"
          },
          "hovermode": "closest",
          "mapbox": {
           "style": "light"
          },
          "paper_bgcolor": "white",
          "plot_bgcolor": "#E5ECF6",
          "polar": {
           "angularaxis": {
            "gridcolor": "white",
            "linecolor": "white",
            "ticks": ""
           },
           "bgcolor": "#E5ECF6",
           "radialaxis": {
            "gridcolor": "white",
            "linecolor": "white",
            "ticks": ""
           }
          },
          "scene": {
           "xaxis": {
            "backgroundcolor": "#E5ECF6",
            "gridcolor": "white",
            "gridwidth": 2,
            "linecolor": "white",
            "showbackground": true,
            "ticks": "",
            "zerolinecolor": "white"
           },
           "yaxis": {
            "backgroundcolor": "#E5ECF6",
            "gridcolor": "white",
            "gridwidth": 2,
            "linecolor": "white",
            "showbackground": true,
            "ticks": "",
            "zerolinecolor": "white"
           },
           "zaxis": {
            "backgroundcolor": "#E5ECF6",
            "gridcolor": "white",
            "gridwidth": 2,
            "linecolor": "white",
            "showbackground": true,
            "ticks": "",
            "zerolinecolor": "white"
           }
          },
          "shapedefaults": {
           "line": {
            "color": "#2a3f5f"
           }
          },
          "ternary": {
           "aaxis": {
            "gridcolor": "white",
            "linecolor": "white",
            "ticks": ""
           },
           "baxis": {
            "gridcolor": "white",
            "linecolor": "white",
            "ticks": ""
           },
           "bgcolor": "#E5ECF6",
           "caxis": {
            "gridcolor": "white",
            "linecolor": "white",
            "ticks": ""
           }
          },
          "title": {
           "x": 0.05
          },
          "xaxis": {
           "automargin": true,
           "gridcolor": "white",
           "linecolor": "white",
           "ticks": "",
           "title": {
            "standoff": 15
           },
           "zerolinecolor": "white",
           "zerolinewidth": 2
          },
          "yaxis": {
           "automargin": true,
           "gridcolor": "white",
           "linecolor": "white",
           "ticks": "",
           "title": {
            "standoff": 15
           },
           "zerolinecolor": "white",
           "zerolinewidth": 2
          }
         }
        },
        "xaxis": {
         "anchor": "y",
         "domain": [
          0,
          1
         ],
         "title": {
          "text": "Category"
         }
        },
        "yaxis": {
         "anchor": "x",
         "domain": [
          0,
          1
         ],
         "title": {
          "text": "Review Rating"
         }
        }
       }
      }
     },
     "metadata": {},
     "output_type": "display_data"
    }
   ],
   "source": [
    "px.bar(shop_groupby, x='Category', y='Review Rating')"
   ]
  },
  {
   "cell_type": "markdown",
   "metadata": {},
   "source": [
    "## 8.\tWhich payment method is the most popular among customers?"
   ]
  },
  {
   "cell_type": "code",
   "execution_count": 32,
   "metadata": {},
   "outputs": [
    {
     "data": {
      "text/plain": [
       "Index(['Customer ID', 'Age', 'Gender', 'Item Purchased', 'Category',\n",
       "       'Purchase Amount (USD)', 'Location', 'Size', 'Color', 'Season',\n",
       "       'Review Rating', 'Subscription Status', 'Shipping Type',\n",
       "       'Discount Applied', 'Promo Code Used', 'Previous Purchases',\n",
       "       'Payment Method', 'Frequency of Purchases', 'Age_category'],\n",
       "      dtype='object')"
      ]
     },
     "execution_count": 32,
     "metadata": {},
     "output_type": "execute_result"
    }
   ],
   "source": [
    "shop.columns"
   ]
  },
  {
   "cell_type": "code",
   "execution_count": 33,
   "metadata": {},
   "outputs": [
    {
     "data": {
      "text/plain": [
       "Payment Method\n",
       "Debit Card       60.915094\n",
       "Credit Card      60.074516\n",
       "Bank Transfer    59.712418\n",
       "Cash             59.704478\n",
       "PayPal           59.245199\n",
       "Venmo            58.949527\n",
       "Name: Purchase Amount (USD), dtype: float64"
      ]
     },
     "execution_count": 33,
     "metadata": {},
     "output_type": "execute_result"
    }
   ],
   "source": [
    "shop.groupby('Payment Method')['Purchase Amount (USD)'].mean().sort_values(ascending=False)"
   ]
  },
  {
   "cell_type": "markdown",
   "metadata": {},
   "source": [
    "Ans: Debit Card is the most popular payment method among customers.  "
   ]
  },
  {
   "cell_type": "code",
   "execution_count": 34,
   "metadata": {},
   "outputs": [
    {
     "data": {
      "text/html": [
       "<div>\n",
       "<style scoped>\n",
       "    .dataframe tbody tr th:only-of-type {\n",
       "        vertical-align: middle;\n",
       "    }\n",
       "\n",
       "    .dataframe tbody tr th {\n",
       "        vertical-align: top;\n",
       "    }\n",
       "\n",
       "    .dataframe thead th {\n",
       "        text-align: right;\n",
       "    }\n",
       "</style>\n",
       "<table border=\"1\" class=\"dataframe\">\n",
       "  <thead>\n",
       "    <tr style=\"text-align: right;\">\n",
       "      <th></th>\n",
       "      <th>Payment Method</th>\n",
       "      <th>Purchase Amount (USD)</th>\n",
       "    </tr>\n",
       "  </thead>\n",
       "  <tbody>\n",
       "    <tr>\n",
       "      <th>0</th>\n",
       "      <td>Bank Transfer</td>\n",
       "      <td>59.712418</td>\n",
       "    </tr>\n",
       "    <tr>\n",
       "      <th>1</th>\n",
       "      <td>Cash</td>\n",
       "      <td>59.704478</td>\n",
       "    </tr>\n",
       "    <tr>\n",
       "      <th>2</th>\n",
       "      <td>Credit Card</td>\n",
       "      <td>60.074516</td>\n",
       "    </tr>\n",
       "    <tr>\n",
       "      <th>3</th>\n",
       "      <td>Debit Card</td>\n",
       "      <td>60.915094</td>\n",
       "    </tr>\n",
       "    <tr>\n",
       "      <th>4</th>\n",
       "      <td>PayPal</td>\n",
       "      <td>59.245199</td>\n",
       "    </tr>\n",
       "    <tr>\n",
       "      <th>5</th>\n",
       "      <td>Venmo</td>\n",
       "      <td>58.949527</td>\n",
       "    </tr>\n",
       "  </tbody>\n",
       "</table>\n",
       "</div>"
      ],
      "text/plain": [
       "  Payment Method  Purchase Amount (USD)\n",
       "0  Bank Transfer              59.712418\n",
       "1           Cash              59.704478\n",
       "2    Credit Card              60.074516\n",
       "3     Debit Card              60.915094\n",
       "4         PayPal              59.245199\n",
       "5          Venmo              58.949527"
      ]
     },
     "execution_count": 34,
     "metadata": {},
     "output_type": "execute_result"
    }
   ],
   "source": [
    "shopgroupby = shop.groupby('Payment Method')['Purchase Amount (USD)'].mean().reset_index()\n",
    "shopgroupby"
   ]
  },
  {
   "cell_type": "code",
   "execution_count": 35,
   "metadata": {},
   "outputs": [
    {
     "data": {
      "application/vnd.plotly.v1+json": {
       "config": {
        "plotlyServerURL": "https://plot.ly"
       },
       "data": [
        {
         "alignmentgroup": "True",
         "hovertemplate": "Payment Method=%{x}<br>Purchase Amount (USD)=%{y}<extra></extra>",
         "legendgroup": "",
         "marker": {
          "color": "#636efa",
          "pattern": {
           "shape": ""
          }
         },
         "name": "",
         "offsetgroup": "",
         "orientation": "v",
         "showlegend": false,
         "textposition": "auto",
         "type": "bar",
         "x": [
          "Bank Transfer",
          "Cash",
          "Credit Card",
          "Debit Card",
          "PayPal",
          "Venmo"
         ],
         "xaxis": "x",
         "y": [
          59.712418300653596,
          59.7044776119403,
          60.07451564828614,
          60.91509433962264,
          59.24519940915805,
          58.94952681388013
         ],
         "yaxis": "y"
        }
       ],
       "layout": {
        "barmode": "relative",
        "legend": {
         "tracegroupgap": 0
        },
        "margin": {
         "t": 60
        },
        "template": {
         "data": {
          "bar": [
           {
            "error_x": {
             "color": "#2a3f5f"
            },
            "error_y": {
             "color": "#2a3f5f"
            },
            "marker": {
             "line": {
              "color": "#E5ECF6",
              "width": 0.5
             },
             "pattern": {
              "fillmode": "overlay",
              "size": 10,
              "solidity": 0.2
             }
            },
            "type": "bar"
           }
          ],
          "barpolar": [
           {
            "marker": {
             "line": {
              "color": "#E5ECF6",
              "width": 0.5
             },
             "pattern": {
              "fillmode": "overlay",
              "size": 10,
              "solidity": 0.2
             }
            },
            "type": "barpolar"
           }
          ],
          "carpet": [
           {
            "aaxis": {
             "endlinecolor": "#2a3f5f",
             "gridcolor": "white",
             "linecolor": "white",
             "minorgridcolor": "white",
             "startlinecolor": "#2a3f5f"
            },
            "baxis": {
             "endlinecolor": "#2a3f5f",
             "gridcolor": "white",
             "linecolor": "white",
             "minorgridcolor": "white",
             "startlinecolor": "#2a3f5f"
            },
            "type": "carpet"
           }
          ],
          "choropleth": [
           {
            "colorbar": {
             "outlinewidth": 0,
             "ticks": ""
            },
            "type": "choropleth"
           }
          ],
          "contour": [
           {
            "colorbar": {
             "outlinewidth": 0,
             "ticks": ""
            },
            "colorscale": [
             [
              0,
              "#0d0887"
             ],
             [
              0.1111111111111111,
              "#46039f"
             ],
             [
              0.2222222222222222,
              "#7201a8"
             ],
             [
              0.3333333333333333,
              "#9c179e"
             ],
             [
              0.4444444444444444,
              "#bd3786"
             ],
             [
              0.5555555555555556,
              "#d8576b"
             ],
             [
              0.6666666666666666,
              "#ed7953"
             ],
             [
              0.7777777777777778,
              "#fb9f3a"
             ],
             [
              0.8888888888888888,
              "#fdca26"
             ],
             [
              1,
              "#f0f921"
             ]
            ],
            "type": "contour"
           }
          ],
          "contourcarpet": [
           {
            "colorbar": {
             "outlinewidth": 0,
             "ticks": ""
            },
            "type": "contourcarpet"
           }
          ],
          "heatmap": [
           {
            "colorbar": {
             "outlinewidth": 0,
             "ticks": ""
            },
            "colorscale": [
             [
              0,
              "#0d0887"
             ],
             [
              0.1111111111111111,
              "#46039f"
             ],
             [
              0.2222222222222222,
              "#7201a8"
             ],
             [
              0.3333333333333333,
              "#9c179e"
             ],
             [
              0.4444444444444444,
              "#bd3786"
             ],
             [
              0.5555555555555556,
              "#d8576b"
             ],
             [
              0.6666666666666666,
              "#ed7953"
             ],
             [
              0.7777777777777778,
              "#fb9f3a"
             ],
             [
              0.8888888888888888,
              "#fdca26"
             ],
             [
              1,
              "#f0f921"
             ]
            ],
            "type": "heatmap"
           }
          ],
          "heatmapgl": [
           {
            "colorbar": {
             "outlinewidth": 0,
             "ticks": ""
            },
            "colorscale": [
             [
              0,
              "#0d0887"
             ],
             [
              0.1111111111111111,
              "#46039f"
             ],
             [
              0.2222222222222222,
              "#7201a8"
             ],
             [
              0.3333333333333333,
              "#9c179e"
             ],
             [
              0.4444444444444444,
              "#bd3786"
             ],
             [
              0.5555555555555556,
              "#d8576b"
             ],
             [
              0.6666666666666666,
              "#ed7953"
             ],
             [
              0.7777777777777778,
              "#fb9f3a"
             ],
             [
              0.8888888888888888,
              "#fdca26"
             ],
             [
              1,
              "#f0f921"
             ]
            ],
            "type": "heatmapgl"
           }
          ],
          "histogram": [
           {
            "marker": {
             "pattern": {
              "fillmode": "overlay",
              "size": 10,
              "solidity": 0.2
             }
            },
            "type": "histogram"
           }
          ],
          "histogram2d": [
           {
            "colorbar": {
             "outlinewidth": 0,
             "ticks": ""
            },
            "colorscale": [
             [
              0,
              "#0d0887"
             ],
             [
              0.1111111111111111,
              "#46039f"
             ],
             [
              0.2222222222222222,
              "#7201a8"
             ],
             [
              0.3333333333333333,
              "#9c179e"
             ],
             [
              0.4444444444444444,
              "#bd3786"
             ],
             [
              0.5555555555555556,
              "#d8576b"
             ],
             [
              0.6666666666666666,
              "#ed7953"
             ],
             [
              0.7777777777777778,
              "#fb9f3a"
             ],
             [
              0.8888888888888888,
              "#fdca26"
             ],
             [
              1,
              "#f0f921"
             ]
            ],
            "type": "histogram2d"
           }
          ],
          "histogram2dcontour": [
           {
            "colorbar": {
             "outlinewidth": 0,
             "ticks": ""
            },
            "colorscale": [
             [
              0,
              "#0d0887"
             ],
             [
              0.1111111111111111,
              "#46039f"
             ],
             [
              0.2222222222222222,
              "#7201a8"
             ],
             [
              0.3333333333333333,
              "#9c179e"
             ],
             [
              0.4444444444444444,
              "#bd3786"
             ],
             [
              0.5555555555555556,
              "#d8576b"
             ],
             [
              0.6666666666666666,
              "#ed7953"
             ],
             [
              0.7777777777777778,
              "#fb9f3a"
             ],
             [
              0.8888888888888888,
              "#fdca26"
             ],
             [
              1,
              "#f0f921"
             ]
            ],
            "type": "histogram2dcontour"
           }
          ],
          "mesh3d": [
           {
            "colorbar": {
             "outlinewidth": 0,
             "ticks": ""
            },
            "type": "mesh3d"
           }
          ],
          "parcoords": [
           {
            "line": {
             "colorbar": {
              "outlinewidth": 0,
              "ticks": ""
             }
            },
            "type": "parcoords"
           }
          ],
          "pie": [
           {
            "automargin": true,
            "type": "pie"
           }
          ],
          "scatter": [
           {
            "fillpattern": {
             "fillmode": "overlay",
             "size": 10,
             "solidity": 0.2
            },
            "type": "scatter"
           }
          ],
          "scatter3d": [
           {
            "line": {
             "colorbar": {
              "outlinewidth": 0,
              "ticks": ""
             }
            },
            "marker": {
             "colorbar": {
              "outlinewidth": 0,
              "ticks": ""
             }
            },
            "type": "scatter3d"
           }
          ],
          "scattercarpet": [
           {
            "marker": {
             "colorbar": {
              "outlinewidth": 0,
              "ticks": ""
             }
            },
            "type": "scattercarpet"
           }
          ],
          "scattergeo": [
           {
            "marker": {
             "colorbar": {
              "outlinewidth": 0,
              "ticks": ""
             }
            },
            "type": "scattergeo"
           }
          ],
          "scattergl": [
           {
            "marker": {
             "colorbar": {
              "outlinewidth": 0,
              "ticks": ""
             }
            },
            "type": "scattergl"
           }
          ],
          "scattermapbox": [
           {
            "marker": {
             "colorbar": {
              "outlinewidth": 0,
              "ticks": ""
             }
            },
            "type": "scattermapbox"
           }
          ],
          "scatterpolar": [
           {
            "marker": {
             "colorbar": {
              "outlinewidth": 0,
              "ticks": ""
             }
            },
            "type": "scatterpolar"
           }
          ],
          "scatterpolargl": [
           {
            "marker": {
             "colorbar": {
              "outlinewidth": 0,
              "ticks": ""
             }
            },
            "type": "scatterpolargl"
           }
          ],
          "scatterternary": [
           {
            "marker": {
             "colorbar": {
              "outlinewidth": 0,
              "ticks": ""
             }
            },
            "type": "scatterternary"
           }
          ],
          "surface": [
           {
            "colorbar": {
             "outlinewidth": 0,
             "ticks": ""
            },
            "colorscale": [
             [
              0,
              "#0d0887"
             ],
             [
              0.1111111111111111,
              "#46039f"
             ],
             [
              0.2222222222222222,
              "#7201a8"
             ],
             [
              0.3333333333333333,
              "#9c179e"
             ],
             [
              0.4444444444444444,
              "#bd3786"
             ],
             [
              0.5555555555555556,
              "#d8576b"
             ],
             [
              0.6666666666666666,
              "#ed7953"
             ],
             [
              0.7777777777777778,
              "#fb9f3a"
             ],
             [
              0.8888888888888888,
              "#fdca26"
             ],
             [
              1,
              "#f0f921"
             ]
            ],
            "type": "surface"
           }
          ],
          "table": [
           {
            "cells": {
             "fill": {
              "color": "#EBF0F8"
             },
             "line": {
              "color": "white"
             }
            },
            "header": {
             "fill": {
              "color": "#C8D4E3"
             },
             "line": {
              "color": "white"
             }
            },
            "type": "table"
           }
          ]
         },
         "layout": {
          "annotationdefaults": {
           "arrowcolor": "#2a3f5f",
           "arrowhead": 0,
           "arrowwidth": 1
          },
          "autotypenumbers": "strict",
          "coloraxis": {
           "colorbar": {
            "outlinewidth": 0,
            "ticks": ""
           }
          },
          "colorscale": {
           "diverging": [
            [
             0,
             "#8e0152"
            ],
            [
             0.1,
             "#c51b7d"
            ],
            [
             0.2,
             "#de77ae"
            ],
            [
             0.3,
             "#f1b6da"
            ],
            [
             0.4,
             "#fde0ef"
            ],
            [
             0.5,
             "#f7f7f7"
            ],
            [
             0.6,
             "#e6f5d0"
            ],
            [
             0.7,
             "#b8e186"
            ],
            [
             0.8,
             "#7fbc41"
            ],
            [
             0.9,
             "#4d9221"
            ],
            [
             1,
             "#276419"
            ]
           ],
           "sequential": [
            [
             0,
             "#0d0887"
            ],
            [
             0.1111111111111111,
             "#46039f"
            ],
            [
             0.2222222222222222,
             "#7201a8"
            ],
            [
             0.3333333333333333,
             "#9c179e"
            ],
            [
             0.4444444444444444,
             "#bd3786"
            ],
            [
             0.5555555555555556,
             "#d8576b"
            ],
            [
             0.6666666666666666,
             "#ed7953"
            ],
            [
             0.7777777777777778,
             "#fb9f3a"
            ],
            [
             0.8888888888888888,
             "#fdca26"
            ],
            [
             1,
             "#f0f921"
            ]
           ],
           "sequentialminus": [
            [
             0,
             "#0d0887"
            ],
            [
             0.1111111111111111,
             "#46039f"
            ],
            [
             0.2222222222222222,
             "#7201a8"
            ],
            [
             0.3333333333333333,
             "#9c179e"
            ],
            [
             0.4444444444444444,
             "#bd3786"
            ],
            [
             0.5555555555555556,
             "#d8576b"
            ],
            [
             0.6666666666666666,
             "#ed7953"
            ],
            [
             0.7777777777777778,
             "#fb9f3a"
            ],
            [
             0.8888888888888888,
             "#fdca26"
            ],
            [
             1,
             "#f0f921"
            ]
           ]
          },
          "colorway": [
           "#636efa",
           "#EF553B",
           "#00cc96",
           "#ab63fa",
           "#FFA15A",
           "#19d3f3",
           "#FF6692",
           "#B6E880",
           "#FF97FF",
           "#FECB52"
          ],
          "font": {
           "color": "#2a3f5f"
          },
          "geo": {
           "bgcolor": "white",
           "lakecolor": "white",
           "landcolor": "#E5ECF6",
           "showlakes": true,
           "showland": true,
           "subunitcolor": "white"
          },
          "hoverlabel": {
           "align": "left"
          },
          "hovermode": "closest",
          "mapbox": {
           "style": "light"
          },
          "paper_bgcolor": "white",
          "plot_bgcolor": "#E5ECF6",
          "polar": {
           "angularaxis": {
            "gridcolor": "white",
            "linecolor": "white",
            "ticks": ""
           },
           "bgcolor": "#E5ECF6",
           "radialaxis": {
            "gridcolor": "white",
            "linecolor": "white",
            "ticks": ""
           }
          },
          "scene": {
           "xaxis": {
            "backgroundcolor": "#E5ECF6",
            "gridcolor": "white",
            "gridwidth": 2,
            "linecolor": "white",
            "showbackground": true,
            "ticks": "",
            "zerolinecolor": "white"
           },
           "yaxis": {
            "backgroundcolor": "#E5ECF6",
            "gridcolor": "white",
            "gridwidth": 2,
            "linecolor": "white",
            "showbackground": true,
            "ticks": "",
            "zerolinecolor": "white"
           },
           "zaxis": {
            "backgroundcolor": "#E5ECF6",
            "gridcolor": "white",
            "gridwidth": 2,
            "linecolor": "white",
            "showbackground": true,
            "ticks": "",
            "zerolinecolor": "white"
           }
          },
          "shapedefaults": {
           "line": {
            "color": "#2a3f5f"
           }
          },
          "ternary": {
           "aaxis": {
            "gridcolor": "white",
            "linecolor": "white",
            "ticks": ""
           },
           "baxis": {
            "gridcolor": "white",
            "linecolor": "white",
            "ticks": ""
           },
           "bgcolor": "#E5ECF6",
           "caxis": {
            "gridcolor": "white",
            "linecolor": "white",
            "ticks": ""
           }
          },
          "title": {
           "x": 0.05
          },
          "xaxis": {
           "automargin": true,
           "gridcolor": "white",
           "linecolor": "white",
           "ticks": "",
           "title": {
            "standoff": 15
           },
           "zerolinecolor": "white",
           "zerolinewidth": 2
          },
          "yaxis": {
           "automargin": true,
           "gridcolor": "white",
           "linecolor": "white",
           "ticks": "",
           "title": {
            "standoff": 15
           },
           "zerolinecolor": "white",
           "zerolinewidth": 2
          }
         }
        },
        "xaxis": {
         "anchor": "y",
         "domain": [
          0,
          1
         ],
         "title": {
          "text": "Payment Method"
         }
        },
        "yaxis": {
         "anchor": "x",
         "domain": [
          0,
          1
         ],
         "title": {
          "text": "Purchase Amount (USD)"
         }
        }
       }
      }
     },
     "metadata": {},
     "output_type": "display_data"
    }
   ],
   "source": [
    "px.bar(shopgroupby, x='Payment Method', y='Purchase Amount (USD)')"
   ]
  },
  {
   "cell_type": "markdown",
   "metadata": {},
   "source": [
    "## 9.\tDo customers who use promo codes tend to spend more than those who don't?"
   ]
  },
  {
   "cell_type": "code",
   "execution_count": 36,
   "metadata": {},
   "outputs": [
    {
     "data": {
      "text/plain": [
       "Index(['Customer ID', 'Age', 'Gender', 'Item Purchased', 'Category',\n",
       "       'Purchase Amount (USD)', 'Location', 'Size', 'Color', 'Season',\n",
       "       'Review Rating', 'Subscription Status', 'Shipping Type',\n",
       "       'Discount Applied', 'Promo Code Used', 'Previous Purchases',\n",
       "       'Payment Method', 'Frequency of Purchases', 'Age_category'],\n",
       "      dtype='object')"
      ]
     },
     "execution_count": 36,
     "metadata": {},
     "output_type": "execute_result"
    }
   ],
   "source": [
    "shop.columns"
   ]
  },
  {
   "cell_type": "code",
   "execution_count": 37,
   "metadata": {},
   "outputs": [
    {
     "data": {
      "text/plain": [
       "Promo Code Used\n",
       "No     2223\n",
       "Yes    1677\n",
       "Name: count, dtype: int64"
      ]
     },
     "execution_count": 37,
     "metadata": {},
     "output_type": "execute_result"
    }
   ],
   "source": [
    "shop['Promo Code Used'].value_counts()"
   ]
  },
  {
   "cell_type": "code",
   "execution_count": 38,
   "metadata": {},
   "outputs": [
    {
     "data": {
      "text/plain": [
       "Promo Code Used\n",
       "No     60.130454\n",
       "Yes    59.279070\n",
       "Name: Purchase Amount (USD), dtype: float64"
      ]
     },
     "execution_count": 38,
     "metadata": {},
     "output_type": "execute_result"
    }
   ],
   "source": [
    "shop.groupby('Promo Code Used')['Purchase Amount (USD)'].mean()"
   ]
  },
  {
   "cell_type": "code",
   "execution_count": 39,
   "metadata": {},
   "outputs": [],
   "source": [
    "shop_groupby_promo = shop.groupby('Promo Code Used')['Purchase Amount (USD)'].sum().reset_index()"
   ]
  },
  {
   "cell_type": "code",
   "execution_count": 40,
   "metadata": {},
   "outputs": [
    {
     "data": {
      "application/vnd.plotly.v1+json": {
       "config": {
        "plotlyServerURL": "https://plot.ly"
       },
       "data": [
        {
         "branchvalues": "total",
         "domain": {
          "x": [
           0,
           1
          ],
          "y": [
           0,
           1
          ]
         },
         "hovertemplate": "labels=%{label}<br>Purchase Amount (USD)=%{value}<br>parent=%{parent}<br>id=%{id}<extra></extra>",
         "ids": [
          "Female/No",
          "Male/No",
          "Male/Yes",
          "Female",
          "Male"
         ],
         "labels": [
          "No",
          "No",
          "Yes",
          "Female",
          "Male"
         ],
         "name": "",
         "parents": [
          "Female",
          "Male",
          "Male",
          "",
          ""
         ],
         "type": "sunburst",
         "values": [
          75191,
          58479,
          99411,
          75191,
          157890
         ]
        }
       ],
       "layout": {
        "legend": {
         "tracegroupgap": 0
        },
        "margin": {
         "t": 60
        },
        "template": {
         "data": {
          "bar": [
           {
            "error_x": {
             "color": "#2a3f5f"
            },
            "error_y": {
             "color": "#2a3f5f"
            },
            "marker": {
             "line": {
              "color": "#E5ECF6",
              "width": 0.5
             },
             "pattern": {
              "fillmode": "overlay",
              "size": 10,
              "solidity": 0.2
             }
            },
            "type": "bar"
           }
          ],
          "barpolar": [
           {
            "marker": {
             "line": {
              "color": "#E5ECF6",
              "width": 0.5
             },
             "pattern": {
              "fillmode": "overlay",
              "size": 10,
              "solidity": 0.2
             }
            },
            "type": "barpolar"
           }
          ],
          "carpet": [
           {
            "aaxis": {
             "endlinecolor": "#2a3f5f",
             "gridcolor": "white",
             "linecolor": "white",
             "minorgridcolor": "white",
             "startlinecolor": "#2a3f5f"
            },
            "baxis": {
             "endlinecolor": "#2a3f5f",
             "gridcolor": "white",
             "linecolor": "white",
             "minorgridcolor": "white",
             "startlinecolor": "#2a3f5f"
            },
            "type": "carpet"
           }
          ],
          "choropleth": [
           {
            "colorbar": {
             "outlinewidth": 0,
             "ticks": ""
            },
            "type": "choropleth"
           }
          ],
          "contour": [
           {
            "colorbar": {
             "outlinewidth": 0,
             "ticks": ""
            },
            "colorscale": [
             [
              0,
              "#0d0887"
             ],
             [
              0.1111111111111111,
              "#46039f"
             ],
             [
              0.2222222222222222,
              "#7201a8"
             ],
             [
              0.3333333333333333,
              "#9c179e"
             ],
             [
              0.4444444444444444,
              "#bd3786"
             ],
             [
              0.5555555555555556,
              "#d8576b"
             ],
             [
              0.6666666666666666,
              "#ed7953"
             ],
             [
              0.7777777777777778,
              "#fb9f3a"
             ],
             [
              0.8888888888888888,
              "#fdca26"
             ],
             [
              1,
              "#f0f921"
             ]
            ],
            "type": "contour"
           }
          ],
          "contourcarpet": [
           {
            "colorbar": {
             "outlinewidth": 0,
             "ticks": ""
            },
            "type": "contourcarpet"
           }
          ],
          "heatmap": [
           {
            "colorbar": {
             "outlinewidth": 0,
             "ticks": ""
            },
            "colorscale": [
             [
              0,
              "#0d0887"
             ],
             [
              0.1111111111111111,
              "#46039f"
             ],
             [
              0.2222222222222222,
              "#7201a8"
             ],
             [
              0.3333333333333333,
              "#9c179e"
             ],
             [
              0.4444444444444444,
              "#bd3786"
             ],
             [
              0.5555555555555556,
              "#d8576b"
             ],
             [
              0.6666666666666666,
              "#ed7953"
             ],
             [
              0.7777777777777778,
              "#fb9f3a"
             ],
             [
              0.8888888888888888,
              "#fdca26"
             ],
             [
              1,
              "#f0f921"
             ]
            ],
            "type": "heatmap"
           }
          ],
          "heatmapgl": [
           {
            "colorbar": {
             "outlinewidth": 0,
             "ticks": ""
            },
            "colorscale": [
             [
              0,
              "#0d0887"
             ],
             [
              0.1111111111111111,
              "#46039f"
             ],
             [
              0.2222222222222222,
              "#7201a8"
             ],
             [
              0.3333333333333333,
              "#9c179e"
             ],
             [
              0.4444444444444444,
              "#bd3786"
             ],
             [
              0.5555555555555556,
              "#d8576b"
             ],
             [
              0.6666666666666666,
              "#ed7953"
             ],
             [
              0.7777777777777778,
              "#fb9f3a"
             ],
             [
              0.8888888888888888,
              "#fdca26"
             ],
             [
              1,
              "#f0f921"
             ]
            ],
            "type": "heatmapgl"
           }
          ],
          "histogram": [
           {
            "marker": {
             "pattern": {
              "fillmode": "overlay",
              "size": 10,
              "solidity": 0.2
             }
            },
            "type": "histogram"
           }
          ],
          "histogram2d": [
           {
            "colorbar": {
             "outlinewidth": 0,
             "ticks": ""
            },
            "colorscale": [
             [
              0,
              "#0d0887"
             ],
             [
              0.1111111111111111,
              "#46039f"
             ],
             [
              0.2222222222222222,
              "#7201a8"
             ],
             [
              0.3333333333333333,
              "#9c179e"
             ],
             [
              0.4444444444444444,
              "#bd3786"
             ],
             [
              0.5555555555555556,
              "#d8576b"
             ],
             [
              0.6666666666666666,
              "#ed7953"
             ],
             [
              0.7777777777777778,
              "#fb9f3a"
             ],
             [
              0.8888888888888888,
              "#fdca26"
             ],
             [
              1,
              "#f0f921"
             ]
            ],
            "type": "histogram2d"
           }
          ],
          "histogram2dcontour": [
           {
            "colorbar": {
             "outlinewidth": 0,
             "ticks": ""
            },
            "colorscale": [
             [
              0,
              "#0d0887"
             ],
             [
              0.1111111111111111,
              "#46039f"
             ],
             [
              0.2222222222222222,
              "#7201a8"
             ],
             [
              0.3333333333333333,
              "#9c179e"
             ],
             [
              0.4444444444444444,
              "#bd3786"
             ],
             [
              0.5555555555555556,
              "#d8576b"
             ],
             [
              0.6666666666666666,
              "#ed7953"
             ],
             [
              0.7777777777777778,
              "#fb9f3a"
             ],
             [
              0.8888888888888888,
              "#fdca26"
             ],
             [
              1,
              "#f0f921"
             ]
            ],
            "type": "histogram2dcontour"
           }
          ],
          "mesh3d": [
           {
            "colorbar": {
             "outlinewidth": 0,
             "ticks": ""
            },
            "type": "mesh3d"
           }
          ],
          "parcoords": [
           {
            "line": {
             "colorbar": {
              "outlinewidth": 0,
              "ticks": ""
             }
            },
            "type": "parcoords"
           }
          ],
          "pie": [
           {
            "automargin": true,
            "type": "pie"
           }
          ],
          "scatter": [
           {
            "fillpattern": {
             "fillmode": "overlay",
             "size": 10,
             "solidity": 0.2
            },
            "type": "scatter"
           }
          ],
          "scatter3d": [
           {
            "line": {
             "colorbar": {
              "outlinewidth": 0,
              "ticks": ""
             }
            },
            "marker": {
             "colorbar": {
              "outlinewidth": 0,
              "ticks": ""
             }
            },
            "type": "scatter3d"
           }
          ],
          "scattercarpet": [
           {
            "marker": {
             "colorbar": {
              "outlinewidth": 0,
              "ticks": ""
             }
            },
            "type": "scattercarpet"
           }
          ],
          "scattergeo": [
           {
            "marker": {
             "colorbar": {
              "outlinewidth": 0,
              "ticks": ""
             }
            },
            "type": "scattergeo"
           }
          ],
          "scattergl": [
           {
            "marker": {
             "colorbar": {
              "outlinewidth": 0,
              "ticks": ""
             }
            },
            "type": "scattergl"
           }
          ],
          "scattermapbox": [
           {
            "marker": {
             "colorbar": {
              "outlinewidth": 0,
              "ticks": ""
             }
            },
            "type": "scattermapbox"
           }
          ],
          "scatterpolar": [
           {
            "marker": {
             "colorbar": {
              "outlinewidth": 0,
              "ticks": ""
             }
            },
            "type": "scatterpolar"
           }
          ],
          "scatterpolargl": [
           {
            "marker": {
             "colorbar": {
              "outlinewidth": 0,
              "ticks": ""
             }
            },
            "type": "scatterpolargl"
           }
          ],
          "scatterternary": [
           {
            "marker": {
             "colorbar": {
              "outlinewidth": 0,
              "ticks": ""
             }
            },
            "type": "scatterternary"
           }
          ],
          "surface": [
           {
            "colorbar": {
             "outlinewidth": 0,
             "ticks": ""
            },
            "colorscale": [
             [
              0,
              "#0d0887"
             ],
             [
              0.1111111111111111,
              "#46039f"
             ],
             [
              0.2222222222222222,
              "#7201a8"
             ],
             [
              0.3333333333333333,
              "#9c179e"
             ],
             [
              0.4444444444444444,
              "#bd3786"
             ],
             [
              0.5555555555555556,
              "#d8576b"
             ],
             [
              0.6666666666666666,
              "#ed7953"
             ],
             [
              0.7777777777777778,
              "#fb9f3a"
             ],
             [
              0.8888888888888888,
              "#fdca26"
             ],
             [
              1,
              "#f0f921"
             ]
            ],
            "type": "surface"
           }
          ],
          "table": [
           {
            "cells": {
             "fill": {
              "color": "#EBF0F8"
             },
             "line": {
              "color": "white"
             }
            },
            "header": {
             "fill": {
              "color": "#C8D4E3"
             },
             "line": {
              "color": "white"
             }
            },
            "type": "table"
           }
          ]
         },
         "layout": {
          "annotationdefaults": {
           "arrowcolor": "#2a3f5f",
           "arrowhead": 0,
           "arrowwidth": 1
          },
          "autotypenumbers": "strict",
          "coloraxis": {
           "colorbar": {
            "outlinewidth": 0,
            "ticks": ""
           }
          },
          "colorscale": {
           "diverging": [
            [
             0,
             "#8e0152"
            ],
            [
             0.1,
             "#c51b7d"
            ],
            [
             0.2,
             "#de77ae"
            ],
            [
             0.3,
             "#f1b6da"
            ],
            [
             0.4,
             "#fde0ef"
            ],
            [
             0.5,
             "#f7f7f7"
            ],
            [
             0.6,
             "#e6f5d0"
            ],
            [
             0.7,
             "#b8e186"
            ],
            [
             0.8,
             "#7fbc41"
            ],
            [
             0.9,
             "#4d9221"
            ],
            [
             1,
             "#276419"
            ]
           ],
           "sequential": [
            [
             0,
             "#0d0887"
            ],
            [
             0.1111111111111111,
             "#46039f"
            ],
            [
             0.2222222222222222,
             "#7201a8"
            ],
            [
             0.3333333333333333,
             "#9c179e"
            ],
            [
             0.4444444444444444,
             "#bd3786"
            ],
            [
             0.5555555555555556,
             "#d8576b"
            ],
            [
             0.6666666666666666,
             "#ed7953"
            ],
            [
             0.7777777777777778,
             "#fb9f3a"
            ],
            [
             0.8888888888888888,
             "#fdca26"
            ],
            [
             1,
             "#f0f921"
            ]
           ],
           "sequentialminus": [
            [
             0,
             "#0d0887"
            ],
            [
             0.1111111111111111,
             "#46039f"
            ],
            [
             0.2222222222222222,
             "#7201a8"
            ],
            [
             0.3333333333333333,
             "#9c179e"
            ],
            [
             0.4444444444444444,
             "#bd3786"
            ],
            [
             0.5555555555555556,
             "#d8576b"
            ],
            [
             0.6666666666666666,
             "#ed7953"
            ],
            [
             0.7777777777777778,
             "#fb9f3a"
            ],
            [
             0.8888888888888888,
             "#fdca26"
            ],
            [
             1,
             "#f0f921"
            ]
           ]
          },
          "colorway": [
           "#636efa",
           "#EF553B",
           "#00cc96",
           "#ab63fa",
           "#FFA15A",
           "#19d3f3",
           "#FF6692",
           "#B6E880",
           "#FF97FF",
           "#FECB52"
          ],
          "font": {
           "color": "#2a3f5f"
          },
          "geo": {
           "bgcolor": "white",
           "lakecolor": "white",
           "landcolor": "#E5ECF6",
           "showlakes": true,
           "showland": true,
           "subunitcolor": "white"
          },
          "hoverlabel": {
           "align": "left"
          },
          "hovermode": "closest",
          "mapbox": {
           "style": "light"
          },
          "paper_bgcolor": "white",
          "plot_bgcolor": "#E5ECF6",
          "polar": {
           "angularaxis": {
            "gridcolor": "white",
            "linecolor": "white",
            "ticks": ""
           },
           "bgcolor": "#E5ECF6",
           "radialaxis": {
            "gridcolor": "white",
            "linecolor": "white",
            "ticks": ""
           }
          },
          "scene": {
           "xaxis": {
            "backgroundcolor": "#E5ECF6",
            "gridcolor": "white",
            "gridwidth": 2,
            "linecolor": "white",
            "showbackground": true,
            "ticks": "",
            "zerolinecolor": "white"
           },
           "yaxis": {
            "backgroundcolor": "#E5ECF6",
            "gridcolor": "white",
            "gridwidth": 2,
            "linecolor": "white",
            "showbackground": true,
            "ticks": "",
            "zerolinecolor": "white"
           },
           "zaxis": {
            "backgroundcolor": "#E5ECF6",
            "gridcolor": "white",
            "gridwidth": 2,
            "linecolor": "white",
            "showbackground": true,
            "ticks": "",
            "zerolinecolor": "white"
           }
          },
          "shapedefaults": {
           "line": {
            "color": "#2a3f5f"
           }
          },
          "ternary": {
           "aaxis": {
            "gridcolor": "white",
            "linecolor": "white",
            "ticks": ""
           },
           "baxis": {
            "gridcolor": "white",
            "linecolor": "white",
            "ticks": ""
           },
           "bgcolor": "#E5ECF6",
           "caxis": {
            "gridcolor": "white",
            "linecolor": "white",
            "ticks": ""
           }
          },
          "title": {
           "x": 0.05
          },
          "xaxis": {
           "automargin": true,
           "gridcolor": "white",
           "linecolor": "white",
           "ticks": "",
           "title": {
            "standoff": 15
           },
           "zerolinecolor": "white",
           "zerolinewidth": 2
          },
          "yaxis": {
           "automargin": true,
           "gridcolor": "white",
           "linecolor": "white",
           "ticks": "",
           "title": {
            "standoff": 15
           },
           "zerolinecolor": "white",
           "zerolinewidth": 2
          }
         }
        }
       }
      }
     },
     "metadata": {},
     "output_type": "display_data"
    }
   ],
   "source": [
    "fig = px.sunburst(shop , path=['Gender','Promo Code Used'] , values='Purchase Amount (USD)')\n",
    "fig.show()                      "
   ]
  },
  {
   "cell_type": "code",
   "execution_count": 41,
   "metadata": {},
   "outputs": [
    {
     "data": {
      "application/vnd.plotly.v1+json": {
       "config": {
        "plotlyServerURL": "https://plot.ly"
       },
       "data": [
        {
         "alignmentgroup": "True",
         "hovertemplate": "Promo Code Used=%{x}<br>Purchase Amount (USD)=%{y}<extra></extra>",
         "legendgroup": "",
         "marker": {
          "color": "#636efa",
          "pattern": {
           "shape": ""
          }
         },
         "name": "",
         "offsetgroup": "",
         "orientation": "v",
         "showlegend": false,
         "textposition": "auto",
         "type": "bar",
         "x": [
          "No",
          "Yes"
         ],
         "xaxis": "x",
         "y": [
          133670,
          99411
         ],
         "yaxis": "y"
        }
       ],
       "layout": {
        "barmode": "relative",
        "legend": {
         "tracegroupgap": 0
        },
        "margin": {
         "t": 60
        },
        "template": {
         "data": {
          "bar": [
           {
            "error_x": {
             "color": "#2a3f5f"
            },
            "error_y": {
             "color": "#2a3f5f"
            },
            "marker": {
             "line": {
              "color": "#E5ECF6",
              "width": 0.5
             },
             "pattern": {
              "fillmode": "overlay",
              "size": 10,
              "solidity": 0.2
             }
            },
            "type": "bar"
           }
          ],
          "barpolar": [
           {
            "marker": {
             "line": {
              "color": "#E5ECF6",
              "width": 0.5
             },
             "pattern": {
              "fillmode": "overlay",
              "size": 10,
              "solidity": 0.2
             }
            },
            "type": "barpolar"
           }
          ],
          "carpet": [
           {
            "aaxis": {
             "endlinecolor": "#2a3f5f",
             "gridcolor": "white",
             "linecolor": "white",
             "minorgridcolor": "white",
             "startlinecolor": "#2a3f5f"
            },
            "baxis": {
             "endlinecolor": "#2a3f5f",
             "gridcolor": "white",
             "linecolor": "white",
             "minorgridcolor": "white",
             "startlinecolor": "#2a3f5f"
            },
            "type": "carpet"
           }
          ],
          "choropleth": [
           {
            "colorbar": {
             "outlinewidth": 0,
             "ticks": ""
            },
            "type": "choropleth"
           }
          ],
          "contour": [
           {
            "colorbar": {
             "outlinewidth": 0,
             "ticks": ""
            },
            "colorscale": [
             [
              0,
              "#0d0887"
             ],
             [
              0.1111111111111111,
              "#46039f"
             ],
             [
              0.2222222222222222,
              "#7201a8"
             ],
             [
              0.3333333333333333,
              "#9c179e"
             ],
             [
              0.4444444444444444,
              "#bd3786"
             ],
             [
              0.5555555555555556,
              "#d8576b"
             ],
             [
              0.6666666666666666,
              "#ed7953"
             ],
             [
              0.7777777777777778,
              "#fb9f3a"
             ],
             [
              0.8888888888888888,
              "#fdca26"
             ],
             [
              1,
              "#f0f921"
             ]
            ],
            "type": "contour"
           }
          ],
          "contourcarpet": [
           {
            "colorbar": {
             "outlinewidth": 0,
             "ticks": ""
            },
            "type": "contourcarpet"
           }
          ],
          "heatmap": [
           {
            "colorbar": {
             "outlinewidth": 0,
             "ticks": ""
            },
            "colorscale": [
             [
              0,
              "#0d0887"
             ],
             [
              0.1111111111111111,
              "#46039f"
             ],
             [
              0.2222222222222222,
              "#7201a8"
             ],
             [
              0.3333333333333333,
              "#9c179e"
             ],
             [
              0.4444444444444444,
              "#bd3786"
             ],
             [
              0.5555555555555556,
              "#d8576b"
             ],
             [
              0.6666666666666666,
              "#ed7953"
             ],
             [
              0.7777777777777778,
              "#fb9f3a"
             ],
             [
              0.8888888888888888,
              "#fdca26"
             ],
             [
              1,
              "#f0f921"
             ]
            ],
            "type": "heatmap"
           }
          ],
          "heatmapgl": [
           {
            "colorbar": {
             "outlinewidth": 0,
             "ticks": ""
            },
            "colorscale": [
             [
              0,
              "#0d0887"
             ],
             [
              0.1111111111111111,
              "#46039f"
             ],
             [
              0.2222222222222222,
              "#7201a8"
             ],
             [
              0.3333333333333333,
              "#9c179e"
             ],
             [
              0.4444444444444444,
              "#bd3786"
             ],
             [
              0.5555555555555556,
              "#d8576b"
             ],
             [
              0.6666666666666666,
              "#ed7953"
             ],
             [
              0.7777777777777778,
              "#fb9f3a"
             ],
             [
              0.8888888888888888,
              "#fdca26"
             ],
             [
              1,
              "#f0f921"
             ]
            ],
            "type": "heatmapgl"
           }
          ],
          "histogram": [
           {
            "marker": {
             "pattern": {
              "fillmode": "overlay",
              "size": 10,
              "solidity": 0.2
             }
            },
            "type": "histogram"
           }
          ],
          "histogram2d": [
           {
            "colorbar": {
             "outlinewidth": 0,
             "ticks": ""
            },
            "colorscale": [
             [
              0,
              "#0d0887"
             ],
             [
              0.1111111111111111,
              "#46039f"
             ],
             [
              0.2222222222222222,
              "#7201a8"
             ],
             [
              0.3333333333333333,
              "#9c179e"
             ],
             [
              0.4444444444444444,
              "#bd3786"
             ],
             [
              0.5555555555555556,
              "#d8576b"
             ],
             [
              0.6666666666666666,
              "#ed7953"
             ],
             [
              0.7777777777777778,
              "#fb9f3a"
             ],
             [
              0.8888888888888888,
              "#fdca26"
             ],
             [
              1,
              "#f0f921"
             ]
            ],
            "type": "histogram2d"
           }
          ],
          "histogram2dcontour": [
           {
            "colorbar": {
             "outlinewidth": 0,
             "ticks": ""
            },
            "colorscale": [
             [
              0,
              "#0d0887"
             ],
             [
              0.1111111111111111,
              "#46039f"
             ],
             [
              0.2222222222222222,
              "#7201a8"
             ],
             [
              0.3333333333333333,
              "#9c179e"
             ],
             [
              0.4444444444444444,
              "#bd3786"
             ],
             [
              0.5555555555555556,
              "#d8576b"
             ],
             [
              0.6666666666666666,
              "#ed7953"
             ],
             [
              0.7777777777777778,
              "#fb9f3a"
             ],
             [
              0.8888888888888888,
              "#fdca26"
             ],
             [
              1,
              "#f0f921"
             ]
            ],
            "type": "histogram2dcontour"
           }
          ],
          "mesh3d": [
           {
            "colorbar": {
             "outlinewidth": 0,
             "ticks": ""
            },
            "type": "mesh3d"
           }
          ],
          "parcoords": [
           {
            "line": {
             "colorbar": {
              "outlinewidth": 0,
              "ticks": ""
             }
            },
            "type": "parcoords"
           }
          ],
          "pie": [
           {
            "automargin": true,
            "type": "pie"
           }
          ],
          "scatter": [
           {
            "fillpattern": {
             "fillmode": "overlay",
             "size": 10,
             "solidity": 0.2
            },
            "type": "scatter"
           }
          ],
          "scatter3d": [
           {
            "line": {
             "colorbar": {
              "outlinewidth": 0,
              "ticks": ""
             }
            },
            "marker": {
             "colorbar": {
              "outlinewidth": 0,
              "ticks": ""
             }
            },
            "type": "scatter3d"
           }
          ],
          "scattercarpet": [
           {
            "marker": {
             "colorbar": {
              "outlinewidth": 0,
              "ticks": ""
             }
            },
            "type": "scattercarpet"
           }
          ],
          "scattergeo": [
           {
            "marker": {
             "colorbar": {
              "outlinewidth": 0,
              "ticks": ""
             }
            },
            "type": "scattergeo"
           }
          ],
          "scattergl": [
           {
            "marker": {
             "colorbar": {
              "outlinewidth": 0,
              "ticks": ""
             }
            },
            "type": "scattergl"
           }
          ],
          "scattermapbox": [
           {
            "marker": {
             "colorbar": {
              "outlinewidth": 0,
              "ticks": ""
             }
            },
            "type": "scattermapbox"
           }
          ],
          "scatterpolar": [
           {
            "marker": {
             "colorbar": {
              "outlinewidth": 0,
              "ticks": ""
             }
            },
            "type": "scatterpolar"
           }
          ],
          "scatterpolargl": [
           {
            "marker": {
             "colorbar": {
              "outlinewidth": 0,
              "ticks": ""
             }
            },
            "type": "scatterpolargl"
           }
          ],
          "scatterternary": [
           {
            "marker": {
             "colorbar": {
              "outlinewidth": 0,
              "ticks": ""
             }
            },
            "type": "scatterternary"
           }
          ],
          "surface": [
           {
            "colorbar": {
             "outlinewidth": 0,
             "ticks": ""
            },
            "colorscale": [
             [
              0,
              "#0d0887"
             ],
             [
              0.1111111111111111,
              "#46039f"
             ],
             [
              0.2222222222222222,
              "#7201a8"
             ],
             [
              0.3333333333333333,
              "#9c179e"
             ],
             [
              0.4444444444444444,
              "#bd3786"
             ],
             [
              0.5555555555555556,
              "#d8576b"
             ],
             [
              0.6666666666666666,
              "#ed7953"
             ],
             [
              0.7777777777777778,
              "#fb9f3a"
             ],
             [
              0.8888888888888888,
              "#fdca26"
             ],
             [
              1,
              "#f0f921"
             ]
            ],
            "type": "surface"
           }
          ],
          "table": [
           {
            "cells": {
             "fill": {
              "color": "#EBF0F8"
             },
             "line": {
              "color": "white"
             }
            },
            "header": {
             "fill": {
              "color": "#C8D4E3"
             },
             "line": {
              "color": "white"
             }
            },
            "type": "table"
           }
          ]
         },
         "layout": {
          "annotationdefaults": {
           "arrowcolor": "#2a3f5f",
           "arrowhead": 0,
           "arrowwidth": 1
          },
          "autotypenumbers": "strict",
          "coloraxis": {
           "colorbar": {
            "outlinewidth": 0,
            "ticks": ""
           }
          },
          "colorscale": {
           "diverging": [
            [
             0,
             "#8e0152"
            ],
            [
             0.1,
             "#c51b7d"
            ],
            [
             0.2,
             "#de77ae"
            ],
            [
             0.3,
             "#f1b6da"
            ],
            [
             0.4,
             "#fde0ef"
            ],
            [
             0.5,
             "#f7f7f7"
            ],
            [
             0.6,
             "#e6f5d0"
            ],
            [
             0.7,
             "#b8e186"
            ],
            [
             0.8,
             "#7fbc41"
            ],
            [
             0.9,
             "#4d9221"
            ],
            [
             1,
             "#276419"
            ]
           ],
           "sequential": [
            [
             0,
             "#0d0887"
            ],
            [
             0.1111111111111111,
             "#46039f"
            ],
            [
             0.2222222222222222,
             "#7201a8"
            ],
            [
             0.3333333333333333,
             "#9c179e"
            ],
            [
             0.4444444444444444,
             "#bd3786"
            ],
            [
             0.5555555555555556,
             "#d8576b"
            ],
            [
             0.6666666666666666,
             "#ed7953"
            ],
            [
             0.7777777777777778,
             "#fb9f3a"
            ],
            [
             0.8888888888888888,
             "#fdca26"
            ],
            [
             1,
             "#f0f921"
            ]
           ],
           "sequentialminus": [
            [
             0,
             "#0d0887"
            ],
            [
             0.1111111111111111,
             "#46039f"
            ],
            [
             0.2222222222222222,
             "#7201a8"
            ],
            [
             0.3333333333333333,
             "#9c179e"
            ],
            [
             0.4444444444444444,
             "#bd3786"
            ],
            [
             0.5555555555555556,
             "#d8576b"
            ],
            [
             0.6666666666666666,
             "#ed7953"
            ],
            [
             0.7777777777777778,
             "#fb9f3a"
            ],
            [
             0.8888888888888888,
             "#fdca26"
            ],
            [
             1,
             "#f0f921"
            ]
           ]
          },
          "colorway": [
           "#636efa",
           "#EF553B",
           "#00cc96",
           "#ab63fa",
           "#FFA15A",
           "#19d3f3",
           "#FF6692",
           "#B6E880",
           "#FF97FF",
           "#FECB52"
          ],
          "font": {
           "color": "#2a3f5f"
          },
          "geo": {
           "bgcolor": "white",
           "lakecolor": "white",
           "landcolor": "#E5ECF6",
           "showlakes": true,
           "showland": true,
           "subunitcolor": "white"
          },
          "hoverlabel": {
           "align": "left"
          },
          "hovermode": "closest",
          "mapbox": {
           "style": "light"
          },
          "paper_bgcolor": "white",
          "plot_bgcolor": "#E5ECF6",
          "polar": {
           "angularaxis": {
            "gridcolor": "white",
            "linecolor": "white",
            "ticks": ""
           },
           "bgcolor": "#E5ECF6",
           "radialaxis": {
            "gridcolor": "white",
            "linecolor": "white",
            "ticks": ""
           }
          },
          "scene": {
           "xaxis": {
            "backgroundcolor": "#E5ECF6",
            "gridcolor": "white",
            "gridwidth": 2,
            "linecolor": "white",
            "showbackground": true,
            "ticks": "",
            "zerolinecolor": "white"
           },
           "yaxis": {
            "backgroundcolor": "#E5ECF6",
            "gridcolor": "white",
            "gridwidth": 2,
            "linecolor": "white",
            "showbackground": true,
            "ticks": "",
            "zerolinecolor": "white"
           },
           "zaxis": {
            "backgroundcolor": "#E5ECF6",
            "gridcolor": "white",
            "gridwidth": 2,
            "linecolor": "white",
            "showbackground": true,
            "ticks": "",
            "zerolinecolor": "white"
           }
          },
          "shapedefaults": {
           "line": {
            "color": "#2a3f5f"
           }
          },
          "ternary": {
           "aaxis": {
            "gridcolor": "white",
            "linecolor": "white",
            "ticks": ""
           },
           "baxis": {
            "gridcolor": "white",
            "linecolor": "white",
            "ticks": ""
           },
           "bgcolor": "#E5ECF6",
           "caxis": {
            "gridcolor": "white",
            "linecolor": "white",
            "ticks": ""
           }
          },
          "title": {
           "x": 0.05
          },
          "xaxis": {
           "automargin": true,
           "gridcolor": "white",
           "linecolor": "white",
           "ticks": "",
           "title": {
            "standoff": 15
           },
           "zerolinecolor": "white",
           "zerolinewidth": 2
          },
          "yaxis": {
           "automargin": true,
           "gridcolor": "white",
           "linecolor": "white",
           "ticks": "",
           "title": {
            "standoff": 15
           },
           "zerolinecolor": "white",
           "zerolinewidth": 2
          }
         }
        },
        "xaxis": {
         "anchor": "y",
         "domain": [
          0,
          1
         ],
         "title": {
          "text": "Promo Code Used"
         }
        },
        "yaxis": {
         "anchor": "x",
         "domain": [
          0,
          1
         ],
         "title": {
          "text": "Purchase Amount (USD)"
         }
        }
       }
      }
     },
     "metadata": {},
     "output_type": "display_data"
    }
   ],
   "source": [
    "px.bar(shop_groupby_promo, x='Promo Code Used', y='Purchase Amount (USD)')"
   ]
  },
  {
   "cell_type": "markdown",
   "metadata": {},
   "source": [
    "No, customers who use promo codes does not tend to spend more than those who don't. "
   ]
  },
  {
   "cell_type": "markdown",
   "metadata": {},
   "source": [
    "## 11.\tAre there any correlations between the size of the product and the purchase amount?"
   ]
  },
  {
   "cell_type": "code",
   "execution_count": 42,
   "metadata": {},
   "outputs": [
    {
     "data": {
      "text/plain": [
       "Index(['Customer ID', 'Age', 'Gender', 'Item Purchased', 'Category',\n",
       "       'Purchase Amount (USD)', 'Location', 'Size', 'Color', 'Season',\n",
       "       'Review Rating', 'Subscription Status', 'Shipping Type',\n",
       "       'Discount Applied', 'Promo Code Used', 'Previous Purchases',\n",
       "       'Payment Method', 'Frequency of Purchases', 'Age_category'],\n",
       "      dtype='object')"
      ]
     },
     "execution_count": 42,
     "metadata": {},
     "output_type": "execute_result"
    }
   ],
   "source": [
    "shop.columns"
   ]
  },
  {
   "cell_type": "code",
   "execution_count": 43,
   "metadata": {},
   "outputs": [
    {
     "data": {
      "text/plain": [
       "array(['L', 'S', 'M', 'XL'], dtype=object)"
      ]
     },
     "execution_count": 43,
     "metadata": {},
     "output_type": "execute_result"
    }
   ],
   "source": [
    "shop['Size'].unique()"
   ]
  },
  {
   "cell_type": "code",
   "execution_count": 44,
   "metadata": {},
   "outputs": [],
   "source": [
    "shop_roupby_Size = shop.groupby('Size')['Purchase Amount (USD)'].sum().reset_index()"
   ]
  },
  {
   "cell_type": "code",
   "execution_count": 45,
   "metadata": {},
   "outputs": [
    {
     "data": {
      "application/vnd.plotly.v1+json": {
       "config": {
        "plotlyServerURL": "https://plot.ly"
       },
       "data": [
        {
         "alignmentgroup": "True",
         "hovertemplate": "Size=%{x}<br>Purchase Amount (USD)=%{y}<extra></extra>",
         "legendgroup": "",
         "marker": {
          "color": "#636efa",
          "pattern": {
           "shape": ""
          }
         },
         "name": "",
         "offsetgroup": "",
         "orientation": "v",
         "showlegend": false,
         "textposition": "auto",
         "type": "bar",
         "x": [
          "L",
          "M",
          "S",
          "XL"
         ],
         "xaxis": "x",
         "y": [
          61667,
          105167,
          40468,
          25779
         ],
         "yaxis": "y"
        }
       ],
       "layout": {
        "barmode": "relative",
        "legend": {
         "tracegroupgap": 0
        },
        "margin": {
         "t": 60
        },
        "template": {
         "data": {
          "bar": [
           {
            "error_x": {
             "color": "#2a3f5f"
            },
            "error_y": {
             "color": "#2a3f5f"
            },
            "marker": {
             "line": {
              "color": "#E5ECF6",
              "width": 0.5
             },
             "pattern": {
              "fillmode": "overlay",
              "size": 10,
              "solidity": 0.2
             }
            },
            "type": "bar"
           }
          ],
          "barpolar": [
           {
            "marker": {
             "line": {
              "color": "#E5ECF6",
              "width": 0.5
             },
             "pattern": {
              "fillmode": "overlay",
              "size": 10,
              "solidity": 0.2
             }
            },
            "type": "barpolar"
           }
          ],
          "carpet": [
           {
            "aaxis": {
             "endlinecolor": "#2a3f5f",
             "gridcolor": "white",
             "linecolor": "white",
             "minorgridcolor": "white",
             "startlinecolor": "#2a3f5f"
            },
            "baxis": {
             "endlinecolor": "#2a3f5f",
             "gridcolor": "white",
             "linecolor": "white",
             "minorgridcolor": "white",
             "startlinecolor": "#2a3f5f"
            },
            "type": "carpet"
           }
          ],
          "choropleth": [
           {
            "colorbar": {
             "outlinewidth": 0,
             "ticks": ""
            },
            "type": "choropleth"
           }
          ],
          "contour": [
           {
            "colorbar": {
             "outlinewidth": 0,
             "ticks": ""
            },
            "colorscale": [
             [
              0,
              "#0d0887"
             ],
             [
              0.1111111111111111,
              "#46039f"
             ],
             [
              0.2222222222222222,
              "#7201a8"
             ],
             [
              0.3333333333333333,
              "#9c179e"
             ],
             [
              0.4444444444444444,
              "#bd3786"
             ],
             [
              0.5555555555555556,
              "#d8576b"
             ],
             [
              0.6666666666666666,
              "#ed7953"
             ],
             [
              0.7777777777777778,
              "#fb9f3a"
             ],
             [
              0.8888888888888888,
              "#fdca26"
             ],
             [
              1,
              "#f0f921"
             ]
            ],
            "type": "contour"
           }
          ],
          "contourcarpet": [
           {
            "colorbar": {
             "outlinewidth": 0,
             "ticks": ""
            },
            "type": "contourcarpet"
           }
          ],
          "heatmap": [
           {
            "colorbar": {
             "outlinewidth": 0,
             "ticks": ""
            },
            "colorscale": [
             [
              0,
              "#0d0887"
             ],
             [
              0.1111111111111111,
              "#46039f"
             ],
             [
              0.2222222222222222,
              "#7201a8"
             ],
             [
              0.3333333333333333,
              "#9c179e"
             ],
             [
              0.4444444444444444,
              "#bd3786"
             ],
             [
              0.5555555555555556,
              "#d8576b"
             ],
             [
              0.6666666666666666,
              "#ed7953"
             ],
             [
              0.7777777777777778,
              "#fb9f3a"
             ],
             [
              0.8888888888888888,
              "#fdca26"
             ],
             [
              1,
              "#f0f921"
             ]
            ],
            "type": "heatmap"
           }
          ],
          "heatmapgl": [
           {
            "colorbar": {
             "outlinewidth": 0,
             "ticks": ""
            },
            "colorscale": [
             [
              0,
              "#0d0887"
             ],
             [
              0.1111111111111111,
              "#46039f"
             ],
             [
              0.2222222222222222,
              "#7201a8"
             ],
             [
              0.3333333333333333,
              "#9c179e"
             ],
             [
              0.4444444444444444,
              "#bd3786"
             ],
             [
              0.5555555555555556,
              "#d8576b"
             ],
             [
              0.6666666666666666,
              "#ed7953"
             ],
             [
              0.7777777777777778,
              "#fb9f3a"
             ],
             [
              0.8888888888888888,
              "#fdca26"
             ],
             [
              1,
              "#f0f921"
             ]
            ],
            "type": "heatmapgl"
           }
          ],
          "histogram": [
           {
            "marker": {
             "pattern": {
              "fillmode": "overlay",
              "size": 10,
              "solidity": 0.2
             }
            },
            "type": "histogram"
           }
          ],
          "histogram2d": [
           {
            "colorbar": {
             "outlinewidth": 0,
             "ticks": ""
            },
            "colorscale": [
             [
              0,
              "#0d0887"
             ],
             [
              0.1111111111111111,
              "#46039f"
             ],
             [
              0.2222222222222222,
              "#7201a8"
             ],
             [
              0.3333333333333333,
              "#9c179e"
             ],
             [
              0.4444444444444444,
              "#bd3786"
             ],
             [
              0.5555555555555556,
              "#d8576b"
             ],
             [
              0.6666666666666666,
              "#ed7953"
             ],
             [
              0.7777777777777778,
              "#fb9f3a"
             ],
             [
              0.8888888888888888,
              "#fdca26"
             ],
             [
              1,
              "#f0f921"
             ]
            ],
            "type": "histogram2d"
           }
          ],
          "histogram2dcontour": [
           {
            "colorbar": {
             "outlinewidth": 0,
             "ticks": ""
            },
            "colorscale": [
             [
              0,
              "#0d0887"
             ],
             [
              0.1111111111111111,
              "#46039f"
             ],
             [
              0.2222222222222222,
              "#7201a8"
             ],
             [
              0.3333333333333333,
              "#9c179e"
             ],
             [
              0.4444444444444444,
              "#bd3786"
             ],
             [
              0.5555555555555556,
              "#d8576b"
             ],
             [
              0.6666666666666666,
              "#ed7953"
             ],
             [
              0.7777777777777778,
              "#fb9f3a"
             ],
             [
              0.8888888888888888,
              "#fdca26"
             ],
             [
              1,
              "#f0f921"
             ]
            ],
            "type": "histogram2dcontour"
           }
          ],
          "mesh3d": [
           {
            "colorbar": {
             "outlinewidth": 0,
             "ticks": ""
            },
            "type": "mesh3d"
           }
          ],
          "parcoords": [
           {
            "line": {
             "colorbar": {
              "outlinewidth": 0,
              "ticks": ""
             }
            },
            "type": "parcoords"
           }
          ],
          "pie": [
           {
            "automargin": true,
            "type": "pie"
           }
          ],
          "scatter": [
           {
            "fillpattern": {
             "fillmode": "overlay",
             "size": 10,
             "solidity": 0.2
            },
            "type": "scatter"
           }
          ],
          "scatter3d": [
           {
            "line": {
             "colorbar": {
              "outlinewidth": 0,
              "ticks": ""
             }
            },
            "marker": {
             "colorbar": {
              "outlinewidth": 0,
              "ticks": ""
             }
            },
            "type": "scatter3d"
           }
          ],
          "scattercarpet": [
           {
            "marker": {
             "colorbar": {
              "outlinewidth": 0,
              "ticks": ""
             }
            },
            "type": "scattercarpet"
           }
          ],
          "scattergeo": [
           {
            "marker": {
             "colorbar": {
              "outlinewidth": 0,
              "ticks": ""
             }
            },
            "type": "scattergeo"
           }
          ],
          "scattergl": [
           {
            "marker": {
             "colorbar": {
              "outlinewidth": 0,
              "ticks": ""
             }
            },
            "type": "scattergl"
           }
          ],
          "scattermapbox": [
           {
            "marker": {
             "colorbar": {
              "outlinewidth": 0,
              "ticks": ""
             }
            },
            "type": "scattermapbox"
           }
          ],
          "scatterpolar": [
           {
            "marker": {
             "colorbar": {
              "outlinewidth": 0,
              "ticks": ""
             }
            },
            "type": "scatterpolar"
           }
          ],
          "scatterpolargl": [
           {
            "marker": {
             "colorbar": {
              "outlinewidth": 0,
              "ticks": ""
             }
            },
            "type": "scatterpolargl"
           }
          ],
          "scatterternary": [
           {
            "marker": {
             "colorbar": {
              "outlinewidth": 0,
              "ticks": ""
             }
            },
            "type": "scatterternary"
           }
          ],
          "surface": [
           {
            "colorbar": {
             "outlinewidth": 0,
             "ticks": ""
            },
            "colorscale": [
             [
              0,
              "#0d0887"
             ],
             [
              0.1111111111111111,
              "#46039f"
             ],
             [
              0.2222222222222222,
              "#7201a8"
             ],
             [
              0.3333333333333333,
              "#9c179e"
             ],
             [
              0.4444444444444444,
              "#bd3786"
             ],
             [
              0.5555555555555556,
              "#d8576b"
             ],
             [
              0.6666666666666666,
              "#ed7953"
             ],
             [
              0.7777777777777778,
              "#fb9f3a"
             ],
             [
              0.8888888888888888,
              "#fdca26"
             ],
             [
              1,
              "#f0f921"
             ]
            ],
            "type": "surface"
           }
          ],
          "table": [
           {
            "cells": {
             "fill": {
              "color": "#EBF0F8"
             },
             "line": {
              "color": "white"
             }
            },
            "header": {
             "fill": {
              "color": "#C8D4E3"
             },
             "line": {
              "color": "white"
             }
            },
            "type": "table"
           }
          ]
         },
         "layout": {
          "annotationdefaults": {
           "arrowcolor": "#2a3f5f",
           "arrowhead": 0,
           "arrowwidth": 1
          },
          "autotypenumbers": "strict",
          "coloraxis": {
           "colorbar": {
            "outlinewidth": 0,
            "ticks": ""
           }
          },
          "colorscale": {
           "diverging": [
            [
             0,
             "#8e0152"
            ],
            [
             0.1,
             "#c51b7d"
            ],
            [
             0.2,
             "#de77ae"
            ],
            [
             0.3,
             "#f1b6da"
            ],
            [
             0.4,
             "#fde0ef"
            ],
            [
             0.5,
             "#f7f7f7"
            ],
            [
             0.6,
             "#e6f5d0"
            ],
            [
             0.7,
             "#b8e186"
            ],
            [
             0.8,
             "#7fbc41"
            ],
            [
             0.9,
             "#4d9221"
            ],
            [
             1,
             "#276419"
            ]
           ],
           "sequential": [
            [
             0,
             "#0d0887"
            ],
            [
             0.1111111111111111,
             "#46039f"
            ],
            [
             0.2222222222222222,
             "#7201a8"
            ],
            [
             0.3333333333333333,
             "#9c179e"
            ],
            [
             0.4444444444444444,
             "#bd3786"
            ],
            [
             0.5555555555555556,
             "#d8576b"
            ],
            [
             0.6666666666666666,
             "#ed7953"
            ],
            [
             0.7777777777777778,
             "#fb9f3a"
            ],
            [
             0.8888888888888888,
             "#fdca26"
            ],
            [
             1,
             "#f0f921"
            ]
           ],
           "sequentialminus": [
            [
             0,
             "#0d0887"
            ],
            [
             0.1111111111111111,
             "#46039f"
            ],
            [
             0.2222222222222222,
             "#7201a8"
            ],
            [
             0.3333333333333333,
             "#9c179e"
            ],
            [
             0.4444444444444444,
             "#bd3786"
            ],
            [
             0.5555555555555556,
             "#d8576b"
            ],
            [
             0.6666666666666666,
             "#ed7953"
            ],
            [
             0.7777777777777778,
             "#fb9f3a"
            ],
            [
             0.8888888888888888,
             "#fdca26"
            ],
            [
             1,
             "#f0f921"
            ]
           ]
          },
          "colorway": [
           "#636efa",
           "#EF553B",
           "#00cc96",
           "#ab63fa",
           "#FFA15A",
           "#19d3f3",
           "#FF6692",
           "#B6E880",
           "#FF97FF",
           "#FECB52"
          ],
          "font": {
           "color": "#2a3f5f"
          },
          "geo": {
           "bgcolor": "white",
           "lakecolor": "white",
           "landcolor": "#E5ECF6",
           "showlakes": true,
           "showland": true,
           "subunitcolor": "white"
          },
          "hoverlabel": {
           "align": "left"
          },
          "hovermode": "closest",
          "mapbox": {
           "style": "light"
          },
          "paper_bgcolor": "white",
          "plot_bgcolor": "#E5ECF6",
          "polar": {
           "angularaxis": {
            "gridcolor": "white",
            "linecolor": "white",
            "ticks": ""
           },
           "bgcolor": "#E5ECF6",
           "radialaxis": {
            "gridcolor": "white",
            "linecolor": "white",
            "ticks": ""
           }
          },
          "scene": {
           "xaxis": {
            "backgroundcolor": "#E5ECF6",
            "gridcolor": "white",
            "gridwidth": 2,
            "linecolor": "white",
            "showbackground": true,
            "ticks": "",
            "zerolinecolor": "white"
           },
           "yaxis": {
            "backgroundcolor": "#E5ECF6",
            "gridcolor": "white",
            "gridwidth": 2,
            "linecolor": "white",
            "showbackground": true,
            "ticks": "",
            "zerolinecolor": "white"
           },
           "zaxis": {
            "backgroundcolor": "#E5ECF6",
            "gridcolor": "white",
            "gridwidth": 2,
            "linecolor": "white",
            "showbackground": true,
            "ticks": "",
            "zerolinecolor": "white"
           }
          },
          "shapedefaults": {
           "line": {
            "color": "#2a3f5f"
           }
          },
          "ternary": {
           "aaxis": {
            "gridcolor": "white",
            "linecolor": "white",
            "ticks": ""
           },
           "baxis": {
            "gridcolor": "white",
            "linecolor": "white",
            "ticks": ""
           },
           "bgcolor": "#E5ECF6",
           "caxis": {
            "gridcolor": "white",
            "linecolor": "white",
            "ticks": ""
           }
          },
          "title": {
           "x": 0.05
          },
          "xaxis": {
           "automargin": true,
           "gridcolor": "white",
           "linecolor": "white",
           "ticks": "",
           "title": {
            "standoff": 15
           },
           "zerolinecolor": "white",
           "zerolinewidth": 2
          },
          "yaxis": {
           "automargin": true,
           "gridcolor": "white",
           "linecolor": "white",
           "ticks": "",
           "title": {
            "standoff": 15
           },
           "zerolinecolor": "white",
           "zerolinewidth": 2
          }
         }
        },
        "xaxis": {
         "anchor": "y",
         "domain": [
          0,
          1
         ],
         "title": {
          "text": "Size"
         }
        },
        "yaxis": {
         "anchor": "x",
         "domain": [
          0,
          1
         ],
         "title": {
          "text": "Purchase Amount (USD)"
         }
        }
       }
      }
     },
     "metadata": {},
     "output_type": "display_data"
    }
   ],
   "source": [
    "fig = px.bar(shop_roupby_Size, x='Size',y='Purchase Amount (USD)')\n",
    "fig.show()"
   ]
  },
  {
   "cell_type": "code",
   "execution_count": 46,
   "metadata": {},
   "outputs": [],
   "source": [
    "size_mapping = {'L': 1, 'S': 2, 'M': 3, 'XL':4}  # Example mapping\n",
    "shop['Size (Numeric)'] = shop['Size'].map(size_mapping)"
   ]
  },
  {
   "cell_type": "code",
   "execution_count": 47,
   "metadata": {},
   "outputs": [
    {
     "data": {
      "text/plain": [
       "0.019765878640999202"
      ]
     },
     "execution_count": 47,
     "metadata": {},
     "output_type": "execute_result"
    }
   ],
   "source": [
    "shop['Size (Numeric)'].corr(shop['Purchase Amount (USD)'])"
   ]
  },
  {
   "cell_type": "markdown",
   "metadata": {},
   "source": [
    "By analysing the Bar Chart , M size product has high purchase amount than other products"
   ]
  },
  {
   "cell_type": "markdown",
   "metadata": {},
   "source": [
    "## 12.\tWhich shipping type is preferred by customers for different product categories?"
   ]
  },
  {
   "cell_type": "code",
   "execution_count": 48,
   "metadata": {},
   "outputs": [
    {
     "data": {
      "text/plain": [
       "Index(['Customer ID', 'Age', 'Gender', 'Item Purchased', 'Category',\n",
       "       'Purchase Amount (USD)', 'Location', 'Size', 'Color', 'Season',\n",
       "       'Review Rating', 'Subscription Status', 'Shipping Type',\n",
       "       'Discount Applied', 'Promo Code Used', 'Previous Purchases',\n",
       "       'Payment Method', 'Frequency of Purchases', 'Age_category',\n",
       "       'Size (Numeric)'],\n",
       "      dtype='object')"
      ]
     },
     "execution_count": 48,
     "metadata": {},
     "output_type": "execute_result"
    }
   ],
   "source": [
    "shop.columns"
   ]
  },
  {
   "cell_type": "code",
   "execution_count": 49,
   "metadata": {},
   "outputs": [
    {
     "data": {
      "text/plain": [
       "array(['Express', 'Free Shipping', 'Next Day Air', 'Standard',\n",
       "       '2-Day Shipping', 'Store Pickup'], dtype=object)"
      ]
     },
     "execution_count": 49,
     "metadata": {},
     "output_type": "execute_result"
    }
   ],
   "source": [
    "shop['Shipping Type'].unique()"
   ]
  },
  {
   "cell_type": "code",
   "execution_count": 50,
   "metadata": {},
   "outputs": [
    {
     "data": {
      "text/plain": [
       "Category     Shipping Type \n",
       "Clothing     Standard          297\n",
       "             Free Shipping     294\n",
       "             Next Day Air      293\n",
       "             Express           290\n",
       "             Store Pickup      282\n",
       "             2-Day Shipping    281\n",
       "Accessories  Store Pickup      217\n",
       "             Next Day Air      211\n",
       "             Standard          208\n",
       "             2-Day Shipping    206\n",
       "             Express           203\n",
       "             Free Shipping     195\n",
       "Footwear     Free Shipping     122\n",
       "             Standard          100\n",
       "             Store Pickup       98\n",
       "             Express            96\n",
       "             Next Day Air       93\n",
       "             2-Day Shipping     90\n",
       "Outerwear    Free Shipping      64\n",
       "             Express            57\n",
       "             Store Pickup       53\n",
       "             Next Day Air       51\n",
       "             2-Day Shipping     50\n",
       "             Standard           49\n",
       "Name: count, dtype: int64"
      ]
     },
     "execution_count": 50,
     "metadata": {},
     "output_type": "execute_result"
    }
   ],
   "source": [
    "shop.groupby('Category')['Shipping Type'].value_counts().sort_values(ascending=False)"
   ]
  },
  {
   "cell_type": "markdown",
   "metadata": {},
   "source": [
    "## 13.\tHow does the presence of a discount affect the purchase decision of customers?"
   ]
  },
  {
   "cell_type": "markdown",
   "metadata": {},
   "source": [
    "As a result : \n",
    "for Clothing Standard payment is suitable similarly for Accessories , store pickup is suitable , for  footwear and puterwear , free shiping ismore suitable to cutomers\n"
   ]
  },
  {
   "cell_type": "markdown",
   "metadata": {},
   "source": [
    "## 14.\tAre there any specific colors that are more popular among customers?"
   ]
  },
  {
   "cell_type": "code",
   "execution_count": 56,
   "metadata": {},
   "outputs": [
    {
     "data": {
      "application/vnd.plotly.v1+json": {
       "config": {
        "plotlyServerURL": "https://plot.ly"
       },
       "data": [
        {
         "alignmentgroup": "True",
         "bingroup": "x",
         "hovertemplate": "Color=%{x}<br>count=%{y}<extra></extra>",
         "legendgroup": "",
         "marker": {
          "color": "#636efa",
          "pattern": {
           "shape": ""
          }
         },
         "name": "",
         "offsetgroup": "",
         "orientation": "v",
         "showlegend": false,
         "type": "histogram",
         "x": [
          "Gray",
          "Maroon",
          "Maroon",
          "Maroon",
          "Turquoise",
          "White",
          "Gray",
          "Charcoal",
          "Silver",
          "Pink",
          "Purple",
          "Olive",
          "Gold",
          "Violet",
          "Teal",
          "Teal",
          "Gray",
          "Lavender",
          "Black",
          "Green",
          "Black",
          "Charcoal",
          "Peach",
          "White",
          "Green",
          "Silver",
          "Red",
          "Cyan",
          "Gray",
          "Black",
          "Black",
          "Brown",
          "Silver",
          "Green",
          "Violet",
          "Cyan",
          "Maroon",
          "Cyan",
          "Red",
          "Turquoise",
          "Beige",
          "Orange",
          "Beige",
          "Lavender",
          "Silver",
          "Indigo",
          "White",
          "Charcoal",
          "Orange",
          "Indigo",
          "Red",
          "Gray",
          "Green",
          "Peach",
          "Brown",
          "Lavender",
          "Brown",
          "White",
          "Charcoal",
          "Yellow",
          "Brown",
          "Orange",
          "Magenta",
          "Lavender",
          "Green",
          "Purple",
          "Magenta",
          "Gray",
          "Silver",
          "Cyan",
          "Magenta",
          "Gold",
          "Olive",
          "Teal",
          "Violet",
          "Blue",
          "Teal",
          "Gold",
          "Maroon",
          "Olive",
          "Blue",
          "Maroon",
          "Olive",
          "Turquoise",
          "Peach",
          "Charcoal",
          "Pink",
          "Green",
          "Orange",
          "Pink",
          "Violet",
          "Green",
          "Olive",
          "Purple",
          "Silver",
          "Pink",
          "Gold",
          "Teal",
          "Teal",
          "Indigo",
          "Maroon",
          "White",
          "Violet",
          "Red",
          "Pink",
          "Charcoal",
          "White",
          "Olive",
          "Purple",
          "Violet",
          "Black",
          "Purple",
          "Red",
          "Maroon",
          "Blue",
          "Gray",
          "Blue",
          "Yellow",
          "Orange",
          "Orange",
          "Red",
          "Olive",
          "Brown",
          "Brown",
          "Gray",
          "Indigo",
          "Pink",
          "Gray",
          "Gold",
          "Olive",
          "Violet",
          "Indigo",
          "Orange",
          "Violet",
          "Gray",
          "Purple",
          "White",
          "Turquoise",
          "Maroon",
          "White",
          "Yellow",
          "Turquoise",
          "Violet",
          "Beige",
          "Silver",
          "Teal",
          "Black",
          "Purple",
          "Gray",
          "White",
          "Cyan",
          "Turquoise",
          "Brown",
          "Maroon",
          "Charcoal",
          "Olive",
          "Lavender",
          "Yellow",
          "Teal",
          "Charcoal",
          "Orange",
          "Olive",
          "Turquoise",
          "Purple",
          "Purple",
          "Yellow",
          "Indigo",
          "Green",
          "Magenta",
          "Gold",
          "Maroon",
          "Blue",
          "Violet",
          "Turquoise",
          "Brown",
          "Violet",
          "Black",
          "Magenta",
          "Lavender",
          "Violet",
          "Green",
          "Beige",
          "Purple",
          "Beige",
          "Cyan",
          "Silver",
          "Lavender",
          "Purple",
          "Pink",
          "Maroon",
          "Beige",
          "Gray",
          "Turquoise",
          "Silver",
          "Olive",
          "Magenta",
          "Lavender",
          "Black",
          "Turquoise",
          "Green",
          "Teal",
          "Beige",
          "Magenta",
          "Yellow",
          "Yellow",
          "Silver",
          "Silver",
          "Silver",
          "Gold",
          "Olive",
          "Teal",
          "Maroon",
          "Blue",
          "Peach",
          "Blue",
          "Orange",
          "Yellow",
          "Purple",
          "Magenta",
          "Cyan",
          "Indigo",
          "Magenta",
          "Gray",
          "Turquoise",
          "Beige",
          "Olive",
          "Violet",
          "Turquoise",
          "White",
          "Silver",
          "Olive",
          "Blue",
          "Purple",
          "Yellow",
          "Silver",
          "Cyan",
          "Green",
          "Beige",
          "Peach",
          "Yellow",
          "Turquoise",
          "Peach",
          "Gray",
          "Olive",
          "Indigo",
          "Charcoal",
          "Beige",
          "Brown",
          "Blue",
          "Teal",
          "Black",
          "Gold",
          "Violet",
          "Cyan",
          "White",
          "Charcoal",
          "Violet",
          "Red",
          "Lavender",
          "Gold",
          "Red",
          "Magenta",
          "Teal",
          "Purple",
          "Charcoal",
          "Gray",
          "White",
          "Olive",
          "Charcoal",
          "Charcoal",
          "Orange",
          "Yellow",
          "Beige",
          "Silver",
          "Indigo",
          "Lavender",
          "Turquoise",
          "Green",
          "Orange",
          "Turquoise",
          "Cyan",
          "Charcoal",
          "Teal",
          "Maroon",
          "Red",
          "Yellow",
          "Gray",
          "Blue",
          "Lavender",
          "Yellow",
          "Indigo",
          "Violet",
          "Green",
          "White",
          "Gold",
          "Indigo",
          "Lavender",
          "Purple",
          "Lavender",
          "Maroon",
          "Teal",
          "Green",
          "Olive",
          "Turquoise",
          "Green",
          "Teal",
          "White",
          "Orange",
          "Beige",
          "Yellow",
          "Charcoal",
          "Silver",
          "Green",
          "Pink",
          "Purple",
          "Orange",
          "Charcoal",
          "Teal",
          "Beige",
          "White",
          "White",
          "Orange",
          "Cyan",
          "Orange",
          "Olive",
          "Charcoal",
          "White",
          "Teal",
          "Yellow",
          "White",
          "Beige",
          "Beige",
          "Maroon",
          "Teal",
          "Lavender",
          "Maroon",
          "Orange",
          "Cyan",
          "Silver",
          "Teal",
          "Blue",
          "Blue",
          "Olive",
          "Purple",
          "Charcoal",
          "Olive",
          "Violet",
          "Red",
          "Beige",
          "Green",
          "Violet",
          "Teal",
          "Yellow",
          "Yellow",
          "Olive",
          "Magenta",
          "Black",
          "Olive",
          "Magenta",
          "Olive",
          "Teal",
          "White",
          "Charcoal",
          "Yellow",
          "Charcoal",
          "Gray",
          "Turquoise",
          "Cyan",
          "Charcoal",
          "Silver",
          "Olive",
          "Pink",
          "Orange",
          "White",
          "Purple",
          "Olive",
          "Gray",
          "Silver",
          "Orange",
          "Magenta",
          "Beige",
          "Lavender",
          "Peach",
          "Magenta",
          "Beige",
          "Yellow",
          "Brown",
          "Silver",
          "Orange",
          "Purple",
          "Indigo",
          "Gray",
          "Black",
          "Maroon",
          "Beige",
          "Brown",
          "Black",
          "Indigo",
          "Silver",
          "Blue",
          "Green",
          "Orange",
          "Cyan",
          "Orange",
          "Indigo",
          "Silver",
          "Peach",
          "Teal",
          "White",
          "Brown",
          "Lavender",
          "Indigo",
          "Yellow",
          "White",
          "Violet",
          "Lavender",
          "Olive",
          "Beige",
          "Purple",
          "Teal",
          "Peach",
          "Violet",
          "Purple",
          "Teal",
          "Gold",
          "Teal",
          "Violet",
          "Black",
          "Gold",
          "Gold",
          "Brown",
          "Cyan",
          "Indigo",
          "Orange",
          "Pink",
          "Olive",
          "Cyan",
          "Peach",
          "Turquoise",
          "Turquoise",
          "Maroon",
          "Maroon",
          "Olive",
          "Magenta",
          "Red",
          "Olive",
          "Silver",
          "Turquoise",
          "Yellow",
          "Peach",
          "Beige",
          "Pink",
          "Violet",
          "Peach",
          "Gold",
          "Gold",
          "Indigo",
          "Blue",
          "Black",
          "Black",
          "Teal",
          "Yellow",
          "White",
          "Orange",
          "Silver",
          "Pink",
          "Turquoise",
          "Orange",
          "Peach",
          "Pink",
          "Teal",
          "White",
          "Gray",
          "Olive",
          "Maroon",
          "Magenta",
          "Magenta",
          "Green",
          "Turquoise",
          "Yellow",
          "Gray",
          "Peach",
          "Yellow",
          "White",
          "Lavender",
          "Blue",
          "Charcoal",
          "Red",
          "Olive",
          "Green",
          "Silver",
          "Silver",
          "Black",
          "Red",
          "Indigo",
          "Cyan",
          "Maroon",
          "Silver",
          "Lavender",
          "Silver",
          "Purple",
          "Cyan",
          "Cyan",
          "Lavender",
          "Maroon",
          "Gray",
          "Olive",
          "Magenta",
          "Yellow",
          "Cyan",
          "Teal",
          "Yellow",
          "Peach",
          "Peach",
          "Olive",
          "Charcoal",
          "Indigo",
          "Silver",
          "Beige",
          "Blue",
          "White",
          "Gold",
          "Blue",
          "Orange",
          "Gold",
          "Cyan",
          "Red",
          "Yellow",
          "Beige",
          "Orange",
          "Magenta",
          "Purple",
          "Black",
          "Pink",
          "Pink",
          "Maroon",
          "Maroon",
          "Turquoise",
          "Green",
          "Violet",
          "Lavender",
          "Gray",
          "Teal",
          "Red",
          "Yellow",
          "Magenta",
          "Brown",
          "Blue",
          "Black",
          "Olive",
          "Olive",
          "Green",
          "Peach",
          "White",
          "Red",
          "White",
          "Indigo",
          "White",
          "Teal",
          "Indigo",
          "Red",
          "Blue",
          "Blue",
          "Black",
          "Olive",
          "Lavender",
          "Indigo",
          "Red",
          "Red",
          "Pink",
          "Purple",
          "Cyan",
          "Cyan",
          "Charcoal",
          "Red",
          "Peach",
          "Black",
          "Black",
          "Purple",
          "Violet",
          "Orange",
          "Charcoal",
          "Turquoise",
          "Yellow",
          "White",
          "Gray",
          "Blue",
          "Maroon",
          "Violet",
          "Orange",
          "Turquoise",
          "Olive",
          "Brown",
          "Green",
          "Brown",
          "Silver",
          "White",
          "Gold",
          "Green",
          "Teal",
          "Charcoal",
          "Maroon",
          "Lavender",
          "Green",
          "Pink",
          "Charcoal",
          "Blue",
          "Purple",
          "Gold",
          "Purple",
          "Charcoal",
          "Black",
          "Lavender",
          "Lavender",
          "Lavender",
          "Olive",
          "Teal",
          "Maroon",
          "Cyan",
          "Charcoal",
          "Black",
          "Red",
          "Peach",
          "White",
          "Pink",
          "Red",
          "Indigo",
          "Black",
          "White",
          "Beige",
          "Silver",
          "Violet",
          "Red",
          "Orange",
          "Teal",
          "Brown",
          "Indigo",
          "Cyan",
          "Blue",
          "Olive",
          "Gray",
          "Red",
          "Red",
          "Green",
          "Blue",
          "Purple",
          "Pink",
          "Charcoal",
          "Brown",
          "Orange",
          "Magenta",
          "Yellow",
          "Beige",
          "Olive",
          "Gray",
          "Purple",
          "Beige",
          "White",
          "White",
          "Gold",
          "Olive",
          "Green",
          "Magenta",
          "Charcoal",
          "Indigo",
          "Peach",
          "Turquoise",
          "Blue",
          "Turquoise",
          "Gray",
          "Purple",
          "Black",
          "Peach",
          "Indigo",
          "Beige",
          "Yellow",
          "Peach",
          "Turquoise",
          "Teal",
          "Turquoise",
          "Magenta",
          "Purple",
          "Brown",
          "Violet",
          "Yellow",
          "Magenta",
          "Beige",
          "Turquoise",
          "Peach",
          "Orange",
          "Red",
          "Silver",
          "Cyan",
          "Turquoise",
          "Charcoal",
          "Peach",
          "Green",
          "Brown",
          "Yellow",
          "Charcoal",
          "Olive",
          "Red",
          "White",
          "Pink",
          "Black",
          "Indigo",
          "Turquoise",
          "Purple",
          "Beige",
          "Charcoal",
          "Turquoise",
          "Maroon",
          "Black",
          "Lavender",
          "Magenta",
          "Green",
          "Olive",
          "Green",
          "Peach",
          "Turquoise",
          "Orange",
          "Silver",
          "Blue",
          "Cyan",
          "Green",
          "Silver",
          "Yellow",
          "Gray",
          "Pink",
          "Beige",
          "Indigo",
          "Red",
          "Blue",
          "Cyan",
          "Violet",
          "Orange",
          "Maroon",
          "Teal",
          "Orange",
          "Purple",
          "Orange",
          "Yellow",
          "Charcoal",
          "Gray",
          "Charcoal",
          "Orange",
          "Red",
          "Gold",
          "Brown",
          "Olive",
          "Violet",
          "Indigo",
          "Yellow",
          "Teal",
          "Pink",
          "Violet",
          "Orange",
          "Red",
          "Peach",
          "Green",
          "Violet",
          "Yellow",
          "Pink",
          "Brown",
          "Silver",
          "Pink",
          "Cyan",
          "Brown",
          "Red",
          "Silver",
          "Gray",
          "Cyan",
          "Teal",
          "Indigo",
          "Yellow",
          "Gold",
          "Maroon",
          "Silver",
          "Yellow",
          "Blue",
          "Turquoise",
          "Indigo",
          "Green",
          "Purple",
          "Peach",
          "Purple",
          "Teal",
          "Green",
          "Yellow",
          "Purple",
          "Indigo",
          "Magenta",
          "Violet",
          "Maroon",
          "Yellow",
          "Beige",
          "Black",
          "Violet",
          "Violet",
          "Brown",
          "Gold",
          "Blue",
          "Teal",
          "Silver",
          "Maroon",
          "White",
          "Charcoal",
          "Brown",
          "Lavender",
          "Violet",
          "Lavender",
          "Green",
          "Olive",
          "Olive",
          "Pink",
          "Teal",
          "Cyan",
          "Gray",
          "Peach",
          "Teal",
          "Turquoise",
          "Green",
          "Magenta",
          "Green",
          "White",
          "Brown",
          "Purple",
          "Green",
          "Peach",
          "Silver",
          "Maroon",
          "Red",
          "Blue",
          "Purple",
          "Indigo",
          "Indigo",
          "Violet",
          "Brown",
          "Gray",
          "Teal",
          "Teal",
          "Beige",
          "Violet",
          "Beige",
          "Purple",
          "Charcoal",
          "Pink",
          "Blue",
          "Lavender",
          "Charcoal",
          "Turquoise",
          "Red",
          "Yellow",
          "Orange",
          "Blue",
          "Gold",
          "Gold",
          "Cyan",
          "Olive",
          "Teal",
          "Maroon",
          "Green",
          "Charcoal",
          "Cyan",
          "Charcoal",
          "Charcoal",
          "Lavender",
          "Turquoise",
          "Green",
          "Silver",
          "Blue",
          "Charcoal",
          "Pink",
          "Pink",
          "Magenta",
          "Gray",
          "Gray",
          "Orange",
          "Black",
          "Lavender",
          "Red",
          "Silver",
          "Cyan",
          "Gold",
          "Yellow",
          "Purple",
          "Brown",
          "Turquoise",
          "Gold",
          "Olive",
          "Purple",
          "Lavender",
          "Gray",
          "Red",
          "Purple",
          "Olive",
          "Lavender",
          "Gray",
          "Red",
          "Peach",
          "Gray",
          "Violet",
          "Beige",
          "Blue",
          "Magenta",
          "Cyan",
          "Red",
          "Cyan",
          "Turquoise",
          "Silver",
          "Pink",
          "Black",
          "Green",
          "Yellow",
          "Purple",
          "Purple",
          "Blue",
          "Maroon",
          "Orange",
          "Green",
          "Gold",
          "Silver",
          "Cyan",
          "Silver",
          "Beige",
          "Teal",
          "Green",
          "Black",
          "Yellow",
          "White",
          "Green",
          "Silver",
          "Blue",
          "Magenta",
          "Yellow",
          "White",
          "Pink",
          "Magenta",
          "Teal",
          "Indigo",
          "Maroon",
          "Black",
          "Cyan",
          "Cyan",
          "Gray",
          "Violet",
          "Blue",
          "Charcoal",
          "Olive",
          "Olive",
          "Turquoise",
          "Cyan",
          "Red",
          "Cyan",
          "Turquoise",
          "Lavender",
          "Cyan",
          "Violet",
          "Beige",
          "Cyan",
          "Indigo",
          "Olive",
          "Green",
          "Green",
          "Beige",
          "Black",
          "Brown",
          "Silver",
          "Gray",
          "Pink",
          "Maroon",
          "Cyan",
          "Gold",
          "Teal",
          "Beige",
          "Olive",
          "Gray",
          "Black",
          "Turquoise",
          "Brown",
          "Magenta",
          "Silver",
          "Red",
          "Indigo",
          "Green",
          "Gray",
          "Peach",
          "Charcoal",
          "Orange",
          "Beige",
          "Yellow",
          "White",
          "Gray",
          "Peach",
          "Violet",
          "Magenta",
          "Maroon",
          "Cyan",
          "White",
          "Brown",
          "Red",
          "Orange",
          "White",
          "Green",
          "Black",
          "Gold",
          "Lavender",
          "Turquoise",
          "Pink",
          "Silver",
          "Gray",
          "Indigo",
          "Teal",
          "Green",
          "Violet",
          "Cyan",
          "Blue",
          "Orange",
          "Charcoal",
          "Beige",
          "Black",
          "Lavender",
          "Lavender",
          "Turquoise",
          "Purple",
          "Olive",
          "Turquoise",
          "Teal",
          "Lavender",
          "Purple",
          "Blue",
          "Teal",
          "Lavender",
          "Silver",
          "Olive",
          "Brown",
          "Yellow",
          "Brown",
          "Cyan",
          "Magenta",
          "Magenta",
          "Orange",
          "Maroon",
          "Green",
          "Teal",
          "Black",
          "Magenta",
          "Olive",
          "Yellow",
          "Purple",
          "Beige",
          "Indigo",
          "Pink",
          "Blue",
          "Cyan",
          "Orange",
          "Black",
          "Maroon",
          "Violet",
          "Beige",
          "Gray",
          "Gray",
          "Brown",
          "Indigo",
          "Violet",
          "Blue",
          "Red",
          "Peach",
          "Olive",
          "White",
          "Magenta",
          "Beige",
          "Gold",
          "Purple",
          "White",
          "Indigo",
          "Charcoal",
          "Pink",
          "Silver",
          "Blue",
          "Blue",
          "Brown",
          "Cyan",
          "Teal",
          "Purple",
          "Turquoise",
          "Olive",
          "White",
          "Turquoise",
          "Silver",
          "Violet",
          "Lavender",
          "Magenta",
          "Indigo",
          "Black",
          "Peach",
          "Beige",
          "Black",
          "Turquoise",
          "Peach",
          "Gold",
          "Silver",
          "Peach",
          "Charcoal",
          "Beige",
          "Olive",
          "Violet",
          "Peach",
          "Teal",
          "Violet",
          "Cyan",
          "Olive",
          "Pink",
          "Purple",
          "Violet",
          "Peach",
          "Charcoal",
          "Lavender",
          "Purple",
          "Indigo",
          "Magenta",
          "Peach",
          "Charcoal",
          "Purple",
          "Orange",
          "Lavender",
          "Beige",
          "Maroon",
          "Charcoal",
          "White",
          "Lavender",
          "Black",
          "Teal",
          "Magenta",
          "Brown",
          "Peach",
          "Cyan",
          "Pink",
          "Purple",
          "Purple",
          "White",
          "Silver",
          "Green",
          "Teal",
          "Indigo",
          "Pink",
          "Indigo",
          "Red",
          "Violet",
          "Cyan",
          "Red",
          "Gray",
          "Gold",
          "Pink",
          "Cyan",
          "Red",
          "Gold",
          "Charcoal",
          "Orange",
          "Blue",
          "Blue",
          "Orange",
          "Blue",
          "White",
          "Green",
          "Silver",
          "Lavender",
          "Beige",
          "Violet",
          "Gray",
          "Red",
          "Lavender",
          "Peach",
          "Indigo",
          "Black",
          "Beige",
          "Red",
          "Black",
          "Teal",
          "Blue",
          "Beige",
          "Teal",
          "Maroon",
          "Yellow",
          "Indigo",
          "Magenta",
          "Beige",
          "Maroon",
          "Magenta",
          "Teal",
          "Orange",
          "Charcoal",
          "Turquoise",
          "Pink",
          "Teal",
          "White",
          "Maroon",
          "Violet",
          "Brown",
          "Indigo",
          "Black",
          "Black",
          "Olive",
          "Orange",
          "Pink",
          "Olive",
          "Cyan",
          "White",
          "Red",
          "Blue",
          "Olive",
          "Green",
          "Yellow",
          "Black",
          "Blue",
          "Pink",
          "Lavender",
          "Cyan",
          "Cyan",
          "Gold",
          "Green",
          "Red",
          "Magenta",
          "Red",
          "Yellow",
          "Turquoise",
          "Cyan",
          "Yellow",
          "Yellow",
          "Maroon",
          "Brown",
          "Gold",
          "Charcoal",
          "Beige",
          "Indigo",
          "Red",
          "White",
          "Charcoal",
          "Violet",
          "Magenta",
          "White",
          "Pink",
          "Lavender",
          "Pink",
          "Silver",
          "Violet",
          "Charcoal",
          "Charcoal",
          "Red",
          "Peach",
          "Purple",
          "Orange",
          "Magenta",
          "Red",
          "Black",
          "Peach",
          "Olive",
          "Gold",
          "Gold",
          "Turquoise",
          "Green",
          "Maroon",
          "Brown",
          "Brown",
          "Blue",
          "Lavender",
          "Peach",
          "Gray",
          "Charcoal",
          "Lavender",
          "Green",
          "Gray",
          "Orange",
          "Silver",
          "Olive",
          "Turquoise",
          "Turquoise",
          "Green",
          "Violet",
          "Charcoal",
          "White",
          "Olive",
          "Violet",
          "Violet",
          "Black",
          "Charcoal",
          "Yellow",
          "Blue",
          "Charcoal",
          "Red",
          "Indigo",
          "Beige",
          "Maroon",
          "Yellow",
          "Silver",
          "Olive",
          "Teal",
          "Silver",
          "Indigo",
          "Teal",
          "Charcoal",
          "Orange",
          "Gold",
          "Silver",
          "Orange",
          "Peach",
          "Brown",
          "Black",
          "Red",
          "Lavender",
          "Brown",
          "Maroon",
          "Violet",
          "Lavender",
          "Magenta",
          "Green",
          "Lavender",
          "Green",
          "Maroon",
          "Magenta",
          "Teal",
          "Orange",
          "Violet",
          "Yellow",
          "Orange",
          "Gold",
          "Indigo",
          "Turquoise",
          "Orange",
          "Indigo",
          "Charcoal",
          "Lavender",
          "Gold",
          "Lavender",
          "White",
          "Lavender",
          "Charcoal",
          "Silver",
          "Yellow",
          "Olive",
          "Peach",
          "Yellow",
          "Yellow",
          "Indigo",
          "Violet",
          "White",
          "White",
          "Cyan",
          "Purple",
          "Black",
          "Orange",
          "Maroon",
          "Orange",
          "Teal",
          "Gray",
          "Blue",
          "Cyan",
          "Red",
          "Pink",
          "Cyan",
          "Black",
          "Beige",
          "Gray",
          "Red",
          "Yellow",
          "Magenta",
          "Magenta",
          "Black",
          "Orange",
          "Green",
          "Peach",
          "Charcoal",
          "Gray",
          "Turquoise",
          "Red",
          "Brown",
          "Pink",
          "Olive",
          "Lavender",
          "Purple",
          "Beige",
          "Green",
          "Brown",
          "Beige",
          "Beige",
          "Indigo",
          "Silver",
          "Gold",
          "Lavender",
          "Orange",
          "Maroon",
          "White",
          "Yellow",
          "Yellow",
          "Magenta",
          "Turquoise",
          "Lavender",
          "Magenta",
          "Cyan",
          "Olive",
          "Red",
          "Blue",
          "White",
          "Peach",
          "Charcoal",
          "Peach",
          "Turquoise",
          "Charcoal",
          "Yellow",
          "Blue",
          "Purple",
          "Green",
          "Charcoal",
          "Indigo",
          "Black",
          "Blue",
          "Silver",
          "Brown",
          "Violet",
          "Orange",
          "Gray",
          "Gold",
          "Charcoal",
          "Black",
          "Indigo",
          "White",
          "Yellow",
          "Orange",
          "Green",
          "Gold",
          "Orange",
          "Cyan",
          "Black",
          "Yellow",
          "Maroon",
          "Black",
          "Gray",
          "Orange",
          "Cyan",
          "Magenta",
          "Pink",
          "Turquoise",
          "Violet",
          "Teal",
          "Pink",
          "Gold",
          "Red",
          "Beige",
          "Black",
          "Lavender",
          "Teal",
          "Maroon",
          "Blue",
          "Teal",
          "Maroon",
          "Silver",
          "Olive",
          "Gray",
          "Peach",
          "Yellow",
          "Violet",
          "Red",
          "Charcoal",
          "Beige",
          "Peach",
          "Violet",
          "Green",
          "Olive",
          "Silver",
          "Purple",
          "Silver",
          "Gray",
          "Turquoise",
          "Violet",
          "Pink",
          "Teal",
          "Magenta",
          "Silver",
          "Blue",
          "Black",
          "Gold",
          "Gray",
          "Magenta",
          "Yellow",
          "Teal",
          "Red",
          "Yellow",
          "Black",
          "Pink",
          "Magenta",
          "Olive",
          "Black",
          "Maroon",
          "Gold",
          "Gray",
          "Brown",
          "Purple",
          "Magenta",
          "Teal",
          "Olive",
          "Maroon",
          "Silver",
          "Black",
          "Maroon",
          "Teal",
          "Teal",
          "Beige",
          "Maroon",
          "Beige",
          "White",
          "Gray",
          "Violet",
          "Silver",
          "Red",
          "Brown",
          "Turquoise",
          "Indigo",
          "Violet",
          "Yellow",
          "Cyan",
          "Brown",
          "White",
          "Yellow",
          "White",
          "Pink",
          "Indigo",
          "White",
          "Red",
          "Red",
          "Lavender",
          "Teal",
          "Violet",
          "Silver",
          "Gold",
          "Green",
          "Turquoise",
          "Indigo",
          "Black",
          "Charcoal",
          "Turquoise",
          "Red",
          "Indigo",
          "Maroon",
          "Indigo",
          "Maroon",
          "Black",
          "Purple",
          "Teal",
          "Silver",
          "Black",
          "Black",
          "Olive",
          "Purple",
          "Indigo",
          "Lavender",
          "Cyan",
          "Gold",
          "Magenta",
          "Teal",
          "Beige",
          "Teal",
          "Indigo",
          "Purple",
          "Teal",
          "Turquoise",
          "Peach",
          "Green",
          "Turquoise",
          "Yellow",
          "Orange",
          "Brown",
          "Silver",
          "White",
          "Indigo",
          "Magenta",
          "Turquoise",
          "White",
          "Olive",
          "Maroon",
          "Violet",
          "Cyan",
          "Teal",
          "Red",
          "Yellow",
          "Silver",
          "Charcoal",
          "Purple",
          "Beige",
          "Cyan",
          "Silver",
          "Pink",
          "Gold",
          "Cyan",
          "Black",
          "Charcoal",
          "Magenta",
          "Pink",
          "Maroon",
          "Teal",
          "Orange",
          "Yellow",
          "Red",
          "Charcoal",
          "Black",
          "White",
          "Lavender",
          "White",
          "Gray",
          "Cyan",
          "Brown",
          "Purple",
          "Yellow",
          "Indigo",
          "Black",
          "Gray",
          "Indigo",
          "Green",
          "Peach",
          "Purple",
          "Beige",
          "Charcoal",
          "Gray",
          "Brown",
          "Cyan",
          "White",
          "Beige",
          "Orange",
          "Olive",
          "Teal",
          "Silver",
          "Gold",
          "Violet",
          "White",
          "Peach",
          "Orange",
          "Violet",
          "Green",
          "Peach",
          "Black",
          "Blue",
          "Magenta",
          "Violet",
          "Beige",
          "Pink",
          "Beige",
          "Green",
          "Silver",
          "Purple",
          "Gray",
          "White",
          "Silver",
          "Blue",
          "Orange",
          "Silver",
          "Gray",
          "Gold",
          "Brown",
          "Turquoise",
          "Pink",
          "Black",
          "Yellow",
          "Beige",
          "Olive",
          "Gold",
          "Purple",
          "Pink",
          "Blue",
          "Brown",
          "Charcoal",
          "Maroon",
          "Cyan",
          "Olive",
          "Gold",
          "Violet",
          "Peach",
          "Beige",
          "Cyan",
          "Silver",
          "Magenta",
          "Black",
          "Olive",
          "Green",
          "Yellow",
          "Lavender",
          "Indigo",
          "Pink",
          "Red",
          "Magenta",
          "Peach",
          "Turquoise",
          "Black",
          "Blue",
          "Beige",
          "Olive",
          "Turquoise",
          "Yellow",
          "Turquoise",
          "Lavender",
          "Turquoise",
          "Teal",
          "Black",
          "Blue",
          "Yellow",
          "Black",
          "Lavender",
          "Cyan",
          "Brown",
          "Maroon",
          "Cyan",
          "Pink",
          "Orange",
          "Lavender",
          "Beige",
          "Pink",
          "Charcoal",
          "Gray",
          "Cyan",
          "Orange",
          "Pink",
          "White",
          "Beige",
          "Magenta",
          "Violet",
          "Gold",
          "Teal",
          "Indigo",
          "Olive",
          "Violet",
          "Black",
          "Brown",
          "Silver",
          "Gray",
          "Charcoal",
          "Black",
          "Brown",
          "Purple",
          "Purple",
          "Gray",
          "Green",
          "Silver",
          "Charcoal",
          "Teal",
          "White",
          "Brown",
          "Teal",
          "Red",
          "Brown",
          "Yellow",
          "Teal",
          "Pink",
          "White",
          "Silver",
          "Blue",
          "Black",
          "Beige",
          "Charcoal",
          "Cyan",
          "Yellow",
          "Silver",
          "Green",
          "Peach",
          "Green",
          "Brown",
          "Lavender",
          "Charcoal",
          "Orange",
          "Cyan",
          "Lavender",
          "Indigo",
          "Brown",
          "Pink",
          "Turquoise",
          "Gold",
          "Blue",
          "Lavender",
          "Violet",
          "Cyan",
          "Purple",
          "Red",
          "Charcoal",
          "Gray",
          "Pink",
          "Lavender",
          "Lavender",
          "Yellow",
          "Peach",
          "Brown",
          "Gold",
          "Pink",
          "Peach",
          "Violet",
          "Purple",
          "Peach",
          "White",
          "Indigo",
          "Violet",
          "Brown",
          "Maroon",
          "Magenta",
          "Charcoal",
          "Indigo",
          "Turquoise",
          "Turquoise",
          "Gray",
          "Peach",
          "Gold",
          "Green",
          "Gold",
          "Lavender",
          "Blue",
          "Magenta",
          "Blue",
          "Blue",
          "Olive",
          "White",
          "White",
          "Purple",
          "White",
          "White",
          "Peach",
          "Gold",
          "Teal",
          "Cyan",
          "Pink",
          "Magenta",
          "Pink",
          "Turquoise",
          "Pink",
          "Gray",
          "White",
          "Blue",
          "Cyan",
          "Blue",
          "Yellow",
          "Charcoal",
          "Lavender",
          "Teal",
          "Beige",
          "Blue",
          "Purple",
          "Gold",
          "Blue",
          "Black",
          "Charcoal",
          "Purple",
          "Orange",
          "Yellow",
          "Cyan",
          "Yellow",
          "Maroon",
          "Black",
          "Lavender",
          "Violet",
          "Olive",
          "Teal",
          "Teal",
          "Beige",
          "Maroon",
          "Peach",
          "Beige",
          "Silver",
          "Peach",
          "Turquoise",
          "Orange",
          "Cyan",
          "Silver",
          "Gold",
          "Brown",
          "Silver",
          "Beige",
          "Violet",
          "Violet",
          "Lavender",
          "Red",
          "Purple",
          "Brown",
          "Gray",
          "Pink",
          "Magenta",
          "Charcoal",
          "Yellow",
          "Red",
          "Blue",
          "Cyan",
          "Pink",
          "Maroon",
          "Beige",
          "Gold",
          "Turquoise",
          "Peach",
          "Lavender",
          "Gray",
          "Blue",
          "Red",
          "Purple",
          "Indigo",
          "Gold",
          "Teal",
          "Magenta",
          "Maroon",
          "Blue",
          "Beige",
          "Olive",
          "Gold",
          "Silver",
          "Teal",
          "Green",
          "Orange",
          "Charcoal",
          "Black",
          "Yellow",
          "Gray",
          "Charcoal",
          "Peach",
          "Green",
          "Magenta",
          "Beige",
          "Black",
          "Purple",
          "Olive",
          "Purple",
          "Green",
          "Peach",
          "Blue",
          "Gray",
          "Black",
          "Silver",
          "Pink",
          "Lavender",
          "Brown",
          "Turquoise",
          "Olive",
          "White",
          "Violet",
          "Gold",
          "Violet",
          "Teal",
          "Olive",
          "Blue",
          "Magenta",
          "Gray",
          "Peach",
          "Cyan",
          "Violet",
          "Gold",
          "Gold",
          "White",
          "Gray",
          "Brown",
          "Gray",
          "Blue",
          "Gold",
          "Yellow",
          "Green",
          "Pink",
          "Pink",
          "Pink",
          "Cyan",
          "Gray",
          "White",
          "Red",
          "Black",
          "Silver",
          "Pink",
          "Cyan",
          "White",
          "Purple",
          "Yellow",
          "Blue",
          "Cyan",
          "Indigo",
          "Indigo",
          "Silver",
          "Red",
          "Peach",
          "Turquoise",
          "Pink",
          "Teal",
          "Magenta",
          "Blue",
          "Green",
          "Violet",
          "Turquoise",
          "Pink",
          "Black",
          "Gold",
          "Green",
          "White",
          "Gold",
          "Charcoal",
          "White",
          "Brown",
          "Gold",
          "Purple",
          "Brown",
          "Teal",
          "Indigo",
          "Purple",
          "Orange",
          "Indigo",
          "Lavender",
          "Purple",
          "Red",
          "Blue",
          "Blue",
          "Cyan",
          "Pink",
          "Silver",
          "Gray",
          "Indigo",
          "Maroon",
          "Beige",
          "Green",
          "Peach",
          "Black",
          "Pink",
          "Violet",
          "Green",
          "Gold",
          "Red",
          "Beige",
          "Green",
          "Black",
          "Teal",
          "Silver",
          "Turquoise",
          "Orange",
          "Gold",
          "Purple",
          "Pink",
          "Green",
          "Charcoal",
          "Maroon",
          "Olive",
          "Peach",
          "Yellow",
          "Lavender",
          "Green",
          "Orange",
          "Olive",
          "Gray",
          "Lavender",
          "Red",
          "Charcoal",
          "Orange",
          "Red",
          "Maroon",
          "Silver",
          "Pink",
          "Blue",
          "Teal",
          "Black",
          "Gray",
          "Purple",
          "Gold",
          "Silver",
          "Blue",
          "Yellow",
          "Brown",
          "Beige",
          "Blue",
          "Magenta",
          "Silver",
          "Cyan",
          "Green",
          "Blue",
          "Olive",
          "Beige",
          "Black",
          "Indigo",
          "Red",
          "Yellow",
          "Beige",
          "Green",
          "White",
          "Turquoise",
          "Indigo",
          "Orange",
          "Blue",
          "Violet",
          "Gray",
          "Cyan",
          "Yellow",
          "Orange",
          "Brown",
          "Teal",
          "Beige",
          "Blue",
          "Orange",
          "Gold",
          "Teal",
          "Beige",
          "Silver",
          "Maroon",
          "Indigo",
          "Gray",
          "Blue",
          "Cyan",
          "White",
          "Green",
          "Silver",
          "Blue",
          "Brown",
          "Red",
          "Gold",
          "Silver",
          "Gray",
          "Black",
          "Beige",
          "Peach",
          "Cyan",
          "Pink",
          "Lavender",
          "Brown",
          "Magenta",
          "Violet",
          "Teal",
          "Brown",
          "Olive",
          "Indigo",
          "Red",
          "Olive",
          "Teal",
          "Cyan",
          "Teal",
          "Beige",
          "Magenta",
          "Indigo",
          "Cyan",
          "Orange",
          "Violet",
          "Red",
          "Magenta",
          "Olive",
          "Maroon",
          "Yellow",
          "Red",
          "Purple",
          "Teal",
          "Red",
          "Brown",
          "Peach",
          "Maroon",
          "Red",
          "Orange",
          "White",
          "White",
          "Charcoal",
          "Turquoise",
          "Orange",
          "Orange",
          "Brown",
          "Magenta",
          "Violet",
          "Violet",
          "Yellow",
          "Maroon",
          "Turquoise",
          "Olive",
          "Peach",
          "Charcoal",
          "Peach",
          "Black",
          "Gray",
          "Olive",
          "Turquoise",
          "Purple",
          "Green",
          "Beige",
          "Brown",
          "Turquoise",
          "Yellow",
          "Lavender",
          "Cyan",
          "Olive",
          "Silver",
          "Red",
          "Green",
          "Gold",
          "Lavender",
          "Yellow",
          "Black",
          "Maroon",
          "Maroon",
          "Gold",
          "Violet",
          "Teal",
          "Violet",
          "Brown",
          "Brown",
          "Maroon",
          "Maroon",
          "Yellow",
          "Turquoise",
          "Silver",
          "Brown",
          "Gray",
          "Indigo",
          "Turquoise",
          "Maroon",
          "Charcoal",
          "Peach",
          "Red",
          "Indigo",
          "Lavender",
          "Red",
          "Green",
          "Gray",
          "Violet",
          "Beige",
          "Orange",
          "Purple",
          "Brown",
          "Maroon",
          "Gold",
          "Indigo",
          "Silver",
          "Red",
          "Magenta",
          "Purple",
          "Beige",
          "White",
          "Teal",
          "Gray",
          "Charcoal",
          "Olive",
          "Blue",
          "Gray",
          "Green",
          "Silver",
          "Teal",
          "Beige",
          "Lavender",
          "Gray",
          "Yellow",
          "Gray",
          "Yellow",
          "Black",
          "Beige",
          "Indigo",
          "Green",
          "Purple",
          "Orange",
          "Teal",
          "Gold",
          "Gray",
          "Cyan",
          "Teal",
          "Violet",
          "Indigo",
          "Pink",
          "Gold",
          "Maroon",
          "Brown",
          "Gold",
          "Teal",
          "Turquoise",
          "Olive",
          "Cyan",
          "Beige",
          "Blue",
          "Gold",
          "Green",
          "Green",
          "Turquoise",
          "Yellow",
          "Yellow",
          "Blue",
          "Charcoal",
          "Yellow",
          "Purple",
          "Green",
          "Charcoal",
          "Silver",
          "Turquoise",
          "Gray",
          "Red",
          "Beige",
          "Maroon",
          "Indigo",
          "Red",
          "Maroon",
          "Red",
          "Black",
          "Black",
          "Pink",
          "Blue",
          "Green",
          "Orange",
          "Orange",
          "Magenta",
          "Indigo",
          "Beige",
          "Green",
          "Red",
          "Beige",
          "Green",
          "Orange",
          "Cyan",
          "Violet",
          "Lavender",
          "Turquoise",
          "Pink",
          "Beige",
          "Silver",
          "Gold",
          "Silver",
          "Green",
          "Teal",
          "Gold",
          "Cyan",
          "Gold",
          "Violet",
          "Black",
          "Brown",
          "Indigo",
          "Yellow",
          "Purple",
          "White",
          "Turquoise",
          "Olive",
          "Beige",
          "Lavender",
          "White",
          "Brown",
          "Charcoal",
          "Maroon",
          "Red",
          "Maroon",
          "Teal",
          "Orange",
          "Olive",
          "Olive",
          "Beige",
          "Green",
          "Black",
          "Green",
          "Violet",
          "Silver",
          "Maroon",
          "Cyan",
          "Teal",
          "Olive",
          "Red",
          "Lavender",
          "Orange",
          "Brown",
          "Gray",
          "Orange",
          "Orange",
          "Turquoise",
          "Cyan",
          "Yellow",
          "White",
          "Blue",
          "Purple",
          "Gray",
          "Cyan",
          "Pink",
          "Gold",
          "Silver",
          "Gray",
          "Brown",
          "Pink",
          "Maroon",
          "Peach",
          "Brown",
          "Green",
          "Lavender",
          "Cyan",
          "Black",
          "Charcoal",
          "Silver",
          "Gray",
          "Peach",
          "Peach",
          "Cyan",
          "Magenta",
          "Teal",
          "Peach",
          "Black",
          "Teal",
          "Turquoise",
          "Gold",
          "Green",
          "Brown",
          "Blue",
          "Gold",
          "Peach",
          "Violet",
          "Yellow",
          "Black",
          "Silver",
          "Brown",
          "Peach",
          "Cyan",
          "Olive",
          "Black",
          "Orange",
          "Beige",
          "Peach",
          "Pink",
          "Brown",
          "Magenta",
          "Cyan",
          "Silver",
          "Indigo",
          "Beige",
          "Black",
          "Yellow",
          "Maroon",
          "Cyan",
          "Pink",
          "Violet",
          "Lavender",
          "Lavender",
          "Black",
          "Olive",
          "Indigo",
          "Blue",
          "Green",
          "Pink",
          "Peach",
          "Purple",
          "Peach",
          "Olive",
          "Olive",
          "Purple",
          "Violet",
          "Maroon",
          "White",
          "Olive",
          "Peach",
          "Blue",
          "Brown",
          "Black",
          "Yellow",
          "Magenta",
          "Cyan",
          "Maroon",
          "Red",
          "Black",
          "Violet",
          "Green",
          "Gold",
          "Brown",
          "Peach",
          "Peach",
          "Violet",
          "Violet",
          "Magenta",
          "Purple",
          "Purple",
          "Cyan",
          "Magenta",
          "Lavender",
          "Green",
          "Maroon",
          "Turquoise",
          "Violet",
          "Lavender",
          "Red",
          "Orange",
          "Indigo",
          "Teal",
          "Brown",
          "Pink",
          "Lavender",
          "Cyan",
          "Yellow",
          "Pink",
          "Gray",
          "Peach",
          "Red",
          "Olive",
          "Lavender",
          "Turquoise",
          "Turquoise",
          "Maroon",
          "Olive",
          "Maroon",
          "Cyan",
          "Peach",
          "Teal",
          "Green",
          "Beige",
          "Magenta",
          "Violet",
          "Charcoal",
          "Green",
          "Gray",
          "Magenta",
          "Silver",
          "Beige",
          "Peach",
          "Orange",
          "Yellow",
          "Violet",
          "Green",
          "Pink",
          "Violet",
          "Violet",
          "Pink",
          "Violet",
          "Turquoise",
          "Cyan",
          "Orange",
          "Cyan",
          "Indigo",
          "Black",
          "Purple",
          "Cyan",
          "Green",
          "Teal",
          "Teal",
          "Magenta",
          "Brown",
          "Orange",
          "Blue",
          "Magenta",
          "Magenta",
          "Magenta",
          "Olive",
          "Cyan",
          "Purple",
          "Purple",
          "Peach",
          "Gold",
          "Peach",
          "Magenta",
          "Cyan",
          "Violet",
          "Charcoal",
          "Blue",
          "Red",
          "Purple",
          "Gray",
          "Purple",
          "Silver",
          "Purple",
          "Charcoal",
          "Silver",
          "White",
          "Peach",
          "Red",
          "Olive",
          "Gray",
          "Beige",
          "Pink",
          "Red",
          "Peach",
          "Maroon",
          "Purple",
          "Maroon",
          "Gray",
          "Gray",
          "Magenta",
          "Cyan",
          "Silver",
          "Green",
          "Violet",
          "Magenta",
          "Yellow",
          "Gray",
          "Indigo",
          "Indigo",
          "Yellow",
          "Gold",
          "Green",
          "Charcoal",
          "Olive",
          "Black",
          "Silver",
          "Red",
          "Brown",
          "Silver",
          "Silver",
          "Black",
          "Purple",
          "Purple",
          "Turquoise",
          "Gold",
          "Indigo",
          "Lavender",
          "Blue",
          "Maroon",
          "Yellow",
          "Purple",
          "Peach",
          "Silver",
          "Turquoise",
          "Olive",
          "Peach",
          "Indigo",
          "Indigo",
          "Maroon",
          "Black",
          "Teal",
          "Olive",
          "Gold",
          "Gray",
          "Orange",
          "Black",
          "Teal",
          "Beige",
          "White",
          "Turquoise",
          "Teal",
          "Orange",
          "Black",
          "Violet",
          "Maroon",
          "Turquoise",
          "Gold",
          "Turquoise",
          "Maroon",
          "Purple",
          "Maroon",
          "Brown",
          "Indigo",
          "Lavender",
          "Beige",
          "Yellow",
          "Gold",
          "Indigo",
          "Cyan",
          "Silver",
          "Silver",
          "Silver",
          "Peach",
          "Pink",
          "Violet",
          "Black",
          "Purple",
          "Black",
          "Peach",
          "Magenta",
          "Magenta",
          "Black",
          "Pink",
          "Olive",
          "Olive",
          "Peach",
          "Silver",
          "Turquoise",
          "Olive",
          "Lavender",
          "Red",
          "Gray",
          "Magenta",
          "Maroon",
          "Cyan",
          "Cyan",
          "Lavender",
          "Pink",
          "Gray",
          "Yellow",
          "Pink",
          "Indigo",
          "Gray",
          "Yellow",
          "Olive",
          "Cyan",
          "Silver",
          "Silver",
          "Red",
          "Brown",
          "Orange",
          "Black",
          "Teal",
          "Yellow",
          "Gray",
          "Maroon",
          "Olive",
          "Charcoal",
          "Peach",
          "Maroon",
          "Olive",
          "Magenta",
          "Yellow",
          "Indigo",
          "Olive",
          "Maroon",
          "Indigo",
          "Gray",
          "Gray",
          "Black",
          "White",
          "Turquoise",
          "Orange",
          "Yellow",
          "Blue",
          "Violet",
          "Lavender",
          "Olive",
          "Orange",
          "White",
          "Red",
          "Magenta",
          "Violet",
          "Olive",
          "Silver",
          "Gray",
          "Olive",
          "Beige",
          "Turquoise",
          "Blue",
          "Pink",
          "Teal",
          "Cyan",
          "Purple",
          "Red",
          "Brown",
          "Magenta",
          "Olive",
          "Pink",
          "Black",
          "Beige",
          "Peach",
          "Peach",
          "Peach",
          "Teal",
          "Green",
          "Brown",
          "Brown",
          "Violet",
          "Blue",
          "Charcoal",
          "Pink",
          "Violet",
          "Teal",
          "Red",
          "Orange",
          "Magenta",
          "Yellow",
          "Yellow",
          "Pink",
          "Indigo",
          "Charcoal",
          "Blue",
          "Lavender",
          "Yellow",
          "Black",
          "Beige",
          "Silver",
          "Magenta",
          "Orange",
          "Teal",
          "Turquoise",
          "Cyan",
          "Pink",
          "Indigo",
          "Peach",
          "Beige",
          "Gold",
          "Indigo",
          "Violet",
          "Brown",
          "Purple",
          "Turquoise",
          "Violet",
          "Purple",
          "Charcoal",
          "Green",
          "White",
          "Purple",
          "Cyan",
          "Green",
          "Beige",
          "Lavender",
          "Blue",
          "Beige",
          "Blue",
          "Maroon",
          "Yellow",
          "Red",
          "Green",
          "Magenta",
          "Yellow",
          "Blue",
          "Charcoal",
          "Blue",
          "Cyan",
          "Silver",
          "Black",
          "Green",
          "Violet",
          "Pink",
          "Olive",
          "Orange",
          "Black",
          "Yellow",
          "Violet",
          "Silver",
          "Gold",
          "Magenta",
          "Red",
          "Green",
          "Red",
          "Pink",
          "Violet",
          "Indigo",
          "Red",
          "Violet",
          "Cyan",
          "Black",
          "Purple",
          "Charcoal",
          "Beige",
          "Teal",
          "Purple",
          "Blue",
          "Magenta",
          "Maroon",
          "Gold",
          "Black",
          "Black",
          "Yellow",
          "Turquoise",
          "Lavender",
          "Yellow",
          "Olive",
          "Brown",
          "Olive",
          "Purple",
          "Yellow",
          "Brown",
          "Magenta",
          "Lavender",
          "Teal",
          "Cyan",
          "Pink",
          "Magenta",
          "Teal",
          "Indigo",
          "Pink",
          "Charcoal",
          "Brown",
          "Blue",
          "Teal",
          "Pink",
          "Magenta",
          "Green",
          "White",
          "Indigo",
          "Lavender",
          "Black",
          "Charcoal",
          "Gray",
          "Gold",
          "Silver",
          "Teal",
          "Magenta",
          "Magenta",
          "Beige",
          "Maroon",
          "Indigo",
          "Maroon",
          "Teal",
          "Yellow",
          "Gold",
          "Teal",
          "Violet",
          "Yellow",
          "Maroon",
          "Silver",
          "Violet",
          "White",
          "Black",
          "White",
          "Blue",
          "Black",
          "Olive",
          "Teal",
          "Silver",
          "Pink",
          "Charcoal",
          "Silver",
          "Turquoise",
          "Turquoise",
          "Beige",
          "Cyan",
          "Gold",
          "Silver",
          "Purple",
          "Yellow",
          "Blue",
          "Blue",
          "Green",
          "Charcoal",
          "Violet",
          "Black",
          "Teal",
          "Orange",
          "Brown",
          "Green",
          "Silver",
          "Violet",
          "Peach",
          "Gold",
          "Violet",
          "Olive",
          "Orange",
          "Teal",
          "Gray",
          "Black",
          "Indigo",
          "Lavender",
          "Beige",
          "Indigo",
          "Blue",
          "Orange",
          "Yellow",
          "Cyan",
          "Yellow",
          "Cyan",
          "Green",
          "White",
          "Black",
          "Charcoal",
          "Brown",
          "Cyan",
          "Beige",
          "Magenta",
          "Indigo",
          "Maroon",
          "Gray",
          "Black",
          "Yellow",
          "White",
          "Orange",
          "Magenta",
          "Black",
          "Brown",
          "Orange",
          "Gray",
          "White",
          "White",
          "Violet",
          "Beige",
          "Beige",
          "Purple",
          "Brown",
          "Orange",
          "Cyan",
          "Charcoal",
          "Purple",
          "Peach",
          "Violet",
          "Peach",
          "Maroon",
          "Maroon",
          "Peach",
          "Silver",
          "Indigo",
          "Silver",
          "Olive",
          "Gray",
          "Black",
          "Maroon",
          "Olive",
          "Gold",
          "Pink",
          "Brown",
          "White",
          "Blue",
          "Orange",
          "Silver",
          "Gray",
          "Blue",
          "White",
          "Yellow",
          "Indigo",
          "Blue",
          "Peach",
          "Lavender",
          "Silver",
          "Gold",
          "Cyan",
          "Olive",
          "Teal",
          "Pink",
          "Orange",
          "Charcoal",
          "Red",
          "Teal",
          "Silver",
          "Black",
          "Pink",
          "Teal",
          "Teal",
          "Green",
          "Charcoal",
          "Indigo",
          "White",
          "Orange",
          "White",
          "Yellow",
          "Red",
          "Charcoal",
          "Lavender",
          "Charcoal",
          "Maroon",
          "Brown",
          "Lavender",
          "Brown",
          "Olive",
          "Lavender",
          "Gold",
          "Silver",
          "Violet",
          "Brown",
          "Teal",
          "Peach",
          "Maroon",
          "Lavender",
          "Lavender",
          "Purple",
          "Green",
          "Yellow",
          "Charcoal",
          "Blue",
          "Lavender",
          "Brown",
          "White",
          "Green",
          "Magenta",
          "Peach",
          "Charcoal",
          "Gold",
          "Purple",
          "Teal",
          "Green",
          "Orange",
          "Peach",
          "Gold",
          "Violet",
          "Charcoal",
          "Brown",
          "Blue",
          "Gold",
          "Orange",
          "Turquoise",
          "Peach",
          "Magenta",
          "Black",
          "White",
          "Violet",
          "Olive",
          "Red",
          "Green",
          "Gold",
          "Olive",
          "Brown",
          "Magenta",
          "Violet",
          "Beige",
          "Blue",
          "Orange",
          "Maroon",
          "Charcoal",
          "Olive",
          "Green",
          "Brown",
          "Cyan",
          "Beige",
          "Teal",
          "Gray",
          "Indigo",
          "Magenta",
          "Red",
          "Turquoise",
          "Peach",
          "White",
          "Maroon",
          "Beige",
          "Blue",
          "Red",
          "Blue",
          "Maroon",
          "Yellow",
          "Pink",
          "Maroon",
          "Purple",
          "Indigo",
          "Gray",
          "Lavender",
          "Charcoal",
          "Teal",
          "Blue",
          "Peach",
          "Orange",
          "Silver",
          "Red",
          "Gray",
          "Beige",
          "White",
          "Silver",
          "Cyan",
          "Maroon",
          "Purple",
          "Brown",
          "Green",
          "Peach",
          "Turquoise",
          "Olive",
          "Yellow",
          "Gray",
          "Purple",
          "Gray",
          "Lavender",
          "Indigo",
          "Green",
          "Green",
          "Olive",
          "Charcoal",
          "Gray",
          "Olive",
          "Blue",
          "Silver",
          "Magenta",
          "Black",
          "Pink",
          "Red",
          "Peach",
          "Lavender",
          "Lavender",
          "Beige",
          "Indigo",
          "Cyan",
          "Yellow",
          "Peach",
          "Yellow",
          "Orange",
          "Gray",
          "Yellow",
          "Gray",
          "Turquoise",
          "Gray",
          "Olive",
          "Peach",
          "Peach",
          "Magenta",
          "Purple",
          "Beige",
          "Purple",
          "Yellow",
          "Pink",
          "Purple",
          "Lavender",
          "Peach",
          "Orange",
          "Red",
          "Red",
          "Gold",
          "Brown",
          "Black",
          "Red",
          "Gray",
          "Pink",
          "Turquoise",
          "Charcoal",
          "Blue",
          "Turquoise",
          "Silver",
          "Lavender",
          "Gold",
          "Blue",
          "Orange",
          "White",
          "Charcoal",
          "Maroon",
          "Olive",
          "Teal",
          "Orange",
          "Maroon",
          "Turquoise",
          "Beige",
          "Beige",
          "Olive",
          "Turquoise",
          "Charcoal",
          "Green",
          "Green",
          "Green",
          "Gold",
          "Cyan",
          "Indigo",
          "Lavender",
          "Beige",
          "Purple",
          "Maroon",
          "Maroon",
          "Teal",
          "Gold",
          "Red",
          "Maroon",
          "Teal",
          "Peach",
          "Pink",
          "Black",
          "Indigo",
          "Green",
          "Teal",
          "Lavender",
          "Magenta",
          "Brown",
          "Beige",
          "Indigo",
          "Peach",
          "Magenta",
          "Turquoise",
          "Indigo",
          "Brown",
          "Yellow",
          "Magenta",
          "Olive",
          "Silver",
          "Teal",
          "White",
          "Blue",
          "Yellow",
          "Maroon",
          "Gray",
          "Indigo",
          "Pink",
          "Beige",
          "White",
          "Yellow",
          "Teal",
          "Olive",
          "Maroon",
          "White",
          "Lavender",
          "Black",
          "Green",
          "Olive",
          "Gray",
          "Teal",
          "Charcoal",
          "Violet",
          "Lavender",
          "Beige",
          "Black",
          "Black",
          "Purple",
          "Magenta",
          "Teal",
          "Teal",
          "Pink",
          "Teal",
          "Gold",
          "Brown",
          "Brown",
          "Magenta",
          "Black",
          "Teal",
          "Brown",
          "Magenta",
          "Indigo",
          "Violet",
          "Cyan",
          "Violet",
          "Black",
          "Charcoal",
          "White",
          "Gray",
          "Pink",
          "Cyan",
          "Blue",
          "Indigo",
          "Magenta",
          "Lavender",
          "Orange",
          "Cyan",
          "Green",
          "White",
          "Blue",
          "Black",
          "Red",
          "Red",
          "Gold",
          "Red",
          "Purple",
          "White",
          "Magenta",
          "Pink",
          "Black",
          "White",
          "Maroon",
          "Black",
          "Olive",
          "Gray",
          "Gold",
          "Magenta",
          "Lavender",
          "Green",
          "Violet",
          "Brown",
          "Teal",
          "Charcoal",
          "Charcoal",
          "Beige",
          "Turquoise",
          "Orange",
          "Cyan",
          "Orange",
          "Green",
          "Pink",
          "Blue",
          "Pink",
          "Blue",
          "Black",
          "Black",
          "Violet",
          "Gold",
          "Olive",
          "Pink",
          "Olive",
          "Indigo",
          "Silver",
          "Charcoal",
          "Orange",
          "Yellow",
          "Red",
          "Maroon",
          "Magenta",
          "Black",
          "Violet",
          "Gray",
          "Black",
          "Pink",
          "Silver",
          "Violet",
          "Beige",
          "Cyan",
          "Brown",
          "Blue",
          "White",
          "Cyan",
          "Maroon",
          "Olive",
          "Violet",
          "Green",
          "Magenta",
          "Turquoise",
          "Black",
          "Cyan",
          "Gray",
          "Red",
          "Olive",
          "Cyan",
          "Teal",
          "Teal",
          "Orange",
          "Peach",
          "Silver",
          "Pink",
          "Magenta",
          "Red",
          "Maroon",
          "Silver",
          "Gray",
          "Turquoise",
          "Peach",
          "Teal",
          "Red",
          "Blue",
          "Blue",
          "Indigo",
          "Charcoal",
          "Turquoise",
          "Maroon",
          "Purple",
          "Lavender",
          "Yellow",
          "Green",
          "Yellow",
          "Gold",
          "Turquoise",
          "Blue",
          "Turquoise",
          "Maroon",
          "Pink",
          "Maroon",
          "Olive",
          "Lavender",
          "Pink",
          "Cyan",
          "Maroon",
          "Red",
          "Silver",
          "Blue",
          "Gold",
          "Yellow",
          "Silver",
          "Black",
          "Yellow",
          "Pink",
          "Yellow",
          "Lavender",
          "Peach",
          "Black",
          "Olive",
          "Olive",
          "White",
          "Red",
          "Purple",
          "Purple",
          "Teal",
          "Teal",
          "Gray",
          "Magenta",
          "Black",
          "Maroon",
          "Gold",
          "Purple",
          "Blue",
          "Beige",
          "Indigo",
          "Purple",
          "Maroon",
          "Beige",
          "Brown",
          "Green",
          "Blue",
          "Magenta",
          "Turquoise",
          "Gray",
          "Purple",
          "Lavender",
          "Green",
          "Gray",
          "Yellow",
          "Orange",
          "Beige",
          "Peach",
          "Green",
          "Violet",
          "Gray",
          "Magenta",
          "Charcoal",
          "Violet",
          "Silver",
          "Green",
          "Magenta",
          "Purple",
          "Blue",
          "Yellow",
          "Brown",
          "Pink",
          "Silver",
          "Indigo",
          "Pink",
          "Lavender",
          "Orange",
          "Red",
          "Gray",
          "Violet",
          "Green",
          "Gold",
          "Maroon",
          "Olive",
          "Yellow",
          "Peach",
          "Gold",
          "Purple",
          "Charcoal",
          "Indigo",
          "Magenta",
          "Olive",
          "Blue",
          "White",
          "Cyan",
          "Cyan",
          "Orange",
          "Orange",
          "Teal",
          "Magenta",
          "Orange",
          "Peach",
          "Maroon",
          "Gold",
          "White",
          "Gray",
          "Brown",
          "Charcoal",
          "Beige",
          "Teal",
          "Black",
          "Violet",
          "Orange",
          "Turquoise",
          "Black",
          "Silver",
          "Gray",
          "Pink",
          "Red",
          "Lavender",
          "Indigo",
          "Silver",
          "Silver",
          "Green",
          "Pink",
          "Violet",
          "Red",
          "Olive",
          "Purple",
          "Gray",
          "Brown",
          "Orange",
          "Blue",
          "White",
          "Charcoal",
          "Gray",
          "Charcoal",
          "White",
          "Orange",
          "Black",
          "White",
          "Brown",
          "Pink",
          "Yellow",
          "Cyan",
          "Silver",
          "Olive",
          "Olive",
          "Charcoal",
          "Gray",
          "Maroon",
          "Black",
          "Violet",
          "Indigo",
          "Yellow",
          "Gray",
          "Red",
          "Peach",
          "Gray",
          "White",
          "Green",
          "Magenta",
          "Olive",
          "Olive",
          "Blue",
          "Charcoal",
          "Yellow",
          "Violet",
          "Magenta",
          "Red",
          "Cyan",
          "Orange",
          "Black",
          "Blue",
          "Charcoal",
          "Indigo",
          "Silver",
          "Brown",
          "Peach",
          "Magenta",
          "Beige",
          "Violet",
          "Black",
          "Cyan",
          "Green",
          "Brown",
          "Gray",
          "Orange",
          "Silver",
          "Purple",
          "Olive",
          "Teal",
          "White",
          "Black",
          "Maroon",
          "Cyan",
          "Violet",
          "Yellow",
          "Yellow",
          "Olive",
          "Olive",
          "Magenta",
          "Orange",
          "Beige",
          "Brown",
          "Indigo",
          "Gray",
          "Yellow",
          "Violet",
          "Magenta",
          "Blue",
          "Gray",
          "Gold",
          "Lavender",
          "Black",
          "Charcoal",
          "Violet",
          "Charcoal",
          "Maroon",
          "Purple",
          "Peach",
          "Olive",
          "Indigo",
          "Magenta",
          "Gold",
          "Orange",
          "Gold",
          "Purple",
          "Charcoal",
          "Cyan",
          "Cyan",
          "Green",
          "Silver",
          "Teal",
          "Magenta",
          "Maroon",
          "Gold",
          "Purple",
          "Lavender",
          "Maroon",
          "Magenta",
          "Turquoise",
          "Silver",
          "Purple",
          "Violet",
          "Peach",
          "Green",
          "Teal",
          "Silver",
          "Purple",
          "Lavender",
          "Lavender",
          "Peach",
          "Green",
          "Orange",
          "Pink",
          "Cyan",
          "Lavender",
          "Yellow",
          "Olive",
          "Brown",
          "Pink",
          "Cyan",
          "Maroon",
          "Magenta",
          "Violet",
          "Silver",
          "Maroon",
          "Gray",
          "White",
          "Brown",
          "Silver",
          "Yellow",
          "Magenta",
          "Blue",
          "Green",
          "Yellow",
          "Cyan",
          "Gold",
          "Magenta",
          "Gray",
          "Indigo",
          "White",
          "Indigo",
          "Green",
          "Turquoise",
          "Peach",
          "Olive",
          "Cyan",
          "Magenta",
          "Silver",
          "White",
          "Pink",
          "Pink",
          "Pink",
          "Blue",
          "White",
          "Teal",
          "Gray",
          "Beige",
          "Violet",
          "Blue",
          "Magenta",
          "Maroon",
          "Purple",
          "Charcoal",
          "Red",
          "Charcoal",
          "Lavender",
          "White",
          "Red",
          "Violet",
          "Orange",
          "Turquoise",
          "Violet",
          "Blue",
          "White",
          "Turquoise",
          "Pink",
          "Maroon",
          "Olive",
          "Charcoal",
          "Charcoal",
          "Indigo",
          "Teal",
          "Black",
          "Teal",
          "Green",
          "Gold",
          "Red",
          "Silver",
          "Yellow",
          "Peach",
          "Turquoise",
          "Peach",
          "Peach",
          "Orange",
          "Charcoal",
          "White",
          "Turquoise",
          "Red",
          "Peach",
          "Pink",
          "Yellow",
          "Beige",
          "Green",
          "Turquoise",
          "Orange",
          "Gold",
          "Red",
          "Teal",
          "Teal",
          "Lavender",
          "Pink",
          "Maroon",
          "Beige",
          "Orange",
          "Red",
          "Maroon",
          "Brown",
          "Olive",
          "Silver",
          "Purple",
          "Gray",
          "Cyan",
          "Gray",
          "Gold",
          "Cyan",
          "Olive",
          "Violet",
          "Yellow",
          "Gold",
          "Silver",
          "Pink",
          "Turquoise",
          "Turquoise",
          "Peach",
          "Teal",
          "Red",
          "Black",
          "Pink",
          "Peach",
          "Green",
          "Green",
          "Red",
          "Maroon",
          "Green",
          "Black",
          "Black",
          "Yellow",
          "Green",
          "Black",
          "Red",
          "Yellow",
          "Violet",
          "Cyan",
          "Pink",
          "Olive",
          "Maroon",
          "Cyan",
          "Lavender",
          "Yellow",
          "Pink",
          "Orange",
          "Orange",
          "Violet",
          "Lavender",
          "Yellow",
          "Pink",
          "Teal",
          "Magenta",
          "Beige",
          "Gray",
          "Turquoise",
          "Pink",
          "Violet",
          "Charcoal",
          "Lavender",
          "Gray",
          "Brown",
          "Violet",
          "Turquoise",
          "Peach",
          "Turquoise",
          "Violet",
          "Olive",
          "Green",
          "Teal",
          "Peach",
          "Pink",
          "Maroon",
          "Peach",
          "Maroon",
          "Pink",
          "Orange",
          "Orange",
          "Brown",
          "Silver",
          "Magenta",
          "Indigo",
          "Gold",
          "Purple",
          "Gold",
          "Gold",
          "Gold",
          "Olive",
          "Green",
          "Gray",
          "Red",
          "Charcoal",
          "Indigo",
          "Indigo",
          "Silver",
          "Purple",
          "Gray",
          "Magenta",
          "Silver",
          "Violet",
          "Green",
          "Green",
          "Peach",
          "Turquoise",
          "Pink",
          "Lavender",
          "Silver",
          "Cyan",
          "Green",
          "Orange",
          "Blue",
          "Magenta",
          "Cyan",
          "Indigo",
          "Pink",
          "Peach",
          "Lavender",
          "Black",
          "Lavender",
          "Brown",
          "Yellow",
          "Olive",
          "Blue",
          "Turquoise",
          "Yellow",
          "Turquoise",
          "Orange",
          "Blue",
          "Olive",
          "Beige",
          "Lavender",
          "Magenta",
          "Cyan",
          "Lavender",
          "Black",
          "Green",
          "Silver",
          "Beige",
          "Pink",
          "Cyan",
          "Olive",
          "Pink",
          "Maroon",
          "Red",
          "Silver",
          "Blue",
          "Purple",
          "Brown",
          "Purple",
          "Brown",
          "Charcoal",
          "Violet",
          "Yellow",
          "Green",
          "Peach",
          "Indigo",
          "White",
          "White",
          "Turquoise",
          "White",
          "Green",
          "Brown",
          "Beige"
         ],
         "xaxis": "x",
         "yaxis": "y"
        }
       ],
       "layout": {
        "barmode": "relative",
        "legend": {
         "tracegroupgap": 0
        },
        "margin": {
         "t": 60
        },
        "template": {
         "data": {
          "bar": [
           {
            "error_x": {
             "color": "#2a3f5f"
            },
            "error_y": {
             "color": "#2a3f5f"
            },
            "marker": {
             "line": {
              "color": "#E5ECF6",
              "width": 0.5
             },
             "pattern": {
              "fillmode": "overlay",
              "size": 10,
              "solidity": 0.2
             }
            },
            "type": "bar"
           }
          ],
          "barpolar": [
           {
            "marker": {
             "line": {
              "color": "#E5ECF6",
              "width": 0.5
             },
             "pattern": {
              "fillmode": "overlay",
              "size": 10,
              "solidity": 0.2
             }
            },
            "type": "barpolar"
           }
          ],
          "carpet": [
           {
            "aaxis": {
             "endlinecolor": "#2a3f5f",
             "gridcolor": "white",
             "linecolor": "white",
             "minorgridcolor": "white",
             "startlinecolor": "#2a3f5f"
            },
            "baxis": {
             "endlinecolor": "#2a3f5f",
             "gridcolor": "white",
             "linecolor": "white",
             "minorgridcolor": "white",
             "startlinecolor": "#2a3f5f"
            },
            "type": "carpet"
           }
          ],
          "choropleth": [
           {
            "colorbar": {
             "outlinewidth": 0,
             "ticks": ""
            },
            "type": "choropleth"
           }
          ],
          "contour": [
           {
            "colorbar": {
             "outlinewidth": 0,
             "ticks": ""
            },
            "colorscale": [
             [
              0,
              "#0d0887"
             ],
             [
              0.1111111111111111,
              "#46039f"
             ],
             [
              0.2222222222222222,
              "#7201a8"
             ],
             [
              0.3333333333333333,
              "#9c179e"
             ],
             [
              0.4444444444444444,
              "#bd3786"
             ],
             [
              0.5555555555555556,
              "#d8576b"
             ],
             [
              0.6666666666666666,
              "#ed7953"
             ],
             [
              0.7777777777777778,
              "#fb9f3a"
             ],
             [
              0.8888888888888888,
              "#fdca26"
             ],
             [
              1,
              "#f0f921"
             ]
            ],
            "type": "contour"
           }
          ],
          "contourcarpet": [
           {
            "colorbar": {
             "outlinewidth": 0,
             "ticks": ""
            },
            "type": "contourcarpet"
           }
          ],
          "heatmap": [
           {
            "colorbar": {
             "outlinewidth": 0,
             "ticks": ""
            },
            "colorscale": [
             [
              0,
              "#0d0887"
             ],
             [
              0.1111111111111111,
              "#46039f"
             ],
             [
              0.2222222222222222,
              "#7201a8"
             ],
             [
              0.3333333333333333,
              "#9c179e"
             ],
             [
              0.4444444444444444,
              "#bd3786"
             ],
             [
              0.5555555555555556,
              "#d8576b"
             ],
             [
              0.6666666666666666,
              "#ed7953"
             ],
             [
              0.7777777777777778,
              "#fb9f3a"
             ],
             [
              0.8888888888888888,
              "#fdca26"
             ],
             [
              1,
              "#f0f921"
             ]
            ],
            "type": "heatmap"
           }
          ],
          "heatmapgl": [
           {
            "colorbar": {
             "outlinewidth": 0,
             "ticks": ""
            },
            "colorscale": [
             [
              0,
              "#0d0887"
             ],
             [
              0.1111111111111111,
              "#46039f"
             ],
             [
              0.2222222222222222,
              "#7201a8"
             ],
             [
              0.3333333333333333,
              "#9c179e"
             ],
             [
              0.4444444444444444,
              "#bd3786"
             ],
             [
              0.5555555555555556,
              "#d8576b"
             ],
             [
              0.6666666666666666,
              "#ed7953"
             ],
             [
              0.7777777777777778,
              "#fb9f3a"
             ],
             [
              0.8888888888888888,
              "#fdca26"
             ],
             [
              1,
              "#f0f921"
             ]
            ],
            "type": "heatmapgl"
           }
          ],
          "histogram": [
           {
            "marker": {
             "pattern": {
              "fillmode": "overlay",
              "size": 10,
              "solidity": 0.2
             }
            },
            "type": "histogram"
           }
          ],
          "histogram2d": [
           {
            "colorbar": {
             "outlinewidth": 0,
             "ticks": ""
            },
            "colorscale": [
             [
              0,
              "#0d0887"
             ],
             [
              0.1111111111111111,
              "#46039f"
             ],
             [
              0.2222222222222222,
              "#7201a8"
             ],
             [
              0.3333333333333333,
              "#9c179e"
             ],
             [
              0.4444444444444444,
              "#bd3786"
             ],
             [
              0.5555555555555556,
              "#d8576b"
             ],
             [
              0.6666666666666666,
              "#ed7953"
             ],
             [
              0.7777777777777778,
              "#fb9f3a"
             ],
             [
              0.8888888888888888,
              "#fdca26"
             ],
             [
              1,
              "#f0f921"
             ]
            ],
            "type": "histogram2d"
           }
          ],
          "histogram2dcontour": [
           {
            "colorbar": {
             "outlinewidth": 0,
             "ticks": ""
            },
            "colorscale": [
             [
              0,
              "#0d0887"
             ],
             [
              0.1111111111111111,
              "#46039f"
             ],
             [
              0.2222222222222222,
              "#7201a8"
             ],
             [
              0.3333333333333333,
              "#9c179e"
             ],
             [
              0.4444444444444444,
              "#bd3786"
             ],
             [
              0.5555555555555556,
              "#d8576b"
             ],
             [
              0.6666666666666666,
              "#ed7953"
             ],
             [
              0.7777777777777778,
              "#fb9f3a"
             ],
             [
              0.8888888888888888,
              "#fdca26"
             ],
             [
              1,
              "#f0f921"
             ]
            ],
            "type": "histogram2dcontour"
           }
          ],
          "mesh3d": [
           {
            "colorbar": {
             "outlinewidth": 0,
             "ticks": ""
            },
            "type": "mesh3d"
           }
          ],
          "parcoords": [
           {
            "line": {
             "colorbar": {
              "outlinewidth": 0,
              "ticks": ""
             }
            },
            "type": "parcoords"
           }
          ],
          "pie": [
           {
            "automargin": true,
            "type": "pie"
           }
          ],
          "scatter": [
           {
            "fillpattern": {
             "fillmode": "overlay",
             "size": 10,
             "solidity": 0.2
            },
            "type": "scatter"
           }
          ],
          "scatter3d": [
           {
            "line": {
             "colorbar": {
              "outlinewidth": 0,
              "ticks": ""
             }
            },
            "marker": {
             "colorbar": {
              "outlinewidth": 0,
              "ticks": ""
             }
            },
            "type": "scatter3d"
           }
          ],
          "scattercarpet": [
           {
            "marker": {
             "colorbar": {
              "outlinewidth": 0,
              "ticks": ""
             }
            },
            "type": "scattercarpet"
           }
          ],
          "scattergeo": [
           {
            "marker": {
             "colorbar": {
              "outlinewidth": 0,
              "ticks": ""
             }
            },
            "type": "scattergeo"
           }
          ],
          "scattergl": [
           {
            "marker": {
             "colorbar": {
              "outlinewidth": 0,
              "ticks": ""
             }
            },
            "type": "scattergl"
           }
          ],
          "scattermapbox": [
           {
            "marker": {
             "colorbar": {
              "outlinewidth": 0,
              "ticks": ""
             }
            },
            "type": "scattermapbox"
           }
          ],
          "scatterpolar": [
           {
            "marker": {
             "colorbar": {
              "outlinewidth": 0,
              "ticks": ""
             }
            },
            "type": "scatterpolar"
           }
          ],
          "scatterpolargl": [
           {
            "marker": {
             "colorbar": {
              "outlinewidth": 0,
              "ticks": ""
             }
            },
            "type": "scatterpolargl"
           }
          ],
          "scatterternary": [
           {
            "marker": {
             "colorbar": {
              "outlinewidth": 0,
              "ticks": ""
             }
            },
            "type": "scatterternary"
           }
          ],
          "surface": [
           {
            "colorbar": {
             "outlinewidth": 0,
             "ticks": ""
            },
            "colorscale": [
             [
              0,
              "#0d0887"
             ],
             [
              0.1111111111111111,
              "#46039f"
             ],
             [
              0.2222222222222222,
              "#7201a8"
             ],
             [
              0.3333333333333333,
              "#9c179e"
             ],
             [
              0.4444444444444444,
              "#bd3786"
             ],
             [
              0.5555555555555556,
              "#d8576b"
             ],
             [
              0.6666666666666666,
              "#ed7953"
             ],
             [
              0.7777777777777778,
              "#fb9f3a"
             ],
             [
              0.8888888888888888,
              "#fdca26"
             ],
             [
              1,
              "#f0f921"
             ]
            ],
            "type": "surface"
           }
          ],
          "table": [
           {
            "cells": {
             "fill": {
              "color": "#EBF0F8"
             },
             "line": {
              "color": "white"
             }
            },
            "header": {
             "fill": {
              "color": "#C8D4E3"
             },
             "line": {
              "color": "white"
             }
            },
            "type": "table"
           }
          ]
         },
         "layout": {
          "annotationdefaults": {
           "arrowcolor": "#2a3f5f",
           "arrowhead": 0,
           "arrowwidth": 1
          },
          "autotypenumbers": "strict",
          "coloraxis": {
           "colorbar": {
            "outlinewidth": 0,
            "ticks": ""
           }
          },
          "colorscale": {
           "diverging": [
            [
             0,
             "#8e0152"
            ],
            [
             0.1,
             "#c51b7d"
            ],
            [
             0.2,
             "#de77ae"
            ],
            [
             0.3,
             "#f1b6da"
            ],
            [
             0.4,
             "#fde0ef"
            ],
            [
             0.5,
             "#f7f7f7"
            ],
            [
             0.6,
             "#e6f5d0"
            ],
            [
             0.7,
             "#b8e186"
            ],
            [
             0.8,
             "#7fbc41"
            ],
            [
             0.9,
             "#4d9221"
            ],
            [
             1,
             "#276419"
            ]
           ],
           "sequential": [
            [
             0,
             "#0d0887"
            ],
            [
             0.1111111111111111,
             "#46039f"
            ],
            [
             0.2222222222222222,
             "#7201a8"
            ],
            [
             0.3333333333333333,
             "#9c179e"
            ],
            [
             0.4444444444444444,
             "#bd3786"
            ],
            [
             0.5555555555555556,
             "#d8576b"
            ],
            [
             0.6666666666666666,
             "#ed7953"
            ],
            [
             0.7777777777777778,
             "#fb9f3a"
            ],
            [
             0.8888888888888888,
             "#fdca26"
            ],
            [
             1,
             "#f0f921"
            ]
           ],
           "sequentialminus": [
            [
             0,
             "#0d0887"
            ],
            [
             0.1111111111111111,
             "#46039f"
            ],
            [
             0.2222222222222222,
             "#7201a8"
            ],
            [
             0.3333333333333333,
             "#9c179e"
            ],
            [
             0.4444444444444444,
             "#bd3786"
            ],
            [
             0.5555555555555556,
             "#d8576b"
            ],
            [
             0.6666666666666666,
             "#ed7953"
            ],
            [
             0.7777777777777778,
             "#fb9f3a"
            ],
            [
             0.8888888888888888,
             "#fdca26"
            ],
            [
             1,
             "#f0f921"
            ]
           ]
          },
          "colorway": [
           "#636efa",
           "#EF553B",
           "#00cc96",
           "#ab63fa",
           "#FFA15A",
           "#19d3f3",
           "#FF6692",
           "#B6E880",
           "#FF97FF",
           "#FECB52"
          ],
          "font": {
           "color": "#2a3f5f"
          },
          "geo": {
           "bgcolor": "white",
           "lakecolor": "white",
           "landcolor": "#E5ECF6",
           "showlakes": true,
           "showland": true,
           "subunitcolor": "white"
          },
          "hoverlabel": {
           "align": "left"
          },
          "hovermode": "closest",
          "mapbox": {
           "style": "light"
          },
          "paper_bgcolor": "white",
          "plot_bgcolor": "#E5ECF6",
          "polar": {
           "angularaxis": {
            "gridcolor": "white",
            "linecolor": "white",
            "ticks": ""
           },
           "bgcolor": "#E5ECF6",
           "radialaxis": {
            "gridcolor": "white",
            "linecolor": "white",
            "ticks": ""
           }
          },
          "scene": {
           "xaxis": {
            "backgroundcolor": "#E5ECF6",
            "gridcolor": "white",
            "gridwidth": 2,
            "linecolor": "white",
            "showbackground": true,
            "ticks": "",
            "zerolinecolor": "white"
           },
           "yaxis": {
            "backgroundcolor": "#E5ECF6",
            "gridcolor": "white",
            "gridwidth": 2,
            "linecolor": "white",
            "showbackground": true,
            "ticks": "",
            "zerolinecolor": "white"
           },
           "zaxis": {
            "backgroundcolor": "#E5ECF6",
            "gridcolor": "white",
            "gridwidth": 2,
            "linecolor": "white",
            "showbackground": true,
            "ticks": "",
            "zerolinecolor": "white"
           }
          },
          "shapedefaults": {
           "line": {
            "color": "#2a3f5f"
           }
          },
          "ternary": {
           "aaxis": {
            "gridcolor": "white",
            "linecolor": "white",
            "ticks": ""
           },
           "baxis": {
            "gridcolor": "white",
            "linecolor": "white",
            "ticks": ""
           },
           "bgcolor": "#E5ECF6",
           "caxis": {
            "gridcolor": "white",
            "linecolor": "white",
            "ticks": ""
           }
          },
          "title": {
           "x": 0.05
          },
          "xaxis": {
           "automargin": true,
           "gridcolor": "white",
           "linecolor": "white",
           "ticks": "",
           "title": {
            "standoff": 15
           },
           "zerolinecolor": "white",
           "zerolinewidth": 2
          },
          "yaxis": {
           "automargin": true,
           "gridcolor": "white",
           "linecolor": "white",
           "ticks": "",
           "title": {
            "standoff": 15
           },
           "zerolinecolor": "white",
           "zerolinewidth": 2
          }
         }
        },
        "xaxis": {
         "anchor": "y",
         "domain": [
          0,
          1
         ],
         "title": {
          "text": "Color"
         }
        },
        "yaxis": {
         "anchor": "x",
         "domain": [
          0,
          1
         ],
         "title": {
          "text": "count"
         }
        }
       }
      }
     },
     "metadata": {},
     "output_type": "display_data"
    }
   ],
   "source": [
    "px.histogram(shop, x='Color')"
   ]
  },
  {
   "cell_type": "code",
   "execution_count": 57,
   "metadata": {},
   "outputs": [
    {
     "data": {
      "text/plain": [
       "Color\n",
       "Olive     177\n",
       "Yellow    174\n",
       "Silver    173\n",
       "Teal      172\n",
       "Green     169\n",
       "Name: count, dtype: int64"
      ]
     },
     "execution_count": 57,
     "metadata": {},
     "output_type": "execute_result"
    }
   ],
   "source": [
    "shop['Color'].value_counts().nlargest(5)"
   ]
  },
  {
   "cell_type": "markdown",
   "metadata": {},
   "source": [
    "Ans : The Olive Color is most popular among customers"
   ]
  },
  {
   "cell_type": "markdown",
   "metadata": {},
   "source": [
    "## 15.\tWhat is the average number of previous purchases made by customers?"
   ]
  },
  {
   "cell_type": "code",
   "execution_count": 58,
   "metadata": {},
   "outputs": [
    {
     "data": {
      "text/plain": [
       "Index(['Customer ID', 'Age', 'Gender', 'Item Purchased', 'Category',\n",
       "       'Purchase Amount (USD)', 'Location', 'Size', 'Color', 'Season',\n",
       "       'Review Rating', 'Subscription Status', 'Shipping Type',\n",
       "       'Discount Applied', 'Promo Code Used', 'Previous Purchases',\n",
       "       'Payment Method', 'Frequency of Purchases', 'Age_category',\n",
       "       'Size (Numeric)'],\n",
       "      dtype='object')"
      ]
     },
     "execution_count": 58,
     "metadata": {},
     "output_type": "execute_result"
    }
   ],
   "source": [
    "shop.columns"
   ]
  },
  {
   "cell_type": "code",
   "execution_count": 59,
   "metadata": {},
   "outputs": [
    {
     "data": {
      "text/plain": [
       "0       14\n",
       "1        2\n",
       "2       23\n",
       "3       49\n",
       "4       31\n",
       "        ..\n",
       "3895    32\n",
       "3896    41\n",
       "3897    24\n",
       "3898    24\n",
       "3899    33\n",
       "Name: Previous Purchases, Length: 3900, dtype: int64"
      ]
     },
     "execution_count": 59,
     "metadata": {},
     "output_type": "execute_result"
    }
   ],
   "source": [
    "shop['Previous Purchases']"
   ]
  },
  {
   "cell_type": "code",
   "execution_count": 60,
   "metadata": {},
   "outputs": [
    {
     "data": {
      "text/plain": [
       "25.35153846153846"
      ]
     },
     "execution_count": 60,
     "metadata": {},
     "output_type": "execute_result"
    }
   ],
   "source": [
    "shop['Previous Purchases'].mean()"
   ]
  },
  {
   "cell_type": "markdown",
   "metadata": {},
   "source": [
    "## 17.\tAre there any noticeable differences in purchase behavior between different locations?"
   ]
  },
  {
   "cell_type": "code",
   "execution_count": 63,
   "metadata": {},
   "outputs": [
    {
     "data": {
      "text/plain": [
       "array(['Kentucky', 'Maine', 'Massachusetts', 'Rhode Island', 'Oregon',\n",
       "       'Wyoming', 'Montana', 'Louisiana', 'West Virginia', 'Missouri',\n",
       "       'Arkansas', 'Hawaii', 'Delaware', 'New Hampshire', 'New York',\n",
       "       'Alabama', 'Mississippi', 'North Carolina', 'California',\n",
       "       'Oklahoma', 'Florida', 'Texas', 'Nevada', 'Kansas', 'Colorado',\n",
       "       'North Dakota', 'Illinois', 'Indiana', 'Arizona', 'Alaska',\n",
       "       'Tennessee', 'Ohio', 'New Jersey', 'Maryland', 'Vermont',\n",
       "       'New Mexico', 'South Carolina', 'Idaho', 'Pennsylvania',\n",
       "       'Connecticut', 'Utah', 'Virginia', 'Georgia', 'Nebraska', 'Iowa',\n",
       "       'South Dakota', 'Minnesota', 'Washington', 'Wisconsin', 'Michigan'],\n",
       "      dtype=object)"
      ]
     },
     "execution_count": 63,
     "metadata": {},
     "output_type": "execute_result"
    }
   ],
   "source": [
    "shop['Location'].unique()"
   ]
  },
  {
   "cell_type": "code",
   "execution_count": 64,
   "metadata": {},
   "outputs": [
    {
     "data": {
      "text/plain": [
       "Location\n",
       "Alaska            67.597222\n",
       "Pennsylvania      66.567568\n",
       "Arizona           66.553846\n",
       "West Virginia     63.876543\n",
       "Nevada            63.379310\n",
       "Washington        63.328767\n",
       "North Dakota      62.891566\n",
       "Virginia          62.883117\n",
       "Utah              62.577465\n",
       "Michigan          62.095890\n",
       "Tennessee         61.974026\n",
       "New Mexico        61.901235\n",
       "Rhode Island      61.444444\n",
       "Texas             61.194805\n",
       "Arkansas          61.113924\n",
       "Illinois          61.054348\n",
       "Mississippi       61.037500\n",
       "Massachusetts     60.888889\n",
       "Iowa              60.884058\n",
       "North Carolina    60.794872\n",
       "Wyoming           60.690141\n",
       "South Dakota      60.514286\n",
       "New York          60.425287\n",
       "Ohio              60.376623\n",
       "Montana           60.250000\n",
       "Idaho             60.075269\n",
       "Nebraska          59.448276\n",
       "New Hampshire     59.422535\n",
       "Alabama           59.112360\n",
       "California        59.000000\n",
       "Indiana           58.924051\n",
       "Georgia           58.797468\n",
       "South Carolina    58.407895\n",
       "Oklahoma          58.346667\n",
       "Missouri          57.913580\n",
       "Hawaii            57.723077\n",
       "Louisiana         57.714286\n",
       "Oregon            57.337838\n",
       "Vermont           57.176471\n",
       "Maine             56.987013\n",
       "New Jersey        56.746269\n",
       "Minnesota         56.556818\n",
       "Colorado          56.293333\n",
       "Wisconsin         55.946667\n",
       "Florida           55.852941\n",
       "Maryland          55.755814\n",
       "Kentucky          55.721519\n",
       "Delaware          55.325581\n",
       "Kansas            54.555556\n",
       "Connecticut       54.179487\n",
       "Name: Purchase Amount (USD), dtype: float64"
      ]
     },
     "execution_count": 64,
     "metadata": {},
     "output_type": "execute_result"
    }
   ],
   "source": [
    "shop.groupby('Location')['Purchase Amount (USD)'].mean().sort_values(ascending=False)"
   ]
  },
  {
   "cell_type": "code",
   "execution_count": 65,
   "metadata": {},
   "outputs": [],
   "source": [
    "shopgroupbylocation = shop.groupby('Location')['Purchase Amount (USD)'].mean().reset_index()"
   ]
  },
  {
   "cell_type": "code",
   "execution_count": 66,
   "metadata": {},
   "outputs": [
    {
     "data": {
      "application/vnd.plotly.v1+json": {
       "config": {
        "plotlyServerURL": "https://plot.ly"
       },
       "data": [
        {
         "alignmentgroup": "True",
         "hovertemplate": "Location=%{x}<br>Purchase Amount (USD)=%{y}<extra></extra>",
         "legendgroup": "",
         "marker": {
          "color": "#636efa",
          "pattern": {
           "shape": ""
          }
         },
         "name": "",
         "offsetgroup": "",
         "orientation": "v",
         "showlegend": false,
         "textposition": "auto",
         "type": "bar",
         "x": [
          "Alabama",
          "Alaska",
          "Arizona",
          "Arkansas",
          "California",
          "Colorado",
          "Connecticut",
          "Delaware",
          "Florida",
          "Georgia",
          "Hawaii",
          "Idaho",
          "Illinois",
          "Indiana",
          "Iowa",
          "Kansas",
          "Kentucky",
          "Louisiana",
          "Maine",
          "Maryland",
          "Massachusetts",
          "Michigan",
          "Minnesota",
          "Mississippi",
          "Missouri",
          "Montana",
          "Nebraska",
          "Nevada",
          "New Hampshire",
          "New Jersey",
          "New Mexico",
          "New York",
          "North Carolina",
          "North Dakota",
          "Ohio",
          "Oklahoma",
          "Oregon",
          "Pennsylvania",
          "Rhode Island",
          "South Carolina",
          "South Dakota",
          "Tennessee",
          "Texas",
          "Utah",
          "Vermont",
          "Virginia",
          "Washington",
          "West Virginia",
          "Wisconsin",
          "Wyoming"
         ],
         "xaxis": "x",
         "y": [
          59.1123595505618,
          67.59722222222223,
          66.55384615384615,
          61.11392405063291,
          59,
          56.29333333333334,
          54.17948717948718,
          55.325581395348834,
          55.85294117647059,
          58.79746835443038,
          57.723076923076924,
          60.075268817204304,
          61.05434782608695,
          58.924050632911396,
          60.88405797101449,
          54.55555555555556,
          55.721518987341774,
          57.714285714285715,
          56.98701298701299,
          55.75581395348837,
          60.888888888888886,
          62.0958904109589,
          56.55681818181818,
          61.0375,
          57.91358024691358,
          60.25,
          59.44827586206897,
          63.37931034482759,
          59.42253521126761,
          56.74626865671642,
          61.901234567901234,
          60.42528735632184,
          60.794871794871796,
          62.89156626506024,
          60.37662337662338,
          58.346666666666664,
          57.33783783783784,
          66.56756756756756,
          61.44444444444444,
          58.4078947368421,
          60.51428571428571,
          61.97402597402598,
          61.1948051948052,
          62.57746478873239,
          57.1764705882353,
          62.883116883116884,
          63.32876712328767,
          63.876543209876544,
          55.946666666666665,
          60.690140845070424
         ],
         "yaxis": "y"
        }
       ],
       "layout": {
        "barmode": "relative",
        "legend": {
         "tracegroupgap": 0
        },
        "margin": {
         "t": 60
        },
        "template": {
         "data": {
          "bar": [
           {
            "error_x": {
             "color": "#2a3f5f"
            },
            "error_y": {
             "color": "#2a3f5f"
            },
            "marker": {
             "line": {
              "color": "#E5ECF6",
              "width": 0.5
             },
             "pattern": {
              "fillmode": "overlay",
              "size": 10,
              "solidity": 0.2
             }
            },
            "type": "bar"
           }
          ],
          "barpolar": [
           {
            "marker": {
             "line": {
              "color": "#E5ECF6",
              "width": 0.5
             },
             "pattern": {
              "fillmode": "overlay",
              "size": 10,
              "solidity": 0.2
             }
            },
            "type": "barpolar"
           }
          ],
          "carpet": [
           {
            "aaxis": {
             "endlinecolor": "#2a3f5f",
             "gridcolor": "white",
             "linecolor": "white",
             "minorgridcolor": "white",
             "startlinecolor": "#2a3f5f"
            },
            "baxis": {
             "endlinecolor": "#2a3f5f",
             "gridcolor": "white",
             "linecolor": "white",
             "minorgridcolor": "white",
             "startlinecolor": "#2a3f5f"
            },
            "type": "carpet"
           }
          ],
          "choropleth": [
           {
            "colorbar": {
             "outlinewidth": 0,
             "ticks": ""
            },
            "type": "choropleth"
           }
          ],
          "contour": [
           {
            "colorbar": {
             "outlinewidth": 0,
             "ticks": ""
            },
            "colorscale": [
             [
              0,
              "#0d0887"
             ],
             [
              0.1111111111111111,
              "#46039f"
             ],
             [
              0.2222222222222222,
              "#7201a8"
             ],
             [
              0.3333333333333333,
              "#9c179e"
             ],
             [
              0.4444444444444444,
              "#bd3786"
             ],
             [
              0.5555555555555556,
              "#d8576b"
             ],
             [
              0.6666666666666666,
              "#ed7953"
             ],
             [
              0.7777777777777778,
              "#fb9f3a"
             ],
             [
              0.8888888888888888,
              "#fdca26"
             ],
             [
              1,
              "#f0f921"
             ]
            ],
            "type": "contour"
           }
          ],
          "contourcarpet": [
           {
            "colorbar": {
             "outlinewidth": 0,
             "ticks": ""
            },
            "type": "contourcarpet"
           }
          ],
          "heatmap": [
           {
            "colorbar": {
             "outlinewidth": 0,
             "ticks": ""
            },
            "colorscale": [
             [
              0,
              "#0d0887"
             ],
             [
              0.1111111111111111,
              "#46039f"
             ],
             [
              0.2222222222222222,
              "#7201a8"
             ],
             [
              0.3333333333333333,
              "#9c179e"
             ],
             [
              0.4444444444444444,
              "#bd3786"
             ],
             [
              0.5555555555555556,
              "#d8576b"
             ],
             [
              0.6666666666666666,
              "#ed7953"
             ],
             [
              0.7777777777777778,
              "#fb9f3a"
             ],
             [
              0.8888888888888888,
              "#fdca26"
             ],
             [
              1,
              "#f0f921"
             ]
            ],
            "type": "heatmap"
           }
          ],
          "heatmapgl": [
           {
            "colorbar": {
             "outlinewidth": 0,
             "ticks": ""
            },
            "colorscale": [
             [
              0,
              "#0d0887"
             ],
             [
              0.1111111111111111,
              "#46039f"
             ],
             [
              0.2222222222222222,
              "#7201a8"
             ],
             [
              0.3333333333333333,
              "#9c179e"
             ],
             [
              0.4444444444444444,
              "#bd3786"
             ],
             [
              0.5555555555555556,
              "#d8576b"
             ],
             [
              0.6666666666666666,
              "#ed7953"
             ],
             [
              0.7777777777777778,
              "#fb9f3a"
             ],
             [
              0.8888888888888888,
              "#fdca26"
             ],
             [
              1,
              "#f0f921"
             ]
            ],
            "type": "heatmapgl"
           }
          ],
          "histogram": [
           {
            "marker": {
             "pattern": {
              "fillmode": "overlay",
              "size": 10,
              "solidity": 0.2
             }
            },
            "type": "histogram"
           }
          ],
          "histogram2d": [
           {
            "colorbar": {
             "outlinewidth": 0,
             "ticks": ""
            },
            "colorscale": [
             [
              0,
              "#0d0887"
             ],
             [
              0.1111111111111111,
              "#46039f"
             ],
             [
              0.2222222222222222,
              "#7201a8"
             ],
             [
              0.3333333333333333,
              "#9c179e"
             ],
             [
              0.4444444444444444,
              "#bd3786"
             ],
             [
              0.5555555555555556,
              "#d8576b"
             ],
             [
              0.6666666666666666,
              "#ed7953"
             ],
             [
              0.7777777777777778,
              "#fb9f3a"
             ],
             [
              0.8888888888888888,
              "#fdca26"
             ],
             [
              1,
              "#f0f921"
             ]
            ],
            "type": "histogram2d"
           }
          ],
          "histogram2dcontour": [
           {
            "colorbar": {
             "outlinewidth": 0,
             "ticks": ""
            },
            "colorscale": [
             [
              0,
              "#0d0887"
             ],
             [
              0.1111111111111111,
              "#46039f"
             ],
             [
              0.2222222222222222,
              "#7201a8"
             ],
             [
              0.3333333333333333,
              "#9c179e"
             ],
             [
              0.4444444444444444,
              "#bd3786"
             ],
             [
              0.5555555555555556,
              "#d8576b"
             ],
             [
              0.6666666666666666,
              "#ed7953"
             ],
             [
              0.7777777777777778,
              "#fb9f3a"
             ],
             [
              0.8888888888888888,
              "#fdca26"
             ],
             [
              1,
              "#f0f921"
             ]
            ],
            "type": "histogram2dcontour"
           }
          ],
          "mesh3d": [
           {
            "colorbar": {
             "outlinewidth": 0,
             "ticks": ""
            },
            "type": "mesh3d"
           }
          ],
          "parcoords": [
           {
            "line": {
             "colorbar": {
              "outlinewidth": 0,
              "ticks": ""
             }
            },
            "type": "parcoords"
           }
          ],
          "pie": [
           {
            "automargin": true,
            "type": "pie"
           }
          ],
          "scatter": [
           {
            "fillpattern": {
             "fillmode": "overlay",
             "size": 10,
             "solidity": 0.2
            },
            "type": "scatter"
           }
          ],
          "scatter3d": [
           {
            "line": {
             "colorbar": {
              "outlinewidth": 0,
              "ticks": ""
             }
            },
            "marker": {
             "colorbar": {
              "outlinewidth": 0,
              "ticks": ""
             }
            },
            "type": "scatter3d"
           }
          ],
          "scattercarpet": [
           {
            "marker": {
             "colorbar": {
              "outlinewidth": 0,
              "ticks": ""
             }
            },
            "type": "scattercarpet"
           }
          ],
          "scattergeo": [
           {
            "marker": {
             "colorbar": {
              "outlinewidth": 0,
              "ticks": ""
             }
            },
            "type": "scattergeo"
           }
          ],
          "scattergl": [
           {
            "marker": {
             "colorbar": {
              "outlinewidth": 0,
              "ticks": ""
             }
            },
            "type": "scattergl"
           }
          ],
          "scattermapbox": [
           {
            "marker": {
             "colorbar": {
              "outlinewidth": 0,
              "ticks": ""
             }
            },
            "type": "scattermapbox"
           }
          ],
          "scatterpolar": [
           {
            "marker": {
             "colorbar": {
              "outlinewidth": 0,
              "ticks": ""
             }
            },
            "type": "scatterpolar"
           }
          ],
          "scatterpolargl": [
           {
            "marker": {
             "colorbar": {
              "outlinewidth": 0,
              "ticks": ""
             }
            },
            "type": "scatterpolargl"
           }
          ],
          "scatterternary": [
           {
            "marker": {
             "colorbar": {
              "outlinewidth": 0,
              "ticks": ""
             }
            },
            "type": "scatterternary"
           }
          ],
          "surface": [
           {
            "colorbar": {
             "outlinewidth": 0,
             "ticks": ""
            },
            "colorscale": [
             [
              0,
              "#0d0887"
             ],
             [
              0.1111111111111111,
              "#46039f"
             ],
             [
              0.2222222222222222,
              "#7201a8"
             ],
             [
              0.3333333333333333,
              "#9c179e"
             ],
             [
              0.4444444444444444,
              "#bd3786"
             ],
             [
              0.5555555555555556,
              "#d8576b"
             ],
             [
              0.6666666666666666,
              "#ed7953"
             ],
             [
              0.7777777777777778,
              "#fb9f3a"
             ],
             [
              0.8888888888888888,
              "#fdca26"
             ],
             [
              1,
              "#f0f921"
             ]
            ],
            "type": "surface"
           }
          ],
          "table": [
           {
            "cells": {
             "fill": {
              "color": "#EBF0F8"
             },
             "line": {
              "color": "white"
             }
            },
            "header": {
             "fill": {
              "color": "#C8D4E3"
             },
             "line": {
              "color": "white"
             }
            },
            "type": "table"
           }
          ]
         },
         "layout": {
          "annotationdefaults": {
           "arrowcolor": "#2a3f5f",
           "arrowhead": 0,
           "arrowwidth": 1
          },
          "autotypenumbers": "strict",
          "coloraxis": {
           "colorbar": {
            "outlinewidth": 0,
            "ticks": ""
           }
          },
          "colorscale": {
           "diverging": [
            [
             0,
             "#8e0152"
            ],
            [
             0.1,
             "#c51b7d"
            ],
            [
             0.2,
             "#de77ae"
            ],
            [
             0.3,
             "#f1b6da"
            ],
            [
             0.4,
             "#fde0ef"
            ],
            [
             0.5,
             "#f7f7f7"
            ],
            [
             0.6,
             "#e6f5d0"
            ],
            [
             0.7,
             "#b8e186"
            ],
            [
             0.8,
             "#7fbc41"
            ],
            [
             0.9,
             "#4d9221"
            ],
            [
             1,
             "#276419"
            ]
           ],
           "sequential": [
            [
             0,
             "#0d0887"
            ],
            [
             0.1111111111111111,
             "#46039f"
            ],
            [
             0.2222222222222222,
             "#7201a8"
            ],
            [
             0.3333333333333333,
             "#9c179e"
            ],
            [
             0.4444444444444444,
             "#bd3786"
            ],
            [
             0.5555555555555556,
             "#d8576b"
            ],
            [
             0.6666666666666666,
             "#ed7953"
            ],
            [
             0.7777777777777778,
             "#fb9f3a"
            ],
            [
             0.8888888888888888,
             "#fdca26"
            ],
            [
             1,
             "#f0f921"
            ]
           ],
           "sequentialminus": [
            [
             0,
             "#0d0887"
            ],
            [
             0.1111111111111111,
             "#46039f"
            ],
            [
             0.2222222222222222,
             "#7201a8"
            ],
            [
             0.3333333333333333,
             "#9c179e"
            ],
            [
             0.4444444444444444,
             "#bd3786"
            ],
            [
             0.5555555555555556,
             "#d8576b"
            ],
            [
             0.6666666666666666,
             "#ed7953"
            ],
            [
             0.7777777777777778,
             "#fb9f3a"
            ],
            [
             0.8888888888888888,
             "#fdca26"
            ],
            [
             1,
             "#f0f921"
            ]
           ]
          },
          "colorway": [
           "#636efa",
           "#EF553B",
           "#00cc96",
           "#ab63fa",
           "#FFA15A",
           "#19d3f3",
           "#FF6692",
           "#B6E880",
           "#FF97FF",
           "#FECB52"
          ],
          "font": {
           "color": "#2a3f5f"
          },
          "geo": {
           "bgcolor": "white",
           "lakecolor": "white",
           "landcolor": "#E5ECF6",
           "showlakes": true,
           "showland": true,
           "subunitcolor": "white"
          },
          "hoverlabel": {
           "align": "left"
          },
          "hovermode": "closest",
          "mapbox": {
           "style": "light"
          },
          "paper_bgcolor": "white",
          "plot_bgcolor": "#E5ECF6",
          "polar": {
           "angularaxis": {
            "gridcolor": "white",
            "linecolor": "white",
            "ticks": ""
           },
           "bgcolor": "#E5ECF6",
           "radialaxis": {
            "gridcolor": "white",
            "linecolor": "white",
            "ticks": ""
           }
          },
          "scene": {
           "xaxis": {
            "backgroundcolor": "#E5ECF6",
            "gridcolor": "white",
            "gridwidth": 2,
            "linecolor": "white",
            "showbackground": true,
            "ticks": "",
            "zerolinecolor": "white"
           },
           "yaxis": {
            "backgroundcolor": "#E5ECF6",
            "gridcolor": "white",
            "gridwidth": 2,
            "linecolor": "white",
            "showbackground": true,
            "ticks": "",
            "zerolinecolor": "white"
           },
           "zaxis": {
            "backgroundcolor": "#E5ECF6",
            "gridcolor": "white",
            "gridwidth": 2,
            "linecolor": "white",
            "showbackground": true,
            "ticks": "",
            "zerolinecolor": "white"
           }
          },
          "shapedefaults": {
           "line": {
            "color": "#2a3f5f"
           }
          },
          "ternary": {
           "aaxis": {
            "gridcolor": "white",
            "linecolor": "white",
            "ticks": ""
           },
           "baxis": {
            "gridcolor": "white",
            "linecolor": "white",
            "ticks": ""
           },
           "bgcolor": "#E5ECF6",
           "caxis": {
            "gridcolor": "white",
            "linecolor": "white",
            "ticks": ""
           }
          },
          "title": {
           "x": 0.05
          },
          "xaxis": {
           "automargin": true,
           "gridcolor": "white",
           "linecolor": "white",
           "ticks": "",
           "title": {
            "standoff": 15
           },
           "zerolinecolor": "white",
           "zerolinewidth": 2
          },
          "yaxis": {
           "automargin": true,
           "gridcolor": "white",
           "linecolor": "white",
           "ticks": "",
           "title": {
            "standoff": 15
           },
           "zerolinecolor": "white",
           "zerolinewidth": 2
          }
         }
        },
        "xaxis": {
         "anchor": "y",
         "domain": [
          0,
          1
         ],
         "title": {
          "text": "Location"
         }
        },
        "yaxis": {
         "anchor": "x",
         "domain": [
          0,
          1
         ],
         "title": {
          "text": "Purchase Amount (USD)"
         }
        }
       }
      }
     },
     "metadata": {},
     "output_type": "display_data"
    }
   ],
   "source": [
    "px.bar(shopgroupbylocation, x='Location', y='Purchase Amount (USD)')"
   ]
  },
  {
   "cell_type": "markdown",
   "metadata": {},
   "source": [
    "## 18.\tIs there a relationship between customer age and the category of products they purchase?"
   ]
  },
  {
   "cell_type": "code",
   "execution_count": 76,
   "metadata": {},
   "outputs": [
    {
     "data": {
      "text/plain": [
       "Category\n",
       "Accessories    44.224194\n",
       "Clothing       43.782959\n",
       "Footwear       44.442404\n",
       "Outerwear      44.311728\n",
       "Name: Age, dtype: float64"
      ]
     },
     "execution_count": 76,
     "metadata": {},
     "output_type": "execute_result"
    }
   ],
   "source": [
    "shop.groupby('Category')['Age'].mean()"
   ]
  },
  {
   "cell_type": "code",
   "execution_count": 67,
   "metadata": {},
   "outputs": [],
   "source": [
    "shop_group = shop.groupby('Category')['Age'].mean().reset_index()"
   ]
  },
  {
   "cell_type": "code",
   "execution_count": 68,
   "metadata": {},
   "outputs": [
    {
     "data": {
      "application/vnd.plotly.v1+json": {
       "config": {
        "plotlyServerURL": "https://plot.ly"
       },
       "data": [
        {
         "alignmentgroup": "True",
         "hovertemplate": "Category=%{x}<br>Age=%{y}<extra></extra>",
         "legendgroup": "",
         "marker": {
          "color": "#636efa",
          "pattern": {
           "shape": ""
          }
         },
         "name": "",
         "offsetgroup": "",
         "orientation": "v",
         "showlegend": false,
         "textposition": "auto",
         "type": "bar",
         "x": [
          "Accessories",
          "Clothing",
          "Footwear",
          "Outerwear"
         ],
         "xaxis": "x",
         "y": [
          44.2241935483871,
          43.782959124928034,
          44.4424040066778,
          44.31172839506173
         ],
         "yaxis": "y"
        }
       ],
       "layout": {
        "barmode": "relative",
        "legend": {
         "tracegroupgap": 0
        },
        "margin": {
         "t": 60
        },
        "template": {
         "data": {
          "bar": [
           {
            "error_x": {
             "color": "#2a3f5f"
            },
            "error_y": {
             "color": "#2a3f5f"
            },
            "marker": {
             "line": {
              "color": "#E5ECF6",
              "width": 0.5
             },
             "pattern": {
              "fillmode": "overlay",
              "size": 10,
              "solidity": 0.2
             }
            },
            "type": "bar"
           }
          ],
          "barpolar": [
           {
            "marker": {
             "line": {
              "color": "#E5ECF6",
              "width": 0.5
             },
             "pattern": {
              "fillmode": "overlay",
              "size": 10,
              "solidity": 0.2
             }
            },
            "type": "barpolar"
           }
          ],
          "carpet": [
           {
            "aaxis": {
             "endlinecolor": "#2a3f5f",
             "gridcolor": "white",
             "linecolor": "white",
             "minorgridcolor": "white",
             "startlinecolor": "#2a3f5f"
            },
            "baxis": {
             "endlinecolor": "#2a3f5f",
             "gridcolor": "white",
             "linecolor": "white",
             "minorgridcolor": "white",
             "startlinecolor": "#2a3f5f"
            },
            "type": "carpet"
           }
          ],
          "choropleth": [
           {
            "colorbar": {
             "outlinewidth": 0,
             "ticks": ""
            },
            "type": "choropleth"
           }
          ],
          "contour": [
           {
            "colorbar": {
             "outlinewidth": 0,
             "ticks": ""
            },
            "colorscale": [
             [
              0,
              "#0d0887"
             ],
             [
              0.1111111111111111,
              "#46039f"
             ],
             [
              0.2222222222222222,
              "#7201a8"
             ],
             [
              0.3333333333333333,
              "#9c179e"
             ],
             [
              0.4444444444444444,
              "#bd3786"
             ],
             [
              0.5555555555555556,
              "#d8576b"
             ],
             [
              0.6666666666666666,
              "#ed7953"
             ],
             [
              0.7777777777777778,
              "#fb9f3a"
             ],
             [
              0.8888888888888888,
              "#fdca26"
             ],
             [
              1,
              "#f0f921"
             ]
            ],
            "type": "contour"
           }
          ],
          "contourcarpet": [
           {
            "colorbar": {
             "outlinewidth": 0,
             "ticks": ""
            },
            "type": "contourcarpet"
           }
          ],
          "heatmap": [
           {
            "colorbar": {
             "outlinewidth": 0,
             "ticks": ""
            },
            "colorscale": [
             [
              0,
              "#0d0887"
             ],
             [
              0.1111111111111111,
              "#46039f"
             ],
             [
              0.2222222222222222,
              "#7201a8"
             ],
             [
              0.3333333333333333,
              "#9c179e"
             ],
             [
              0.4444444444444444,
              "#bd3786"
             ],
             [
              0.5555555555555556,
              "#d8576b"
             ],
             [
              0.6666666666666666,
              "#ed7953"
             ],
             [
              0.7777777777777778,
              "#fb9f3a"
             ],
             [
              0.8888888888888888,
              "#fdca26"
             ],
             [
              1,
              "#f0f921"
             ]
            ],
            "type": "heatmap"
           }
          ],
          "heatmapgl": [
           {
            "colorbar": {
             "outlinewidth": 0,
             "ticks": ""
            },
            "colorscale": [
             [
              0,
              "#0d0887"
             ],
             [
              0.1111111111111111,
              "#46039f"
             ],
             [
              0.2222222222222222,
              "#7201a8"
             ],
             [
              0.3333333333333333,
              "#9c179e"
             ],
             [
              0.4444444444444444,
              "#bd3786"
             ],
             [
              0.5555555555555556,
              "#d8576b"
             ],
             [
              0.6666666666666666,
              "#ed7953"
             ],
             [
              0.7777777777777778,
              "#fb9f3a"
             ],
             [
              0.8888888888888888,
              "#fdca26"
             ],
             [
              1,
              "#f0f921"
             ]
            ],
            "type": "heatmapgl"
           }
          ],
          "histogram": [
           {
            "marker": {
             "pattern": {
              "fillmode": "overlay",
              "size": 10,
              "solidity": 0.2
             }
            },
            "type": "histogram"
           }
          ],
          "histogram2d": [
           {
            "colorbar": {
             "outlinewidth": 0,
             "ticks": ""
            },
            "colorscale": [
             [
              0,
              "#0d0887"
             ],
             [
              0.1111111111111111,
              "#46039f"
             ],
             [
              0.2222222222222222,
              "#7201a8"
             ],
             [
              0.3333333333333333,
              "#9c179e"
             ],
             [
              0.4444444444444444,
              "#bd3786"
             ],
             [
              0.5555555555555556,
              "#d8576b"
             ],
             [
              0.6666666666666666,
              "#ed7953"
             ],
             [
              0.7777777777777778,
              "#fb9f3a"
             ],
             [
              0.8888888888888888,
              "#fdca26"
             ],
             [
              1,
              "#f0f921"
             ]
            ],
            "type": "histogram2d"
           }
          ],
          "histogram2dcontour": [
           {
            "colorbar": {
             "outlinewidth": 0,
             "ticks": ""
            },
            "colorscale": [
             [
              0,
              "#0d0887"
             ],
             [
              0.1111111111111111,
              "#46039f"
             ],
             [
              0.2222222222222222,
              "#7201a8"
             ],
             [
              0.3333333333333333,
              "#9c179e"
             ],
             [
              0.4444444444444444,
              "#bd3786"
             ],
             [
              0.5555555555555556,
              "#d8576b"
             ],
             [
              0.6666666666666666,
              "#ed7953"
             ],
             [
              0.7777777777777778,
              "#fb9f3a"
             ],
             [
              0.8888888888888888,
              "#fdca26"
             ],
             [
              1,
              "#f0f921"
             ]
            ],
            "type": "histogram2dcontour"
           }
          ],
          "mesh3d": [
           {
            "colorbar": {
             "outlinewidth": 0,
             "ticks": ""
            },
            "type": "mesh3d"
           }
          ],
          "parcoords": [
           {
            "line": {
             "colorbar": {
              "outlinewidth": 0,
              "ticks": ""
             }
            },
            "type": "parcoords"
           }
          ],
          "pie": [
           {
            "automargin": true,
            "type": "pie"
           }
          ],
          "scatter": [
           {
            "fillpattern": {
             "fillmode": "overlay",
             "size": 10,
             "solidity": 0.2
            },
            "type": "scatter"
           }
          ],
          "scatter3d": [
           {
            "line": {
             "colorbar": {
              "outlinewidth": 0,
              "ticks": ""
             }
            },
            "marker": {
             "colorbar": {
              "outlinewidth": 0,
              "ticks": ""
             }
            },
            "type": "scatter3d"
           }
          ],
          "scattercarpet": [
           {
            "marker": {
             "colorbar": {
              "outlinewidth": 0,
              "ticks": ""
             }
            },
            "type": "scattercarpet"
           }
          ],
          "scattergeo": [
           {
            "marker": {
             "colorbar": {
              "outlinewidth": 0,
              "ticks": ""
             }
            },
            "type": "scattergeo"
           }
          ],
          "scattergl": [
           {
            "marker": {
             "colorbar": {
              "outlinewidth": 0,
              "ticks": ""
             }
            },
            "type": "scattergl"
           }
          ],
          "scattermapbox": [
           {
            "marker": {
             "colorbar": {
              "outlinewidth": 0,
              "ticks": ""
             }
            },
            "type": "scattermapbox"
           }
          ],
          "scatterpolar": [
           {
            "marker": {
             "colorbar": {
              "outlinewidth": 0,
              "ticks": ""
             }
            },
            "type": "scatterpolar"
           }
          ],
          "scatterpolargl": [
           {
            "marker": {
             "colorbar": {
              "outlinewidth": 0,
              "ticks": ""
             }
            },
            "type": "scatterpolargl"
           }
          ],
          "scatterternary": [
           {
            "marker": {
             "colorbar": {
              "outlinewidth": 0,
              "ticks": ""
             }
            },
            "type": "scatterternary"
           }
          ],
          "surface": [
           {
            "colorbar": {
             "outlinewidth": 0,
             "ticks": ""
            },
            "colorscale": [
             [
              0,
              "#0d0887"
             ],
             [
              0.1111111111111111,
              "#46039f"
             ],
             [
              0.2222222222222222,
              "#7201a8"
             ],
             [
              0.3333333333333333,
              "#9c179e"
             ],
             [
              0.4444444444444444,
              "#bd3786"
             ],
             [
              0.5555555555555556,
              "#d8576b"
             ],
             [
              0.6666666666666666,
              "#ed7953"
             ],
             [
              0.7777777777777778,
              "#fb9f3a"
             ],
             [
              0.8888888888888888,
              "#fdca26"
             ],
             [
              1,
              "#f0f921"
             ]
            ],
            "type": "surface"
           }
          ],
          "table": [
           {
            "cells": {
             "fill": {
              "color": "#EBF0F8"
             },
             "line": {
              "color": "white"
             }
            },
            "header": {
             "fill": {
              "color": "#C8D4E3"
             },
             "line": {
              "color": "white"
             }
            },
            "type": "table"
           }
          ]
         },
         "layout": {
          "annotationdefaults": {
           "arrowcolor": "#2a3f5f",
           "arrowhead": 0,
           "arrowwidth": 1
          },
          "autotypenumbers": "strict",
          "coloraxis": {
           "colorbar": {
            "outlinewidth": 0,
            "ticks": ""
           }
          },
          "colorscale": {
           "diverging": [
            [
             0,
             "#8e0152"
            ],
            [
             0.1,
             "#c51b7d"
            ],
            [
             0.2,
             "#de77ae"
            ],
            [
             0.3,
             "#f1b6da"
            ],
            [
             0.4,
             "#fde0ef"
            ],
            [
             0.5,
             "#f7f7f7"
            ],
            [
             0.6,
             "#e6f5d0"
            ],
            [
             0.7,
             "#b8e186"
            ],
            [
             0.8,
             "#7fbc41"
            ],
            [
             0.9,
             "#4d9221"
            ],
            [
             1,
             "#276419"
            ]
           ],
           "sequential": [
            [
             0,
             "#0d0887"
            ],
            [
             0.1111111111111111,
             "#46039f"
            ],
            [
             0.2222222222222222,
             "#7201a8"
            ],
            [
             0.3333333333333333,
             "#9c179e"
            ],
            [
             0.4444444444444444,
             "#bd3786"
            ],
            [
             0.5555555555555556,
             "#d8576b"
            ],
            [
             0.6666666666666666,
             "#ed7953"
            ],
            [
             0.7777777777777778,
             "#fb9f3a"
            ],
            [
             0.8888888888888888,
             "#fdca26"
            ],
            [
             1,
             "#f0f921"
            ]
           ],
           "sequentialminus": [
            [
             0,
             "#0d0887"
            ],
            [
             0.1111111111111111,
             "#46039f"
            ],
            [
             0.2222222222222222,
             "#7201a8"
            ],
            [
             0.3333333333333333,
             "#9c179e"
            ],
            [
             0.4444444444444444,
             "#bd3786"
            ],
            [
             0.5555555555555556,
             "#d8576b"
            ],
            [
             0.6666666666666666,
             "#ed7953"
            ],
            [
             0.7777777777777778,
             "#fb9f3a"
            ],
            [
             0.8888888888888888,
             "#fdca26"
            ],
            [
             1,
             "#f0f921"
            ]
           ]
          },
          "colorway": [
           "#636efa",
           "#EF553B",
           "#00cc96",
           "#ab63fa",
           "#FFA15A",
           "#19d3f3",
           "#FF6692",
           "#B6E880",
           "#FF97FF",
           "#FECB52"
          ],
          "font": {
           "color": "#2a3f5f"
          },
          "geo": {
           "bgcolor": "white",
           "lakecolor": "white",
           "landcolor": "#E5ECF6",
           "showlakes": true,
           "showland": true,
           "subunitcolor": "white"
          },
          "hoverlabel": {
           "align": "left"
          },
          "hovermode": "closest",
          "mapbox": {
           "style": "light"
          },
          "paper_bgcolor": "white",
          "plot_bgcolor": "#E5ECF6",
          "polar": {
           "angularaxis": {
            "gridcolor": "white",
            "linecolor": "white",
            "ticks": ""
           },
           "bgcolor": "#E5ECF6",
           "radialaxis": {
            "gridcolor": "white",
            "linecolor": "white",
            "ticks": ""
           }
          },
          "scene": {
           "xaxis": {
            "backgroundcolor": "#E5ECF6",
            "gridcolor": "white",
            "gridwidth": 2,
            "linecolor": "white",
            "showbackground": true,
            "ticks": "",
            "zerolinecolor": "white"
           },
           "yaxis": {
            "backgroundcolor": "#E5ECF6",
            "gridcolor": "white",
            "gridwidth": 2,
            "linecolor": "white",
            "showbackground": true,
            "ticks": "",
            "zerolinecolor": "white"
           },
           "zaxis": {
            "backgroundcolor": "#E5ECF6",
            "gridcolor": "white",
            "gridwidth": 2,
            "linecolor": "white",
            "showbackground": true,
            "ticks": "",
            "zerolinecolor": "white"
           }
          },
          "shapedefaults": {
           "line": {
            "color": "#2a3f5f"
           }
          },
          "ternary": {
           "aaxis": {
            "gridcolor": "white",
            "linecolor": "white",
            "ticks": ""
           },
           "baxis": {
            "gridcolor": "white",
            "linecolor": "white",
            "ticks": ""
           },
           "bgcolor": "#E5ECF6",
           "caxis": {
            "gridcolor": "white",
            "linecolor": "white",
            "ticks": ""
           }
          },
          "title": {
           "x": 0.05
          },
          "xaxis": {
           "automargin": true,
           "gridcolor": "white",
           "linecolor": "white",
           "ticks": "",
           "title": {
            "standoff": 15
           },
           "zerolinecolor": "white",
           "zerolinewidth": 2
          },
          "yaxis": {
           "automargin": true,
           "gridcolor": "white",
           "linecolor": "white",
           "ticks": "",
           "title": {
            "standoff": 15
           },
           "zerolinecolor": "white",
           "zerolinewidth": 2
          }
         }
        },
        "xaxis": {
         "anchor": "y",
         "domain": [
          0,
          1
         ],
         "title": {
          "text": "Category"
         }
        },
        "yaxis": {
         "anchor": "x",
         "domain": [
          0,
          1
         ],
         "title": {
          "text": "Age"
         }
        }
       }
      }
     },
     "metadata": {},
     "output_type": "display_data"
    }
   ],
   "source": [
    "px.bar(shop_group, x='Category', y='Age')"
   ]
  },
  {
   "cell_type": "markdown",
   "metadata": {},
   "source": [
    "## 19.\tHow does the average purchase amount differ between male and female customers?"
   ]
  },
  {
   "cell_type": "code",
   "execution_count": 69,
   "metadata": {},
   "outputs": [
    {
     "data": {
      "text/plain": [
       "Index(['Customer ID', 'Age', 'Gender', 'Item Purchased', 'Category',\n",
       "       'Purchase Amount (USD)', 'Location', 'Size', 'Color', 'Season',\n",
       "       'Review Rating', 'Subscription Status', 'Shipping Type',\n",
       "       'Discount Applied', 'Promo Code Used', 'Previous Purchases',\n",
       "       'Payment Method', 'Frequency of Purchases', 'Age_category',\n",
       "       'Size (Numeric)'],\n",
       "      dtype='object')"
      ]
     },
     "execution_count": 69,
     "metadata": {},
     "output_type": "execute_result"
    }
   ],
   "source": [
    "shop.columns"
   ]
  },
  {
   "cell_type": "code",
   "execution_count": 77,
   "metadata": {},
   "outputs": [],
   "source": [
    "shop_groupby_gender = shop.groupby('Gender')['Purchase Amount (USD)'].mean().reset_index()"
   ]
  },
  {
   "cell_type": "code",
   "execution_count": 78,
   "metadata": {},
   "outputs": [
    {
     "data": {
      "application/vnd.plotly.v1+json": {
       "config": {
        "plotlyServerURL": "https://plot.ly"
       },
       "data": [
        {
         "alignmentgroup": "True",
         "hovertemplate": "Gender=%{x}<br>Purchase Amount (USD)=%{y}<extra></extra>",
         "legendgroup": "",
         "marker": {
          "color": "#636efa",
          "pattern": {
           "shape": ""
          }
         },
         "name": "",
         "offsetgroup": "",
         "orientation": "v",
         "showlegend": false,
         "textposition": "auto",
         "type": "bar",
         "x": [
          "Female",
          "Male"
         ],
         "xaxis": "x",
         "y": [
          60.249198717948715,
          59.536199095022624
         ],
         "yaxis": "y"
        }
       ],
       "layout": {
        "barmode": "relative",
        "legend": {
         "tracegroupgap": 0
        },
        "margin": {
         "t": 60
        },
        "template": {
         "data": {
          "bar": [
           {
            "error_x": {
             "color": "#2a3f5f"
            },
            "error_y": {
             "color": "#2a3f5f"
            },
            "marker": {
             "line": {
              "color": "#E5ECF6",
              "width": 0.5
             },
             "pattern": {
              "fillmode": "overlay",
              "size": 10,
              "solidity": 0.2
             }
            },
            "type": "bar"
           }
          ],
          "barpolar": [
           {
            "marker": {
             "line": {
              "color": "#E5ECF6",
              "width": 0.5
             },
             "pattern": {
              "fillmode": "overlay",
              "size": 10,
              "solidity": 0.2
             }
            },
            "type": "barpolar"
           }
          ],
          "carpet": [
           {
            "aaxis": {
             "endlinecolor": "#2a3f5f",
             "gridcolor": "white",
             "linecolor": "white",
             "minorgridcolor": "white",
             "startlinecolor": "#2a3f5f"
            },
            "baxis": {
             "endlinecolor": "#2a3f5f",
             "gridcolor": "white",
             "linecolor": "white",
             "minorgridcolor": "white",
             "startlinecolor": "#2a3f5f"
            },
            "type": "carpet"
           }
          ],
          "choropleth": [
           {
            "colorbar": {
             "outlinewidth": 0,
             "ticks": ""
            },
            "type": "choropleth"
           }
          ],
          "contour": [
           {
            "colorbar": {
             "outlinewidth": 0,
             "ticks": ""
            },
            "colorscale": [
             [
              0,
              "#0d0887"
             ],
             [
              0.1111111111111111,
              "#46039f"
             ],
             [
              0.2222222222222222,
              "#7201a8"
             ],
             [
              0.3333333333333333,
              "#9c179e"
             ],
             [
              0.4444444444444444,
              "#bd3786"
             ],
             [
              0.5555555555555556,
              "#d8576b"
             ],
             [
              0.6666666666666666,
              "#ed7953"
             ],
             [
              0.7777777777777778,
              "#fb9f3a"
             ],
             [
              0.8888888888888888,
              "#fdca26"
             ],
             [
              1,
              "#f0f921"
             ]
            ],
            "type": "contour"
           }
          ],
          "contourcarpet": [
           {
            "colorbar": {
             "outlinewidth": 0,
             "ticks": ""
            },
            "type": "contourcarpet"
           }
          ],
          "heatmap": [
           {
            "colorbar": {
             "outlinewidth": 0,
             "ticks": ""
            },
            "colorscale": [
             [
              0,
              "#0d0887"
             ],
             [
              0.1111111111111111,
              "#46039f"
             ],
             [
              0.2222222222222222,
              "#7201a8"
             ],
             [
              0.3333333333333333,
              "#9c179e"
             ],
             [
              0.4444444444444444,
              "#bd3786"
             ],
             [
              0.5555555555555556,
              "#d8576b"
             ],
             [
              0.6666666666666666,
              "#ed7953"
             ],
             [
              0.7777777777777778,
              "#fb9f3a"
             ],
             [
              0.8888888888888888,
              "#fdca26"
             ],
             [
              1,
              "#f0f921"
             ]
            ],
            "type": "heatmap"
           }
          ],
          "heatmapgl": [
           {
            "colorbar": {
             "outlinewidth": 0,
             "ticks": ""
            },
            "colorscale": [
             [
              0,
              "#0d0887"
             ],
             [
              0.1111111111111111,
              "#46039f"
             ],
             [
              0.2222222222222222,
              "#7201a8"
             ],
             [
              0.3333333333333333,
              "#9c179e"
             ],
             [
              0.4444444444444444,
              "#bd3786"
             ],
             [
              0.5555555555555556,
              "#d8576b"
             ],
             [
              0.6666666666666666,
              "#ed7953"
             ],
             [
              0.7777777777777778,
              "#fb9f3a"
             ],
             [
              0.8888888888888888,
              "#fdca26"
             ],
             [
              1,
              "#f0f921"
             ]
            ],
            "type": "heatmapgl"
           }
          ],
          "histogram": [
           {
            "marker": {
             "pattern": {
              "fillmode": "overlay",
              "size": 10,
              "solidity": 0.2
             }
            },
            "type": "histogram"
           }
          ],
          "histogram2d": [
           {
            "colorbar": {
             "outlinewidth": 0,
             "ticks": ""
            },
            "colorscale": [
             [
              0,
              "#0d0887"
             ],
             [
              0.1111111111111111,
              "#46039f"
             ],
             [
              0.2222222222222222,
              "#7201a8"
             ],
             [
              0.3333333333333333,
              "#9c179e"
             ],
             [
              0.4444444444444444,
              "#bd3786"
             ],
             [
              0.5555555555555556,
              "#d8576b"
             ],
             [
              0.6666666666666666,
              "#ed7953"
             ],
             [
              0.7777777777777778,
              "#fb9f3a"
             ],
             [
              0.8888888888888888,
              "#fdca26"
             ],
             [
              1,
              "#f0f921"
             ]
            ],
            "type": "histogram2d"
           }
          ],
          "histogram2dcontour": [
           {
            "colorbar": {
             "outlinewidth": 0,
             "ticks": ""
            },
            "colorscale": [
             [
              0,
              "#0d0887"
             ],
             [
              0.1111111111111111,
              "#46039f"
             ],
             [
              0.2222222222222222,
              "#7201a8"
             ],
             [
              0.3333333333333333,
              "#9c179e"
             ],
             [
              0.4444444444444444,
              "#bd3786"
             ],
             [
              0.5555555555555556,
              "#d8576b"
             ],
             [
              0.6666666666666666,
              "#ed7953"
             ],
             [
              0.7777777777777778,
              "#fb9f3a"
             ],
             [
              0.8888888888888888,
              "#fdca26"
             ],
             [
              1,
              "#f0f921"
             ]
            ],
            "type": "histogram2dcontour"
           }
          ],
          "mesh3d": [
           {
            "colorbar": {
             "outlinewidth": 0,
             "ticks": ""
            },
            "type": "mesh3d"
           }
          ],
          "parcoords": [
           {
            "line": {
             "colorbar": {
              "outlinewidth": 0,
              "ticks": ""
             }
            },
            "type": "parcoords"
           }
          ],
          "pie": [
           {
            "automargin": true,
            "type": "pie"
           }
          ],
          "scatter": [
           {
            "fillpattern": {
             "fillmode": "overlay",
             "size": 10,
             "solidity": 0.2
            },
            "type": "scatter"
           }
          ],
          "scatter3d": [
           {
            "line": {
             "colorbar": {
              "outlinewidth": 0,
              "ticks": ""
             }
            },
            "marker": {
             "colorbar": {
              "outlinewidth": 0,
              "ticks": ""
             }
            },
            "type": "scatter3d"
           }
          ],
          "scattercarpet": [
           {
            "marker": {
             "colorbar": {
              "outlinewidth": 0,
              "ticks": ""
             }
            },
            "type": "scattercarpet"
           }
          ],
          "scattergeo": [
           {
            "marker": {
             "colorbar": {
              "outlinewidth": 0,
              "ticks": ""
             }
            },
            "type": "scattergeo"
           }
          ],
          "scattergl": [
           {
            "marker": {
             "colorbar": {
              "outlinewidth": 0,
              "ticks": ""
             }
            },
            "type": "scattergl"
           }
          ],
          "scattermapbox": [
           {
            "marker": {
             "colorbar": {
              "outlinewidth": 0,
              "ticks": ""
             }
            },
            "type": "scattermapbox"
           }
          ],
          "scatterpolar": [
           {
            "marker": {
             "colorbar": {
              "outlinewidth": 0,
              "ticks": ""
             }
            },
            "type": "scatterpolar"
           }
          ],
          "scatterpolargl": [
           {
            "marker": {
             "colorbar": {
              "outlinewidth": 0,
              "ticks": ""
             }
            },
            "type": "scatterpolargl"
           }
          ],
          "scatterternary": [
           {
            "marker": {
             "colorbar": {
              "outlinewidth": 0,
              "ticks": ""
             }
            },
            "type": "scatterternary"
           }
          ],
          "surface": [
           {
            "colorbar": {
             "outlinewidth": 0,
             "ticks": ""
            },
            "colorscale": [
             [
              0,
              "#0d0887"
             ],
             [
              0.1111111111111111,
              "#46039f"
             ],
             [
              0.2222222222222222,
              "#7201a8"
             ],
             [
              0.3333333333333333,
              "#9c179e"
             ],
             [
              0.4444444444444444,
              "#bd3786"
             ],
             [
              0.5555555555555556,
              "#d8576b"
             ],
             [
              0.6666666666666666,
              "#ed7953"
             ],
             [
              0.7777777777777778,
              "#fb9f3a"
             ],
             [
              0.8888888888888888,
              "#fdca26"
             ],
             [
              1,
              "#f0f921"
             ]
            ],
            "type": "surface"
           }
          ],
          "table": [
           {
            "cells": {
             "fill": {
              "color": "#EBF0F8"
             },
             "line": {
              "color": "white"
             }
            },
            "header": {
             "fill": {
              "color": "#C8D4E3"
             },
             "line": {
              "color": "white"
             }
            },
            "type": "table"
           }
          ]
         },
         "layout": {
          "annotationdefaults": {
           "arrowcolor": "#2a3f5f",
           "arrowhead": 0,
           "arrowwidth": 1
          },
          "autotypenumbers": "strict",
          "coloraxis": {
           "colorbar": {
            "outlinewidth": 0,
            "ticks": ""
           }
          },
          "colorscale": {
           "diverging": [
            [
             0,
             "#8e0152"
            ],
            [
             0.1,
             "#c51b7d"
            ],
            [
             0.2,
             "#de77ae"
            ],
            [
             0.3,
             "#f1b6da"
            ],
            [
             0.4,
             "#fde0ef"
            ],
            [
             0.5,
             "#f7f7f7"
            ],
            [
             0.6,
             "#e6f5d0"
            ],
            [
             0.7,
             "#b8e186"
            ],
            [
             0.8,
             "#7fbc41"
            ],
            [
             0.9,
             "#4d9221"
            ],
            [
             1,
             "#276419"
            ]
           ],
           "sequential": [
            [
             0,
             "#0d0887"
            ],
            [
             0.1111111111111111,
             "#46039f"
            ],
            [
             0.2222222222222222,
             "#7201a8"
            ],
            [
             0.3333333333333333,
             "#9c179e"
            ],
            [
             0.4444444444444444,
             "#bd3786"
            ],
            [
             0.5555555555555556,
             "#d8576b"
            ],
            [
             0.6666666666666666,
             "#ed7953"
            ],
            [
             0.7777777777777778,
             "#fb9f3a"
            ],
            [
             0.8888888888888888,
             "#fdca26"
            ],
            [
             1,
             "#f0f921"
            ]
           ],
           "sequentialminus": [
            [
             0,
             "#0d0887"
            ],
            [
             0.1111111111111111,
             "#46039f"
            ],
            [
             0.2222222222222222,
             "#7201a8"
            ],
            [
             0.3333333333333333,
             "#9c179e"
            ],
            [
             0.4444444444444444,
             "#bd3786"
            ],
            [
             0.5555555555555556,
             "#d8576b"
            ],
            [
             0.6666666666666666,
             "#ed7953"
            ],
            [
             0.7777777777777778,
             "#fb9f3a"
            ],
            [
             0.8888888888888888,
             "#fdca26"
            ],
            [
             1,
             "#f0f921"
            ]
           ]
          },
          "colorway": [
           "#636efa",
           "#EF553B",
           "#00cc96",
           "#ab63fa",
           "#FFA15A",
           "#19d3f3",
           "#FF6692",
           "#B6E880",
           "#FF97FF",
           "#FECB52"
          ],
          "font": {
           "color": "#2a3f5f"
          },
          "geo": {
           "bgcolor": "white",
           "lakecolor": "white",
           "landcolor": "#E5ECF6",
           "showlakes": true,
           "showland": true,
           "subunitcolor": "white"
          },
          "hoverlabel": {
           "align": "left"
          },
          "hovermode": "closest",
          "mapbox": {
           "style": "light"
          },
          "paper_bgcolor": "white",
          "plot_bgcolor": "#E5ECF6",
          "polar": {
           "angularaxis": {
            "gridcolor": "white",
            "linecolor": "white",
            "ticks": ""
           },
           "bgcolor": "#E5ECF6",
           "radialaxis": {
            "gridcolor": "white",
            "linecolor": "white",
            "ticks": ""
           }
          },
          "scene": {
           "xaxis": {
            "backgroundcolor": "#E5ECF6",
            "gridcolor": "white",
            "gridwidth": 2,
            "linecolor": "white",
            "showbackground": true,
            "ticks": "",
            "zerolinecolor": "white"
           },
           "yaxis": {
            "backgroundcolor": "#E5ECF6",
            "gridcolor": "white",
            "gridwidth": 2,
            "linecolor": "white",
            "showbackground": true,
            "ticks": "",
            "zerolinecolor": "white"
           },
           "zaxis": {
            "backgroundcolor": "#E5ECF6",
            "gridcolor": "white",
            "gridwidth": 2,
            "linecolor": "white",
            "showbackground": true,
            "ticks": "",
            "zerolinecolor": "white"
           }
          },
          "shapedefaults": {
           "line": {
            "color": "#2a3f5f"
           }
          },
          "ternary": {
           "aaxis": {
            "gridcolor": "white",
            "linecolor": "white",
            "ticks": ""
           },
           "baxis": {
            "gridcolor": "white",
            "linecolor": "white",
            "ticks": ""
           },
           "bgcolor": "#E5ECF6",
           "caxis": {
            "gridcolor": "white",
            "linecolor": "white",
            "ticks": ""
           }
          },
          "title": {
           "x": 0.05
          },
          "xaxis": {
           "automargin": true,
           "gridcolor": "white",
           "linecolor": "white",
           "ticks": "",
           "title": {
            "standoff": 15
           },
           "zerolinecolor": "white",
           "zerolinewidth": 2
          },
          "yaxis": {
           "automargin": true,
           "gridcolor": "white",
           "linecolor": "white",
           "ticks": "",
           "title": {
            "standoff": 15
           },
           "zerolinecolor": "white",
           "zerolinewidth": 2
          }
         }
        },
        "xaxis": {
         "anchor": "y",
         "domain": [
          0,
          1
         ],
         "title": {
          "text": "Gender"
         }
        },
        "yaxis": {
         "anchor": "x",
         "domain": [
          0,
          1
         ],
         "title": {
          "text": "Purchase Amount (USD)"
         }
        }
       }
      }
     },
     "metadata": {},
     "output_type": "display_data"
    }
   ],
   "source": [
    "fig = px.bar(shop_groupby_gender, x = 'Gender', y='Purchase Amount (USD)')\n",
    "fig.show()"
   ]
  },
  {
   "cell_type": "code",
   "execution_count": 79,
   "metadata": {},
   "outputs": [
    {
     "name": "stderr",
     "output_type": "stream",
     "text": [
      "C:\\Users\\chaks\\AppData\\Roaming\\Python\\Python312\\site-packages\\plotly\\express\\_core.py:1727: FutureWarning:\n",
      "\n",
      "The default of observed=False is deprecated and will be changed to True in a future version of pandas. Pass observed=False to retain current behavior or observed=True to adopt the future default and silence this warning.\n",
      "\n"
     ]
    },
    {
     "data": {
      "application/vnd.plotly.v1+json": {
       "config": {
        "plotlyServerURL": "https://plot.ly"
       },
       "data": [
        {
         "branchvalues": "total",
         "domain": {
          "x": [
           0,
           1
          ],
          "y": [
           0,
           1
          ]
         },
         "hovertemplate": "labels=%{label}<br>Purchase Amount (USD)=%{value}<br>parent=%{parent}<br>id=%{id}<extra></extra>",
         "ids": [
          "Female/child",
          "Male/child",
          "Female/teen",
          "Male/teen",
          "Female/Yound Adults",
          "Male/Yound Adults",
          "Female/Middle-Aged Adult",
          "Male/Middle-Aged Adult",
          "Female/old",
          "Male/old",
          "Female",
          "Male"
         ],
         "labels": [
          "child",
          "child",
          "teen",
          "teen",
          "Yound Adults",
          "Yound Adults",
          "Middle-Aged Adult",
          "Middle-Aged Adult",
          "old",
          "old",
          "Female",
          "Male"
         ],
         "name": "",
         "parents": [
          "Female",
          "Male",
          "Female",
          "Male",
          "Female",
          "Male",
          "Female",
          "Male",
          "Female",
          "Male",
          "",
          ""
         ],
         "type": "sunburst",
         "values": [
          0,
          0,
          1194,
          2945,
          17141,
          35999,
          28971,
          58351,
          27885,
          60595,
          75191,
          157890
         ]
        }
       ],
       "layout": {
        "legend": {
         "tracegroupgap": 0
        },
        "margin": {
         "t": 60
        },
        "template": {
         "data": {
          "bar": [
           {
            "error_x": {
             "color": "#2a3f5f"
            },
            "error_y": {
             "color": "#2a3f5f"
            },
            "marker": {
             "line": {
              "color": "#E5ECF6",
              "width": 0.5
             },
             "pattern": {
              "fillmode": "overlay",
              "size": 10,
              "solidity": 0.2
             }
            },
            "type": "bar"
           }
          ],
          "barpolar": [
           {
            "marker": {
             "line": {
              "color": "#E5ECF6",
              "width": 0.5
             },
             "pattern": {
              "fillmode": "overlay",
              "size": 10,
              "solidity": 0.2
             }
            },
            "type": "barpolar"
           }
          ],
          "carpet": [
           {
            "aaxis": {
             "endlinecolor": "#2a3f5f",
             "gridcolor": "white",
             "linecolor": "white",
             "minorgridcolor": "white",
             "startlinecolor": "#2a3f5f"
            },
            "baxis": {
             "endlinecolor": "#2a3f5f",
             "gridcolor": "white",
             "linecolor": "white",
             "minorgridcolor": "white",
             "startlinecolor": "#2a3f5f"
            },
            "type": "carpet"
           }
          ],
          "choropleth": [
           {
            "colorbar": {
             "outlinewidth": 0,
             "ticks": ""
            },
            "type": "choropleth"
           }
          ],
          "contour": [
           {
            "colorbar": {
             "outlinewidth": 0,
             "ticks": ""
            },
            "colorscale": [
             [
              0,
              "#0d0887"
             ],
             [
              0.1111111111111111,
              "#46039f"
             ],
             [
              0.2222222222222222,
              "#7201a8"
             ],
             [
              0.3333333333333333,
              "#9c179e"
             ],
             [
              0.4444444444444444,
              "#bd3786"
             ],
             [
              0.5555555555555556,
              "#d8576b"
             ],
             [
              0.6666666666666666,
              "#ed7953"
             ],
             [
              0.7777777777777778,
              "#fb9f3a"
             ],
             [
              0.8888888888888888,
              "#fdca26"
             ],
             [
              1,
              "#f0f921"
             ]
            ],
            "type": "contour"
           }
          ],
          "contourcarpet": [
           {
            "colorbar": {
             "outlinewidth": 0,
             "ticks": ""
            },
            "type": "contourcarpet"
           }
          ],
          "heatmap": [
           {
            "colorbar": {
             "outlinewidth": 0,
             "ticks": ""
            },
            "colorscale": [
             [
              0,
              "#0d0887"
             ],
             [
              0.1111111111111111,
              "#46039f"
             ],
             [
              0.2222222222222222,
              "#7201a8"
             ],
             [
              0.3333333333333333,
              "#9c179e"
             ],
             [
              0.4444444444444444,
              "#bd3786"
             ],
             [
              0.5555555555555556,
              "#d8576b"
             ],
             [
              0.6666666666666666,
              "#ed7953"
             ],
             [
              0.7777777777777778,
              "#fb9f3a"
             ],
             [
              0.8888888888888888,
              "#fdca26"
             ],
             [
              1,
              "#f0f921"
             ]
            ],
            "type": "heatmap"
           }
          ],
          "heatmapgl": [
           {
            "colorbar": {
             "outlinewidth": 0,
             "ticks": ""
            },
            "colorscale": [
             [
              0,
              "#0d0887"
             ],
             [
              0.1111111111111111,
              "#46039f"
             ],
             [
              0.2222222222222222,
              "#7201a8"
             ],
             [
              0.3333333333333333,
              "#9c179e"
             ],
             [
              0.4444444444444444,
              "#bd3786"
             ],
             [
              0.5555555555555556,
              "#d8576b"
             ],
             [
              0.6666666666666666,
              "#ed7953"
             ],
             [
              0.7777777777777778,
              "#fb9f3a"
             ],
             [
              0.8888888888888888,
              "#fdca26"
             ],
             [
              1,
              "#f0f921"
             ]
            ],
            "type": "heatmapgl"
           }
          ],
          "histogram": [
           {
            "marker": {
             "pattern": {
              "fillmode": "overlay",
              "size": 10,
              "solidity": 0.2
             }
            },
            "type": "histogram"
           }
          ],
          "histogram2d": [
           {
            "colorbar": {
             "outlinewidth": 0,
             "ticks": ""
            },
            "colorscale": [
             [
              0,
              "#0d0887"
             ],
             [
              0.1111111111111111,
              "#46039f"
             ],
             [
              0.2222222222222222,
              "#7201a8"
             ],
             [
              0.3333333333333333,
              "#9c179e"
             ],
             [
              0.4444444444444444,
              "#bd3786"
             ],
             [
              0.5555555555555556,
              "#d8576b"
             ],
             [
              0.6666666666666666,
              "#ed7953"
             ],
             [
              0.7777777777777778,
              "#fb9f3a"
             ],
             [
              0.8888888888888888,
              "#fdca26"
             ],
             [
              1,
              "#f0f921"
             ]
            ],
            "type": "histogram2d"
           }
          ],
          "histogram2dcontour": [
           {
            "colorbar": {
             "outlinewidth": 0,
             "ticks": ""
            },
            "colorscale": [
             [
              0,
              "#0d0887"
             ],
             [
              0.1111111111111111,
              "#46039f"
             ],
             [
              0.2222222222222222,
              "#7201a8"
             ],
             [
              0.3333333333333333,
              "#9c179e"
             ],
             [
              0.4444444444444444,
              "#bd3786"
             ],
             [
              0.5555555555555556,
              "#d8576b"
             ],
             [
              0.6666666666666666,
              "#ed7953"
             ],
             [
              0.7777777777777778,
              "#fb9f3a"
             ],
             [
              0.8888888888888888,
              "#fdca26"
             ],
             [
              1,
              "#f0f921"
             ]
            ],
            "type": "histogram2dcontour"
           }
          ],
          "mesh3d": [
           {
            "colorbar": {
             "outlinewidth": 0,
             "ticks": ""
            },
            "type": "mesh3d"
           }
          ],
          "parcoords": [
           {
            "line": {
             "colorbar": {
              "outlinewidth": 0,
              "ticks": ""
             }
            },
            "type": "parcoords"
           }
          ],
          "pie": [
           {
            "automargin": true,
            "type": "pie"
           }
          ],
          "scatter": [
           {
            "fillpattern": {
             "fillmode": "overlay",
             "size": 10,
             "solidity": 0.2
            },
            "type": "scatter"
           }
          ],
          "scatter3d": [
           {
            "line": {
             "colorbar": {
              "outlinewidth": 0,
              "ticks": ""
             }
            },
            "marker": {
             "colorbar": {
              "outlinewidth": 0,
              "ticks": ""
             }
            },
            "type": "scatter3d"
           }
          ],
          "scattercarpet": [
           {
            "marker": {
             "colorbar": {
              "outlinewidth": 0,
              "ticks": ""
             }
            },
            "type": "scattercarpet"
           }
          ],
          "scattergeo": [
           {
            "marker": {
             "colorbar": {
              "outlinewidth": 0,
              "ticks": ""
             }
            },
            "type": "scattergeo"
           }
          ],
          "scattergl": [
           {
            "marker": {
             "colorbar": {
              "outlinewidth": 0,
              "ticks": ""
             }
            },
            "type": "scattergl"
           }
          ],
          "scattermapbox": [
           {
            "marker": {
             "colorbar": {
              "outlinewidth": 0,
              "ticks": ""
             }
            },
            "type": "scattermapbox"
           }
          ],
          "scatterpolar": [
           {
            "marker": {
             "colorbar": {
              "outlinewidth": 0,
              "ticks": ""
             }
            },
            "type": "scatterpolar"
           }
          ],
          "scatterpolargl": [
           {
            "marker": {
             "colorbar": {
              "outlinewidth": 0,
              "ticks": ""
             }
            },
            "type": "scatterpolargl"
           }
          ],
          "scatterternary": [
           {
            "marker": {
             "colorbar": {
              "outlinewidth": 0,
              "ticks": ""
             }
            },
            "type": "scatterternary"
           }
          ],
          "surface": [
           {
            "colorbar": {
             "outlinewidth": 0,
             "ticks": ""
            },
            "colorscale": [
             [
              0,
              "#0d0887"
             ],
             [
              0.1111111111111111,
              "#46039f"
             ],
             [
              0.2222222222222222,
              "#7201a8"
             ],
             [
              0.3333333333333333,
              "#9c179e"
             ],
             [
              0.4444444444444444,
              "#bd3786"
             ],
             [
              0.5555555555555556,
              "#d8576b"
             ],
             [
              0.6666666666666666,
              "#ed7953"
             ],
             [
              0.7777777777777778,
              "#fb9f3a"
             ],
             [
              0.8888888888888888,
              "#fdca26"
             ],
             [
              1,
              "#f0f921"
             ]
            ],
            "type": "surface"
           }
          ],
          "table": [
           {
            "cells": {
             "fill": {
              "color": "#EBF0F8"
             },
             "line": {
              "color": "white"
             }
            },
            "header": {
             "fill": {
              "color": "#C8D4E3"
             },
             "line": {
              "color": "white"
             }
            },
            "type": "table"
           }
          ]
         },
         "layout": {
          "annotationdefaults": {
           "arrowcolor": "#2a3f5f",
           "arrowhead": 0,
           "arrowwidth": 1
          },
          "autotypenumbers": "strict",
          "coloraxis": {
           "colorbar": {
            "outlinewidth": 0,
            "ticks": ""
           }
          },
          "colorscale": {
           "diverging": [
            [
             0,
             "#8e0152"
            ],
            [
             0.1,
             "#c51b7d"
            ],
            [
             0.2,
             "#de77ae"
            ],
            [
             0.3,
             "#f1b6da"
            ],
            [
             0.4,
             "#fde0ef"
            ],
            [
             0.5,
             "#f7f7f7"
            ],
            [
             0.6,
             "#e6f5d0"
            ],
            [
             0.7,
             "#b8e186"
            ],
            [
             0.8,
             "#7fbc41"
            ],
            [
             0.9,
             "#4d9221"
            ],
            [
             1,
             "#276419"
            ]
           ],
           "sequential": [
            [
             0,
             "#0d0887"
            ],
            [
             0.1111111111111111,
             "#46039f"
            ],
            [
             0.2222222222222222,
             "#7201a8"
            ],
            [
             0.3333333333333333,
             "#9c179e"
            ],
            [
             0.4444444444444444,
             "#bd3786"
            ],
            [
             0.5555555555555556,
             "#d8576b"
            ],
            [
             0.6666666666666666,
             "#ed7953"
            ],
            [
             0.7777777777777778,
             "#fb9f3a"
            ],
            [
             0.8888888888888888,
             "#fdca26"
            ],
            [
             1,
             "#f0f921"
            ]
           ],
           "sequentialminus": [
            [
             0,
             "#0d0887"
            ],
            [
             0.1111111111111111,
             "#46039f"
            ],
            [
             0.2222222222222222,
             "#7201a8"
            ],
            [
             0.3333333333333333,
             "#9c179e"
            ],
            [
             0.4444444444444444,
             "#bd3786"
            ],
            [
             0.5555555555555556,
             "#d8576b"
            ],
            [
             0.6666666666666666,
             "#ed7953"
            ],
            [
             0.7777777777777778,
             "#fb9f3a"
            ],
            [
             0.8888888888888888,
             "#fdca26"
            ],
            [
             1,
             "#f0f921"
            ]
           ]
          },
          "colorway": [
           "#636efa",
           "#EF553B",
           "#00cc96",
           "#ab63fa",
           "#FFA15A",
           "#19d3f3",
           "#FF6692",
           "#B6E880",
           "#FF97FF",
           "#FECB52"
          ],
          "font": {
           "color": "#2a3f5f"
          },
          "geo": {
           "bgcolor": "white",
           "lakecolor": "white",
           "landcolor": "#E5ECF6",
           "showlakes": true,
           "showland": true,
           "subunitcolor": "white"
          },
          "hoverlabel": {
           "align": "left"
          },
          "hovermode": "closest",
          "mapbox": {
           "style": "light"
          },
          "paper_bgcolor": "white",
          "plot_bgcolor": "#E5ECF6",
          "polar": {
           "angularaxis": {
            "gridcolor": "white",
            "linecolor": "white",
            "ticks": ""
           },
           "bgcolor": "#E5ECF6",
           "radialaxis": {
            "gridcolor": "white",
            "linecolor": "white",
            "ticks": ""
           }
          },
          "scene": {
           "xaxis": {
            "backgroundcolor": "#E5ECF6",
            "gridcolor": "white",
            "gridwidth": 2,
            "linecolor": "white",
            "showbackground": true,
            "ticks": "",
            "zerolinecolor": "white"
           },
           "yaxis": {
            "backgroundcolor": "#E5ECF6",
            "gridcolor": "white",
            "gridwidth": 2,
            "linecolor": "white",
            "showbackground": true,
            "ticks": "",
            "zerolinecolor": "white"
           },
           "zaxis": {
            "backgroundcolor": "#E5ECF6",
            "gridcolor": "white",
            "gridwidth": 2,
            "linecolor": "white",
            "showbackground": true,
            "ticks": "",
            "zerolinecolor": "white"
           }
          },
          "shapedefaults": {
           "line": {
            "color": "#2a3f5f"
           }
          },
          "ternary": {
           "aaxis": {
            "gridcolor": "white",
            "linecolor": "white",
            "ticks": ""
           },
           "baxis": {
            "gridcolor": "white",
            "linecolor": "white",
            "ticks": ""
           },
           "bgcolor": "#E5ECF6",
           "caxis": {
            "gridcolor": "white",
            "linecolor": "white",
            "ticks": ""
           }
          },
          "title": {
           "x": 0.05
          },
          "xaxis": {
           "automargin": true,
           "gridcolor": "white",
           "linecolor": "white",
           "ticks": "",
           "title": {
            "standoff": 15
           },
           "zerolinecolor": "white",
           "zerolinewidth": 2
          },
          "yaxis": {
           "automargin": true,
           "gridcolor": "white",
           "linecolor": "white",
           "ticks": "",
           "title": {
            "standoff": 15
           },
           "zerolinecolor": "white",
           "zerolinewidth": 2
          }
         }
        }
       }
      }
     },
     "metadata": {},
     "output_type": "display_data"
    }
   ],
   "source": [
    "px.sunburst(data_frame=shop, path=['Gender','Age_category'], values='Purchase Amount (USD)')"
   ]
  },
  {
   "cell_type": "code",
   "execution_count": null,
   "metadata": {},
   "outputs": [],
   "source": []
  }
 ],
 "metadata": {
  "kernelspec": {
   "display_name": "base",
   "language": "python",
   "name": "python3"
  },
  "language_info": {
   "codemirror_mode": {
    "name": "ipython",
    "version": 3
   },
   "file_extension": ".py",
   "mimetype": "text/x-python",
   "name": "python",
   "nbconvert_exporter": "python",
   "pygments_lexer": "ipython3",
   "version": "3.12.4"
  }
 },
 "nbformat": 4,
 "nbformat_minor": 2
}
